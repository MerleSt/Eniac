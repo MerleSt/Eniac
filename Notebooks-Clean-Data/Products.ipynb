{
 "cells": [
  {
   "cell_type": "markdown",
   "id": "9e69738e-3b60-4430-883c-2d60a78e4f9a",
   "metadata": {},
   "source": [
    "# Products"
   ]
  },
  {
   "cell_type": "markdown",
   "id": "17ae06a8-e054-49b6-b99c-feea4513df86",
   "metadata": {},
   "source": [
    "## Imports"
   ]
  },
  {
   "cell_type": "code",
   "execution_count": 1,
   "id": "50e6bae8-6f56-40ff-bf43-8371733500a2",
   "metadata": {
    "tags": []
   },
   "outputs": [
    {
     "data": {
      "text/html": [
       "<div>\n",
       "<style scoped>\n",
       "    .dataframe tbody tr th:only-of-type {\n",
       "        vertical-align: middle;\n",
       "    }\n",
       "\n",
       "    .dataframe tbody tr th {\n",
       "        vertical-align: top;\n",
       "    }\n",
       "\n",
       "    .dataframe thead th {\n",
       "        text-align: right;\n",
       "    }\n",
       "</style>\n",
       "<table border=\"1\" class=\"dataframe\">\n",
       "  <thead>\n",
       "    <tr style=\"text-align: right;\">\n",
       "      <th></th>\n",
       "      <th>sku</th>\n",
       "      <th>name</th>\n",
       "      <th>desc</th>\n",
       "      <th>price</th>\n",
       "      <th>promo_price</th>\n",
       "      <th>in_stock</th>\n",
       "      <th>type</th>\n",
       "    </tr>\n",
       "  </thead>\n",
       "  <tbody>\n",
       "    <tr>\n",
       "      <th>0</th>\n",
       "      <td>RAI0007</td>\n",
       "      <td>Silver Rain Design mStand Support</td>\n",
       "      <td>Aluminum support compatible with all MacBook</td>\n",
       "      <td>59.99</td>\n",
       "      <td>499.899</td>\n",
       "      <td>1</td>\n",
       "      <td>8696</td>\n",
       "    </tr>\n",
       "    <tr>\n",
       "      <th>1</th>\n",
       "      <td>APP0023</td>\n",
       "      <td>Apple Mac Keyboard Keypad Spanish</td>\n",
       "      <td>USB ultrathin keyboard Apple Mac Spanish.</td>\n",
       "      <td>59</td>\n",
       "      <td>589.996</td>\n",
       "      <td>0</td>\n",
       "      <td>13855401</td>\n",
       "    </tr>\n",
       "    <tr>\n",
       "      <th>2</th>\n",
       "      <td>APP0025</td>\n",
       "      <td>Mighty Mouse Apple Mouse for Mac</td>\n",
       "      <td>mouse Apple USB cable.</td>\n",
       "      <td>59</td>\n",
       "      <td>569.898</td>\n",
       "      <td>0</td>\n",
       "      <td>1387</td>\n",
       "    </tr>\n",
       "    <tr>\n",
       "      <th>3</th>\n",
       "      <td>APP0072</td>\n",
       "      <td>Apple Dock to USB Cable iPhone and iPod white</td>\n",
       "      <td>IPhone dock and USB Cable Apple iPod.</td>\n",
       "      <td>25</td>\n",
       "      <td>229.997</td>\n",
       "      <td>0</td>\n",
       "      <td>1230</td>\n",
       "    </tr>\n",
       "    <tr>\n",
       "      <th>4</th>\n",
       "      <td>KIN0007</td>\n",
       "      <td>Mac Memory Kingston 2GB 667MHz DDR2 SO-DIMM</td>\n",
       "      <td>2GB RAM Mac mini and iMac (2006/07) MacBook Pr...</td>\n",
       "      <td>34.99</td>\n",
       "      <td>31.99</td>\n",
       "      <td>1</td>\n",
       "      <td>1364</td>\n",
       "    </tr>\n",
       "    <tr>\n",
       "      <th>...</th>\n",
       "      <td>...</td>\n",
       "      <td>...</td>\n",
       "      <td>...</td>\n",
       "      <td>...</td>\n",
       "      <td>...</td>\n",
       "      <td>...</td>\n",
       "      <td>...</td>\n",
       "    </tr>\n",
       "    <tr>\n",
       "      <th>19321</th>\n",
       "      <td>BEL0376</td>\n",
       "      <td>Belkin Travel Support Apple Watch Black</td>\n",
       "      <td>compact and portable stand vertically or horiz...</td>\n",
       "      <td>29.99</td>\n",
       "      <td>269.903</td>\n",
       "      <td>1</td>\n",
       "      <td>12282</td>\n",
       "    </tr>\n",
       "    <tr>\n",
       "      <th>19322</th>\n",
       "      <td>THU0060</td>\n",
       "      <td>Enroute Thule 14L Backpack MacBook 13 \"Black</td>\n",
       "      <td>Backpack with capacity of 14 liter compartment...</td>\n",
       "      <td>69.95</td>\n",
       "      <td>649.903</td>\n",
       "      <td>1</td>\n",
       "      <td>1392</td>\n",
       "    </tr>\n",
       "    <tr>\n",
       "      <th>19323</th>\n",
       "      <td>THU0061</td>\n",
       "      <td>Enroute Thule 14L Backpack MacBook 13 \"Blue</td>\n",
       "      <td>Backpack with capacity of 14 liter compartment...</td>\n",
       "      <td>69.95</td>\n",
       "      <td>649.903</td>\n",
       "      <td>1</td>\n",
       "      <td>1392</td>\n",
       "    </tr>\n",
       "    <tr>\n",
       "      <th>19324</th>\n",
       "      <td>THU0062</td>\n",
       "      <td>Enroute Thule 14L Backpack MacBook 13 \"Red</td>\n",
       "      <td>Backpack with capacity of 14 liter compartment...</td>\n",
       "      <td>69.95</td>\n",
       "      <td>649.903</td>\n",
       "      <td>0</td>\n",
       "      <td>1392</td>\n",
       "    </tr>\n",
       "    <tr>\n",
       "      <th>19325</th>\n",
       "      <td>THU0063</td>\n",
       "      <td>Enroute Thule 14L Backpack MacBook 13 \"Green</td>\n",
       "      <td>Backpack with capacity of 14 liter compartment...</td>\n",
       "      <td>69.95</td>\n",
       "      <td>649.903</td>\n",
       "      <td>1</td>\n",
       "      <td>1392</td>\n",
       "    </tr>\n",
       "  </tbody>\n",
       "</table>\n",
       "<p>19326 rows × 7 columns</p>\n",
       "</div>"
      ],
      "text/plain": [
       "           sku                                           name  \\\n",
       "0      RAI0007              Silver Rain Design mStand Support   \n",
       "1      APP0023              Apple Mac Keyboard Keypad Spanish   \n",
       "2      APP0025               Mighty Mouse Apple Mouse for Mac   \n",
       "3      APP0072  Apple Dock to USB Cable iPhone and iPod white   \n",
       "4      KIN0007    Mac Memory Kingston 2GB 667MHz DDR2 SO-DIMM   \n",
       "...        ...                                            ...   \n",
       "19321  BEL0376        Belkin Travel Support Apple Watch Black   \n",
       "19322  THU0060   Enroute Thule 14L Backpack MacBook 13 \"Black   \n",
       "19323  THU0061    Enroute Thule 14L Backpack MacBook 13 \"Blue   \n",
       "19324  THU0062     Enroute Thule 14L Backpack MacBook 13 \"Red   \n",
       "19325  THU0063   Enroute Thule 14L Backpack MacBook 13 \"Green   \n",
       "\n",
       "                                                    desc  price promo_price  \\\n",
       "0           Aluminum support compatible with all MacBook  59.99     499.899   \n",
       "1              USB ultrathin keyboard Apple Mac Spanish.     59     589.996   \n",
       "2                                 mouse Apple USB cable.     59     569.898   \n",
       "3                  IPhone dock and USB Cable Apple iPod.     25     229.997   \n",
       "4      2GB RAM Mac mini and iMac (2006/07) MacBook Pr...  34.99       31.99   \n",
       "...                                                  ...    ...         ...   \n",
       "19321  compact and portable stand vertically or horiz...  29.99     269.903   \n",
       "19322  Backpack with capacity of 14 liter compartment...  69.95     649.903   \n",
       "19323  Backpack with capacity of 14 liter compartment...  69.95     649.903   \n",
       "19324  Backpack with capacity of 14 liter compartment...  69.95     649.903   \n",
       "19325  Backpack with capacity of 14 liter compartment...  69.95     649.903   \n",
       "\n",
       "       in_stock      type  \n",
       "0             1      8696  \n",
       "1             0  13855401  \n",
       "2             0      1387  \n",
       "3             0      1230  \n",
       "4             1      1364  \n",
       "...         ...       ...  \n",
       "19321         1     12282  \n",
       "19322         1      1392  \n",
       "19323         1      1392  \n",
       "19324         0      1392  \n",
       "19325         1      1392  \n",
       "\n",
       "[19326 rows x 7 columns]"
      ]
     },
     "execution_count": 1,
     "metadata": {},
     "output_type": "execute_result"
    }
   ],
   "source": [
    "import pandas as pd\n",
    "products_url = \"https://raw.githubusercontent.com/MerleSt/Eniac/main/Data-Eniac/products.csv\"\n",
    "products_df = pd.read_csv(products_url)\n",
    "products = products_df.copy()\n",
    "products"
   ]
  },
  {
   "cell_type": "markdown",
   "id": "7521b6ef-df89-4a03-be9f-bb7ea9da9ef1",
   "metadata": {},
   "source": [
    "## Drop Duplicates"
   ]
  },
  {
   "cell_type": "code",
   "execution_count": 2,
   "id": "0f3430ce-6e6b-48c6-be92-0572128c60bc",
   "metadata": {
    "tags": []
   },
   "outputs": [
    {
     "data": {
      "text/plain": [
       "8746"
      ]
     },
     "execution_count": 2,
     "metadata": {},
     "output_type": "execute_result"
    }
   ],
   "source": [
    "products.duplicated().sum()"
   ]
  },
  {
   "cell_type": "code",
   "execution_count": 3,
   "id": "93c773fa-6ae3-4ed2-8419-9183c6e69861",
   "metadata": {
    "tags": []
   },
   "outputs": [
    {
     "data": {
      "text/plain": [
       "0"
      ]
     },
     "execution_count": 3,
     "metadata": {},
     "output_type": "execute_result"
    }
   ],
   "source": [
    "products.drop_duplicates(inplace=True)\n",
    "products.duplicated().sum()"
   ]
  },
  {
   "cell_type": "markdown",
   "id": "7cd4181e-5ca8-44c2-ae93-b8afac9c3011",
   "metadata": {},
   "source": [
    "## Missing Values"
   ]
  },
  {
   "cell_type": "code",
   "execution_count": 4,
   "id": "376969ee-02db-42c0-994b-eaefc0ea9d3a",
   "metadata": {
    "tags": []
   },
   "outputs": [
    {
     "data": {
      "text/plain": [
       "sku             0\n",
       "name            0\n",
       "desc            7\n",
       "price          46\n",
       "promo_price     0\n",
       "in_stock        0\n",
       "type           50\n",
       "dtype: int64"
      ]
     },
     "execution_count": 4,
     "metadata": {},
     "output_type": "execute_result"
    }
   ],
   "source": [
    "products.isna().sum()"
   ]
  },
  {
   "cell_type": "markdown",
   "id": "b2f83a57-77c8-4e99-8fca-c2e517c6751c",
   "metadata": {},
   "source": [
    "### Desc"
   ]
  },
  {
   "cell_type": "code",
   "execution_count": 5,
   "id": "361ddc52-d8c0-4c95-9e73-d246051dd294",
   "metadata": {
    "tags": []
   },
   "outputs": [
    {
     "data": {
      "text/plain": [
       "'7 missing values represents 0.06616% of the rows in our DataFrame'"
      ]
     },
     "execution_count": 5,
     "metadata": {},
     "output_type": "execute_result"
    }
   ],
   "source": [
    "(f\"7 missing values represents {((products.desc.isna().sum() / products.shape[0])*100).round(5)}% of the rows in our DataFrame\")"
   ]
  },
  {
   "cell_type": "code",
   "execution_count": 6,
   "id": "24ae4112-19e8-4ff9-a391-c424f2346dc1",
   "metadata": {
    "tags": []
   },
   "outputs": [
    {
     "data": {
      "text/plain": [
       "False    0.999338\n",
       "True     0.000662\n",
       "Name: desc, dtype: float64"
      ]
     },
     "execution_count": 6,
     "metadata": {},
     "output_type": "execute_result"
    }
   ],
   "source": [
    "products.desc.isna().value_counts(normalize=True)"
   ]
  },
  {
   "cell_type": "markdown",
   "id": "4c05d6b8-a952-4be5-87e0-24ddc79916fe",
   "metadata": {},
   "source": [
    "Let's replace the missing description with the name since it is long enough."
   ]
  },
  {
   "cell_type": "code",
   "execution_count": 7,
   "id": "5a58caea-f370-42f0-ba29-63565a91d000",
   "metadata": {
    "tags": []
   },
   "outputs": [
    {
     "data": {
      "text/plain": [
       "sku             0\n",
       "name            0\n",
       "desc            0\n",
       "price          46\n",
       "promo_price     0\n",
       "in_stock        0\n",
       "type           50\n",
       "dtype: int64"
      ]
     },
     "execution_count": 7,
     "metadata": {},
     "output_type": "execute_result"
    }
   ],
   "source": [
    "products.loc[products['desc'].isna(), 'desc'] = products.loc[products['desc'].isna(), 'name']\n",
    "products.isna().sum()"
   ]
  },
  {
   "cell_type": "markdown",
   "id": "fa0c1bda-00c7-4a3f-9bde-0afde4d20b7b",
   "metadata": {},
   "source": [
    "### Price"
   ]
  },
  {
   "cell_type": "code",
   "execution_count": 8,
   "id": "cf947576-12bd-42db-86e8-1a3b96177190",
   "metadata": {
    "tags": []
   },
   "outputs": [
    {
     "data": {
      "text/plain": [
       "'46 missing values represents 0.43478% of the rows in our DataFrame'"
      ]
     },
     "execution_count": 8,
     "metadata": {},
     "output_type": "execute_result"
    }
   ],
   "source": [
    "(f\"{products.price.isna().sum()} missing values represents {((products.price.isna().sum() / products.shape[0])*100).round(5)}% of the rows in our DataFrame\")"
   ]
  },
  {
   "cell_type": "code",
   "execution_count": 9,
   "id": "389ceb95-c2ef-49cd-a000-03e147f3fc8f",
   "metadata": {
    "tags": []
   },
   "outputs": [
    {
     "data": {
      "text/plain": [
       "False    0.995652\n",
       "True     0.004348\n",
       "Name: price, dtype: float64"
      ]
     },
     "execution_count": 9,
     "metadata": {},
     "output_type": "execute_result"
    }
   ],
   "source": [
    "products.price.isna().value_counts(normalize=True)"
   ]
  },
  {
   "cell_type": "code",
   "execution_count": 10,
   "id": "253cd0ca-5250-4d5c-836b-4def6700b5a2",
   "metadata": {
    "tags": []
   },
   "outputs": [
    {
     "data": {
      "text/plain": [
       "sku             0\n",
       "name            0\n",
       "desc            0\n",
       "price           0\n",
       "promo_price     0\n",
       "in_stock        0\n",
       "type           50\n",
       "dtype: int64"
      ]
     },
     "execution_count": 10,
     "metadata": {},
     "output_type": "execute_result"
    }
   ],
   "source": [
    "products = products.loc[~products.price.isna(), :]\n",
    "products.isna().sum()"
   ]
  },
  {
   "cell_type": "markdown",
   "id": "debe53d0-c0f5-435e-8439-2aaf4c4aeb42",
   "metadata": {},
   "source": [
    "### Type"
   ]
  },
  {
   "cell_type": "code",
   "execution_count": 11,
   "id": "ba9ec363-fab5-4596-a676-2fd70d28fec1",
   "metadata": {
    "tags": []
   },
   "outputs": [
    {
     "data": {
      "text/plain": [
       "'50 missing values represents 0.47465% of the rows in our DataFrame'"
      ]
     },
     "execution_count": 11,
     "metadata": {},
     "output_type": "execute_result"
    }
   ],
   "source": [
    "(f\"{products.type.isna().sum()} missing values represents {((products.type.isna().sum() / products.shape[0])*100).round(5)}% of the rows in our DataFrame\")"
   ]
  },
  {
   "cell_type": "code",
   "execution_count": 12,
   "id": "04f4881e-538e-492e-9b73-800f93e31a77",
   "metadata": {
    "tags": []
   },
   "outputs": [
    {
     "data": {
      "text/plain": [
       "False    0.995253\n",
       "True     0.004747\n",
       "Name: type, dtype: float64"
      ]
     },
     "execution_count": 12,
     "metadata": {},
     "output_type": "execute_result"
    }
   ],
   "source": [
    "products.type.isna().value_counts(normalize=True)"
   ]
  },
  {
   "cell_type": "code",
   "execution_count": 13,
   "id": "48766481-78a9-46b7-8d57-732ed61e4162",
   "metadata": {
    "tags": []
   },
   "outputs": [
    {
     "data": {
      "text/plain": [
       "sku            0\n",
       "name           0\n",
       "desc           0\n",
       "price          0\n",
       "promo_price    0\n",
       "in_stock       0\n",
       "type           0\n",
       "dtype: int64"
      ]
     },
     "execution_count": 13,
     "metadata": {},
     "output_type": "execute_result"
    }
   ],
   "source": [
    "products = products.loc[~products.type.isna(), :]\n",
    "products.isna().sum()"
   ]
  },
  {
   "cell_type": "markdown",
   "id": "75801c98-477f-4fc7-9fb0-eb8ffcf4c87a",
   "metadata": {},
   "source": [
    "## Datatypes & Format"
   ]
  },
  {
   "cell_type": "code",
   "execution_count": 14,
   "id": "0588c782-d8b0-4b8e-96cd-d992749a7a61",
   "metadata": {
    "tags": []
   },
   "outputs": [
    {
     "data": {
      "text/plain": [
       "sku            object\n",
       "name           object\n",
       "desc           object\n",
       "price          object\n",
       "promo_price    object\n",
       "in_stock        int64\n",
       "type           object\n",
       "dtype: object"
      ]
     },
     "execution_count": 14,
     "metadata": {},
     "output_type": "execute_result"
    }
   ],
   "source": [
    "products.dtypes"
   ]
  },
  {
   "cell_type": "code",
   "execution_count": 15,
   "id": "2c21e274-e3fb-48c6-9f14-34061735159f",
   "metadata": {
    "tags": []
   },
   "outputs": [],
   "source": [
    "products['in_stock'] = products['in_stock'].astype(bool)"
   ]
  },
  {
   "cell_type": "code",
   "execution_count": 16,
   "id": "7efaabea-7fdf-4b7d-98b8-e4b736dc224e",
   "metadata": {
    "tags": []
   },
   "outputs": [],
   "source": [
    "products['type'] = products['type'].astype('category')"
   ]
  },
  {
   "cell_type": "markdown",
   "id": "1ab37f8b-4490-4302-9833-ee3aa024b4f8",
   "metadata": {},
   "source": [
    "### Price"
   ]
  },
  {
   "cell_type": "code",
   "execution_count": 17,
   "id": "0805a149-663c-412c-b69b-01260ceb6c49",
   "metadata": {
    "tags": []
   },
   "outputs": [
    {
     "data": {
      "text/plain": [
       "538"
      ]
     },
     "execution_count": 17,
     "metadata": {},
     "output_type": "execute_result"
    }
   ],
   "source": [
    "price_problems_number = products.loc[(products.price.astype(str).str.contains(\"\\d+\\.\\d+\\.\\d+\"))|(products.price.astype(str).str.contains(\"\\d+\\.\\d{3,}\")), :].shape[0]\n",
    "price_problems_number"
   ]
  },
  {
   "cell_type": "code",
   "execution_count": 18,
   "id": "ca9004f1-7570-425a-9541-f9bf4f75e0a6",
   "metadata": {
    "tags": []
   },
   "outputs": [
    {
     "name": "stdout",
     "output_type": "stream",
     "text": [
      "The column price has in total 538 wrong values. This is 5.13% of the rows of the DataFrame\n"
     ]
    }
   ],
   "source": [
    "print(f\"The column price has in total {price_problems_number} wrong values. This is {round(((price_problems_number / products.shape[0]) * 100), 2)}% of the rows of the DataFrame\")"
   ]
  },
  {
   "cell_type": "markdown",
   "id": "610d8844-c0d4-49ec-a1d7-3de32464a5f0",
   "metadata": {},
   "source": [
    "5.15% is a reasonable amount of our data. However, the price column will be important to understanding discounts, so I'd like it to be very trustworthy as we are basing business decisions on it. Therefore, we'll delete these rows"
   ]
  },
  {
   "cell_type": "code",
   "execution_count": 19,
   "id": "02623a7b-3353-4ab0-9963-4833d96f87e2",
   "metadata": {
    "tags": []
   },
   "outputs": [
    {
     "data": {
      "text/html": [
       "<div>\n",
       "<style scoped>\n",
       "    .dataframe tbody tr th:only-of-type {\n",
       "        vertical-align: middle;\n",
       "    }\n",
       "\n",
       "    .dataframe tbody tr th {\n",
       "        vertical-align: top;\n",
       "    }\n",
       "\n",
       "    .dataframe thead th {\n",
       "        text-align: right;\n",
       "    }\n",
       "</style>\n",
       "<table border=\"1\" class=\"dataframe\">\n",
       "  <thead>\n",
       "    <tr style=\"text-align: right;\">\n",
       "      <th></th>\n",
       "      <th>sku</th>\n",
       "      <th>name</th>\n",
       "      <th>desc</th>\n",
       "      <th>price</th>\n",
       "      <th>promo_price</th>\n",
       "      <th>in_stock</th>\n",
       "      <th>type</th>\n",
       "    </tr>\n",
       "  </thead>\n",
       "  <tbody>\n",
       "    <tr>\n",
       "      <th>0</th>\n",
       "      <td>RAI0007</td>\n",
       "      <td>Silver Rain Design mStand Support</td>\n",
       "      <td>Aluminum support compatible with all MacBook</td>\n",
       "      <td>59.99</td>\n",
       "      <td>499.899</td>\n",
       "      <td>True</td>\n",
       "      <td>8696</td>\n",
       "    </tr>\n",
       "    <tr>\n",
       "      <th>1</th>\n",
       "      <td>APP0023</td>\n",
       "      <td>Apple Mac Keyboard Keypad Spanish</td>\n",
       "      <td>USB ultrathin keyboard Apple Mac Spanish.</td>\n",
       "      <td>59</td>\n",
       "      <td>589.996</td>\n",
       "      <td>False</td>\n",
       "      <td>13855401</td>\n",
       "    </tr>\n",
       "    <tr>\n",
       "      <th>2</th>\n",
       "      <td>APP0025</td>\n",
       "      <td>Mighty Mouse Apple Mouse for Mac</td>\n",
       "      <td>mouse Apple USB cable.</td>\n",
       "      <td>59</td>\n",
       "      <td>569.898</td>\n",
       "      <td>False</td>\n",
       "      <td>1387</td>\n",
       "    </tr>\n",
       "    <tr>\n",
       "      <th>3</th>\n",
       "      <td>APP0072</td>\n",
       "      <td>Apple Dock to USB Cable iPhone and iPod white</td>\n",
       "      <td>IPhone dock and USB Cable Apple iPod.</td>\n",
       "      <td>25</td>\n",
       "      <td>229.997</td>\n",
       "      <td>False</td>\n",
       "      <td>1230</td>\n",
       "    </tr>\n",
       "    <tr>\n",
       "      <th>4</th>\n",
       "      <td>KIN0007</td>\n",
       "      <td>Mac Memory Kingston 2GB 667MHz DDR2 SO-DIMM</td>\n",
       "      <td>2GB RAM Mac mini and iMac (2006/07) MacBook Pr...</td>\n",
       "      <td>34.99</td>\n",
       "      <td>31.99</td>\n",
       "      <td>True</td>\n",
       "      <td>1364</td>\n",
       "    </tr>\n",
       "    <tr>\n",
       "      <th>...</th>\n",
       "      <td>...</td>\n",
       "      <td>...</td>\n",
       "      <td>...</td>\n",
       "      <td>...</td>\n",
       "      <td>...</td>\n",
       "      <td>...</td>\n",
       "      <td>...</td>\n",
       "    </tr>\n",
       "    <tr>\n",
       "      <th>19321</th>\n",
       "      <td>BEL0376</td>\n",
       "      <td>Belkin Travel Support Apple Watch Black</td>\n",
       "      <td>compact and portable stand vertically or horiz...</td>\n",
       "      <td>29.99</td>\n",
       "      <td>269.903</td>\n",
       "      <td>True</td>\n",
       "      <td>12282</td>\n",
       "    </tr>\n",
       "    <tr>\n",
       "      <th>19322</th>\n",
       "      <td>THU0060</td>\n",
       "      <td>Enroute Thule 14L Backpack MacBook 13 \"Black</td>\n",
       "      <td>Backpack with capacity of 14 liter compartment...</td>\n",
       "      <td>69.95</td>\n",
       "      <td>649.903</td>\n",
       "      <td>True</td>\n",
       "      <td>1392</td>\n",
       "    </tr>\n",
       "    <tr>\n",
       "      <th>19323</th>\n",
       "      <td>THU0061</td>\n",
       "      <td>Enroute Thule 14L Backpack MacBook 13 \"Blue</td>\n",
       "      <td>Backpack with capacity of 14 liter compartment...</td>\n",
       "      <td>69.95</td>\n",
       "      <td>649.903</td>\n",
       "      <td>True</td>\n",
       "      <td>1392</td>\n",
       "    </tr>\n",
       "    <tr>\n",
       "      <th>19324</th>\n",
       "      <td>THU0062</td>\n",
       "      <td>Enroute Thule 14L Backpack MacBook 13 \"Red</td>\n",
       "      <td>Backpack with capacity of 14 liter compartment...</td>\n",
       "      <td>69.95</td>\n",
       "      <td>649.903</td>\n",
       "      <td>False</td>\n",
       "      <td>1392</td>\n",
       "    </tr>\n",
       "    <tr>\n",
       "      <th>19325</th>\n",
       "      <td>THU0063</td>\n",
       "      <td>Enroute Thule 14L Backpack MacBook 13 \"Green</td>\n",
       "      <td>Backpack with capacity of 14 liter compartment...</td>\n",
       "      <td>69.95</td>\n",
       "      <td>649.903</td>\n",
       "      <td>True</td>\n",
       "      <td>1392</td>\n",
       "    </tr>\n",
       "  </tbody>\n",
       "</table>\n",
       "<p>9946 rows × 7 columns</p>\n",
       "</div>"
      ],
      "text/plain": [
       "           sku                                           name  \\\n",
       "0      RAI0007              Silver Rain Design mStand Support   \n",
       "1      APP0023              Apple Mac Keyboard Keypad Spanish   \n",
       "2      APP0025               Mighty Mouse Apple Mouse for Mac   \n",
       "3      APP0072  Apple Dock to USB Cable iPhone and iPod white   \n",
       "4      KIN0007    Mac Memory Kingston 2GB 667MHz DDR2 SO-DIMM   \n",
       "...        ...                                            ...   \n",
       "19321  BEL0376        Belkin Travel Support Apple Watch Black   \n",
       "19322  THU0060   Enroute Thule 14L Backpack MacBook 13 \"Black   \n",
       "19323  THU0061    Enroute Thule 14L Backpack MacBook 13 \"Blue   \n",
       "19324  THU0062     Enroute Thule 14L Backpack MacBook 13 \"Red   \n",
       "19325  THU0063   Enroute Thule 14L Backpack MacBook 13 \"Green   \n",
       "\n",
       "                                                    desc  price promo_price  \\\n",
       "0           Aluminum support compatible with all MacBook  59.99     499.899   \n",
       "1              USB ultrathin keyboard Apple Mac Spanish.     59     589.996   \n",
       "2                                 mouse Apple USB cable.     59     569.898   \n",
       "3                  IPhone dock and USB Cable Apple iPod.     25     229.997   \n",
       "4      2GB RAM Mac mini and iMac (2006/07) MacBook Pr...  34.99       31.99   \n",
       "...                                                  ...    ...         ...   \n",
       "19321  compact and portable stand vertically or horiz...  29.99     269.903   \n",
       "19322  Backpack with capacity of 14 liter compartment...  69.95     649.903   \n",
       "19323  Backpack with capacity of 14 liter compartment...  69.95     649.903   \n",
       "19324  Backpack with capacity of 14 liter compartment...  69.95     649.903   \n",
       "19325  Backpack with capacity of 14 liter compartment...  69.95     649.903   \n",
       "\n",
       "       in_stock      type  \n",
       "0          True      8696  \n",
       "1         False  13855401  \n",
       "2         False      1387  \n",
       "3         False      1230  \n",
       "4          True      1364  \n",
       "...         ...       ...  \n",
       "19321      True     12282  \n",
       "19322      True      1392  \n",
       "19323      True      1392  \n",
       "19324     False      1392  \n",
       "19325      True      1392  \n",
       "\n",
       "[9946 rows x 7 columns]"
      ]
     },
     "execution_count": 19,
     "metadata": {},
     "output_type": "execute_result"
    }
   ],
   "source": [
    "products = products.loc[(~products.price.astype(str).str.contains(\"\\d+\\.\\d+\\.\\d+\"))&(~products.price.astype(str).str.contains(\"\\d+\\.\\d{3,}\")), :]\n",
    "products"
   ]
  },
  {
   "cell_type": "code",
   "execution_count": 20,
   "id": "cb0eaa14-baea-401e-aca5-ce9cbcb765fd",
   "metadata": {
    "tags": []
   },
   "outputs": [],
   "source": [
    "products['price'] = pd.to_numeric(products['price'])\n",
    "products.loc[:,'price'] = products['price'].round(2)"
   ]
  },
  {
   "cell_type": "code",
   "execution_count": 21,
   "id": "bd9d0d97-b701-433c-9cb9-98c721f087a3",
   "metadata": {
    "tags": []
   },
   "outputs": [
    {
     "data": {
      "text/plain": [
       "sku              object\n",
       "name             object\n",
       "desc             object\n",
       "price           float64\n",
       "promo_price      object\n",
       "in_stock           bool\n",
       "type           category\n",
       "dtype: object"
      ]
     },
     "execution_count": 21,
     "metadata": {},
     "output_type": "execute_result"
    }
   ],
   "source": [
    "products.dtypes"
   ]
  },
  {
   "cell_type": "markdown",
   "id": "5b697104-3f3a-431f-a1c8-2bcdfce8f285",
   "metadata": {},
   "source": [
    "### Promo Price"
   ]
  },
  {
   "cell_type": "markdown",
   "id": "ab196396-32f8-4fad-b7e6-04f1f6de82ad",
   "metadata": {},
   "source": [
    "Format price, into r'/d+/./d{2}"
   ]
  },
  {
   "cell_type": "code",
   "execution_count": 22,
   "id": "65f1f6f6-4180-47b2-89b6-7f57713cad70",
   "metadata": {
    "tags": []
   },
   "outputs": [],
   "source": [
    "# # Count the number of digits before the decimal in the 'price' column\n",
    "# products['price_pre_decimal_count'] = products['price'].apply(lambda x: len(str(int(x))))\n",
    "# products.head(50)"
   ]
  },
  {
   "cell_type": "code",
   "execution_count": 23,
   "id": "b639b59f-6ef5-4c96-a6a4-6a0dba14d8ae",
   "metadata": {
    "tags": []
   },
   "outputs": [],
   "source": [
    "# def count_digits_before_last_dot(s):\n",
    "#     parts = s.split('.')\n",
    "#     if len(parts) > 1:\n",
    "#         # Join all parts except the last one, then count the digits\n",
    "#         return len(''.join(parts[:-1]))\n",
    "#     else:\n",
    "#         return len(parts[0])\n",
    "\n",
    "# products['promo_price_pre_decimal_count'] = products['promo_price'].apply(count_digits_before_last_dot)\n",
    "# products.tail(50)\n",
    "# # products.loc[products['promo_price_pre_decimal_count']==6]"
   ]
  },
  {
   "cell_type": "code",
   "execution_count": 24,
   "id": "017ca61f-435a-4570-bfa8-fbe0e69a3b86",
   "metadata": {
    "tags": []
   },
   "outputs": [],
   "source": [
    "# def correct_promo_price(row):\n",
    "#     # Check if there are two dots in promo_price\n",
    "#     if row['promo_price'].count('.') == 2:\n",
    "#         # If both counts are equal, drop the first dot\n",
    "#         if row['price_pre_decimal_count'] == row['promo_price_pre_decimal_count']:\n",
    "#             corrected = row['promo_price'].replace('.', '', 1)  # replace the first dot occurrence only\n",
    "#             return corrected\n",
    "    \n",
    "#     # Your original condition\n",
    "#     if row['price_pre_decimal_count'] != row['promo_price_pre_decimal_count']:\n",
    "#         corrected = row['promo_price'].replace('.', '')\n",
    "#         split_index = row['price_pre_decimal_count']\n",
    "#         corrected = corrected[:split_index] + '.' + corrected[split_index:]\n",
    "#         return corrected\n",
    "    \n",
    "#     return row['promo_price']\n",
    "\n",
    "# products['promo_price'] = products.apply(lambda row: correct_promo_price(row), axis=1)\n",
    "\n",
    "# # Print rows where price is greater than 1000\n",
    "# products.loc[products['price'] > 1000]"
   ]
  },
  {
   "cell_type": "code",
   "execution_count": 25,
   "id": "fa28daf4-0651-4c0a-ab10-79c9c40613e5",
   "metadata": {
    "tags": []
   },
   "outputs": [
    {
     "data": {
      "text/plain": [
       "False    5674\n",
       "True     4272\n",
       "Name: promo_price, dtype: int64"
      ]
     },
     "execution_count": 25,
     "metadata": {},
     "output_type": "execute_result"
    }
   ],
   "source": [
    "products.promo_price.str.contains(\"\\d+\\.\\d+\\.\\d+\").value_counts()"
   ]
  },
  {
   "cell_type": "code",
   "execution_count": 26,
   "id": "2b6e2571-c1eb-4992-83c6-d70a4ee05549",
   "metadata": {
    "tags": []
   },
   "outputs": [],
   "source": [
    "# # Convert to float and round\n",
    "# products['promo_price'] = products['promo_price'].astype(float).round(2)\n",
    "# products"
   ]
  },
  {
   "cell_type": "code",
   "execution_count": 27,
   "id": "90e9f9b1-362f-4bfe-a100-96cb6d2cef4e",
   "metadata": {
    "tags": []
   },
   "outputs": [],
   "source": [
    "# for index, row in products.iterrows():\n",
    "#     if row['promo_price'] > row['price']:\n",
    "#         products.at[index, 'promo_price'] = row['promo_price'] / 10\n",
    "\n",
    "# # Print rows where price is greater than 1000\n",
    "# products.loc[products['price'] > 1000]\n"
   ]
  },
  {
   "cell_type": "markdown",
   "id": "e13970cd-cfb0-4f44-85ab-dd0afa8d098a",
   "metadata": {},
   "source": [
    "price =1000.99 promo_price = 9.999.999 -> promo_price = 9999.99 - 999.99"
   ]
  },
  {
   "cell_type": "code",
   "execution_count": 28,
   "id": "3a9a393c-5e49-440a-bbca-befe864d0622",
   "metadata": {
    "tags": []
   },
   "outputs": [],
   "source": [
    "# products['promo_percentage'] = (1-(products['promo_price']/products['price'])).round(4)\n",
    "# products"
   ]
  },
  {
   "cell_type": "code",
   "execution_count": 29,
   "id": "eff420d1-c717-4065-8e6b-e06981d84e18",
   "metadata": {
    "tags": []
   },
   "outputs": [],
   "source": [
    "# products.loc[products['promo_percentage'] > 0.4].count()"
   ]
  },
  {
   "cell_type": "markdown",
   "id": "6a805d94-2afe-48be-a748-12f4e0a491a1",
   "metadata": {},
   "source": [
    "#### Drop Promo_price column"
   ]
  },
  {
   "cell_type": "code",
   "execution_count": 30,
   "id": "417026e1-28f4-443d-ab24-ab0ec9fa5f14",
   "metadata": {
    "tags": []
   },
   "outputs": [
    {
     "data": {
      "text/html": [
       "<div>\n",
       "<style scoped>\n",
       "    .dataframe tbody tr th:only-of-type {\n",
       "        vertical-align: middle;\n",
       "    }\n",
       "\n",
       "    .dataframe tbody tr th {\n",
       "        vertical-align: top;\n",
       "    }\n",
       "\n",
       "    .dataframe thead th {\n",
       "        text-align: right;\n",
       "    }\n",
       "</style>\n",
       "<table border=\"1\" class=\"dataframe\">\n",
       "  <thead>\n",
       "    <tr style=\"text-align: right;\">\n",
       "      <th></th>\n",
       "      <th>sku</th>\n",
       "      <th>name</th>\n",
       "      <th>desc</th>\n",
       "      <th>price</th>\n",
       "      <th>in_stock</th>\n",
       "      <th>type</th>\n",
       "    </tr>\n",
       "  </thead>\n",
       "  <tbody>\n",
       "    <tr>\n",
       "      <th>0</th>\n",
       "      <td>RAI0007</td>\n",
       "      <td>Silver Rain Design mStand Support</td>\n",
       "      <td>Aluminum support compatible with all MacBook</td>\n",
       "      <td>59.99</td>\n",
       "      <td>True</td>\n",
       "      <td>8696</td>\n",
       "    </tr>\n",
       "    <tr>\n",
       "      <th>1</th>\n",
       "      <td>APP0023</td>\n",
       "      <td>Apple Mac Keyboard Keypad Spanish</td>\n",
       "      <td>USB ultrathin keyboard Apple Mac Spanish.</td>\n",
       "      <td>59.00</td>\n",
       "      <td>False</td>\n",
       "      <td>13855401</td>\n",
       "    </tr>\n",
       "    <tr>\n",
       "      <th>2</th>\n",
       "      <td>APP0025</td>\n",
       "      <td>Mighty Mouse Apple Mouse for Mac</td>\n",
       "      <td>mouse Apple USB cable.</td>\n",
       "      <td>59.00</td>\n",
       "      <td>False</td>\n",
       "      <td>1387</td>\n",
       "    </tr>\n",
       "    <tr>\n",
       "      <th>3</th>\n",
       "      <td>APP0072</td>\n",
       "      <td>Apple Dock to USB Cable iPhone and iPod white</td>\n",
       "      <td>IPhone dock and USB Cable Apple iPod.</td>\n",
       "      <td>25.00</td>\n",
       "      <td>False</td>\n",
       "      <td>1230</td>\n",
       "    </tr>\n",
       "    <tr>\n",
       "      <th>4</th>\n",
       "      <td>KIN0007</td>\n",
       "      <td>Mac Memory Kingston 2GB 667MHz DDR2 SO-DIMM</td>\n",
       "      <td>2GB RAM Mac mini and iMac (2006/07) MacBook Pr...</td>\n",
       "      <td>34.99</td>\n",
       "      <td>True</td>\n",
       "      <td>1364</td>\n",
       "    </tr>\n",
       "    <tr>\n",
       "      <th>...</th>\n",
       "      <td>...</td>\n",
       "      <td>...</td>\n",
       "      <td>...</td>\n",
       "      <td>...</td>\n",
       "      <td>...</td>\n",
       "      <td>...</td>\n",
       "    </tr>\n",
       "    <tr>\n",
       "      <th>19321</th>\n",
       "      <td>BEL0376</td>\n",
       "      <td>Belkin Travel Support Apple Watch Black</td>\n",
       "      <td>compact and portable stand vertically or horiz...</td>\n",
       "      <td>29.99</td>\n",
       "      <td>True</td>\n",
       "      <td>12282</td>\n",
       "    </tr>\n",
       "    <tr>\n",
       "      <th>19322</th>\n",
       "      <td>THU0060</td>\n",
       "      <td>Enroute Thule 14L Backpack MacBook 13 \"Black</td>\n",
       "      <td>Backpack with capacity of 14 liter compartment...</td>\n",
       "      <td>69.95</td>\n",
       "      <td>True</td>\n",
       "      <td>1392</td>\n",
       "    </tr>\n",
       "    <tr>\n",
       "      <th>19323</th>\n",
       "      <td>THU0061</td>\n",
       "      <td>Enroute Thule 14L Backpack MacBook 13 \"Blue</td>\n",
       "      <td>Backpack with capacity of 14 liter compartment...</td>\n",
       "      <td>69.95</td>\n",
       "      <td>True</td>\n",
       "      <td>1392</td>\n",
       "    </tr>\n",
       "    <tr>\n",
       "      <th>19324</th>\n",
       "      <td>THU0062</td>\n",
       "      <td>Enroute Thule 14L Backpack MacBook 13 \"Red</td>\n",
       "      <td>Backpack with capacity of 14 liter compartment...</td>\n",
       "      <td>69.95</td>\n",
       "      <td>False</td>\n",
       "      <td>1392</td>\n",
       "    </tr>\n",
       "    <tr>\n",
       "      <th>19325</th>\n",
       "      <td>THU0063</td>\n",
       "      <td>Enroute Thule 14L Backpack MacBook 13 \"Green</td>\n",
       "      <td>Backpack with capacity of 14 liter compartment...</td>\n",
       "      <td>69.95</td>\n",
       "      <td>True</td>\n",
       "      <td>1392</td>\n",
       "    </tr>\n",
       "  </tbody>\n",
       "</table>\n",
       "<p>9946 rows × 6 columns</p>\n",
       "</div>"
      ],
      "text/plain": [
       "           sku                                           name  \\\n",
       "0      RAI0007              Silver Rain Design mStand Support   \n",
       "1      APP0023              Apple Mac Keyboard Keypad Spanish   \n",
       "2      APP0025               Mighty Mouse Apple Mouse for Mac   \n",
       "3      APP0072  Apple Dock to USB Cable iPhone and iPod white   \n",
       "4      KIN0007    Mac Memory Kingston 2GB 667MHz DDR2 SO-DIMM   \n",
       "...        ...                                            ...   \n",
       "19321  BEL0376        Belkin Travel Support Apple Watch Black   \n",
       "19322  THU0060   Enroute Thule 14L Backpack MacBook 13 \"Black   \n",
       "19323  THU0061    Enroute Thule 14L Backpack MacBook 13 \"Blue   \n",
       "19324  THU0062     Enroute Thule 14L Backpack MacBook 13 \"Red   \n",
       "19325  THU0063   Enroute Thule 14L Backpack MacBook 13 \"Green   \n",
       "\n",
       "                                                    desc  price  in_stock  \\\n",
       "0           Aluminum support compatible with all MacBook  59.99      True   \n",
       "1              USB ultrathin keyboard Apple Mac Spanish.  59.00     False   \n",
       "2                                 mouse Apple USB cable.  59.00     False   \n",
       "3                  IPhone dock and USB Cable Apple iPod.  25.00     False   \n",
       "4      2GB RAM Mac mini and iMac (2006/07) MacBook Pr...  34.99      True   \n",
       "...                                                  ...    ...       ...   \n",
       "19321  compact and portable stand vertically or horiz...  29.99      True   \n",
       "19322  Backpack with capacity of 14 liter compartment...  69.95      True   \n",
       "19323  Backpack with capacity of 14 liter compartment...  69.95      True   \n",
       "19324  Backpack with capacity of 14 liter compartment...  69.95     False   \n",
       "19325  Backpack with capacity of 14 liter compartment...  69.95      True   \n",
       "\n",
       "           type  \n",
       "0          8696  \n",
       "1      13855401  \n",
       "2          1387  \n",
       "3          1230  \n",
       "4          1364  \n",
       "...         ...  \n",
       "19321     12282  \n",
       "19322      1392  \n",
       "19323      1392  \n",
       "19324      1392  \n",
       "19325      1392  \n",
       "\n",
       "[9946 rows x 6 columns]"
      ]
     },
     "execution_count": 30,
     "metadata": {},
     "output_type": "execute_result"
    }
   ],
   "source": [
    "products.drop(columns={'promo_price'}, inplace=True)\n",
    "products"
   ]
  },
  {
   "cell_type": "markdown",
   "id": "ed0c0ad9-920f-479c-915d-79e1b4b52c53",
   "metadata": {},
   "source": [
    "## Outliers for numerical data: "
   ]
  },
  {
   "cell_type": "markdown",
   "id": "276f4aa6-e41d-4279-8376-aea8700b61ee",
   "metadata": {},
   "source": [
    "### Price"
   ]
  },
  {
   "cell_type": "code",
   "execution_count": 31,
   "id": "fb3683f9-c0b1-4b7d-90c5-87cfad2b50a0",
   "metadata": {
    "tags": []
   },
   "outputs": [
    {
     "data": {
      "text/plain": [
       "sku           object\n",
       "name          object\n",
       "desc          object\n",
       "price        float64\n",
       "in_stock        bool\n",
       "type        category\n",
       "dtype: object"
      ]
     },
     "execution_count": 31,
     "metadata": {},
     "output_type": "execute_result"
    }
   ],
   "source": [
    "products.dtypes"
   ]
  },
  {
   "cell_type": "markdown",
   "id": "f1efd40b-353a-4906-807c-8f8ce8bca6ac",
   "metadata": {},
   "source": [
    "price, promo_price - use boxplots"
   ]
  },
  {
   "cell_type": "code",
   "execution_count": 32,
   "id": "8c39b694-3661-404d-a4cf-559a34d79b55",
   "metadata": {
    "tags": []
   },
   "outputs": [],
   "source": [
    "import matplotlib.pyplot as plt"
   ]
  },
  {
   "cell_type": "code",
   "execution_count": 33,
   "id": "9b414f86-2228-4f4b-8896-c28551c0ea13",
   "metadata": {
    "tags": []
   },
   "outputs": [
    {
     "data": {
      "image/png": "[encoded data removed]",
      "text/plain": [
       "<Figure size 640x480 with 1 Axes>"
      ]
     },
     "metadata": {},
     "output_type": "display_data"
    }
   ],
   "source": [
    "products.boxplot(column='price')\n",
    "# Set title and labels for clarity\n",
    "plt.title('Boxplot of Product Prices')\n",
    "plt.ylabel('Price (in €)')\n",
    "plt.xlabel('Products')\n",
    "\n",
    "# Show the plot\n",
    "plt.show()"
   ]
  },
  {
   "cell_type": "code",
   "execution_count": 34,
   "id": "f38d97db-59f3-4cb2-a717-c2f6485459e6",
   "metadata": {
    "tags": []
   },
   "outputs": [
    {
     "data": {
      "text/html": [
       "<div>\n",
       "<style scoped>\n",
       "    .dataframe tbody tr th:only-of-type {\n",
       "        vertical-align: middle;\n",
       "    }\n",
       "\n",
       "    .dataframe tbody tr th {\n",
       "        vertical-align: top;\n",
       "    }\n",
       "\n",
       "    .dataframe thead th {\n",
       "        text-align: right;\n",
       "    }\n",
       "</style>\n",
       "<table border=\"1\" class=\"dataframe\">\n",
       "  <thead>\n",
       "    <tr style=\"text-align: right;\">\n",
       "      <th></th>\n",
       "      <th>sku</th>\n",
       "      <th>name</th>\n",
       "      <th>desc</th>\n",
       "      <th>price</th>\n",
       "      <th>in_stock</th>\n",
       "      <th>type</th>\n",
       "    </tr>\n",
       "  </thead>\n",
       "  <tbody>\n",
       "    <tr>\n",
       "      <th>109</th>\n",
       "      <td>PAC0508</td>\n",
       "      <td>Apple MacBook Pro 133 '' 25GHz | 16GB RAM | 1T...</td>\n",
       "      <td>Apple MacBook Pro Fusion Drive 16GB 2 internal...</td>\n",
       "      <td>1919.00</td>\n",
       "      <td>False</td>\n",
       "      <td>1282</td>\n",
       "    </tr>\n",
       "    <tr>\n",
       "      <th>118</th>\n",
       "      <td>PAC0507</td>\n",
       "      <td>Apple MacBook Pro 133 '' 25Ghz | 16GB RAM | Fu...</td>\n",
       "      <td>Apple MacBook Pro Fusion Drive 16GB 2 internal...</td>\n",
       "      <td>1639.00</td>\n",
       "      <td>False</td>\n",
       "      <td>1282</td>\n",
       "    </tr>\n",
       "    <tr>\n",
       "      <th>127</th>\n",
       "      <td>PAC0515</td>\n",
       "      <td>Apple MacBook Pro 133 \"i7 29GHz | RAM 16GB | 5...</td>\n",
       "      <td>Apple MacBook Pro 133 inches (MD101Y / A) and ...</td>\n",
       "      <td>2039.00</td>\n",
       "      <td>False</td>\n",
       "      <td>1282</td>\n",
       "    </tr>\n",
       "    <tr>\n",
       "      <th>136</th>\n",
       "      <td>PAC0510</td>\n",
       "      <td>Apple MacBook Pro 133 \"i7 29GHz | RAM 16GB | 7...</td>\n",
       "      <td>Apple MacBook Pro Fusion Drive 16GB 2 internal...</td>\n",
       "      <td>2039.00</td>\n",
       "      <td>False</td>\n",
       "      <td>1282</td>\n",
       "    </tr>\n",
       "    <tr>\n",
       "      <th>145</th>\n",
       "      <td>PAC0185</td>\n",
       "      <td>Apple MacBook Pro 133 \"i5 25GHz | RAM 16GB | 2...</td>\n",
       "      <td>Apple MacBook Pro 133 inches (MD101Y / A) with...</td>\n",
       "      <td>1639.00</td>\n",
       "      <td>False</td>\n",
       "      <td>1282</td>\n",
       "    </tr>\n",
       "    <tr>\n",
       "      <th>...</th>\n",
       "      <td>...</td>\n",
       "      <td>...</td>\n",
       "      <td>...</td>\n",
       "      <td>...</td>\n",
       "      <td>...</td>\n",
       "      <td>...</td>\n",
       "    </tr>\n",
       "    <tr>\n",
       "      <th>19112</th>\n",
       "      <td>AP20449</td>\n",
       "      <td>Like new - Apple Macbook Retina 12 \"Core m5 12...</td>\n",
       "      <td>Retina Display MacBook 12-inch revised and rea...</td>\n",
       "      <td>1799.00</td>\n",
       "      <td>False</td>\n",
       "      <td>5,39E+11</td>\n",
       "    </tr>\n",
       "    <tr>\n",
       "      <th>19194</th>\n",
       "      <td>DLL0053</td>\n",
       "      <td>Dell UltraSharp UP2718Q Monitor 27 \"4K HDR</td>\n",
       "      <td>Monitor 27 inch 4K 4K and 6ms response height ...</td>\n",
       "      <td>1869.99</td>\n",
       "      <td>False</td>\n",
       "      <td>1296</td>\n",
       "    </tr>\n",
       "    <tr>\n",
       "      <th>19197</th>\n",
       "      <td>PAC2510</td>\n",
       "      <td>Apple iMac 27 \"Core i5 3.3GHz Retina 5K | 16GB...</td>\n",
       "      <td>27-inch iMac 5K Retina refitted with 16GB of R...</td>\n",
       "      <td>2869.00</td>\n",
       "      <td>False</td>\n",
       "      <td>5,74E+15</td>\n",
       "    </tr>\n",
       "    <tr>\n",
       "      <th>19198</th>\n",
       "      <td>AP20461</td>\n",
       "      <td>Apple MacBook Pro 15 \"Core i7 Touch Bar 26GHz ...</td>\n",
       "      <td>Refurbished MacBook Pro and 15-inch Apple cert...</td>\n",
       "      <td>2699.00</td>\n",
       "      <td>True</td>\n",
       "      <td>1,02E+12</td>\n",
       "    </tr>\n",
       "    <tr>\n",
       "      <th>19199</th>\n",
       "      <td>AP20462</td>\n",
       "      <td>Apple MacBook Pro 13 \"with Touch Bar GHz Core ...</td>\n",
       "      <td>Apple MacBook Pro reconditioned by 13-inch Cor...</td>\n",
       "      <td>1999.00</td>\n",
       "      <td>True</td>\n",
       "      <td>1,02E+12</td>\n",
       "    </tr>\n",
       "  </tbody>\n",
       "</table>\n",
       "<p>1310 rows × 6 columns</p>\n",
       "</div>"
      ],
      "text/plain": [
       "           sku                                               name  \\\n",
       "109    PAC0508  Apple MacBook Pro 133 '' 25GHz | 16GB RAM | 1T...   \n",
       "118    PAC0507  Apple MacBook Pro 133 '' 25Ghz | 16GB RAM | Fu...   \n",
       "127    PAC0515  Apple MacBook Pro 133 \"i7 29GHz | RAM 16GB | 5...   \n",
       "136    PAC0510  Apple MacBook Pro 133 \"i7 29GHz | RAM 16GB | 7...   \n",
       "145    PAC0185  Apple MacBook Pro 133 \"i5 25GHz | RAM 16GB | 2...   \n",
       "...        ...                                                ...   \n",
       "19112  AP20449  Like new - Apple Macbook Retina 12 \"Core m5 12...   \n",
       "19194  DLL0053         Dell UltraSharp UP2718Q Monitor 27 \"4K HDR   \n",
       "19197  PAC2510  Apple iMac 27 \"Core i5 3.3GHz Retina 5K | 16GB...   \n",
       "19198  AP20461  Apple MacBook Pro 15 \"Core i7 Touch Bar 26GHz ...   \n",
       "19199  AP20462  Apple MacBook Pro 13 \"with Touch Bar GHz Core ...   \n",
       "\n",
       "                                                    desc    price  in_stock  \\\n",
       "109    Apple MacBook Pro Fusion Drive 16GB 2 internal...  1919.00     False   \n",
       "118    Apple MacBook Pro Fusion Drive 16GB 2 internal...  1639.00     False   \n",
       "127    Apple MacBook Pro 133 inches (MD101Y / A) and ...  2039.00     False   \n",
       "136    Apple MacBook Pro Fusion Drive 16GB 2 internal...  2039.00     False   \n",
       "145    Apple MacBook Pro 133 inches (MD101Y / A) with...  1639.00     False   \n",
       "...                                                  ...      ...       ...   \n",
       "19112  Retina Display MacBook 12-inch revised and rea...  1799.00     False   \n",
       "19194  Monitor 27 inch 4K 4K and 6ms response height ...  1869.99     False   \n",
       "19197  27-inch iMac 5K Retina refitted with 16GB of R...  2869.00     False   \n",
       "19198  Refurbished MacBook Pro and 15-inch Apple cert...  2699.00      True   \n",
       "19199  Apple MacBook Pro reconditioned by 13-inch Cor...  1999.00      True   \n",
       "\n",
       "           type  \n",
       "109        1282  \n",
       "118        1282  \n",
       "127        1282  \n",
       "136        1282  \n",
       "145        1282  \n",
       "...         ...  \n",
       "19112  5,39E+11  \n",
       "19194      1296  \n",
       "19197  5,74E+15  \n",
       "19198  1,02E+12  \n",
       "19199  1,02E+12  \n",
       "\n",
       "[1310 rows x 6 columns]"
      ]
     },
     "execution_count": 34,
     "metadata": {},
     "output_type": "execute_result"
    }
   ],
   "source": [
    "# Outliers\n",
    "Q1 = products['price'].quantile(0.25)\n",
    "Q3 = products['price'].quantile(0.75)\n",
    "IQR = Q3 - Q1\n",
    "lower_bound = Q1 - 1.5 * IQR\n",
    "upper_bound = Q3 + 1.5 * IQR\n",
    "outliers = products[(products['price'] < lower_bound) | (products['price'] > upper_bound)]\n",
    "outliers"
   ]
  },
  {
   "cell_type": "markdown",
   "id": "6bc1020b-0c24-436b-abde-11bd9c1bb7de",
   "metadata": {},
   "source": [
    "I conclude that there are no outliers in the price since apple products are much more expensive than computer accessories. No values will be dropped."
   ]
  },
  {
   "cell_type": "code",
   "execution_count": 35,
   "id": "41c4dd0e-8c75-45d7-813f-252d087db8c2",
   "metadata": {
    "tags": []
   },
   "outputs": [
    {
     "data": {
      "text/html": [
       "<div>\n",
       "<style scoped>\n",
       "    .dataframe tbody tr th:only-of-type {\n",
       "        vertical-align: middle;\n",
       "    }\n",
       "\n",
       "    .dataframe tbody tr th {\n",
       "        vertical-align: top;\n",
       "    }\n",
       "\n",
       "    .dataframe thead th {\n",
       "        text-align: right;\n",
       "    }\n",
       "</style>\n",
       "<table border=\"1\" class=\"dataframe\">\n",
       "  <thead>\n",
       "    <tr style=\"text-align: right;\">\n",
       "      <th></th>\n",
       "      <th>sku</th>\n",
       "      <th>name</th>\n",
       "      <th>desc</th>\n",
       "      <th>price</th>\n",
       "      <th>in_stock</th>\n",
       "      <th>type</th>\n",
       "    </tr>\n",
       "  </thead>\n",
       "  <tbody>\n",
       "  </tbody>\n",
       "</table>\n",
       "</div>"
      ],
      "text/plain": [
       "Empty DataFrame\n",
       "Columns: [sku, name, desc, price, in_stock, type]\n",
       "Index: []"
      ]
     },
     "execution_count": 35,
     "metadata": {},
     "output_type": "execute_result"
    }
   ],
   "source": [
    "products.loc[products['price']<=0]"
   ]
  },
  {
   "cell_type": "markdown",
   "id": "051196c2-5656-471d-8c58-1fa5f6e4114c",
   "metadata": {
    "tags": []
   },
   "source": [
    "Also no negative prices."
   ]
  },
  {
   "cell_type": "markdown",
   "id": "f2c124dd-4b4a-43fd-bfe7-2f88b47c1add",
   "metadata": {},
   "source": [
    "I will not drop the outliers since I will have to work with extreme promotional values as the business question is related to it. However, I might come back to this and work on these values."
   ]
  },
  {
   "cell_type": "markdown",
   "id": "74a7701d-8dd0-4dbc-b30b-1c25fbffd3a1",
   "metadata": {},
   "source": [
    "## Drop columns not needed in export"
   ]
  },
  {
   "cell_type": "code",
   "execution_count": 36,
   "id": "4a119360-8785-47d4-937a-3cf7dd50c4de",
   "metadata": {
    "tags": []
   },
   "outputs": [],
   "source": [
    "# products.drop('price_pre_decimal_count', axis=1, inplace=True)\n",
    "# products.drop('promo_price_pre_decimal_count', axis=1, inplace=True)\n",
    "# products"
   ]
  },
  {
   "cell_type": "markdown",
   "id": "0e9c6514-e6a9-473c-b352-d20b6636c244",
   "metadata": {},
   "source": [
    "# Export"
   ]
  },
  {
   "cell_type": "code",
   "execution_count": 37,
   "id": "d92d5fc1-f62f-4c1a-95be-18654c9671da",
   "metadata": {
    "tags": []
   },
   "outputs": [],
   "source": [
    "products.to_csv('/Users/merlesteffen/Documents/GitHub/Eniac/Data-Eniac/Data_Cleaned/products_clean.csv', index=False)\n",
    "products.to_parquet('/Users/merlesteffen/Documents/GitHub/Eniac/Data-Eniac/Data_Cleaned/products_clean.parquet', index=False)"
   ]
  }
 ],
 "metadata": {
  "kernelspec": {
   "display_name": "Python 3 (ipykernel)",
   "language": "python",
   "name": "python3"
  },
  "language_info": {
   "codemirror_mode": {
    "name": "ipython",
    "version": 3
   },
   "file_extension": ".py",
   "mimetype": "text/x-python",
   "name": "python",
   "nbconvert_exporter": "python",
   "pygments_lexer": "ipython3",
   "version": "3.11.4"
  }
 },
 "nbformat": 4,
 "nbformat_minor": 5
}
