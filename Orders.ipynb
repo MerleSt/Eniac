{
 "cells": [
  {
   "cell_type": "markdown",
   "id": "867336f4-3a52-415a-a99c-c793fa1467b7",
   "metadata": {},
   "source": [
    "# Orders"
   ]
  },
  {
   "cell_type": "markdown",
   "id": "370580f4-ecae-4cd9-83d5-4e0d0ed1046f",
   "metadata": {},
   "source": [
    "## Import"
   ]
  },
  {
   "cell_type": "code",
   "execution_count": 1,
   "id": "8a71ae69-1733-46d5-95bd-a772c6888c49",
   "metadata": {
    "tags": []
   },
   "outputs": [],
   "source": [
    "import pandas as pd\n",
    "\n",
    "# URLs for raw content of the CSV files on GitHub\n",
    "orders_url = \"https://raw.githubusercontent.com/MerleSt/Eniac/main/Data-Eniac/orders.csv\"\n",
    "orders_df = pd.read_csv(orders_url)\n",
    "orders = orders_df.copy()"
   ]
  },
  {
   "cell_type": "markdown",
   "id": "70bfb924-139b-44a2-aa89-2d56990d87c8",
   "metadata": {},
   "source": [
    "## Drop Duplicates"
   ]
  },
  {
   "cell_type": "code",
   "execution_count": 2,
   "id": "392c8076-f1db-4b2d-9f5b-2d61cb281ec2",
   "metadata": {
    "tags": []
   },
   "outputs": [
    {
     "data": {
      "text/plain": [
       "0"
      ]
     },
     "execution_count": 2,
     "metadata": {},
     "output_type": "execute_result"
    }
   ],
   "source": [
    "orders.duplicated().sum()"
   ]
  },
  {
   "cell_type": "markdown",
   "id": "1f28289c-87f3-4f04-8aa6-c1c1215408ed",
   "metadata": {},
   "source": [
    "## Missing Values"
   ]
  },
  {
   "cell_type": "code",
   "execution_count": 3,
   "id": "6c59f12e-e406-4dbd-a168-355bef6e0106",
   "metadata": {
    "tags": []
   },
   "outputs": [
    {
     "data": {
      "text/plain": [
       "order_id        0\n",
       "created_date    0\n",
       "total_paid      5\n",
       "state           0\n",
       "dtype: int64"
      ]
     },
     "execution_count": 3,
     "metadata": {},
     "output_type": "execute_result"
    }
   ],
   "source": [
    "orders.isna().sum()"
   ]
  },
  {
   "cell_type": "code",
   "execution_count": 4,
   "id": "82ad7b4d-5675-4d27-ad58-867d3e3ab6ce",
   "metadata": {
    "tags": []
   },
   "outputs": [
    {
     "name": "stdout",
     "output_type": "stream",
     "text": [
      "5 missing values represents 0.0022% of the rows in our DataFrame\n"
     ]
    }
   ],
   "source": [
    "print(f\"5 missing values represents {((orders.total_paid.isna().sum() / orders.shape[0])*100).round(5)}% of the rows in our DataFrame\")"
   ]
  },
  {
   "cell_type": "code",
   "execution_count": 5,
   "id": "b3dc5d5f-c34d-44c5-a1aa-fe343cb4f2f3",
   "metadata": {
    "tags": []
   },
   "outputs": [
    {
     "data": {
      "text/plain": [
       "False    0.999978\n",
       "True     0.000022\n",
       "Name: total_paid, dtype: float64"
      ]
     },
     "execution_count": 5,
     "metadata": {},
     "output_type": "execute_result"
    }
   ],
   "source": [
    "orders.total_paid.isna().value_counts(normalize=True)"
   ]
  },
  {
   "cell_type": "code",
   "execution_count": 6,
   "id": "ed5cfe71-164d-4b8e-9067-7474c6eb041c",
   "metadata": {
    "tags": []
   },
   "outputs": [
    {
     "data": {
      "text/plain": [
       "order_id        0\n",
       "created_date    0\n",
       "total_paid      0\n",
       "state           0\n",
       "dtype: int64"
      ]
     },
     "execution_count": 6,
     "metadata": {},
     "output_type": "execute_result"
    }
   ],
   "source": [
    "orders = orders.loc[~orders.total_paid.isna(), :]\n",
    "orders.isna().sum()"
   ]
  },
  {
   "cell_type": "markdown",
   "id": "c4476782-8547-4a21-b8ff-65cbf9bf6e9e",
   "metadata": {},
   "source": [
    "## Datatypes & Format"
   ]
  },
  {
   "cell_type": "code",
   "execution_count": 7,
   "id": "3dda1f9f-daf1-40cb-a3c2-1bee96126c10",
   "metadata": {
    "tags": []
   },
   "outputs": [
    {
     "data": {
      "text/plain": [
       "order_id          int64\n",
       "created_date     object\n",
       "total_paid      float64\n",
       "state            object\n",
       "dtype: object"
      ]
     },
     "execution_count": 7,
     "metadata": {},
     "output_type": "execute_result"
    }
   ],
   "source": [
    "orders.dtypes"
   ]
  },
  {
   "cell_type": "code",
   "execution_count": 8,
   "id": "2a0e8cb7-b9bf-43da-8dba-92c0b7e11513",
   "metadata": {
    "tags": []
   },
   "outputs": [],
   "source": [
    "orders['order_id'] = orders['order_id'].astype(str)"
   ]
  },
  {
   "cell_type": "code",
   "execution_count": 9,
   "id": "928a2b36-21ab-4ce8-b43b-46702dc10927",
   "metadata": {
    "tags": []
   },
   "outputs": [],
   "source": [
    "orders['created_date']  = pd.to_datetime(orders['created_date'])"
   ]
  },
  {
   "cell_type": "code",
   "execution_count": 10,
   "id": "3cc3ff3e-15ce-4c75-bda8-63509645c201",
   "metadata": {
    "tags": []
   },
   "outputs": [],
   "source": [
    "orders['state'] = orders['state'].astype('category')"
   ]
  },
  {
   "cell_type": "code",
   "execution_count": 11,
   "id": "5355bbee-79e2-4722-ad13-14b49f9da36c",
   "metadata": {
    "tags": []
   },
   "outputs": [
    {
     "data": {
      "text/plain": [
       "order_id                object\n",
       "created_date    datetime64[ns]\n",
       "total_paid             float64\n",
       "state                 category\n",
       "dtype: object"
      ]
     },
     "execution_count": 11,
     "metadata": {},
     "output_type": "execute_result"
    }
   ],
   "source": [
    "orders.dtypes"
   ]
  },
  {
   "cell_type": "code",
   "execution_count": 12,
   "id": "31258b1d-62b4-4a94-9393-bf701e46ca96",
   "metadata": {
    "tags": []
   },
   "outputs": [
    {
     "data": {
      "text/html": [
       "<div>\n",
       "<style scoped>\n",
       "    .dataframe tbody tr th:only-of-type {\n",
       "        vertical-align: middle;\n",
       "    }\n",
       "\n",
       "    .dataframe tbody tr th {\n",
       "        vertical-align: top;\n",
       "    }\n",
       "\n",
       "    .dataframe thead th {\n",
       "        text-align: right;\n",
       "    }\n",
       "</style>\n",
       "<table border=\"1\" class=\"dataframe\">\n",
       "  <thead>\n",
       "    <tr style=\"text-align: right;\">\n",
       "      <th></th>\n",
       "      <th>order_id</th>\n",
       "      <th>created_date</th>\n",
       "      <th>total_paid</th>\n",
       "      <th>state</th>\n",
       "    </tr>\n",
       "  </thead>\n",
       "  <tbody>\n",
       "    <tr>\n",
       "      <th>150</th>\n",
       "      <td>296010</td>\n",
       "      <td>2017-01-09 23:47:00</td>\n",
       "      <td>0.0</td>\n",
       "      <td>Completed</td>\n",
       "    </tr>\n",
       "    <tr>\n",
       "      <th>264</th>\n",
       "      <td>299605</td>\n",
       "      <td>2017-01-01 10:33:46</td>\n",
       "      <td>0.0</td>\n",
       "      <td>Shopping Basket</td>\n",
       "    </tr>\n",
       "    <tr>\n",
       "      <th>308</th>\n",
       "      <td>299651</td>\n",
       "      <td>2017-01-01 12:23:58</td>\n",
       "      <td>0.0</td>\n",
       "      <td>Shopping Basket</td>\n",
       "    </tr>\n",
       "    <tr>\n",
       "      <th>377</th>\n",
       "      <td>299731</td>\n",
       "      <td>2017-01-01 14:52:18</td>\n",
       "      <td>0.0</td>\n",
       "      <td>Shopping Basket</td>\n",
       "    </tr>\n",
       "    <tr>\n",
       "      <th>380</th>\n",
       "      <td>299734</td>\n",
       "      <td>2017-01-01 14:55:20</td>\n",
       "      <td>0.0</td>\n",
       "      <td>Shopping Basket</td>\n",
       "    </tr>\n",
       "    <tr>\n",
       "      <th>...</th>\n",
       "      <td>...</td>\n",
       "      <td>...</td>\n",
       "      <td>...</td>\n",
       "      <td>...</td>\n",
       "    </tr>\n",
       "    <tr>\n",
       "      <th>226835</th>\n",
       "      <td>527328</td>\n",
       "      <td>2018-03-14 13:14:12</td>\n",
       "      <td>0.0</td>\n",
       "      <td>Shopping Basket</td>\n",
       "    </tr>\n",
       "    <tr>\n",
       "      <th>226851</th>\n",
       "      <td>527344</td>\n",
       "      <td>2018-03-14 13:25:21</td>\n",
       "      <td>0.0</td>\n",
       "      <td>Place Order</td>\n",
       "    </tr>\n",
       "    <tr>\n",
       "      <th>226853</th>\n",
       "      <td>527346</td>\n",
       "      <td>2018-03-14 13:26:14</td>\n",
       "      <td>0.0</td>\n",
       "      <td>Place Order</td>\n",
       "    </tr>\n",
       "    <tr>\n",
       "      <th>226855</th>\n",
       "      <td>527348</td>\n",
       "      <td>2018-03-14 13:28:18</td>\n",
       "      <td>0.0</td>\n",
       "      <td>Place Order</td>\n",
       "    </tr>\n",
       "    <tr>\n",
       "      <th>226889</th>\n",
       "      <td>527382</td>\n",
       "      <td>2018-03-14 13:47:43</td>\n",
       "      <td>0.0</td>\n",
       "      <td>Shopping Basket</td>\n",
       "    </tr>\n",
       "  </tbody>\n",
       "</table>\n",
       "<p>19334 rows × 4 columns</p>\n",
       "</div>"
      ],
      "text/plain": [
       "       order_id        created_date  total_paid            state\n",
       "150      296010 2017-01-09 23:47:00         0.0        Completed\n",
       "264      299605 2017-01-01 10:33:46         0.0  Shopping Basket\n",
       "308      299651 2017-01-01 12:23:58         0.0  Shopping Basket\n",
       "377      299731 2017-01-01 14:52:18         0.0  Shopping Basket\n",
       "380      299734 2017-01-01 14:55:20         0.0  Shopping Basket\n",
       "...         ...                 ...         ...              ...\n",
       "226835   527328 2018-03-14 13:14:12         0.0  Shopping Basket\n",
       "226851   527344 2018-03-14 13:25:21         0.0      Place Order\n",
       "226853   527346 2018-03-14 13:26:14         0.0      Place Order\n",
       "226855   527348 2018-03-14 13:28:18         0.0      Place Order\n",
       "226889   527382 2018-03-14 13:47:43         0.0  Shopping Basket\n",
       "\n",
       "[19334 rows x 4 columns]"
      ]
     },
     "execution_count": 12,
     "metadata": {},
     "output_type": "execute_result"
    }
   ],
   "source": [
    "orders.loc[orders['total_paid']<=0]"
   ]
  },
  {
   "cell_type": "markdown",
   "id": "cbf203c4-1e0b-4a3f-ad11-7aa86438be88",
   "metadata": {},
   "source": [
    "Remember, some prices are zero, but it makes sense since they may have not been delivered."
   ]
  },
  {
   "cell_type": "markdown",
   "id": "03b604b1-bd2a-4e31-b610-10b2d327153f",
   "metadata": {},
   "source": [
    "## Export"
   ]
  },
  {
   "cell_type": "code",
   "execution_count": 13,
   "id": "eaf6608a-a0f5-4c4a-9ed4-cdf2f35ef95a",
   "metadata": {
    "tags": []
   },
   "outputs": [],
   "source": [
    "orders.to_csv('/Users/merlesteffen/Documents/GitHub/Eniac/Data-Eniac/Data_Cleaned/orders_clean.csv', index=False)\n",
    "orders.to_parquet('/Users/merlesteffen/Documents/GitHub/Eniac/Data-Eniac/Data_Cleaned/orders_clean.parquet', index=False)"
   ]
  }
 ],
 "metadata": {
  "kernelspec": {
   "display_name": "Python 3 (ipykernel)",
   "language": "python",
   "name": "python3"
  },
  "language_info": {
   "codemirror_mode": {
    "name": "ipython",
    "version": 3
   },
   "file_extension": ".py",
   "mimetype": "text/x-python",
   "name": "python",
   "nbconvert_exporter": "python",
   "pygments_lexer": "ipython3",
   "version": "3.11.4"
  }
 },
 "nbformat": 4,
 "nbformat_minor": 5
}
