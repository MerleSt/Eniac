{
 "cells": [
  {
   "cell_type": "markdown",
   "id": "28a6444b-4254-4cf8-98cb-675692e7a257",
   "metadata": {},
   "source": [
    "# Orderlines"
   ]
  },
  {
   "cell_type": "markdown",
   "id": "a509a513-5246-468b-9cef-d03488206ddd",
   "metadata": {},
   "source": [
    "## Import"
   ]
  },
  {
   "cell_type": "code",
   "execution_count": 1,
   "id": "8cf4fd92-a063-4aea-986b-869883436ff7",
   "metadata": {
    "tags": []
   },
   "outputs": [],
   "source": [
    "import pandas as pd\n",
    "orderlines_url = \"https://raw.githubusercontent.com/MerleSt/Eniac/main/Data-Eniac/orderlines.csv\"\n",
    "orderlines_df = pd.read_csv(orderlines_url)\n",
    "orderlines = orderlines_df.copy()"
   ]
  },
  {
   "cell_type": "markdown",
   "id": "fe23f5f1-45bc-4640-a6cc-099e659e838b",
   "metadata": {},
   "source": [
    "## Drop Duplicates"
   ]
  },
  {
   "cell_type": "code",
   "execution_count": 2,
   "id": "272f2c5c-aad3-49c5-9f41-d303f9efdfc4",
   "metadata": {
    "tags": []
   },
   "outputs": [
    {
     "data": {
      "text/plain": [
       "0"
      ]
     },
     "execution_count": 2,
     "metadata": {},
     "output_type": "execute_result"
    }
   ],
   "source": [
    "orderlines.duplicated().sum()"
   ]
  },
  {
   "cell_type": "markdown",
   "id": "c73c619e-4ecb-4818-b4e7-7fd95101e49e",
   "metadata": {},
   "source": [
    "## Missing Values"
   ]
  },
  {
   "cell_type": "code",
   "execution_count": 3,
   "id": "64169c95-c24b-4394-a044-90b7dd941190",
   "metadata": {
    "tags": []
   },
   "outputs": [
    {
     "data": {
      "text/plain": [
       "id                  0\n",
       "id_order            0\n",
       "product_id          0\n",
       "product_quantity    0\n",
       "sku                 0\n",
       "unit_price          0\n",
       "date                0\n",
       "dtype: int64"
      ]
     },
     "execution_count": 3,
     "metadata": {},
     "output_type": "execute_result"
    }
   ],
   "source": [
    "orderlines.isna().sum()"
   ]
  },
  {
   "cell_type": "markdown",
   "id": "213ddf4f-867e-488c-a8f2-896fa846ab4d",
   "metadata": {},
   "source": [
    "## Datatypes & Format"
   ]
  },
  {
   "cell_type": "code",
   "execution_count": 4,
   "id": "ce01fab2-34b8-4ca5-b9d2-3a90230e33a5",
   "metadata": {
    "tags": []
   },
   "outputs": [
    {
     "data": {
      "text/plain": [
       "id                   int64\n",
       "id_order             int64\n",
       "product_id           int64\n",
       "product_quantity     int64\n",
       "sku                 object\n",
       "unit_price          object\n",
       "date                object\n",
       "dtype: object"
      ]
     },
     "execution_count": 4,
     "metadata": {},
     "output_type": "execute_result"
    }
   ],
   "source": [
    "orderlines.dtypes"
   ]
  },
  {
   "cell_type": "code",
   "execution_count": 5,
   "id": "f4884497-6a62-44bd-a038-52f859ffc71d",
   "metadata": {
    "tags": []
   },
   "outputs": [],
   "source": [
    "orderlines['date']  = pd.to_datetime(orderlines['date'])\n",
    "orderlines.drop('id', axis=1, inplace=True)\n",
    "orderlines['id_order']= orderlines['id_order'].astype(str)\n",
    "orderlines.drop('product_id', axis=1, inplace=True)"
   ]
  },
  {
   "cell_type": "code",
   "execution_count": 6,
   "id": "144cb798-e90e-4cea-afec-8469bb031d03",
   "metadata": {
    "tags": []
   },
   "outputs": [
    {
     "data": {
      "text/plain": [
       "0          18.99\n",
       "1         399.00\n",
       "2         474.05\n",
       "3          68.39\n",
       "4          23.74\n",
       "           ...  \n",
       "293978     42.99\n",
       "293979    141.58\n",
       "293980      9.99\n",
       "293981     19.99\n",
       "293982     13.99\n",
       "Name: unit_price, Length: 293983, dtype: object"
      ]
     },
     "execution_count": 6,
     "metadata": {},
     "output_type": "execute_result"
    }
   ],
   "source": [
    "orderlines['unit_price']"
   ]
  },
  {
   "cell_type": "code",
   "execution_count": 7,
   "id": "7aa69a8e-cd11-47dc-b293-ed4e05052055",
   "metadata": {
    "tags": []
   },
   "outputs": [
    {
     "name": "stdout",
     "output_type": "stream",
     "text": [
      "0         False\n",
      "1         False\n",
      "2         False\n",
      "3         False\n",
      "4         False\n",
      "          ...  \n",
      "293978    False\n",
      "293979    False\n",
      "293980    False\n",
      "293981    False\n",
      "293982    False\n",
      "Name: unit_price, Length: 293983, dtype: bool\n"
     ]
    }
   ],
   "source": [
    "print(orderlines.unit_price.str.contains(\"\\d+\\.\\d+\\.\\d+\"))"
   ]
  },
  {
   "cell_type": "markdown",
   "id": "052b5ab3-d289-4ba8-948c-342b7f660b9c",
   "metadata": {},
   "source": [
    "Check for prices with two dots."
   ]
  },
  {
   "cell_type": "code",
   "execution_count": 8,
   "id": "851f9d37-c81b-420d-a07a-c59696b50523",
   "metadata": {
    "tags": []
   },
   "outputs": [
    {
     "data": {
      "text/html": [
       "<div>\n",
       "<style scoped>\n",
       "    .dataframe tbody tr th:only-of-type {\n",
       "        vertical-align: middle;\n",
       "    }\n",
       "\n",
       "    .dataframe tbody tr th {\n",
       "        vertical-align: top;\n",
       "    }\n",
       "\n",
       "    .dataframe thead th {\n",
       "        text-align: right;\n",
       "    }\n",
       "</style>\n",
       "<table border=\"1\" class=\"dataframe\">\n",
       "  <thead>\n",
       "    <tr style=\"text-align: right;\">\n",
       "      <th></th>\n",
       "      <th>id_order</th>\n",
       "      <th>product_quantity</th>\n",
       "      <th>sku</th>\n",
       "      <th>unit_price</th>\n",
       "      <th>date</th>\n",
       "    </tr>\n",
       "  </thead>\n",
       "  <tbody>\n",
       "    <tr>\n",
       "      <th>6</th>\n",
       "      <td>299544</td>\n",
       "      <td>1</td>\n",
       "      <td>APP1582</td>\n",
       "      <td>1.137.99</td>\n",
       "      <td>2017-01-01 01:17:21</td>\n",
       "    </tr>\n",
       "    <tr>\n",
       "      <th>11</th>\n",
       "      <td>299549</td>\n",
       "      <td>1</td>\n",
       "      <td>PAC0929</td>\n",
       "      <td>2.565.99</td>\n",
       "      <td>2017-01-01 02:07:42</td>\n",
       "    </tr>\n",
       "    <tr>\n",
       "      <th>15</th>\n",
       "      <td>299553</td>\n",
       "      <td>1</td>\n",
       "      <td>APP1854</td>\n",
       "      <td>3.278.99</td>\n",
       "      <td>2017-01-01 02:14:47</td>\n",
       "    </tr>\n",
       "    <tr>\n",
       "      <th>43</th>\n",
       "      <td>299582</td>\n",
       "      <td>1</td>\n",
       "      <td>PAC0961</td>\n",
       "      <td>2.616.99</td>\n",
       "      <td>2017-01-01 08:54:00</td>\n",
       "    </tr>\n",
       "    <tr>\n",
       "      <th>59</th>\n",
       "      <td>299596</td>\n",
       "      <td>1</td>\n",
       "      <td>PAC1599</td>\n",
       "      <td>2.873.99</td>\n",
       "      <td>2017-01-01 09:53:11</td>\n",
       "    </tr>\n",
       "    <tr>\n",
       "      <th>...</th>\n",
       "      <td>...</td>\n",
       "      <td>...</td>\n",
       "      <td>...</td>\n",
       "      <td>...</td>\n",
       "      <td>...</td>\n",
       "    </tr>\n",
       "    <tr>\n",
       "      <th>293862</th>\n",
       "      <td>452946</td>\n",
       "      <td>1</td>\n",
       "      <td>APP2075</td>\n",
       "      <td>2.999.00</td>\n",
       "      <td>2018-03-14 13:03:33</td>\n",
       "    </tr>\n",
       "    <tr>\n",
       "      <th>293887</th>\n",
       "      <td>527321</td>\n",
       "      <td>1</td>\n",
       "      <td>PAC2148</td>\n",
       "      <td>3.497.00</td>\n",
       "      <td>2018-03-14 13:10:15</td>\n",
       "    </tr>\n",
       "    <tr>\n",
       "      <th>293889</th>\n",
       "      <td>527324</td>\n",
       "      <td>1</td>\n",
       "      <td>PAC2117</td>\n",
       "      <td>3.075.00</td>\n",
       "      <td>2018-03-14 13:10:56</td>\n",
       "    </tr>\n",
       "    <tr>\n",
       "      <th>293911</th>\n",
       "      <td>527342</td>\n",
       "      <td>1</td>\n",
       "      <td>APP2492</td>\n",
       "      <td>1.329.00</td>\n",
       "      <td>2018-03-14 13:24:51</td>\n",
       "    </tr>\n",
       "    <tr>\n",
       "      <th>293936</th>\n",
       "      <td>527364</td>\n",
       "      <td>1</td>\n",
       "      <td>APP2491</td>\n",
       "      <td>1.329.00</td>\n",
       "      <td>2018-03-14 13:36:13</td>\n",
       "    </tr>\n",
       "  </tbody>\n",
       "</table>\n",
       "<p>36169 rows × 5 columns</p>\n",
       "</div>"
      ],
      "text/plain": [
       "       id_order  product_quantity      sku unit_price                date\n",
       "6        299544                 1  APP1582   1.137.99 2017-01-01 01:17:21\n",
       "11       299549                 1  PAC0929   2.565.99 2017-01-01 02:07:42\n",
       "15       299553                 1  APP1854   3.278.99 2017-01-01 02:14:47\n",
       "43       299582                 1  PAC0961   2.616.99 2017-01-01 08:54:00\n",
       "59       299596                 1  PAC1599   2.873.99 2017-01-01 09:53:11\n",
       "...         ...               ...      ...        ...                 ...\n",
       "293862   452946                 1  APP2075   2.999.00 2018-03-14 13:03:33\n",
       "293887   527321                 1  PAC2148   3.497.00 2018-03-14 13:10:15\n",
       "293889   527324                 1  PAC2117   3.075.00 2018-03-14 13:10:56\n",
       "293911   527342                 1  APP2492   1.329.00 2018-03-14 13:24:51\n",
       "293936   527364                 1  APP2491   1.329.00 2018-03-14 13:36:13\n",
       "\n",
       "[36169 rows x 5 columns]"
      ]
     },
     "execution_count": 8,
     "metadata": {},
     "output_type": "execute_result"
    }
   ],
   "source": [
    "orderlines[orderlines['unit_price'].str.contains(\"\\d+\\.\\d+\\.\\d+\", na=False)]"
   ]
  },
  {
   "cell_type": "markdown",
   "id": "c667bf30-696e-4ea4-a04c-81c3b4f1b167",
   "metadata": {},
   "source": [
    "After checking the products table and seeing the prices, it is clear, that the format used here n.nnn.nn should be a price of nnnn,nn € or in us nnnn.nn $"
   ]
  },
  {
   "cell_type": "markdown",
   "id": "35a46e8a-0517-4936-8b03-d873338bd9c2",
   "metadata": {},
   "source": [
    "If I use comma: df['price'] = df['price'].str.replace('\\.', '', regex=False).str[:-2] + ',' + df['price'].str[-2:]"
   ]
  },
  {
   "cell_type": "code",
   "execution_count": 9,
   "id": "00799cdb-4b9b-473a-a043-6766ab0d401d",
   "metadata": {
    "tags": []
   },
   "outputs": [],
   "source": [
    "orderlines['unit_price'] = orderlines['unit_price'].str.replace('.', '', regex=False).str[:-2]+'.'+orderlines['unit_price'].str[-2:]"
   ]
  },
  {
   "cell_type": "code",
   "execution_count": 10,
   "id": "2672f7a7-a0db-4526-95fa-8ed85755465a",
   "metadata": {
    "tags": []
   },
   "outputs": [],
   "source": [
    "orderlines[\"unit_price\"] = pd.to_numeric(orderlines[\"unit_price\"])"
   ]
  },
  {
   "cell_type": "code",
   "execution_count": 11,
   "id": "c69362f5-e59f-440f-a809-2977db4d4ebd",
   "metadata": {
    "tags": []
   },
   "outputs": [
    {
     "data": {
      "text/plain": [
       "id_order                    object\n",
       "product_quantity             int64\n",
       "sku                         object\n",
       "unit_price                 float64\n",
       "date                datetime64[ns]\n",
       "dtype: object"
      ]
     },
     "execution_count": 11,
     "metadata": {},
     "output_type": "execute_result"
    }
   ],
   "source": [
    "orderlines.dtypes"
   ]
  },
  {
   "cell_type": "code",
   "execution_count": 12,
   "id": "a19b8ec4-b95a-4a24-8644-3193b3a28146",
   "metadata": {
    "tags": []
   },
   "outputs": [],
   "source": [
    "# orderlines = orderlines[orderlines['unit_price'] >= 0]"
   ]
  },
  {
   "cell_type": "code",
   "execution_count": 13,
   "id": "5965a2a0-0e25-49f6-941b-0d4c2455abcb",
   "metadata": {
    "tags": []
   },
   "outputs": [],
   "source": [
    "# orderlines.loc[orderlines['unit_price']<0]"
   ]
  },
  {
   "cell_type": "markdown",
   "id": "238651fb-0a0e-431f-b161-6cffadee2fd8",
   "metadata": {},
   "source": [
    "Dropped negative price values. Remeber there are many values, which are zero as well. Why is that, should they be dropped?"
   ]
  },
  {
   "cell_type": "markdown",
   "id": "9c08e320-3850-45d0-9f83-ad4eb4b822a0",
   "metadata": {},
   "source": [
    "## Export"
   ]
  },
  {
   "cell_type": "code",
   "execution_count": 14,
   "id": "c45807f0-4c19-4fdc-a335-52f58204d407",
   "metadata": {
    "tags": []
   },
   "outputs": [],
   "source": [
    "orderlines.to_csv('/Users/merlesteffen/Documents/GitHub/Eniac/Data-Eniac/Data_Cleaned/orderlines_clean.csv', index=False)"
   ]
  }
 ],
 "metadata": {
  "kernelspec": {
   "display_name": "Python 3 (ipykernel)",
   "language": "python",
   "name": "python3"
  },
  "language_info": {
   "codemirror_mode": {
    "name": "ipython",
    "version": 3
   },
   "file_extension": ".py",
   "mimetype": "text/x-python",
   "name": "python",
   "nbconvert_exporter": "python",
   "pygments_lexer": "ipython3",
   "version": "3.11.4"
  }
 },
 "nbformat": 4,
 "nbformat_minor": 5
}
