{
 "cells": [
  {
   "cell_type": "markdown",
   "id": "e89b2bd3-a316-4d91-9776-bb889eab7c43",
   "metadata": {},
   "source": [
    "# Eniac"
   ]
  },
  {
   "cell_type": "markdown",
   "id": "c57afee8-7d59-438d-8bcd-52aa9a7205d3",
   "metadata": {},
   "source": [
    "## 1.Importing Data"
   ]
  },
  {
   "cell_type": "markdown",
   "id": "0211823c-3bf9-4499-aa3a-45bf7b73ba49",
   "metadata": {},
   "source": [
    "Turning them into a dictionary of dataframes."
   ]
  },
  {
   "cell_type": "code",
   "execution_count": 1,
   "id": "777e1675-a39f-4d07-8a98-7b25c50ccfa0",
   "metadata": {
    "tags": []
   },
   "outputs": [],
   "source": [
    "import pandas as pd\n",
    "import numpy as np\n",
    "import seaborn as sns\n",
    "import matplotlib.pylab as plt\n",
    "import matplotlib.dates as mdates\n",
    "\n",
    "orders_url = \"https://raw.githubusercontent.com/MerleSt/Eniac/main/Data-Eniac/Data_Cleaned/orders_clean.parquet\"\n",
    "orderlines_url = \"https://raw.githubusercontent.com/MerleSt/Eniac/main/Data-Eniac/Data_Cleaned/orderlines_clean.parquet\"\n",
    "products_url = \"https://raw.githubusercontent.com/MerleSt/Eniac/main/Data-Eniac/Data_Cleaned/products_clean.parquet\"\n",
    "brands_url = \"https://raw.githubusercontent.com/MerleSt/Eniac/main/Data-Eniac/Data_Cleaned/brands_clean.parquet\"\n",
    "\n",
    "# Loading dataframes directly from GitHub\n",
    "orders_df = pd.read_parquet(orders_url)\n",
    "orderlines_df = pd.read_parquet(orderlines_url)\n",
    "products_df = pd.read_parquet(products_url)\n",
    "brands_df = pd.read_parquet(brands_url)\n",
    "\n",
    "orders = orders_df.copy()\n",
    "orderlines = orderlines_df.copy()\n",
    "products = products_df.copy()\n",
    "brands = brands_df.copy()"
   ]
  },
  {
   "cell_type": "markdown",
   "id": "0496842a-df3b-42f2-b677-821936b7cf09",
   "metadata": {},
   "source": [
    "Set Display Formats of Pandas"
   ]
  },
  {
   "cell_type": "code",
   "execution_count": 2,
   "id": "f697b187-27dc-42aa-93dc-608246c25a80",
   "metadata": {},
   "outputs": [],
   "source": [
    "pd.set_option('display.float_format', lambda x: '%.2f' % x)\n",
    "pd.set_option('display.max_columns', 200)"
   ]
  },
  {
   "cell_type": "markdown",
   "id": "06a435fe-fa82-44b8-9cfb-aaa157a146b0",
   "metadata": {},
   "source": [
    "## 2. Data Integration"
   ]
  },
  {
   "cell_type": "markdown",
   "id": "46910e7b-b5b0-4c43-bd68-70e11d37ccc7",
   "metadata": {},
   "source": [
    "### 2.1 Mergers and logical combinations"
   ]
  },
  {
   "cell_type": "code",
   "execution_count": 3,
   "id": "60875c89-68ec-4cc8-a898-16e3bf1d89db",
   "metadata": {
    "tags": []
   },
   "outputs": [],
   "source": [
    "# Rename column to match with orders (better readability)\n",
    "orderlines.rename(columns={'id_order': 'order_id'}, inplace=True)\n",
    "orderlines['short'] = orderlines['sku'].str[:3]"
   ]
  },
  {
   "cell_type": "code",
   "execution_count": 4,
   "id": "637568a3-ba4d-4f14-9d32-300d436309af",
   "metadata": {
    "tags": []
   },
   "outputs": [],
   "source": [
    "oo = orders.merge(orderlines, on='order_id', how='left')\n",
    "boo = oo.merge(brands, on='short', how='right')"
   ]
  },
  {
   "cell_type": "markdown",
   "id": "60ccc89d-7025-408e-9b2d-17b88eb14d58",
   "metadata": {},
   "source": [
    "Delete oders where there is one or more products, which are not identified. \n",
    "1.make a list of all known products (products table). Go into the orders, orderlines, brands table and exclude orders whose id is not in that list. Lastly merge the products table onto the boo table."
   ]
  },
  {
   "cell_type": "code",
   "execution_count": 5,
   "id": "b6f1e47e-2bf4-4630-9279-1b09351f0716",
   "metadata": {
    "tags": []
   },
   "outputs": [],
   "source": [
    "known_products = products['sku']\n",
    "orders_with_unknown_products = boo.loc[~boo.sku.isin(known_products), \"order_id\"]\n",
    "boo = boo.loc[~boo[\"order_id\"].isin(orders_with_unknown_products), :]\n",
    "df = boo.merge(products, on ='sku', how='left')"
   ]
  },
  {
   "cell_type": "markdown",
   "id": "bde8ab68-1534-42cd-b4b2-5775f4e4e11c",
   "metadata": {},
   "source": [
    "### 2.2 Create new columns"
   ]
  },
  {
   "cell_type": "markdown",
   "id": "f99089d0-a8ad-4faa-8cd7-12535241c7b1",
   "metadata": {},
   "source": [
    "#### 2.2.1 Boolean Promotion and Promo_price"
   ]
  },
  {
   "cell_type": "markdown",
   "id": "219003e4-e26f-47ea-ab7a-932be6dcd632",
   "metadata": {},
   "source": [
    "Create a boolean condition which is true when a promotion was applied on the price."
   ]
  },
  {
   "cell_type": "code",
   "execution_count": 6,
   "id": "26fa702d-66ee-402d-896b-bc2d44f3214e",
   "metadata": {
    "tags": []
   },
   "outputs": [
    {
     "data": {
      "text/html": [
       "<div>\n",
       "<style scoped>\n",
       "    .dataframe tbody tr th:only-of-type {\n",
       "        vertical-align: middle;\n",
       "    }\n",
       "\n",
       "    .dataframe tbody tr th {\n",
       "        vertical-align: top;\n",
       "    }\n",
       "\n",
       "    .dataframe thead th {\n",
       "        text-align: right;\n",
       "    }\n",
       "</style>\n",
       "<table border=\"1\" class=\"dataframe\">\n",
       "  <thead>\n",
       "    <tr style=\"text-align: right;\">\n",
       "      <th></th>\n",
       "      <th>promo_price</th>\n",
       "      <th>price_promotion</th>\n",
       "      <th>price</th>\n",
       "    </tr>\n",
       "  </thead>\n",
       "  <tbody>\n",
       "    <tr>\n",
       "      <th>0</th>\n",
       "      <td>23.99</td>\n",
       "      <td>True</td>\n",
       "      <td>35.00</td>\n",
       "    </tr>\n",
       "    <tr>\n",
       "      <th>1</th>\n",
       "      <td>23.99</td>\n",
       "      <td>True</td>\n",
       "      <td>35.00</td>\n",
       "    </tr>\n",
       "    <tr>\n",
       "      <th>2</th>\n",
       "      <td>23.99</td>\n",
       "      <td>True</td>\n",
       "      <td>35.00</td>\n",
       "    </tr>\n",
       "    <tr>\n",
       "      <th>3</th>\n",
       "      <td>23.99</td>\n",
       "      <td>True</td>\n",
       "      <td>35.00</td>\n",
       "    </tr>\n",
       "    <tr>\n",
       "      <th>4</th>\n",
       "      <td>23.99</td>\n",
       "      <td>True</td>\n",
       "      <td>35.00</td>\n",
       "    </tr>\n",
       "  </tbody>\n",
       "</table>\n",
       "</div>"
      ],
      "text/plain": [
       "   promo_price  price_promotion  price\n",
       "0        23.99             True  35.00\n",
       "1        23.99             True  35.00\n",
       "2        23.99             True  35.00\n",
       "3        23.99             True  35.00\n",
       "4        23.99             True  35.00"
      ]
     },
     "execution_count": 6,
     "metadata": {},
     "output_type": "execute_result"
    }
   ],
   "source": [
    "df['price_promotion'] = df['unit_price'] < df['price']\n",
    "df['promo_price'] = df.apply(lambda row: row['unit_price'] if row['price_promotion'] else np.nan, axis=1)\n",
    "df[['promo_price','price_promotion', 'price']].head()"
   ]
  },
  {
   "cell_type": "markdown",
   "id": "ac4f8e31-1c3a-48a5-ac3b-9407fa75c67a",
   "metadata": {},
   "source": [
    "#### 2.2.2 order_price"
   ]
  },
  {
   "cell_type": "markdown",
   "id": "6b42d62e-d4d6-46e6-a66c-d1ddf848b967",
   "metadata": {},
   "source": [
    "Use this price to compare to the total paid, to infer knowledge about shipping costs etc."
   ]
  },
  {
   "cell_type": "code",
   "execution_count": 7,
   "id": "ae131d2f-e73c-4434-b9cf-674aa4afaf07",
   "metadata": {
    "tags": []
   },
   "outputs": [],
   "source": [
    "df['unit_price_total'] = df['product_quantity'] * df['unit_price']\n",
    "order_total_price = df.groupby('order_id')['unit_price_total'].sum().reset_index()\n",
    "order_total_price.rename(columns={'unit_price_total': 'order_price'}, inplace=True)\n",
    "df = df.merge(order_total_price, on='order_id')"
   ]
  },
  {
   "cell_type": "markdown",
   "id": "51e472c7-145a-4c58-8455-43b48f4f7fc9",
   "metadata": {},
   "source": [
    "#### 2.2.3 Orders with at least one promotional item"
   ]
  },
  {
   "cell_type": "code",
   "execution_count": 8,
   "id": "fa7b25cd-2b85-49df-bca7-a05f3946ea23",
   "metadata": {
    "tags": []
   },
   "outputs": [
    {
     "data": {
      "text/plain": [
       "True     262211\n",
       "False     15415\n",
       "Name: order_inc_promo, dtype: int64"
      ]
     },
     "execution_count": 8,
     "metadata": {},
     "output_type": "execute_result"
    }
   ],
   "source": [
    "df['order_inc_promo'] = df.groupby('order_id')['price_promotion'].transform('any')\n",
    "df['order_inc_promo'].value_counts()"
   ]
  },
  {
   "cell_type": "markdown",
   "id": "bac3ba6e-4fe2-47d8-838f-1c7d9a2faf7d",
   "metadata": {},
   "source": [
    "#### 2.2.4 Difference between total_paid and order_price"
   ]
  },
  {
   "cell_type": "markdown",
   "id": "89e08613-f0cb-42e3-95c9-3cc9d372c35b",
   "metadata": {},
   "source": [
    "Look at the difference between what was paid and what the products inside the order combined cost. Do this only for completed orders. This might give us insight about promotions on the entire order (10% on your entire oder) or shipping costs. We can also exclude outliers from this, since there might be some corrupted data."
   ]
  },
  {
   "cell_type": "code",
   "execution_count": 9,
   "id": "4da7f901-2af1-46d6-8387-abd8431a028a",
   "metadata": {
    "tags": []
   },
   "outputs": [],
   "source": [
    "df['diff_paid_totalprice'] = np.where(df['state'] == 'Completed', \n",
    "                                     df['total_paid'] - df['order_price'], \n",
    "                                     np.nan)"
   ]
  },
  {
   "cell_type": "markdown",
   "id": "1b4c65f9-fcdd-473d-bdce-008c07e3f0ba",
   "metadata": {},
   "source": [
    "#### 2.2.5 Promotion Percentage per Product"
   ]
  },
  {
   "cell_type": "code",
   "execution_count": 10,
   "id": "ffcfc19f-c772-438c-8781-237d4a430b72",
   "metadata": {
    "tags": []
   },
   "outputs": [],
   "source": [
    "df['promo_perc'] = (1-(df['unit_price']/df['price']))"
   ]
  },
  {
   "cell_type": "markdown",
   "id": "8227368b-4e83-4f18-b801-977d5d50ebb0",
   "metadata": {},
   "source": [
    "#### 2.2.6 More date types to access"
   ]
  },
  {
   "cell_type": "code",
   "execution_count": 11,
   "id": "f01a29ff-6e89-4bf5-987e-3efed2ae35c5",
   "metadata": {
    "tags": []
   },
   "outputs": [],
   "source": [
    "df[['year', 'week', 'day']]= df['created_date'].dt.isocalendar()\n",
    "# Extract month and quarter\n",
    "df['month'] = df['created_date'].dt.month\n",
    "df['quarter'] = df['created_date'].dt.quarter"
   ]
  },
  {
   "cell_type": "markdown",
   "id": "081f26d2-5835-40e5-b8bf-e1979486edb1",
   "metadata": {},
   "source": [
    "#### 2.2.6 Price categories"
   ]
  },
  {
   "cell_type": "code",
   "execution_count": 12,
   "id": "8d24babd-90d1-4da7-b66b-998d20ecf27a",
   "metadata": {
    "tags": []
   },
   "outputs": [
    {
     "data": {
      "text/html": [
       "<div>\n",
       "<style scoped>\n",
       "    .dataframe tbody tr th:only-of-type {\n",
       "        vertical-align: middle;\n",
       "    }\n",
       "\n",
       "    .dataframe tbody tr th {\n",
       "        vertical-align: top;\n",
       "    }\n",
       "\n",
       "    .dataframe thead th {\n",
       "        text-align: right;\n",
       "    }\n",
       "</style>\n",
       "<table border=\"1\" class=\"dataframe\">\n",
       "  <thead>\n",
       "    <tr style=\"text-align: right;\">\n",
       "      <th></th>\n",
       "      <th>price_category</th>\n",
       "      <th>unit_price</th>\n",
       "    </tr>\n",
       "  </thead>\n",
       "  <tbody>\n",
       "    <tr>\n",
       "      <th>118478</th>\n",
       "      <td>0-30</td>\n",
       "      <td>16.99</td>\n",
       "    </tr>\n",
       "    <tr>\n",
       "      <th>166890</th>\n",
       "      <td>0-30</td>\n",
       "      <td>17.99</td>\n",
       "    </tr>\n",
       "    <tr>\n",
       "      <th>269250</th>\n",
       "      <td>100-200</td>\n",
       "      <td>189.99</td>\n",
       "    </tr>\n",
       "    <tr>\n",
       "      <th>42011</th>\n",
       "      <td>500-1500</td>\n",
       "      <td>807.33</td>\n",
       "    </tr>\n",
       "    <tr>\n",
       "      <th>118295</th>\n",
       "      <td>30-50</td>\n",
       "      <td>42.00</td>\n",
       "    </tr>\n",
       "    <tr>\n",
       "      <th>71968</th>\n",
       "      <td>500-1500</td>\n",
       "      <td>1067.00</td>\n",
       "    </tr>\n",
       "    <tr>\n",
       "      <th>3750</th>\n",
       "      <td>500-1500</td>\n",
       "      <td>909.00</td>\n",
       "    </tr>\n",
       "    <tr>\n",
       "      <th>227841</th>\n",
       "      <td>100-200</td>\n",
       "      <td>125.99</td>\n",
       "    </tr>\n",
       "    <tr>\n",
       "      <th>223883</th>\n",
       "      <td></td>\n",
       "      <td>2734.59</td>\n",
       "    </tr>\n",
       "    <tr>\n",
       "      <th>109284</th>\n",
       "      <td>500-1500</td>\n",
       "      <td>1055.00</td>\n",
       "    </tr>\n",
       "  </tbody>\n",
       "</table>\n",
       "</div>"
      ],
      "text/plain": [
       "       price_category  unit_price\n",
       "118478           0-30       16.99\n",
       "166890           0-30       17.99\n",
       "269250        100-200      189.99\n",
       "42011        500-1500      807.33\n",
       "118295          30-50       42.00\n",
       "71968        500-1500     1067.00\n",
       "3750         500-1500      909.00\n",
       "227841        100-200      125.99\n",
       "223883                    2734.59\n",
       "109284       500-1500     1055.00"
      ]
     },
     "execution_count": 12,
     "metadata": {},
     "output_type": "execute_result"
    }
   ],
   "source": [
    "df['price_category'] = ''\n",
    "\n",
    "df.loc[(df.unit_price <= 30), 'price_category']  = '0-30'\n",
    "\n",
    "df.loc[(df.unit_price  > 30) & (df.unit_price  <= 50), 'price_category']  = '30-50'\n",
    "df.loc[(df.unit_price  > 50) & (df.unit_price  <= 100), 'price_category']  = '50-100'\n",
    "df.loc[(df.unit_price  > 100) & (df.unit_price  <= 200), 'price_category']  = '100-200'\n",
    "df.loc[(df.unit_price  > 200) & (df.unit_price  <= 500), 'price_category']  = '200-500'\n",
    "df.loc[(df.unit_price  > 500) & (df.unit_price  <= 1500), 'price_category']  = '500-1500'\n",
    "\n",
    "df[['price_category', 'unit_price']].sample(10)"
   ]
  },
  {
   "cell_type": "markdown",
   "id": "341e19d4-070c-4efe-97ce-5287be5a221f",
   "metadata": {},
   "source": [
    "### 2.3 Outliers"
   ]
  },
  {
   "cell_type": "markdown",
   "id": "cb30f211-343e-4339-857a-ee880ca68c40",
   "metadata": {},
   "source": [
    "When checking the unit_price, price and total_paid there might be statistically some outliers, but some products are extremely expensive and therefore, should still be utilised. Howeever, there can be some outliers in the difference between what was paid and the value of that order. These should be excluded, since they can show corrupted data. Let's do this here."
   ]
  },
  {
   "cell_type": "markdown",
   "id": "fcf54734-8857-4219-98b5-0394e6d830bf",
   "metadata": {},
   "source": [
    "#### 2.3.1 Unit_price "
   ]
  },
  {
   "cell_type": "markdown",
   "id": "a35d9afe-8b76-4514-b30b-e738471b500d",
   "metadata": {},
   "source": [
    "Let me check the unit_price, the total_paid and the order_price and remove outliers. In the step below I deleted negative prices. Here I want to confine our dataframe into prices that are normal/ usable for promotions. "
   ]
  },
  {
   "cell_type": "code",
   "execution_count": 13,
   "id": "c32c44fa-c4b5-4d42-9407-111994d6eb9d",
   "metadata": {
    "tags": []
   },
   "outputs": [
    {
     "data": {
      "image/png": "[encoded data removed]",
      "text/plain": [
       "<Figure size 500x300 with 1 Axes>"
      ]
     },
     "metadata": {},
     "output_type": "display_data"
    }
   ],
   "source": [
    "plt.figure(figsize=(5,3))\n",
    "sns.boxplot(x=df['unit_price'])\n",
    "plt.title('Boxplot of Product Price')\n",
    "plt.xlabel('Product Price')\n",
    "plt.show()"
   ]
  },
  {
   "cell_type": "code",
   "execution_count": 14,
   "id": "41fa8996-4dbb-464b-9c89-eb8763667849",
   "metadata": {
    "tags": []
   },
   "outputs": [
    {
     "name": "stdout",
     "output_type": "stream",
     "text": [
      "41074\n",
      "0.14794723837104595\n"
     ]
    },
    {
     "data": {
      "text/html": [
       "<div>\n",
       "<style scoped>\n",
       "    .dataframe tbody tr th:only-of-type {\n",
       "        vertical-align: middle;\n",
       "    }\n",
       "\n",
       "    .dataframe tbody tr th {\n",
       "        vertical-align: top;\n",
       "    }\n",
       "\n",
       "    .dataframe thead th {\n",
       "        text-align: right;\n",
       "    }\n",
       "</style>\n",
       "<table border=\"1\" class=\"dataframe\">\n",
       "  <thead>\n",
       "    <tr style=\"text-align: right;\">\n",
       "      <th></th>\n",
       "      <th>order_id</th>\n",
       "      <th>created_date</th>\n",
       "      <th>total_paid</th>\n",
       "      <th>state</th>\n",
       "      <th>product_quantity</th>\n",
       "      <th>sku</th>\n",
       "      <th>unit_price</th>\n",
       "      <th>date</th>\n",
       "      <th>short</th>\n",
       "      <th>long</th>\n",
       "      <th>name</th>\n",
       "      <th>desc</th>\n",
       "      <th>price</th>\n",
       "      <th>in_stock</th>\n",
       "      <th>type</th>\n",
       "      <th>price_promotion</th>\n",
       "      <th>promo_price</th>\n",
       "      <th>unit_price_total</th>\n",
       "      <th>order_price</th>\n",
       "      <th>order_inc_promo</th>\n",
       "      <th>diff_paid_totalprice</th>\n",
       "      <th>promo_perc</th>\n",
       "      <th>year</th>\n",
       "      <th>week</th>\n",
       "      <th>day</th>\n",
       "      <th>month</th>\n",
       "      <th>quarter</th>\n",
       "      <th>price_category</th>\n",
       "    </tr>\n",
       "  </thead>\n",
       "  <tbody>\n",
       "    <tr>\n",
       "      <th>46694</th>\n",
       "      <td>417089</td>\n",
       "      <td>2017-10-24 22:56:13</td>\n",
       "      <td>793.66</td>\n",
       "      <td>Shopping Basket</td>\n",
       "      <td>1.00</td>\n",
       "      <td>APP2480</td>\n",
       "      <td>793.66</td>\n",
       "      <td>2017-10-24 22:56:13</td>\n",
       "      <td>APP</td>\n",
       "      <td>Apple</td>\n",
       "      <td>Apple iPhone 8 256GB Space Gray</td>\n",
       "      <td>256GB Apple iPhone 8 Color Space Gray</td>\n",
       "      <td>979.00</td>\n",
       "      <td>False</td>\n",
       "      <td>113291716</td>\n",
       "      <td>True</td>\n",
       "      <td>793.66</td>\n",
       "      <td>793.66</td>\n",
       "      <td>793.66</td>\n",
       "      <td>True</td>\n",
       "      <td>NaN</td>\n",
       "      <td>0.19</td>\n",
       "      <td>2017</td>\n",
       "      <td>43</td>\n",
       "      <td>2</td>\n",
       "      <td>10</td>\n",
       "      <td>4</td>\n",
       "      <td>500-1500</td>\n",
       "    </tr>\n",
       "    <tr>\n",
       "      <th>47123</th>\n",
       "      <td>417781</td>\n",
       "      <td>2017-10-25 21:19:00</td>\n",
       "      <td>793.66</td>\n",
       "      <td>Shopping Basket</td>\n",
       "      <td>1.00</td>\n",
       "      <td>APP2481</td>\n",
       "      <td>793.66</td>\n",
       "      <td>2017-10-25 21:19:00</td>\n",
       "      <td>APP</td>\n",
       "      <td>Apple</td>\n",
       "      <td>Apple iPhone 8 256GB Silver</td>\n",
       "      <td>256GB Apple iPhone 8 in Silver</td>\n",
       "      <td>979.00</td>\n",
       "      <td>False</td>\n",
       "      <td>113291716</td>\n",
       "      <td>True</td>\n",
       "      <td>793.66</td>\n",
       "      <td>793.66</td>\n",
       "      <td>793.66</td>\n",
       "      <td>True</td>\n",
       "      <td>NaN</td>\n",
       "      <td>0.19</td>\n",
       "      <td>2017</td>\n",
       "      <td>43</td>\n",
       "      <td>3</td>\n",
       "      <td>10</td>\n",
       "      <td>4</td>\n",
       "      <td>500-1500</td>\n",
       "    </tr>\n",
       "    <tr>\n",
       "      <th>221192</th>\n",
       "      <td>347202</td>\n",
       "      <td>2017-04-18 20:44:21</td>\n",
       "      <td>793.99</td>\n",
       "      <td>Shopping Basket</td>\n",
       "      <td>1.00</td>\n",
       "      <td>PAC1866</td>\n",
       "      <td>793.99</td>\n",
       "      <td>2017-04-18 20:44:21</td>\n",
       "      <td>PAC</td>\n",
       "      <td>Pack</td>\n",
       "      <td>Synology DS416play | 8TB (4x2TB) WD Red</td>\n",
       "      <td>8TB NAS capacity (4x2TB) WD Red hard drives fo...</td>\n",
       "      <td>830.99</td>\n",
       "      <td>False</td>\n",
       "      <td>12175397</td>\n",
       "      <td>True</td>\n",
       "      <td>793.99</td>\n",
       "      <td>793.99</td>\n",
       "      <td>793.99</td>\n",
       "      <td>True</td>\n",
       "      <td>NaN</td>\n",
       "      <td>0.04</td>\n",
       "      <td>2017</td>\n",
       "      <td>16</td>\n",
       "      <td>2</td>\n",
       "      <td>4</td>\n",
       "      <td>2</td>\n",
       "      <td>500-1500</td>\n",
       "    </tr>\n",
       "    <tr>\n",
       "      <th>184930</th>\n",
       "      <td>521836</td>\n",
       "      <td>2018-03-05 19:58:49</td>\n",
       "      <td>1201.98</td>\n",
       "      <td>Completed</td>\n",
       "      <td>1.00</td>\n",
       "      <td>LAC0211</td>\n",
       "      <td>794.99</td>\n",
       "      <td>2018-03-05 18:54:19</td>\n",
       "      <td>LAC</td>\n",
       "      <td>LaCie</td>\n",
       "      <td>16TB LaCie 2big Thunderbolt 2</td>\n",
       "      <td>RAID 16TB double disc box designed to work 24x...</td>\n",
       "      <td>989.00</td>\n",
       "      <td>False</td>\n",
       "      <td>11935397</td>\n",
       "      <td>True</td>\n",
       "      <td>794.99</td>\n",
       "      <td>794.99</td>\n",
       "      <td>1194.98</td>\n",
       "      <td>True</td>\n",
       "      <td>7.00</td>\n",
       "      <td>0.20</td>\n",
       "      <td>2018</td>\n",
       "      <td>10</td>\n",
       "      <td>1</td>\n",
       "      <td>3</td>\n",
       "      <td>1</td>\n",
       "      <td>500-1500</td>\n",
       "    </tr>\n",
       "    <tr>\n",
       "      <th>32607</th>\n",
       "      <td>380521</td>\n",
       "      <td>2017-07-21 18:20:39</td>\n",
       "      <td>795.00</td>\n",
       "      <td>Completed</td>\n",
       "      <td>1.00</td>\n",
       "      <td>APP2124</td>\n",
       "      <td>795.00</td>\n",
       "      <td>2017-07-21 18:01:00</td>\n",
       "      <td>APP</td>\n",
       "      <td>Apple</td>\n",
       "      <td>Apple iPad Pro 10.5 \"WiFi 256GB Silver</td>\n",
       "      <td>New iPad Pro 256GB Wi-Fi</td>\n",
       "      <td>899.00</td>\n",
       "      <td>False</td>\n",
       "      <td>106431714</td>\n",
       "      <td>True</td>\n",
       "      <td>795.00</td>\n",
       "      <td>795.00</td>\n",
       "      <td>795.00</td>\n",
       "      <td>True</td>\n",
       "      <td>0.00</td>\n",
       "      <td>0.12</td>\n",
       "      <td>2017</td>\n",
       "      <td>29</td>\n",
       "      <td>5</td>\n",
       "      <td>7</td>\n",
       "      <td>3</td>\n",
       "      <td>500-1500</td>\n",
       "    </tr>\n",
       "  </tbody>\n",
       "</table>\n",
       "</div>"
      ],
      "text/plain": [
       "       order_id        created_date  total_paid            state  \\\n",
       "46694    417089 2017-10-24 22:56:13      793.66  Shopping Basket   \n",
       "47123    417781 2017-10-25 21:19:00      793.66  Shopping Basket   \n",
       "221192   347202 2017-04-18 20:44:21      793.99  Shopping Basket   \n",
       "184930   521836 2018-03-05 19:58:49     1201.98        Completed   \n",
       "32607    380521 2017-07-21 18:20:39      795.00        Completed   \n",
       "\n",
       "        product_quantity      sku  unit_price                date short  \\\n",
       "46694               1.00  APP2480      793.66 2017-10-24 22:56:13   APP   \n",
       "47123               1.00  APP2481      793.66 2017-10-25 21:19:00   APP   \n",
       "221192              1.00  PAC1866      793.99 2017-04-18 20:44:21   PAC   \n",
       "184930              1.00  LAC0211      794.99 2018-03-05 18:54:19   LAC   \n",
       "32607               1.00  APP2124      795.00 2017-07-21 18:01:00   APP   \n",
       "\n",
       "         long                                     name  \\\n",
       "46694   Apple          Apple iPhone 8 256GB Space Gray   \n",
       "47123   Apple              Apple iPhone 8 256GB Silver   \n",
       "221192   Pack  Synology DS416play | 8TB (4x2TB) WD Red   \n",
       "184930  LaCie            16TB LaCie 2big Thunderbolt 2   \n",
       "32607   Apple   Apple iPad Pro 10.5 \"WiFi 256GB Silver   \n",
       "\n",
       "                                                     desc  price  in_stock  \\\n",
       "46694               256GB Apple iPhone 8 Color Space Gray 979.00     False   \n",
       "47123                      256GB Apple iPhone 8 in Silver 979.00     False   \n",
       "221192  8TB NAS capacity (4x2TB) WD Red hard drives fo... 830.99     False   \n",
       "184930  RAID 16TB double disc box designed to work 24x... 989.00     False   \n",
       "32607                            New iPad Pro 256GB Wi-Fi 899.00     False   \n",
       "\n",
       "             type  price_promotion  promo_price  unit_price_total  \\\n",
       "46694   113291716             True       793.66            793.66   \n",
       "47123   113291716             True       793.66            793.66   \n",
       "221192   12175397             True       793.99            793.99   \n",
       "184930   11935397             True       794.99            794.99   \n",
       "32607   106431714             True       795.00            795.00   \n",
       "\n",
       "        order_price  order_inc_promo  diff_paid_totalprice  promo_perc  year  \\\n",
       "46694        793.66             True                   NaN        0.19  2017   \n",
       "47123        793.66             True                   NaN        0.19  2017   \n",
       "221192       793.99             True                   NaN        0.04  2017   \n",
       "184930      1194.98             True                  7.00        0.20  2018   \n",
       "32607        795.00             True                  0.00        0.12  2017   \n",
       "\n",
       "        week  day  month  quarter price_category  \n",
       "46694     43    2     10        4       500-1500  \n",
       "47123     43    3     10        4       500-1500  \n",
       "221192    16    2      4        2       500-1500  \n",
       "184930    10    1      3        1       500-1500  \n",
       "32607     29    5      7        3       500-1500  "
      ]
     },
     "execution_count": 14,
     "metadata": {},
     "output_type": "execute_result"
    }
   ],
   "source": [
    "Q1 = df['unit_price'].quantile(0.25)\n",
    "Q3 = df['unit_price'].quantile(0.75)\n",
    "IQR = Q3 - Q1\n",
    "\n",
    "# Define bounds\n",
    "lower_bound = Q1 - 1.5 * IQR\n",
    "upper_bound = Q3 + 1.5 * IQR\n",
    "\n",
    "# Filter outliers\n",
    "outliers = df[(df['unit_price'] < lower_bound) | (df['unit_price'] > upper_bound)]\n",
    "print(outliers['unit_price'].count())\n",
    "proportion_outliers = outliers['unit_price'].count() / df.shape[0]\n",
    "print(proportion_outliers)\n",
    "outliers.sort_values('unit_price', ascending=True).head()"
   ]
  },
  {
   "cell_type": "markdown",
   "id": "115b15e8-873d-40fa-83b1-4e74ab6dd536",
   "metadata": {},
   "source": [
    "After closer inspection, we decided to exclude Unit_prices above 10000€ for now."
   ]
  },
  {
   "cell_type": "code",
   "execution_count": 15,
   "id": "90781b9d-da70-4c99-b59d-0f356744357d",
   "metadata": {
    "tags": []
   },
   "outputs": [],
   "source": [
    "df = df.loc[df['unit_price']<10000].copy()"
   ]
  },
  {
   "cell_type": "markdown",
   "id": "81b788fe-390c-4688-84dd-1a06dbe0940d",
   "metadata": {},
   "source": [
    "#### 2.3.2 total_paid"
   ]
  },
  {
   "cell_type": "code",
   "execution_count": 16,
   "id": "9a7f0e18-f396-483c-9b85-8c67772f5efa",
   "metadata": {
    "tags": []
   },
   "outputs": [
    {
     "data": {
      "image/png": "[encoded data removed]",
      "text/plain": [
       "<Figure size 500x300 with 1 Axes>"
      ]
     },
     "metadata": {},
     "output_type": "display_data"
    }
   ],
   "source": [
    "plt.figure(figsize=(5,3))\n",
    "sns.boxplot(x=df['total_paid'])\n",
    "plt.title('Boxplot of Total Price Paid')\n",
    "plt.xlabel('Price Paid')\n",
    "plt.show()"
   ]
  },
  {
   "cell_type": "code",
   "execution_count": 17,
   "id": "ecb298cc-1e76-4e9f-8dfc-0cbef0367874",
   "metadata": {
    "tags": []
   },
   "outputs": [
    {
     "name": "stdout",
     "output_type": "stream",
     "text": [
      "26969\n",
      "0.09715197625326014\n"
     ]
    },
    {
     "data": {
      "text/html": [
       "<div>\n",
       "<style scoped>\n",
       "    .dataframe tbody tr th:only-of-type {\n",
       "        vertical-align: middle;\n",
       "    }\n",
       "\n",
       "    .dataframe tbody tr th {\n",
       "        vertical-align: top;\n",
       "    }\n",
       "\n",
       "    .dataframe thead th {\n",
       "        text-align: right;\n",
       "    }\n",
       "</style>\n",
       "<table border=\"1\" class=\"dataframe\">\n",
       "  <thead>\n",
       "    <tr style=\"text-align: right;\">\n",
       "      <th></th>\n",
       "      <th>order_id</th>\n",
       "      <th>created_date</th>\n",
       "      <th>total_paid</th>\n",
       "      <th>state</th>\n",
       "      <th>product_quantity</th>\n",
       "      <th>sku</th>\n",
       "      <th>unit_price</th>\n",
       "      <th>date</th>\n",
       "      <th>short</th>\n",
       "      <th>long</th>\n",
       "      <th>name</th>\n",
       "      <th>desc</th>\n",
       "      <th>price</th>\n",
       "      <th>in_stock</th>\n",
       "      <th>type</th>\n",
       "      <th>price_promotion</th>\n",
       "      <th>promo_price</th>\n",
       "      <th>unit_price_total</th>\n",
       "      <th>order_price</th>\n",
       "      <th>order_inc_promo</th>\n",
       "      <th>diff_paid_totalprice</th>\n",
       "      <th>promo_perc</th>\n",
       "      <th>year</th>\n",
       "      <th>week</th>\n",
       "      <th>day</th>\n",
       "      <th>month</th>\n",
       "      <th>quarter</th>\n",
       "      <th>price_category</th>\n",
       "    </tr>\n",
       "  </thead>\n",
       "  <tbody>\n",
       "    <tr>\n",
       "      <th>8016</th>\n",
       "      <td>301934</td>\n",
       "      <td>2017-01-03 19:27:13</td>\n",
       "      <td>214746.63</td>\n",
       "      <td>Shopping Basket</td>\n",
       "      <td>1.00</td>\n",
       "      <td>APP0023</td>\n",
       "      <td>59.00</td>\n",
       "      <td>2017-01-03 20:19:59</td>\n",
       "      <td>APP</td>\n",
       "      <td>Apple</td>\n",
       "      <td>Apple Mac Keyboard Keypad Spanish</td>\n",
       "      <td>USB ultrathin keyboard Apple Mac Spanish.</td>\n",
       "      <td>59.00</td>\n",
       "      <td>False</td>\n",
       "      <td>13855401</td>\n",
       "      <td>False</td>\n",
       "      <td>NaN</td>\n",
       "      <td>59.00</td>\n",
       "      <td>214746.64</td>\n",
       "      <td>True</td>\n",
       "      <td>NaN</td>\n",
       "      <td>0.00</td>\n",
       "      <td>2017</td>\n",
       "      <td>1</td>\n",
       "      <td>2</td>\n",
       "      <td>1</td>\n",
       "      <td>1</td>\n",
       "      <td>50-100</td>\n",
       "    </tr>\n",
       "    <tr>\n",
       "      <th>8009</th>\n",
       "      <td>301934</td>\n",
       "      <td>2017-01-03 19:27:13</td>\n",
       "      <td>214746.63</td>\n",
       "      <td>Shopping Basket</td>\n",
       "      <td>1.00</td>\n",
       "      <td>APP1629</td>\n",
       "      <td>179.00</td>\n",
       "      <td>2017-01-03 20:18:39</td>\n",
       "      <td>APP</td>\n",
       "      <td>Apple</td>\n",
       "      <td>Apple iPad Case Smart Keyboard Pro 12.9 \"</td>\n",
       "      <td>Cover with keyboard shortcuts and Spanish (dir...</td>\n",
       "      <td>189.00</td>\n",
       "      <td>False</td>\n",
       "      <td>12635403</td>\n",
       "      <td>True</td>\n",
       "      <td>179.00</td>\n",
       "      <td>179.00</td>\n",
       "      <td>214746.64</td>\n",
       "      <td>True</td>\n",
       "      <td>NaN</td>\n",
       "      <td>0.05</td>\n",
       "      <td>2017</td>\n",
       "      <td>1</td>\n",
       "      <td>2</td>\n",
       "      <td>1</td>\n",
       "      <td>1</td>\n",
       "      <td>100-200</td>\n",
       "    </tr>\n",
       "    <tr>\n",
       "      <th>8011</th>\n",
       "      <td>301934</td>\n",
       "      <td>2017-01-03 19:27:13</td>\n",
       "      <td>214746.63</td>\n",
       "      <td>Shopping Basket</td>\n",
       "      <td>1.00</td>\n",
       "      <td>APP0927</td>\n",
       "      <td>19.99</td>\n",
       "      <td>2017-01-03 20:18:56</td>\n",
       "      <td>APP</td>\n",
       "      <td>Apple</td>\n",
       "      <td>EarPods Apple Headphones with Remote and Mic (...</td>\n",
       "      <td>EarPods headphones Apple iPhone iPad and iPod ...</td>\n",
       "      <td>35.00</td>\n",
       "      <td>True</td>\n",
       "      <td>5384</td>\n",
       "      <td>True</td>\n",
       "      <td>19.99</td>\n",
       "      <td>19.99</td>\n",
       "      <td>214746.64</td>\n",
       "      <td>True</td>\n",
       "      <td>NaN</td>\n",
       "      <td>0.43</td>\n",
       "      <td>2017</td>\n",
       "      <td>1</td>\n",
       "      <td>2</td>\n",
       "      <td>1</td>\n",
       "      <td>1</td>\n",
       "      <td>0-30</td>\n",
       "    </tr>\n",
       "    <tr>\n",
       "      <th>8012</th>\n",
       "      <td>301934</td>\n",
       "      <td>2017-01-03 19:27:13</td>\n",
       "      <td>214746.63</td>\n",
       "      <td>Shopping Basket</td>\n",
       "      <td>1.00</td>\n",
       "      <td>APP0698</td>\n",
       "      <td>14.99</td>\n",
       "      <td>2017-01-03 20:18:59</td>\n",
       "      <td>APP</td>\n",
       "      <td>Apple</td>\n",
       "      <td>Apple Lightning Cable Connector to USB 1m Whit...</td>\n",
       "      <td>Apple Lightning USB Cable 1 meter to charge an...</td>\n",
       "      <td>25.00</td>\n",
       "      <td>True</td>\n",
       "      <td>1230</td>\n",
       "      <td>True</td>\n",
       "      <td>14.99</td>\n",
       "      <td>14.99</td>\n",
       "      <td>214746.64</td>\n",
       "      <td>True</td>\n",
       "      <td>NaN</td>\n",
       "      <td>0.40</td>\n",
       "      <td>2017</td>\n",
       "      <td>1</td>\n",
       "      <td>2</td>\n",
       "      <td>1</td>\n",
       "      <td>1</td>\n",
       "      <td>0-30</td>\n",
       "    </tr>\n",
       "    <tr>\n",
       "      <th>8013</th>\n",
       "      <td>301934</td>\n",
       "      <td>2017-01-03 19:27:13</td>\n",
       "      <td>214746.63</td>\n",
       "      <td>Shopping Basket</td>\n",
       "      <td>1.00</td>\n",
       "      <td>APP0703</td>\n",
       "      <td>72.99</td>\n",
       "      <td>2017-01-03 20:19:04</td>\n",
       "      <td>APP</td>\n",
       "      <td>Apple</td>\n",
       "      <td>85W MagSafe charger Apple MacBook Pro 15 \"/ 17...</td>\n",
       "      <td>Apple MagSafe Power Charger 85W MacBook Pro un...</td>\n",
       "      <td>89.00</td>\n",
       "      <td>True</td>\n",
       "      <td>13005399</td>\n",
       "      <td>True</td>\n",
       "      <td>72.99</td>\n",
       "      <td>72.99</td>\n",
       "      <td>214746.64</td>\n",
       "      <td>True</td>\n",
       "      <td>NaN</td>\n",
       "      <td>0.18</td>\n",
       "      <td>2017</td>\n",
       "      <td>1</td>\n",
       "      <td>2</td>\n",
       "      <td>1</td>\n",
       "      <td>1</td>\n",
       "      <td>50-100</td>\n",
       "    </tr>\n",
       "  </tbody>\n",
       "</table>\n",
       "</div>"
      ],
      "text/plain": [
       "     order_id        created_date  total_paid            state  \\\n",
       "8016   301934 2017-01-03 19:27:13   214746.63  Shopping Basket   \n",
       "8009   301934 2017-01-03 19:27:13   214746.63  Shopping Basket   \n",
       "8011   301934 2017-01-03 19:27:13   214746.63  Shopping Basket   \n",
       "8012   301934 2017-01-03 19:27:13   214746.63  Shopping Basket   \n",
       "8013   301934 2017-01-03 19:27:13   214746.63  Shopping Basket   \n",
       "\n",
       "      product_quantity      sku  unit_price                date short   long  \\\n",
       "8016              1.00  APP0023       59.00 2017-01-03 20:19:59   APP  Apple   \n",
       "8009              1.00  APP1629      179.00 2017-01-03 20:18:39   APP  Apple   \n",
       "8011              1.00  APP0927       19.99 2017-01-03 20:18:56   APP  Apple   \n",
       "8012              1.00  APP0698       14.99 2017-01-03 20:18:59   APP  Apple   \n",
       "8013              1.00  APP0703       72.99 2017-01-03 20:19:04   APP  Apple   \n",
       "\n",
       "                                                   name  \\\n",
       "8016                  Apple Mac Keyboard Keypad Spanish   \n",
       "8009          Apple iPad Case Smart Keyboard Pro 12.9 \"   \n",
       "8011  EarPods Apple Headphones with Remote and Mic (...   \n",
       "8012  Apple Lightning Cable Connector to USB 1m Whit...   \n",
       "8013  85W MagSafe charger Apple MacBook Pro 15 \"/ 17...   \n",
       "\n",
       "                                                   desc  price  in_stock  \\\n",
       "8016          USB ultrathin keyboard Apple Mac Spanish.  59.00     False   \n",
       "8009  Cover with keyboard shortcuts and Spanish (dir... 189.00     False   \n",
       "8011  EarPods headphones Apple iPhone iPad and iPod ...  35.00      True   \n",
       "8012  Apple Lightning USB Cable 1 meter to charge an...  25.00      True   \n",
       "8013  Apple MagSafe Power Charger 85W MacBook Pro un...  89.00      True   \n",
       "\n",
       "          type  price_promotion  promo_price  unit_price_total  order_price  \\\n",
       "8016  13855401            False          NaN             59.00    214746.64   \n",
       "8009  12635403             True       179.00            179.00    214746.64   \n",
       "8011      5384             True        19.99             19.99    214746.64   \n",
       "8012      1230             True        14.99             14.99    214746.64   \n",
       "8013  13005399             True        72.99             72.99    214746.64   \n",
       "\n",
       "      order_inc_promo  diff_paid_totalprice  promo_perc  year  week  day  \\\n",
       "8016             True                   NaN        0.00  2017     1    2   \n",
       "8009             True                   NaN        0.05  2017     1    2   \n",
       "8011             True                   NaN        0.43  2017     1    2   \n",
       "8012             True                   NaN        0.40  2017     1    2   \n",
       "8013             True                   NaN        0.18  2017     1    2   \n",
       "\n",
       "      month  quarter price_category  \n",
       "8016      1        1         50-100  \n",
       "8009      1        1        100-200  \n",
       "8011      1        1           0-30  \n",
       "8012      1        1           0-30  \n",
       "8013      1        1         50-100  "
      ]
     },
     "execution_count": 17,
     "metadata": {},
     "output_type": "execute_result"
    }
   ],
   "source": [
    "Q1 = df['total_paid'].quantile(0.25)\n",
    "Q3 = df['total_paid'].quantile(0.75)\n",
    "IQR = Q3 - Q1\n",
    "\n",
    "# Define bounds\n",
    "lower_bound = Q1 - 1.5 * IQR\n",
    "upper_bound = Q3 + 1.5 * IQR\n",
    "\n",
    "# Filter outliers\n",
    "outliers = df[(df['total_paid'] < lower_bound) | (df['total_paid'] > upper_bound)]\n",
    "print(outliers['total_paid'].count())\n",
    "proportion_outliers = outliers['total_paid'].count() / df.shape[0]\n",
    "print(proportion_outliers)\n",
    "outliers.sort_values('total_paid', ascending=False).head()"
   ]
  },
  {
   "cell_type": "markdown",
   "id": "4a8c219a-9b16-448a-ac34-3cbd766316c3",
   "metadata": {},
   "source": [
    "When the unit_price we chose is 5000 euros, then we should include orders above that price, however, we do not need orders of 250 000 Euros. "
   ]
  },
  {
   "cell_type": "code",
   "execution_count": 18,
   "id": "90bc5135-0797-47c5-8b93-dafce4d1e56a",
   "metadata": {
    "tags": []
   },
   "outputs": [],
   "source": [
    "df = df.loc[df['total_paid']< 15000].copy()"
   ]
  },
  {
   "cell_type": "markdown",
   "id": "58b0ed54-d5b8-4272-82f0-59a7a9145719",
   "metadata": {},
   "source": [
    "#### 2.3.3 Difference price paid and the Total price of the order"
   ]
  },
  {
   "cell_type": "code",
   "execution_count": 19,
   "id": "77cf8754-d7f7-4c5c-b950-0050aa7d245c",
   "metadata": {
    "tags": []
   },
   "outputs": [
    {
     "data": {
      "image/png": "[encoded data removed]",
      "text/plain": [
       "<Figure size 500x300 with 1 Axes>"
      ]
     },
     "metadata": {},
     "output_type": "display_data"
    }
   ],
   "source": [
    "plt.figure(figsize=(5,3))\n",
    "sns.boxplot(x=df['diff_paid_totalprice'])\n",
    "plt.title('Boxplot of diff_paid_price')\n",
    "plt.xlabel('Difference between Paid and Price')\n",
    "plt.show()"
   ]
  },
  {
   "cell_type": "code",
   "execution_count": 20,
   "id": "e56992f2-fbd5-4437-a614-92433ae2894d",
   "metadata": {
    "tags": []
   },
   "outputs": [
    {
     "name": "stdout",
     "output_type": "stream",
     "text": [
      "1097\n",
      "0.003961032395973251\n"
     ]
    },
    {
     "data": {
      "text/html": [
       "<div>\n",
       "<style scoped>\n",
       "    .dataframe tbody tr th:only-of-type {\n",
       "        vertical-align: middle;\n",
       "    }\n",
       "\n",
       "    .dataframe tbody tr th {\n",
       "        vertical-align: top;\n",
       "    }\n",
       "\n",
       "    .dataframe thead th {\n",
       "        text-align: right;\n",
       "    }\n",
       "</style>\n",
       "<table border=\"1\" class=\"dataframe\">\n",
       "  <thead>\n",
       "    <tr style=\"text-align: right;\">\n",
       "      <th></th>\n",
       "      <th>order_id</th>\n",
       "      <th>created_date</th>\n",
       "      <th>total_paid</th>\n",
       "      <th>state</th>\n",
       "      <th>product_quantity</th>\n",
       "      <th>sku</th>\n",
       "      <th>unit_price</th>\n",
       "      <th>date</th>\n",
       "      <th>short</th>\n",
       "      <th>long</th>\n",
       "      <th>name</th>\n",
       "      <th>desc</th>\n",
       "      <th>price</th>\n",
       "      <th>in_stock</th>\n",
       "      <th>type</th>\n",
       "      <th>price_promotion</th>\n",
       "      <th>promo_price</th>\n",
       "      <th>unit_price_total</th>\n",
       "      <th>order_price</th>\n",
       "      <th>order_inc_promo</th>\n",
       "      <th>diff_paid_totalprice</th>\n",
       "      <th>promo_perc</th>\n",
       "      <th>year</th>\n",
       "      <th>week</th>\n",
       "      <th>day</th>\n",
       "      <th>month</th>\n",
       "      <th>quarter</th>\n",
       "      <th>price_category</th>\n",
       "    </tr>\n",
       "  </thead>\n",
       "  <tbody>\n",
       "    <tr>\n",
       "      <th>142693</th>\n",
       "      <td>319901</td>\n",
       "      <td>2017-02-04 16:09:34</td>\n",
       "      <td>60.43</td>\n",
       "      <td>Completed</td>\n",
       "      <td>1.00</td>\n",
       "      <td>WIT0017-A</td>\n",
       "      <td>71.77</td>\n",
       "      <td>2017-02-04 15:33:46</td>\n",
       "      <td>WIT</td>\n",
       "      <td>Withings</td>\n",
       "      <td>Open - Withings Activite POP Black Clock</td>\n",
       "      <td>Smartwatch that records sleep and movement for...</td>\n",
       "      <td>149.90</td>\n",
       "      <td>False</td>\n",
       "      <td>1298</td>\n",
       "      <td>True</td>\n",
       "      <td>71.77</td>\n",
       "      <td>71.77</td>\n",
       "      <td>142.44</td>\n",
       "      <td>True</td>\n",
       "      <td>-82.01</td>\n",
       "      <td>0.52</td>\n",
       "      <td>2017</td>\n",
       "      <td>5</td>\n",
       "      <td>6</td>\n",
       "      <td>2</td>\n",
       "      <td>1</td>\n",
       "      <td>50-100</td>\n",
       "    </tr>\n",
       "    <tr>\n",
       "      <th>237892</th>\n",
       "      <td>289685</td>\n",
       "      <td>2017-01-09 23:15:07</td>\n",
       "      <td>15.95</td>\n",
       "      <td>Completed</td>\n",
       "      <td>1.00</td>\n",
       "      <td>STA0052</td>\n",
       "      <td>39.99</td>\n",
       "      <td>2017-01-09 22:01:15</td>\n",
       "      <td>STA</td>\n",
       "      <td>Startech</td>\n",
       "      <td>Startech USB-C 4K HDMI 60Hz White</td>\n",
       "      <td>C USB-HDMI adapter compatible with Thunderbolt...</td>\n",
       "      <td>47.99</td>\n",
       "      <td>True</td>\n",
       "      <td>12585395</td>\n",
       "      <td>True</td>\n",
       "      <td>39.99</td>\n",
       "      <td>39.99</td>\n",
       "      <td>135.97</td>\n",
       "      <td>True</td>\n",
       "      <td>-120.02</td>\n",
       "      <td>0.17</td>\n",
       "      <td>2017</td>\n",
       "      <td>2</td>\n",
       "      <td>1</td>\n",
       "      <td>1</td>\n",
       "      <td>1</td>\n",
       "      <td>30-50</td>\n",
       "    </tr>\n",
       "    <tr>\n",
       "      <th>237891</th>\n",
       "      <td>289685</td>\n",
       "      <td>2017-01-09 23:15:07</td>\n",
       "      <td>15.95</td>\n",
       "      <td>Completed</td>\n",
       "      <td>1.00</td>\n",
       "      <td>SAN0145</td>\n",
       "      <td>42.99</td>\n",
       "      <td>2017-01-09 00:22:48</td>\n",
       "      <td>SAN</td>\n",
       "      <td>SanDisk</td>\n",
       "      <td>Sandisk Ultra Pen-Drive 128GB USB-C</td>\n",
       "      <td>128GB USB flash drive for Type C devices</td>\n",
       "      <td>53.99</td>\n",
       "      <td>True</td>\n",
       "      <td>11935397</td>\n",
       "      <td>True</td>\n",
       "      <td>42.99</td>\n",
       "      <td>42.99</td>\n",
       "      <td>135.97</td>\n",
       "      <td>True</td>\n",
       "      <td>-120.02</td>\n",
       "      <td>0.20</td>\n",
       "      <td>2017</td>\n",
       "      <td>2</td>\n",
       "      <td>1</td>\n",
       "      <td>1</td>\n",
       "      <td>1</td>\n",
       "      <td>30-50</td>\n",
       "    </tr>\n",
       "    <tr>\n",
       "      <th>237893</th>\n",
       "      <td>289685</td>\n",
       "      <td>2017-01-09 23:15:07</td>\n",
       "      <td>15.95</td>\n",
       "      <td>Completed</td>\n",
       "      <td>1.00</td>\n",
       "      <td>STA0049</td>\n",
       "      <td>52.99</td>\n",
       "      <td>2017-01-09 23:02:10</td>\n",
       "      <td>STA</td>\n",
       "      <td>Startech</td>\n",
       "      <td>Startech USB-C Adapter USB 3.1 Gigabit Etherne...</td>\n",
       "      <td>USB-C adapter cable (compatible with Thunderbo...</td>\n",
       "      <td>70.99</td>\n",
       "      <td>False</td>\n",
       "      <td>12585395</td>\n",
       "      <td>True</td>\n",
       "      <td>52.99</td>\n",
       "      <td>52.99</td>\n",
       "      <td>135.97</td>\n",
       "      <td>True</td>\n",
       "      <td>-120.02</td>\n",
       "      <td>0.25</td>\n",
       "      <td>2017</td>\n",
       "      <td>2</td>\n",
       "      <td>1</td>\n",
       "      <td>1</td>\n",
       "      <td>1</td>\n",
       "      <td>50-100</td>\n",
       "    </tr>\n",
       "    <tr>\n",
       "      <th>254339</th>\n",
       "      <td>432303</td>\n",
       "      <td>2017-11-22 21:43:02</td>\n",
       "      <td>261.86</td>\n",
       "      <td>Completed</td>\n",
       "      <td>1.00</td>\n",
       "      <td>SYN0180</td>\n",
       "      <td>426.86</td>\n",
       "      <td>2017-11-22 21:09:22</td>\n",
       "      <td>SYN</td>\n",
       "      <td>Synology</td>\n",
       "      <td>Synology DS718 + NAS server Mac and PC</td>\n",
       "      <td>Scalable NAS server and transcoding 4K: 4-core...</td>\n",
       "      <td>459.99</td>\n",
       "      <td>False</td>\n",
       "      <td>12175397</td>\n",
       "      <td>True</td>\n",
       "      <td>426.86</td>\n",
       "      <td>426.86</td>\n",
       "      <td>426.86</td>\n",
       "      <td>True</td>\n",
       "      <td>-165.00</td>\n",
       "      <td>0.07</td>\n",
       "      <td>2017</td>\n",
       "      <td>47</td>\n",
       "      <td>3</td>\n",
       "      <td>11</td>\n",
       "      <td>4</td>\n",
       "      <td>200-500</td>\n",
       "    </tr>\n",
       "  </tbody>\n",
       "</table>\n",
       "</div>"
      ],
      "text/plain": [
       "       order_id        created_date  total_paid      state  product_quantity  \\\n",
       "142693   319901 2017-02-04 16:09:34       60.43  Completed              1.00   \n",
       "237892   289685 2017-01-09 23:15:07       15.95  Completed              1.00   \n",
       "237891   289685 2017-01-09 23:15:07       15.95  Completed              1.00   \n",
       "237893   289685 2017-01-09 23:15:07       15.95  Completed              1.00   \n",
       "254339   432303 2017-11-22 21:43:02      261.86  Completed              1.00   \n",
       "\n",
       "              sku  unit_price                date short      long  \\\n",
       "142693  WIT0017-A       71.77 2017-02-04 15:33:46   WIT  Withings   \n",
       "237892    STA0052       39.99 2017-01-09 22:01:15   STA  Startech   \n",
       "237891    SAN0145       42.99 2017-01-09 00:22:48   SAN   SanDisk   \n",
       "237893    STA0049       52.99 2017-01-09 23:02:10   STA  Startech   \n",
       "254339    SYN0180      426.86 2017-11-22 21:09:22   SYN  Synology   \n",
       "\n",
       "                                                     name  \\\n",
       "142693           Open - Withings Activite POP Black Clock   \n",
       "237892                  Startech USB-C 4K HDMI 60Hz White   \n",
       "237891                Sandisk Ultra Pen-Drive 128GB USB-C   \n",
       "237893  Startech USB-C Adapter USB 3.1 Gigabit Etherne...   \n",
       "254339             Synology DS718 + NAS server Mac and PC   \n",
       "\n",
       "                                                     desc  price  in_stock  \\\n",
       "142693  Smartwatch that records sleep and movement for... 149.90     False   \n",
       "237892  C USB-HDMI adapter compatible with Thunderbolt...  47.99      True   \n",
       "237891           128GB USB flash drive for Type C devices  53.99      True   \n",
       "237893  USB-C adapter cable (compatible with Thunderbo...  70.99     False   \n",
       "254339  Scalable NAS server and transcoding 4K: 4-core... 459.99     False   \n",
       "\n",
       "            type  price_promotion  promo_price  unit_price_total  order_price  \\\n",
       "142693      1298             True        71.77             71.77       142.44   \n",
       "237892  12585395             True        39.99             39.99       135.97   \n",
       "237891  11935397             True        42.99             42.99       135.97   \n",
       "237893  12585395             True        52.99             52.99       135.97   \n",
       "254339  12175397             True       426.86            426.86       426.86   \n",
       "\n",
       "        order_inc_promo  diff_paid_totalprice  promo_perc  year  week  day  \\\n",
       "142693             True                -82.01        0.52  2017     5    6   \n",
       "237892             True               -120.02        0.17  2017     2    1   \n",
       "237891             True               -120.02        0.20  2017     2    1   \n",
       "237893             True               -120.02        0.25  2017     2    1   \n",
       "254339             True               -165.00        0.07  2017    47    3   \n",
       "\n",
       "        month  quarter price_category  \n",
       "142693      2        1         50-100  \n",
       "237892      1        1          30-50  \n",
       "237891      1        1          30-50  \n",
       "237893      1        1         50-100  \n",
       "254339     11        4        200-500  "
      ]
     },
     "execution_count": 20,
     "metadata": {},
     "output_type": "execute_result"
    }
   ],
   "source": [
    "Q1 = df['diff_paid_totalprice'].quantile(0.25)\n",
    "Q3 = df['diff_paid_totalprice'].quantile(0.75)\n",
    "IQR = Q3 - Q1\n",
    "\n",
    "# Define bounds\n",
    "lower_bound = Q1 - 1.5 * IQR\n",
    "upper_bound = Q3 + 1.5 * IQR\n",
    "\n",
    "# Filter outliers\n",
    "outliers = df[(df['diff_paid_totalprice'] < lower_bound) | (df['diff_paid_totalprice'] > upper_bound)]\n",
    "\n",
    "print(outliers['diff_paid_totalprice'].count())\n",
    "proportion_outliers = outliers['diff_paid_totalprice'].count() / df.shape[0]\n",
    "print(proportion_outliers)\n",
    "outliers.sort_values('diff_paid_totalprice', ascending=False).tail()"
   ]
  },
  {
   "cell_type": "markdown",
   "id": "698a7b29-1c3a-459a-bb25-ad279c068b4a",
   "metadata": {},
   "source": [
    "Let us drop all the remaining outliers here."
   ]
  },
  {
   "cell_type": "code",
   "execution_count": 21,
   "id": "6917456e-a7e4-428e-87d6-67658b4658a7",
   "metadata": {
    "tags": []
   },
   "outputs": [],
   "source": [
    "df = df.loc[~df['diff_paid_totalprice'].isin(outliers['diff_paid_totalprice'])]"
   ]
  },
  {
   "cell_type": "markdown",
   "id": "f98b4a75-1a42-46c2-9e13-1723ab100e59",
   "metadata": {},
   "source": [
    "#### 3.2.4 Difference Price and Unit_Price"
   ]
  },
  {
   "cell_type": "code",
   "execution_count": 22,
   "id": "9f054a1b-4da1-4ba5-ac69-aec2c0a400ff",
   "metadata": {
    "tags": []
   },
   "outputs": [
    {
     "data": {
      "image/png": "[encoded data removed]",
      "text/plain": [
       "<Figure size 500x300 with 1 Axes>"
      ]
     },
     "metadata": {},
     "output_type": "display_data"
    }
   ],
   "source": [
    "plt.figure(figsize=(5,3))\n",
    "sns.boxplot(x=df['promo_perc'])\n",
    "plt.title('Boxplot of price and price paid per product')\n",
    "plt.xlabel('Difference between Paid and Price per product')\n",
    "plt.show()"
   ]
  },
  {
   "cell_type": "code",
   "execution_count": 23,
   "id": "281a9ce6-0258-4031-b5e2-c24eb1bc1dc1",
   "metadata": {
    "tags": []
   },
   "outputs": [
    {
     "name": "stdout",
     "output_type": "stream",
     "text": [
      "17942\n",
      "0.06504235982468796\n"
     ]
    },
    {
     "data": {
      "text/html": [
       "<div>\n",
       "<style scoped>\n",
       "    .dataframe tbody tr th:only-of-type {\n",
       "        vertical-align: middle;\n",
       "    }\n",
       "\n",
       "    .dataframe tbody tr th {\n",
       "        vertical-align: top;\n",
       "    }\n",
       "\n",
       "    .dataframe thead th {\n",
       "        text-align: right;\n",
       "    }\n",
       "</style>\n",
       "<table border=\"1\" class=\"dataframe\">\n",
       "  <thead>\n",
       "    <tr style=\"text-align: right;\">\n",
       "      <th></th>\n",
       "      <th>order_id</th>\n",
       "      <th>created_date</th>\n",
       "      <th>total_paid</th>\n",
       "      <th>state</th>\n",
       "      <th>product_quantity</th>\n",
       "      <th>sku</th>\n",
       "      <th>unit_price</th>\n",
       "      <th>date</th>\n",
       "      <th>short</th>\n",
       "      <th>long</th>\n",
       "      <th>name</th>\n",
       "      <th>desc</th>\n",
       "      <th>price</th>\n",
       "      <th>in_stock</th>\n",
       "      <th>type</th>\n",
       "      <th>price_promotion</th>\n",
       "      <th>promo_price</th>\n",
       "      <th>unit_price_total</th>\n",
       "      <th>order_price</th>\n",
       "      <th>order_inc_promo</th>\n",
       "      <th>diff_paid_totalprice</th>\n",
       "      <th>promo_perc</th>\n",
       "      <th>year</th>\n",
       "      <th>week</th>\n",
       "      <th>day</th>\n",
       "      <th>month</th>\n",
       "      <th>quarter</th>\n",
       "      <th>price_category</th>\n",
       "    </tr>\n",
       "  </thead>\n",
       "  <tbody>\n",
       "    <tr>\n",
       "      <th>26487</th>\n",
       "      <td>365886</td>\n",
       "      <td>2017-06-15 12:51:18</td>\n",
       "      <td>30.00</td>\n",
       "      <td>Cancelled</td>\n",
       "      <td>1.00</td>\n",
       "      <td>APP1465</td>\n",
       "      <td>-119.00</td>\n",
       "      <td>2017-06-15 12:48:54</td>\n",
       "      <td>APP</td>\n",
       "      <td>Apple</td>\n",
       "      <td>Spanish Keyboard Keyboard Magic Apple Mac (OEM)</td>\n",
       "      <td>Spanish Keyboard Mac and Apple iPad Ultrathin ...</td>\n",
       "      <td>119.00</td>\n",
       "      <td>True</td>\n",
       "      <td>13855401</td>\n",
       "      <td>True</td>\n",
       "      <td>-119.00</td>\n",
       "      <td>-119.00</td>\n",
       "      <td>30.00</td>\n",
       "      <td>True</td>\n",
       "      <td>NaN</td>\n",
       "      <td>2.00</td>\n",
       "      <td>2017</td>\n",
       "      <td>24</td>\n",
       "      <td>4</td>\n",
       "      <td>6</td>\n",
       "      <td>2</td>\n",
       "      <td>0-30</td>\n",
       "    </tr>\n",
       "    <tr>\n",
       "      <th>85006</th>\n",
       "      <td>466486</td>\n",
       "      <td>2017-12-19 09:16:28</td>\n",
       "      <td>11.62</td>\n",
       "      <td>Shopping Basket</td>\n",
       "      <td>1.00</td>\n",
       "      <td>APP1809</td>\n",
       "      <td>0.00</td>\n",
       "      <td>2017-12-19 09:16:28</td>\n",
       "      <td>APP</td>\n",
       "      <td>Apple</td>\n",
       "      <td>Apple Apple Pack 4 Pencil Tips</td>\n",
       "      <td>4 extra points for Apple Pencil</td>\n",
       "      <td>25.00</td>\n",
       "      <td>False</td>\n",
       "      <td>1229</td>\n",
       "      <td>True</td>\n",
       "      <td>0.00</td>\n",
       "      <td>0.00</td>\n",
       "      <td>11.61</td>\n",
       "      <td>True</td>\n",
       "      <td>NaN</td>\n",
       "      <td>1.00</td>\n",
       "      <td>2017</td>\n",
       "      <td>51</td>\n",
       "      <td>2</td>\n",
       "      <td>12</td>\n",
       "      <td>4</td>\n",
       "      <td>0-30</td>\n",
       "    </tr>\n",
       "    <tr>\n",
       "      <th>90230</th>\n",
       "      <td>480296</td>\n",
       "      <td>2018-01-02 21:07:41</td>\n",
       "      <td>0.00</td>\n",
       "      <td>Shopping Basket</td>\n",
       "      <td>1.00</td>\n",
       "      <td>APP2504</td>\n",
       "      <td>0.00</td>\n",
       "      <td>2018-01-02 21:07:41</td>\n",
       "      <td>APP</td>\n",
       "      <td>Apple</td>\n",
       "      <td>Apple Watch GPS 42mm Series 3 Aluminum Case an...</td>\n",
       "      <td>42mm Apple Watch series 3 with GPS altimeter a...</td>\n",
       "      <td>399.00</td>\n",
       "      <td>True</td>\n",
       "      <td>24895185</td>\n",
       "      <td>True</td>\n",
       "      <td>0.00</td>\n",
       "      <td>0.00</td>\n",
       "      <td>0.00</td>\n",
       "      <td>True</td>\n",
       "      <td>NaN</td>\n",
       "      <td>1.00</td>\n",
       "      <td>2018</td>\n",
       "      <td>1</td>\n",
       "      <td>2</td>\n",
       "      <td>1</td>\n",
       "      <td>1</td>\n",
       "      <td>0-30</td>\n",
       "    </tr>\n",
       "    <tr>\n",
       "      <th>90236</th>\n",
       "      <td>480297</td>\n",
       "      <td>2018-01-02 21:07:50</td>\n",
       "      <td>0.00</td>\n",
       "      <td>Shopping Basket</td>\n",
       "      <td>1.00</td>\n",
       "      <td>XDO0043</td>\n",
       "      <td>0.00</td>\n",
       "      <td>2018-01-02 21:07:50</td>\n",
       "      <td>XDO</td>\n",
       "      <td>X-Doria</td>\n",
       "      <td>X-Doria Defense Edge Apple 42mm Watch Case Bla...</td>\n",
       "      <td>Anti-shock housing for Apple Watch.</td>\n",
       "      <td>29.99</td>\n",
       "      <td>False</td>\n",
       "      <td>2434</td>\n",
       "      <td>True</td>\n",
       "      <td>0.00</td>\n",
       "      <td>0.00</td>\n",
       "      <td>0.00</td>\n",
       "      <td>True</td>\n",
       "      <td>NaN</td>\n",
       "      <td>1.00</td>\n",
       "      <td>2018</td>\n",
       "      <td>1</td>\n",
       "      <td>2</td>\n",
       "      <td>1</td>\n",
       "      <td>1</td>\n",
       "      <td>0-30</td>\n",
       "    </tr>\n",
       "    <tr>\n",
       "      <th>90235</th>\n",
       "      <td>480297</td>\n",
       "      <td>2018-01-02 21:07:50</td>\n",
       "      <td>0.00</td>\n",
       "      <td>Shopping Basket</td>\n",
       "      <td>1.00</td>\n",
       "      <td>XDO0035</td>\n",
       "      <td>0.00</td>\n",
       "      <td>2018-01-02 21:07:50</td>\n",
       "      <td>XDO</td>\n",
       "      <td>X-Doria</td>\n",
       "      <td>X-Doria Metal Mesh Strap Watch 42mm Black Apple</td>\n",
       "      <td>Mesh belt stainless steel X-Doria for Apple Wa...</td>\n",
       "      <td>49.99</td>\n",
       "      <td>False</td>\n",
       "      <td>2449</td>\n",
       "      <td>True</td>\n",
       "      <td>0.00</td>\n",
       "      <td>0.00</td>\n",
       "      <td>0.00</td>\n",
       "      <td>True</td>\n",
       "      <td>NaN</td>\n",
       "      <td>1.00</td>\n",
       "      <td>2018</td>\n",
       "      <td>1</td>\n",
       "      <td>2</td>\n",
       "      <td>1</td>\n",
       "      <td>1</td>\n",
       "      <td>0-30</td>\n",
       "    </tr>\n",
       "  </tbody>\n",
       "</table>\n",
       "</div>"
      ],
      "text/plain": [
       "      order_id        created_date  total_paid            state  \\\n",
       "26487   365886 2017-06-15 12:51:18       30.00        Cancelled   \n",
       "85006   466486 2017-12-19 09:16:28       11.62  Shopping Basket   \n",
       "90230   480296 2018-01-02 21:07:41        0.00  Shopping Basket   \n",
       "90236   480297 2018-01-02 21:07:50        0.00  Shopping Basket   \n",
       "90235   480297 2018-01-02 21:07:50        0.00  Shopping Basket   \n",
       "\n",
       "       product_quantity      sku  unit_price                date short  \\\n",
       "26487              1.00  APP1465     -119.00 2017-06-15 12:48:54   APP   \n",
       "85006              1.00  APP1809        0.00 2017-12-19 09:16:28   APP   \n",
       "90230              1.00  APP2504        0.00 2018-01-02 21:07:41   APP   \n",
       "90236              1.00  XDO0043        0.00 2018-01-02 21:07:50   XDO   \n",
       "90235              1.00  XDO0035        0.00 2018-01-02 21:07:50   XDO   \n",
       "\n",
       "          long                                               name  \\\n",
       "26487    Apple    Spanish Keyboard Keyboard Magic Apple Mac (OEM)   \n",
       "85006    Apple                     Apple Apple Pack 4 Pencil Tips   \n",
       "90230    Apple  Apple Watch GPS 42mm Series 3 Aluminum Case an...   \n",
       "90236  X-Doria  X-Doria Defense Edge Apple 42mm Watch Case Bla...   \n",
       "90235  X-Doria    X-Doria Metal Mesh Strap Watch 42mm Black Apple   \n",
       "\n",
       "                                                    desc  price  in_stock  \\\n",
       "26487  Spanish Keyboard Mac and Apple iPad Ultrathin ... 119.00      True   \n",
       "85006                    4 extra points for Apple Pencil  25.00     False   \n",
       "90230  42mm Apple Watch series 3 with GPS altimeter a... 399.00      True   \n",
       "90236                Anti-shock housing for Apple Watch.  29.99     False   \n",
       "90235  Mesh belt stainless steel X-Doria for Apple Wa...  49.99     False   \n",
       "\n",
       "           type  price_promotion  promo_price  unit_price_total  order_price  \\\n",
       "26487  13855401             True      -119.00           -119.00        30.00   \n",
       "85006      1229             True         0.00              0.00        11.61   \n",
       "90230  24895185             True         0.00              0.00         0.00   \n",
       "90236      2434             True         0.00              0.00         0.00   \n",
       "90235      2449             True         0.00              0.00         0.00   \n",
       "\n",
       "       order_inc_promo  diff_paid_totalprice  promo_perc  year  week  day  \\\n",
       "26487             True                   NaN        2.00  2017    24    4   \n",
       "85006             True                   NaN        1.00  2017    51    2   \n",
       "90230             True                   NaN        1.00  2018     1    2   \n",
       "90236             True                   NaN        1.00  2018     1    2   \n",
       "90235             True                   NaN        1.00  2018     1    2   \n",
       "\n",
       "       month  quarter price_category  \n",
       "26487      6        2           0-30  \n",
       "85006     12        4           0-30  \n",
       "90230      1        1           0-30  \n",
       "90236      1        1           0-30  \n",
       "90235      1        1           0-30  "
      ]
     },
     "execution_count": 23,
     "metadata": {},
     "output_type": "execute_result"
    }
   ],
   "source": [
    "Q1 = df['promo_perc'].quantile(0.25)\n",
    "Q3 = df['promo_perc'].quantile(0.75)\n",
    "IQR = Q3 - Q1\n",
    "\n",
    "# Define bounds\n",
    "lower_bound = Q1 - 1.5 * IQR\n",
    "upper_bound = Q3 + 1.5 * IQR\n",
    "\n",
    "# Filter outliers\n",
    "outliers = df[(df['promo_perc'] < lower_bound) | (df['promo_perc'] > upper_bound)]\n",
    "\n",
    "print(outliers['promo_perc'].count())\n",
    "proportion_outliers = outliers['promo_perc'].count() / df.shape[0]\n",
    "print(proportion_outliers)\n",
    "outliers.sort_values('promo_perc', ascending=False).head()"
   ]
  },
  {
   "cell_type": "markdown",
   "id": "b070b434-9e61-4e26-91e1-f58fa7189464",
   "metadata": {
    "tags": []
   },
   "source": [
    "Let's drop all promo percentages over 90% since it sounds really unreasonable to give that high of percentages."
   ]
  },
  {
   "cell_type": "code",
   "execution_count": 24,
   "id": "2632b611-1939-43a0-b3ea-f1e88e416289",
   "metadata": {
    "tags": []
   },
   "outputs": [],
   "source": [
    "df = df.loc[df['promo_perc']<0.9].copy()"
   ]
  },
  {
   "cell_type": "markdown",
   "id": "4785ced5-6fae-4d2b-a2bc-932d26beb7b2",
   "metadata": {},
   "source": [
    "Only use this code below, when you want to have a copy of the final merged table downloaded."
   ]
  },
  {
   "cell_type": "markdown",
   "id": "186e1c1d-ff3a-4181-8ad8-5868e8b0a847",
   "metadata": {},
   "source": [
    "Let's see a distributional grpah of the price paid"
   ]
  },
  {
   "cell_type": "code",
   "execution_count": 25,
   "id": "cfe335ad-ef4a-4b52-89ca-65910d290667",
   "metadata": {
    "tags": []
   },
   "outputs": [
    {
     "data": {
      "image/png": "[encoded data removed]",
      "text/plain": [
       "<Figure size 500x300 with 1 Axes>"
      ]
     },
     "metadata": {},
     "output_type": "display_data"
    }
   ],
   "source": [
    "plt.figure(figsize=(5,3))\n",
    "sns.histplot(df['diff_paid_totalprice'], bins=50, kde=True)\n",
    "plt.title('Distribution of diff price paid')\n",
    "plt.xlabel('Difference between Paid and Price of Order')\n",
    "plt.ylabel('Nr. Orders')\n",
    "plt.show()"
   ]
  },
  {
   "cell_type": "markdown",
   "id": "42f39306-915e-43d5-8126-b44be76e24dd",
   "metadata": {},
   "source": [
    "#### 2.3.1 Negative prices"
   ]
  },
  {
   "cell_type": "code",
   "execution_count": 26,
   "id": "0ee8c169-45f7-4aa5-95fb-d088ead11159",
   "metadata": {
    "tags": []
   },
   "outputs": [
    {
     "data": {
      "text/html": [
       "<div>\n",
       "<style scoped>\n",
       "    .dataframe tbody tr th:only-of-type {\n",
       "        vertical-align: middle;\n",
       "    }\n",
       "\n",
       "    .dataframe tbody tr th {\n",
       "        vertical-align: top;\n",
       "    }\n",
       "\n",
       "    .dataframe thead th {\n",
       "        text-align: right;\n",
       "    }\n",
       "</style>\n",
       "<table border=\"1\" class=\"dataframe\">\n",
       "  <thead>\n",
       "    <tr style=\"text-align: right;\">\n",
       "      <th></th>\n",
       "      <th>order_id</th>\n",
       "      <th>created_date</th>\n",
       "      <th>total_paid</th>\n",
       "      <th>state</th>\n",
       "      <th>product_quantity</th>\n",
       "      <th>sku</th>\n",
       "      <th>unit_price</th>\n",
       "      <th>date</th>\n",
       "      <th>short</th>\n",
       "      <th>long</th>\n",
       "      <th>name</th>\n",
       "      <th>desc</th>\n",
       "      <th>price</th>\n",
       "      <th>in_stock</th>\n",
       "      <th>type</th>\n",
       "      <th>price_promotion</th>\n",
       "      <th>promo_price</th>\n",
       "      <th>unit_price_total</th>\n",
       "      <th>order_price</th>\n",
       "      <th>order_inc_promo</th>\n",
       "      <th>diff_paid_totalprice</th>\n",
       "      <th>promo_perc</th>\n",
       "      <th>year</th>\n",
       "      <th>week</th>\n",
       "      <th>day</th>\n",
       "      <th>month</th>\n",
       "      <th>quarter</th>\n",
       "      <th>price_category</th>\n",
       "    </tr>\n",
       "  </thead>\n",
       "  <tbody>\n",
       "  </tbody>\n",
       "</table>\n",
       "</div>"
      ],
      "text/plain": [
       "Empty DataFrame\n",
       "Columns: [order_id, created_date, total_paid, state, product_quantity, sku, unit_price, date, short, long, name, desc, price, in_stock, type, price_promotion, promo_price, unit_price_total, order_price, order_inc_promo, diff_paid_totalprice, promo_perc, year, week, day, month, quarter, price_category]\n",
       "Index: []"
      ]
     },
     "execution_count": 26,
     "metadata": {},
     "output_type": "execute_result"
    }
   ],
   "source": [
    "# Convert columns to appropriate numeric data type\n",
    "# Here, I'm assuming columns 'col1', 'col2', ... are the columns you want to check\n",
    "# You might need to modify this list based on your actual column names.\n",
    "numeric_cols = ['total_paid', 'product_quantity', 'unit_price', 'price']\n",
    "df[numeric_cols] = df[numeric_cols].apply(pd.to_numeric, errors='coerce')\n",
    "\n",
    "# Now, find rows with negative values in those columns\n",
    "negative_rows = df[df[numeric_cols].lt(0).any(axis=1)]\n",
    "negative_rows"
   ]
  },
  {
   "cell_type": "code",
   "execution_count": 27,
   "id": "8c5fe86e-cbeb-408f-b941-ba4af2cdf2e4",
   "metadata": {
    "tags": []
   },
   "outputs": [],
   "source": [
    "from IPython.display import FileLink, FileLinks\n",
    "\n",
    "df.to_csv('/Users/merlesteffen/Documents/GitHub/Eniac/Data-Eniac/data.csv', index=False)"
   ]
  },
  {
   "cell_type": "code",
   "execution_count": 28,
   "id": "23ad5da0-54ab-4e2b-ab60-151c2ef6bec7",
   "metadata": {},
   "outputs": [],
   "source": [
    "df1 = df.reset_index(drop=True).copy()"
   ]
  },
  {
   "cell_type": "markdown",
   "id": "46c5d98c-1e94-499f-8da6-53e874f1494e",
   "metadata": {},
   "source": [
    "### 2.4 Second Dataframe, with completed orders"
   ]
  },
  {
   "cell_type": "markdown",
   "id": "55a6586b-f7c0-48c5-b5c8-0439ef11102a",
   "metadata": {},
   "source": [
    "Do this as a laast step so all columns and the cleaning/ merging are the same in both dataframes"
   ]
  },
  {
   "cell_type": "code",
   "execution_count": 29,
   "id": "da83c51c-dfdc-444b-8377-4555e936dc20",
   "metadata": {
    "tags": []
   },
   "outputs": [
    {
     "data": {
      "text/html": [
       "<div>\n",
       "<style scoped>\n",
       "    .dataframe tbody tr th:only-of-type {\n",
       "        vertical-align: middle;\n",
       "    }\n",
       "\n",
       "    .dataframe tbody tr th {\n",
       "        vertical-align: top;\n",
       "    }\n",
       "\n",
       "    .dataframe thead th {\n",
       "        text-align: right;\n",
       "    }\n",
       "</style>\n",
       "<table border=\"1\" class=\"dataframe\">\n",
       "  <thead>\n",
       "    <tr style=\"text-align: right;\">\n",
       "      <th></th>\n",
       "      <th>order_id</th>\n",
       "      <th>created_date</th>\n",
       "      <th>total_paid</th>\n",
       "      <th>state</th>\n",
       "      <th>product_quantity</th>\n",
       "      <th>sku</th>\n",
       "      <th>unit_price</th>\n",
       "      <th>date</th>\n",
       "      <th>short</th>\n",
       "      <th>long</th>\n",
       "      <th>name</th>\n",
       "      <th>desc</th>\n",
       "      <th>price</th>\n",
       "      <th>in_stock</th>\n",
       "      <th>type</th>\n",
       "      <th>price_promotion</th>\n",
       "      <th>promo_price</th>\n",
       "      <th>unit_price_total</th>\n",
       "      <th>order_price</th>\n",
       "      <th>order_inc_promo</th>\n",
       "      <th>diff_paid_totalprice</th>\n",
       "      <th>promo_perc</th>\n",
       "      <th>year</th>\n",
       "      <th>week</th>\n",
       "      <th>day</th>\n",
       "      <th>month</th>\n",
       "      <th>quarter</th>\n",
       "      <th>price_category</th>\n",
       "    </tr>\n",
       "  </thead>\n",
       "  <tbody>\n",
       "    <tr>\n",
       "      <th>0</th>\n",
       "      <td>347721</td>\n",
       "      <td>2017-04-20 10:22:00</td>\n",
       "      <td>23.99</td>\n",
       "      <td>Completed</td>\n",
       "      <td>1.00</td>\n",
       "      <td>8MO0007</td>\n",
       "      <td>23.99</td>\n",
       "      <td>2017-04-20 10:20:02</td>\n",
       "      <td>8MO</td>\n",
       "      <td>8Mobility</td>\n",
       "      <td>8Mobility iSlice Micro SD adapter for Macbook ...</td>\n",
       "      <td>Micro SD card adapter for MacBook Air 13-inch</td>\n",
       "      <td>35.00</td>\n",
       "      <td>False</td>\n",
       "      <td>12585395</td>\n",
       "      <td>True</td>\n",
       "      <td>23.99</td>\n",
       "      <td>23.99</td>\n",
       "      <td>23.99</td>\n",
       "      <td>True</td>\n",
       "      <td>0.00</td>\n",
       "      <td>0.31</td>\n",
       "      <td>2017</td>\n",
       "      <td>16</td>\n",
       "      <td>4</td>\n",
       "      <td>4</td>\n",
       "      <td>2</td>\n",
       "      <td>0-30</td>\n",
       "    </tr>\n",
       "    <tr>\n",
       "      <th>1</th>\n",
       "      <td>347743</td>\n",
       "      <td>2017-04-20 11:28:27</td>\n",
       "      <td>23.99</td>\n",
       "      <td>Completed</td>\n",
       "      <td>1.00</td>\n",
       "      <td>8MO0009</td>\n",
       "      <td>23.99</td>\n",
       "      <td>2017-04-20 11:21:25</td>\n",
       "      <td>8MO</td>\n",
       "      <td>8Mobility</td>\n",
       "      <td>8Mobility iSlice Micro SD Adapter for Macbook ...</td>\n",
       "      <td>Micro SD card adapter for MacBook Pro Retina 1...</td>\n",
       "      <td>35.00</td>\n",
       "      <td>True</td>\n",
       "      <td>12585395</td>\n",
       "      <td>True</td>\n",
       "      <td>23.99</td>\n",
       "      <td>23.99</td>\n",
       "      <td>23.99</td>\n",
       "      <td>True</td>\n",
       "      <td>0.00</td>\n",
       "      <td>0.31</td>\n",
       "      <td>2017</td>\n",
       "      <td>16</td>\n",
       "      <td>4</td>\n",
       "      <td>4</td>\n",
       "      <td>2</td>\n",
       "      <td>0-30</td>\n",
       "    </tr>\n",
       "    <tr>\n",
       "      <th>2</th>\n",
       "      <td>347761</td>\n",
       "      <td>2017-04-21 08:56:30</td>\n",
       "      <td>66.97</td>\n",
       "      <td>Completed</td>\n",
       "      <td>1.00</td>\n",
       "      <td>8MO0012</td>\n",
       "      <td>23.99</td>\n",
       "      <td>2017-04-20 11:56:42</td>\n",
       "      <td>8MO</td>\n",
       "      <td>8Mobility</td>\n",
       "      <td>8Mobility iSlice Micro SD Adapter MacBook Pro ...</td>\n",
       "      <td>Micro SD card adapter for MacBook Pro Retina 1...</td>\n",
       "      <td>35.00</td>\n",
       "      <td>False</td>\n",
       "      <td>12585395</td>\n",
       "      <td>True</td>\n",
       "      <td>23.99</td>\n",
       "      <td>23.99</td>\n",
       "      <td>66.97</td>\n",
       "      <td>True</td>\n",
       "      <td>0.00</td>\n",
       "      <td>0.31</td>\n",
       "      <td>2017</td>\n",
       "      <td>16</td>\n",
       "      <td>5</td>\n",
       "      <td>4</td>\n",
       "      <td>2</td>\n",
       "      <td>0-30</td>\n",
       "    </tr>\n",
       "    <tr>\n",
       "      <th>3</th>\n",
       "      <td>347761</td>\n",
       "      <td>2017-04-21 08:56:30</td>\n",
       "      <td>66.97</td>\n",
       "      <td>Completed</td>\n",
       "      <td>1.00</td>\n",
       "      <td>SAN0140</td>\n",
       "      <td>12.99</td>\n",
       "      <td>2017-04-20 11:56:34</td>\n",
       "      <td>SAN</td>\n",
       "      <td>SanDisk</td>\n",
       "      <td>SanDisk Ultra 32GB microSDHC Memory Card + SD ...</td>\n",
       "      <td>Adapter and microSDHC memory card 32 GB Class ...</td>\n",
       "      <td>12.99</td>\n",
       "      <td>False</td>\n",
       "      <td>57445397</td>\n",
       "      <td>False</td>\n",
       "      <td>NaN</td>\n",
       "      <td>12.99</td>\n",
       "      <td>66.97</td>\n",
       "      <td>True</td>\n",
       "      <td>0.00</td>\n",
       "      <td>0.00</td>\n",
       "      <td>2017</td>\n",
       "      <td>16</td>\n",
       "      <td>5</td>\n",
       "      <td>4</td>\n",
       "      <td>2</td>\n",
       "      <td>0-30</td>\n",
       "    </tr>\n",
       "    <tr>\n",
       "      <th>4</th>\n",
       "      <td>347761</td>\n",
       "      <td>2017-04-21 08:56:30</td>\n",
       "      <td>66.97</td>\n",
       "      <td>Completed</td>\n",
       "      <td>1.00</td>\n",
       "      <td>SAN0099</td>\n",
       "      <td>29.99</td>\n",
       "      <td>2017-04-21 08:54:44</td>\n",
       "      <td>SAN</td>\n",
       "      <td>SanDisk</td>\n",
       "      <td>SanDisk Connect Wireless Flash Drive 64GB Wire...</td>\n",
       "      <td>Wireless 64GB storage for iPhone / iPad / Mac.</td>\n",
       "      <td>49.99</td>\n",
       "      <td>True</td>\n",
       "      <td>42945397</td>\n",
       "      <td>True</td>\n",
       "      <td>29.99</td>\n",
       "      <td>29.99</td>\n",
       "      <td>66.97</td>\n",
       "      <td>True</td>\n",
       "      <td>0.00</td>\n",
       "      <td>0.40</td>\n",
       "      <td>2017</td>\n",
       "      <td>16</td>\n",
       "      <td>5</td>\n",
       "      <td>4</td>\n",
       "      <td>2</td>\n",
       "      <td>0-30</td>\n",
       "    </tr>\n",
       "  </tbody>\n",
       "</table>\n",
       "</div>"
      ],
      "text/plain": [
       "  order_id        created_date  total_paid      state  product_quantity  \\\n",
       "0   347721 2017-04-20 10:22:00       23.99  Completed              1.00   \n",
       "1   347743 2017-04-20 11:28:27       23.99  Completed              1.00   \n",
       "2   347761 2017-04-21 08:56:30       66.97  Completed              1.00   \n",
       "3   347761 2017-04-21 08:56:30       66.97  Completed              1.00   \n",
       "4   347761 2017-04-21 08:56:30       66.97  Completed              1.00   \n",
       "\n",
       "       sku  unit_price                date short       long  \\\n",
       "0  8MO0007       23.99 2017-04-20 10:20:02   8MO  8Mobility   \n",
       "1  8MO0009       23.99 2017-04-20 11:21:25   8MO  8Mobility   \n",
       "2  8MO0012       23.99 2017-04-20 11:56:42   8MO  8Mobility   \n",
       "3  SAN0140       12.99 2017-04-20 11:56:34   SAN    SanDisk   \n",
       "4  SAN0099       29.99 2017-04-21 08:54:44   SAN    SanDisk   \n",
       "\n",
       "                                                name  \\\n",
       "0  8Mobility iSlice Micro SD adapter for Macbook ...   \n",
       "1  8Mobility iSlice Micro SD Adapter for Macbook ...   \n",
       "2  8Mobility iSlice Micro SD Adapter MacBook Pro ...   \n",
       "3  SanDisk Ultra 32GB microSDHC Memory Card + SD ...   \n",
       "4  SanDisk Connect Wireless Flash Drive 64GB Wire...   \n",
       "\n",
       "                                                desc  price  in_stock  \\\n",
       "0      Micro SD card adapter for MacBook Air 13-inch  35.00     False   \n",
       "1  Micro SD card adapter for MacBook Pro Retina 1...  35.00      True   \n",
       "2  Micro SD card adapter for MacBook Pro Retina 1...  35.00     False   \n",
       "3  Adapter and microSDHC memory card 32 GB Class ...  12.99     False   \n",
       "4     Wireless 64GB storage for iPhone / iPad / Mac.  49.99      True   \n",
       "\n",
       "       type  price_promotion  promo_price  unit_price_total  order_price  \\\n",
       "0  12585395             True        23.99             23.99        23.99   \n",
       "1  12585395             True        23.99             23.99        23.99   \n",
       "2  12585395             True        23.99             23.99        66.97   \n",
       "3  57445397            False          NaN             12.99        66.97   \n",
       "4  42945397             True        29.99             29.99        66.97   \n",
       "\n",
       "   order_inc_promo  diff_paid_totalprice  promo_perc  year  week  day  month  \\\n",
       "0             True                  0.00        0.31  2017    16    4      4   \n",
       "1             True                  0.00        0.31  2017    16    4      4   \n",
       "2             True                  0.00        0.31  2017    16    5      4   \n",
       "3             True                  0.00        0.00  2017    16    5      4   \n",
       "4             True                  0.00        0.40  2017    16    5      4   \n",
       "\n",
       "   quarter price_category  \n",
       "0        2           0-30  \n",
       "1        2           0-30  \n",
       "2        2           0-30  \n",
       "3        2           0-30  \n",
       "4        2           0-30  "
      ]
     },
     "execution_count": 29,
     "metadata": {},
     "output_type": "execute_result"
    }
   ],
   "source": [
    "df_com = df1.loc[df1['state']=='Completed'].reset_index(drop=True).copy()\n",
    "df_com.head()"
   ]
  },
  {
   "cell_type": "markdown",
   "id": "84160a7f-ac84-4fa9-b655-c06a58c3ac29",
   "metadata": {},
   "source": [
    "## 3. Analysis"
   ]
  },
  {
   "cell_type": "markdown",
   "id": "89c395bd-61b1-4311-bdc8-46eb3d965936",
   "metadata": {},
   "source": [
    "Univariate Analysis"
   ]
  },
  {
   "cell_type": "code",
   "execution_count": 30,
   "id": "2d6bf2e2-a9c2-4780-a7a5-d6e36f1e4c04",
   "metadata": {
    "tags": []
   },
   "outputs": [
    {
     "data": {
      "image/png": "[encoded data removed]",
      "text/plain": [
       "<Figure size 640x480 with 1 Axes>"
      ]
     },
     "metadata": {},
     "output_type": "display_data"
    }
   ],
   "source": [
    "# Plotting the data\n",
    "ax = df_com['created_date'].dt.date.value_counts().sort_index().plot(kind='bar', title='Top order dates')\n",
    "\n",
    "# Extract the first date of each unique month-year combination\n",
    "first_dates_of_each_month = df_com.drop_duplicates(subset='created_date', keep='first').sort_values('created_date')['created_date'].dt.to_period('M').drop_duplicates().dt.to_timestamp()\n",
    "\n",
    "# Find the positions of these first dates in the sorted index of the dates from df1\n",
    "positions = [sorted(df1['created_date'].dt.date.unique()).index(date.date()) for date in first_dates_of_each_month]\n",
    "\n",
    "# Get the month-year labels for these dates\n",
    "labels = first_dates_of_each_month.dt.strftime('%m.%Y')\n",
    "\n",
    "# Set the tick positions and labels\n",
    "ax.set_xticks(positions)\n",
    "ax.set_xticklabels(labels, rotation=45)\n",
    "plt.show()"
   ]
  },
  {
   "cell_type": "code",
   "execution_count": 31,
   "id": "417c5473-c18b-42ca-b1df-50998340ec82",
   "metadata": {
    "tags": []
   },
   "outputs": [
    {
     "data": {
      "image/png": "[encoded data removed]",
      "text/plain": [
       "<Figure size 640x480 with 1 Axes>"
      ]
     },
     "metadata": {},
     "output_type": "display_data"
    }
   ],
   "source": [
    "filtered_order_prices = df1[df1['order_price'] < 5000]['order_price']\n",
    "filtered_order_prices.plot(kind='kde', title='Density of the Order Value');"
   ]
  },
  {
   "cell_type": "code",
   "execution_count": 32,
   "id": "9511d7bd-677b-4f27-9d82-e95d990f00a5",
   "metadata": {
    "tags": []
   },
   "outputs": [
    {
     "data": {
      "text/plain": [
       "170022      1.99\n",
       "168055      1.99\n",
       "168149      1.99\n",
       "168312      1.99\n",
       "168099      1.99\n",
       "           ...  \n",
       "124348   9656.00\n",
       "112707   9663.23\n",
       "218520   9841.99\n",
       "218699   9841.99\n",
       "218666   9841.99\n",
       "Name: unit_price, Length: 275106, dtype: float64"
      ]
     },
     "execution_count": 32,
     "metadata": {},
     "output_type": "execute_result"
    }
   ],
   "source": [
    "df1['unit_price'].sort_values()"
   ]
  },
  {
   "cell_type": "code",
   "execution_count": 33,
   "id": "b0feb0bd-c6a0-45ac-8b2c-72eca1bfa418",
   "metadata": {
    "tags": []
   },
   "outputs": [
    {
     "data": {
      "text/html": [
       "<div>\n",
       "<style scoped>\n",
       "    .dataframe tbody tr th:only-of-type {\n",
       "        vertical-align: middle;\n",
       "    }\n",
       "\n",
       "    .dataframe tbody tr th {\n",
       "        vertical-align: top;\n",
       "    }\n",
       "\n",
       "    .dataframe thead th {\n",
       "        text-align: right;\n",
       "    }\n",
       "</style>\n",
       "<table border=\"1\" class=\"dataframe\">\n",
       "  <thead>\n",
       "    <tr style=\"text-align: right;\">\n",
       "      <th></th>\n",
       "      <th>order_id</th>\n",
       "      <th>created_date</th>\n",
       "      <th>total_paid</th>\n",
       "      <th>state</th>\n",
       "      <th>product_quantity</th>\n",
       "      <th>sku</th>\n",
       "      <th>unit_price</th>\n",
       "      <th>date</th>\n",
       "      <th>short</th>\n",
       "      <th>long</th>\n",
       "      <th>name</th>\n",
       "      <th>desc</th>\n",
       "      <th>price</th>\n",
       "      <th>in_stock</th>\n",
       "      <th>type</th>\n",
       "      <th>price_promotion</th>\n",
       "      <th>promo_price</th>\n",
       "      <th>unit_price_total</th>\n",
       "      <th>order_price</th>\n",
       "      <th>order_inc_promo</th>\n",
       "      <th>diff_paid_totalprice</th>\n",
       "      <th>promo_perc</th>\n",
       "      <th>year</th>\n",
       "      <th>week</th>\n",
       "      <th>day</th>\n",
       "      <th>month</th>\n",
       "      <th>quarter</th>\n",
       "      <th>price_category</th>\n",
       "    </tr>\n",
       "  </thead>\n",
       "  <tbody>\n",
       "  </tbody>\n",
       "</table>\n",
       "</div>"
      ],
      "text/plain": [
       "Empty DataFrame\n",
       "Columns: [order_id, created_date, total_paid, state, product_quantity, sku, unit_price, date, short, long, name, desc, price, in_stock, type, price_promotion, promo_price, unit_price_total, order_price, order_inc_promo, diff_paid_totalprice, promo_perc, year, week, day, month, quarter, price_category]\n",
       "Index: []"
      ]
     },
     "execution_count": 33,
     "metadata": {},
     "output_type": "execute_result"
    }
   ],
   "source": [
    "df1.loc[df1['unit_price']<0]"
   ]
  },
  {
   "cell_type": "code",
   "execution_count": 34,
   "id": "2fe41ff3-22a2-4d68-a216-ce09cf56d7ae",
   "metadata": {
    "tags": []
   },
   "outputs": [
    {
     "data": {
      "text/plain": [
       "order_id                        object\n",
       "created_date            datetime64[ns]\n",
       "total_paid                     float64\n",
       "state                         category\n",
       "product_quantity               float64\n",
       "sku                             object\n",
       "unit_price                     float64\n",
       "date                    datetime64[ns]\n",
       "short                           object\n",
       "long                            object\n",
       "name                            object\n",
       "desc                            object\n",
       "price                          float64\n",
       "in_stock                          bool\n",
       "type                          category\n",
       "price_promotion                   bool\n",
       "promo_price                    float64\n",
       "unit_price_total               float64\n",
       "order_price                    float64\n",
       "order_inc_promo                   bool\n",
       "diff_paid_totalprice           float64\n",
       "promo_perc                     float64\n",
       "year                            UInt32\n",
       "week                            UInt32\n",
       "day                             UInt32\n",
       "month                            int64\n",
       "quarter                          int64\n",
       "price_category                  object\n",
       "dtype: object"
      ]
     },
     "execution_count": 34,
     "metadata": {},
     "output_type": "execute_result"
    }
   ],
   "source": [
    "df1.dtypes"
   ]
  },
  {
   "cell_type": "markdown",
   "id": "d02e247b-fdf7-428f-a230-a859fdd3bd77",
   "metadata": {},
   "source": [
    "### 3.1 Analyzing Order Patterns in Relation to Discounts"
   ]
  },
  {
   "cell_type": "markdown",
   "id": "762e93d6-c840-4bc9-955b-ceab95f1cf94",
   "metadata": {},
   "source": [
    "Objective:\n",
    "To understand if the introduction or availability of discounts affects order patterns – both in terms of quantity and frequency."
   ]
  },
  {
   "cell_type": "markdown",
   "id": "8192e261-6cd0-4d97-a035-a6ee22086af6",
   "metadata": {},
   "source": [
    "#### 3.1.1 Understand basic metrics"
   ]
  },
  {
   "cell_type": "code",
   "execution_count": 35,
   "id": "45f8588d-3302-4b4c-8f72-e8353dcb31b7",
   "metadata": {
    "tags": []
   },
   "outputs": [
    {
     "name": "stdout",
     "output_type": "stream",
     "text": [
      "The total orders are: 194788, the average order values is: 606.3651910281948, and the average items per order are: 1.4123354621434585\n"
     ]
    }
   ],
   "source": [
    "total_orders = df1['order_id'].nunique()\n",
    "avg_order_value = df1.groupby('order_id')['total_paid'].first().mean()\n",
    "\n",
    "avg_items_per_order = df1.groupby('order_id').size().mean()\n",
    "print(f'The total orders are: {total_orders}, the average order values is: {avg_order_value}, and the average items per order are: {avg_items_per_order}')\n"
   ]
  },
  {
   "cell_type": "markdown",
   "id": "67e0dec2-70ee-4e63-a163-8578861c48ce",
   "metadata": {},
   "source": [
    "Let me check if all total_paid values are the same within each order"
   ]
  },
  {
   "cell_type": "code",
   "execution_count": 36,
   "id": "0519f9c7-335d-412d-97d9-fd340818cd4a",
   "metadata": {
    "tags": []
   },
   "outputs": [
    {
     "name": "stdout",
     "output_type": "stream",
     "text": [
      "All orders have consistent 'total_paid' values. Therefore I can use the .first() method.\n"
     ]
    }
   ],
   "source": [
    "unique_paid_counts = df1.groupby('order_id')['total_paid'].nunique()\n",
    "inconsistent_orders = unique_paid_counts[unique_paid_counts > 1]\n",
    "if not inconsistent_orders.empty:\n",
    "    print(\"There are orders with inconsistent 'total_paid' values:\")\n",
    "    print(inconsistent_orders)\n",
    "else:\n",
    "    print(\"All orders have consistent 'total_paid' values. Therefore I can use the .first() method.\")"
   ]
  },
  {
   "cell_type": "markdown",
   "id": "3d0e723d-9780-4ab7-9706-3ad26098d17d",
   "metadata": {},
   "source": [
    "#### 3.1.2 Compare Metrics"
   ]
  },
  {
   "cell_type": "code",
   "execution_count": 37,
   "id": "5ba215e5-95a9-4ab0-8e29-fb7b03a11304",
   "metadata": {
    "tags": []
   },
   "outputs": [],
   "source": [
    "avg_order_value_discounted =(\n",
    "    df1[df1['order_inc_promo'] == True]\n",
    "    .groupby('order_id')['total_paid']\n",
    "    .sum()\n",
    "    .mean()\n",
    "    .round(2)\n",
    ")\n",
    "avg_order_value_non_discounted =(\n",
    "    df1[df1['order_inc_promo'] == False]\n",
    "    .groupby('order_id')['total_paid']\n",
    "    .sum()\n",
    "    .mean()\n",
    "    .round(2)\n",
    ")"
   ]
  },
  {
   "cell_type": "code",
   "execution_count": 38,
   "id": "38d69fae-6751-4cb8-b779-bcdac08ddb2e",
   "metadata": {
    "tags": []
   },
   "outputs": [],
   "source": [
    "avg_items_discounted =(\n",
    "    df1[df1['order_inc_promo'] == True]\n",
    "    .groupby('order_id')['product_quantity']\n",
    "    .sum()\n",
    "    .mean()\n",
    "    .round(2)\n",
    ")\n",
    "avg_items_non_discounted =(\n",
    "    df1[df1['order_inc_promo'] == False]\n",
    "    .groupby('order_id')['product_quantity']\n",
    "    .sum()\n",
    "    .mean()\n",
    "    .round(2)\n",
    ")"
   ]
  },
  {
   "cell_type": "code",
   "execution_count": 39,
   "id": "715125db-0084-412d-896a-f1dcd14561f6",
   "metadata": {
    "tags": []
   },
   "outputs": [
    {
     "name": "stdout",
     "output_type": "stream",
     "text": [
      "The average order value of discounted orders is: 1432.66, compared to the average value of non discounted orders: 358.11. Moreover, the average number of items in an order with prmotion is: 1.59, while it is : 1.22 for non discounted orders.\n"
     ]
    }
   ],
   "source": [
    "print(f'The average order value of discounted orders is: {avg_order_value_discounted}, compared to the average value of non discounted orders: {avg_order_value_non_discounted}\\\n",
    ". Moreover, the average number of items in an order with prmotion is: {avg_items_discounted}, while it is : {avg_items_non_discounted} for non discounted orders.')"
   ]
  },
  {
   "cell_type": "markdown",
   "id": "bc59baa2-b9a1-467a-ab29-c42876381b2f",
   "metadata": {},
   "source": [
    "Let us only look at completed orders for now."
   ]
  },
  {
   "cell_type": "code",
   "execution_count": 58,
   "id": "b09be89e-ec14-410e-ac5c-4ed0e4e530ba",
   "metadata": {
    "tags": []
   },
   "outputs": [],
   "source": [
    "df_compl = df.loc[df['state']=='Completed']\n",
    "avg_order_value_discounted_c =(\n",
    "    df_compl[df_compl['order_inc_promo'] == True]\n",
    "    .groupby('order_id')['total_paid']\n",
    "    .sum()\n",
    "    .mean()\n",
    "    .round(2)\n",
    ")\n",
    "avg_order_value_non_discounted_c =(\n",
    "    df_compl[df_compl['order_inc_promo'] == False]\n",
    "    .groupby('order_id')['total_paid']\n",
    "    .sum()\n",
    "    .mean()\n",
    "    .round(2)\n",
    ")\n",
    "avg_items_discounted_c =(\n",
    "    df_compl[df_compl['order_inc_promo'] == True]\n",
    "    .groupby('order_id')['product_quantity']\n",
    "    .sum()\n",
    "    .mean()\n",
    "    .round(2)\n",
    ")\n",
    "avg_items_non_discounted_c =(\n",
    "    df_compl[df_compl['order_inc_promo'] == False]\n",
    "    .groupby('order_id')['product_quantity']\n",
    "    .sum()\n",
    "    .mean()\n",
    "    .round(2)\n",
    ")"
   ]
  },
  {
   "cell_type": "code",
   "execution_count": 59,
   "id": "31743ab6-0d6f-4ffd-a1d7-0fed8c3594bc",
   "metadata": {
    "tags": []
   },
   "outputs": [
    {
     "name": "stdout",
     "output_type": "stream",
     "text": [
      "For completed orders the summary looks like: The average order value of discounted orders is: 533.81, compared to the average value of non discounted orders: 266.35. Moreover, the average number of items in an order with prmotion is: 1.49, while it is : 1.23 for non discounted orders.\n"
     ]
    }
   ],
   "source": [
    "print(f'For completed orders the summary looks like: The average order value of discounted orders is: {avg_order_value_discounted_c}, compared to the average value of non discounted orders: {avg_order_value_non_discounted_c}\\\n",
    ". Moreover, the average number of items in an order with prmotion is: {avg_items_discounted_c}, while it is : {avg_items_non_discounted_c} for non discounted orders.')"
   ]
  },
  {
   "cell_type": "markdown",
   "id": "49d4e614-59c1-4e6a-b066-fd35e4904b02",
   "metadata": {},
   "source": [
    "### 3.2 Temporal Analysis"
   ]
  },
  {
   "cell_type": "code",
   "execution_count": null,
   "id": "10360a70-baa0-4e23-901c-830cd17db9e9",
   "metadata": {
    "tags": []
   },
   "outputs": [],
   "source": [
    "df1['created_month'] = df1['created_date'].dt.month # this is an integer, maybe change later\n",
    "monthly_discounted_orders = df1[df1['price_promotion']].groupby('created_month').size()\n",
    "monthly_discounted_orders"
   ]
  },
  {
   "cell_type": "markdown",
   "id": "f56f5fb7-7844-4f25-ac0d-1ad25b71daa7",
   "metadata": {},
   "source": [
    "For now only use completed orders, since otherwise we cannot infer about the promotion."
   ]
  },
  {
   "cell_type": "code",
   "execution_count": null,
   "id": "a4532581-0c3b-41a7-bc32-77bb1bc4b72b",
   "metadata": {
    "tags": []
   },
   "outputs": [],
   "source": [
    "df_compl['created_month'] = df_compl['created_date'].dt.month # this is an integer, maybe change later\n",
    "monthly_discounted_orders_c = df_compl[df_compl['price_promotion']].groupby('created_month').size()"
   ]
  },
  {
   "cell_type": "markdown",
   "id": "fb505492-de45-4389-b467-f534969e1445",
   "metadata": {},
   "source": [
    "### 3.3 Visual Analysis"
   ]
  },
  {
   "cell_type": "code",
   "execution_count": 56,
   "id": "adc44c71-095c-4be8-8273-5f225d16058e",
   "metadata": {
    "tags": []
   },
   "outputs": [
    {
     "data": {
      "image/png": "[encoded data removed]",
      "text/plain": [
       "<Figure size 640x480 with 1 Axes>"
      ]
     },
     "metadata": {},
     "output_type": "display_data"
    },
    {
     "data": {
      "image/png": "[encoded data removed]",
      "text/plain": [
       "<Figure size 640x480 with 1 Axes>"
      ]
     },
     "metadata": {},
     "output_type": "display_data"
    }
   ],
   "source": [
    "import matplotlib.pyplot as plt\n",
    "\n",
    "# Average order values comparison\n",
    "plt.bar(['Discounted', 'Non-Discounted'], [avg_order_value_discounted, avg_order_value_non_discounted])\n",
    "plt.title('Average Order Values')\n",
    "plt.ylabel('Value')\n",
    "plt.show()\n",
    "\n",
    "# Monthly trends of discounted orders\n",
    "monthly_discounted_orders.plot(kind='bar')\n",
    "plt.title('Monthly Trend of Discounted Orders')\n",
    "plt.ylabel('Number of Orders')\n",
    "plt.xlabel('Month')\n",
    "plt.show()\n"
   ]
  },
  {
   "cell_type": "code",
   "execution_count": 57,
   "id": "10ccad04-49f2-4ee3-99e2-c8e30520609a",
   "metadata": {
    "tags": []
   },
   "outputs": [
    {
     "data": {
      "image/png": "[encoded data removed]",
      "text/plain": [
       "<Figure size 640x480 with 1 Axes>"
      ]
     },
     "metadata": {},
     "output_type": "display_data"
    },
    {
     "data": {
      "image/png": "[encoded data removed]",
      "text/plain": [
       "<Figure size 640x480 with 1 Axes>"
      ]
     },
     "metadata": {},
     "output_type": "display_data"
    }
   ],
   "source": [
    "\n",
    "# Average order values comparison\n",
    "plt.bar(['Discounted', 'Non-Discounted'], [avg_order_value_discounted_c, avg_order_value_non_discounted_c])\n",
    "plt.title('Average Order Values')\n",
    "plt.ylabel('Value')\n",
    "plt.show()\n",
    "\n",
    "# Monthly trends of discounted orders\n",
    "monthly_discounted_orders_c.plot(kind='bar')\n",
    "plt.title('Monthly Trend of Discounted Orders')\n",
    "plt.ylabel('Number of Orders')\n",
    "plt.xlabel('Month')\n",
    "plt.show()\n"
   ]
  },
  {
   "cell_type": "markdown",
   "id": "5f1d8787-55b3-4d1f-9732-6e8d32d21700",
   "metadata": {},
   "source": [
    "Possible Conclusions:\n",
    "\n",
    "- If orders with discounts have a significantly higher average value or quantity, it suggests discounts might be driving larger orders.\n",
    "- If there's a temporal trend showing increased discount orders during specific times, it might suggest seasonal trends or the effects of periodic discount campaigns."
   ]
  },
  {
   "cell_type": "markdown",
   "id": "9dc3c169-6125-4600-85a1-459f5c0753e6",
   "metadata": {},
   "source": [
    "### 3.4 Which Items are bought together"
   ]
  },
  {
   "cell_type": "code",
   "execution_count": 42,
   "id": "160b84c3-49e7-4b14-89c5-acdbea1f93cb",
   "metadata": {
    "tags": []
   },
   "outputs": [],
   "source": [
    "df['grouped'] = df.groupby('order_id')['name'].transform(lambda x: ','.join(x))"
   ]
  },
  {
   "cell_type": "code",
   "execution_count": 43,
   "id": "e7fd82c0-547f-4152-bc12-27b754f854e4",
   "metadata": {
    "tags": []
   },
   "outputs": [
    {
     "name": "stdout",
     "output_type": "stream",
     "text": [
      "('Apple Magic Trackpad 2', 'Office 365 Personal 1 license 1 M ± or') 21039\n",
      "('IMac AppleCare Protection Plan', 'Office 365 Personal 1 license 1 M ± or') 17664\n",
      "('IMac AppleCare Protection Plan', 'Apple Magic Trackpad 2') 14153\n",
      "('AppleCare Protection Plan MacBook / Air / Pro 13 \"', 'My MW Case MacBook Pro 13 \"(Late 2016) Black') 9462\n",
      "('My MW Case MacBook Pro 13 \"(Late 2016) Black', 'Satechi Hub Multiport USB-C 4K HDMI Space Gray') 4735\n",
      "('AppleCare Protection Plan MacBook / Air / Pro 13 \"', 'Satechi Multiport USB Hub HDMI 4K-C Plata') 4732\n",
      "('My MW Case MacBook Pro 13 \"(Late 2016) Black', 'Satechi Multiport USB Hub HDMI 4K-C Plata') 4724\n",
      "('AppleCare Protection Plan MacBook / Air / Pro 13 \"', 'Satechi Hub Multiport USB-C 4K HDMI Space Gray') 4722\n",
      "('Apple Magic Trackpad 2', 'IMac AppleCare Protection Plan') 3538\n",
      "('AppleCare Protection Plan MacBook / Air / Pro 13 \"', 'Office 365 Personal 1 license 1 M ± or') 3170\n"
     ]
    }
   ],
   "source": [
    "from itertools import combinations\n",
    "from collections import Counter\n",
    "\n",
    "count = Counter()\n",
    "\n",
    "for row in df['grouped']:\n",
    "    row_list = row.split(',')\n",
    "    count.update(Counter(combinations(row_list, 2)))\n",
    "    \n",
    "# Print only the first few, since dataframe is too large.\n",
    "for item, freq in count.most_common(10):\n",
    "    print(item, freq)"
   ]
  },
  {
   "cell_type": "markdown",
   "id": "0a864ecc-df69-447e-bcd4-7d6536426624",
   "metadata": {},
   "source": [
    "### 3.5 Analyzing Customer Behavior and Retention with Respect to Discounts:"
   ]
  },
  {
   "cell_type": "markdown",
   "id": "944cddb8-4e21-4e93-840b-4d8f4b33e2a5",
   "metadata": {},
   "source": [
    "#### 3.5.1 Retention Rate with Respect to Discounts:"
   ]
  },
  {
   "cell_type": "markdown",
   "id": "ae4f03bb-7f3a-4bae-b63f-3ef451f27e13",
   "metadata": {},
   "source": [
    "To understand if customers acquired during promotional periods are more likely to come back."
   ]
  },
  {
   "cell_type": "code",
   "execution_count": 44,
   "id": "92d671a7-f729-4626-a142-a006bd79d70b",
   "metadata": {
    "tags": []
   },
   "outputs": [
    {
     "data": {
      "text/html": [
       "<div>\n",
       "<style scoped>\n",
       "    .dataframe tbody tr th:only-of-type {\n",
       "        vertical-align: middle;\n",
       "    }\n",
       "\n",
       "    .dataframe tbody tr th {\n",
       "        vertical-align: top;\n",
       "    }\n",
       "\n",
       "    .dataframe thead th {\n",
       "        text-align: right;\n",
       "    }\n",
       "</style>\n",
       "<table border=\"1\" class=\"dataframe\">\n",
       "  <thead>\n",
       "    <tr style=\"text-align: right;\">\n",
       "      <th></th>\n",
       "      <th>week</th>\n",
       "      <th>month</th>\n",
       "      <th>quarter</th>\n",
       "      <th>year</th>\n",
       "      <th>promo_perc</th>\n",
       "    </tr>\n",
       "  </thead>\n",
       "  <tbody>\n",
       "    <tr>\n",
       "      <th>0</th>\n",
       "      <td>1</td>\n",
       "      <td>1</td>\n",
       "      <td>1</td>\n",
       "      <td>2017</td>\n",
       "      <td>0.22</td>\n",
       "    </tr>\n",
       "    <tr>\n",
       "      <th>1</th>\n",
       "      <td>1</td>\n",
       "      <td>1</td>\n",
       "      <td>1</td>\n",
       "      <td>2018</td>\n",
       "      <td>0.19</td>\n",
       "    </tr>\n",
       "    <tr>\n",
       "      <th>2</th>\n",
       "      <td>2</td>\n",
       "      <td>1</td>\n",
       "      <td>1</td>\n",
       "      <td>2017</td>\n",
       "      <td>0.26</td>\n",
       "    </tr>\n",
       "    <tr>\n",
       "      <th>3</th>\n",
       "      <td>2</td>\n",
       "      <td>1</td>\n",
       "      <td>1</td>\n",
       "      <td>2018</td>\n",
       "      <td>0.24</td>\n",
       "    </tr>\n",
       "    <tr>\n",
       "      <th>4</th>\n",
       "      <td>3</td>\n",
       "      <td>1</td>\n",
       "      <td>1</td>\n",
       "      <td>2017</td>\n",
       "      <td>0.22</td>\n",
       "    </tr>\n",
       "    <tr>\n",
       "      <th>...</th>\n",
       "      <td>...</td>\n",
       "      <td>...</td>\n",
       "      <td>...</td>\n",
       "      <td>...</td>\n",
       "      <td>...</td>\n",
       "    </tr>\n",
       "    <tr>\n",
       "      <th>71</th>\n",
       "      <td>49</td>\n",
       "      <td>12</td>\n",
       "      <td>4</td>\n",
       "      <td>2017</td>\n",
       "      <td>0.16</td>\n",
       "    </tr>\n",
       "    <tr>\n",
       "      <th>72</th>\n",
       "      <td>50</td>\n",
       "      <td>12</td>\n",
       "      <td>4</td>\n",
       "      <td>2017</td>\n",
       "      <td>0.15</td>\n",
       "    </tr>\n",
       "    <tr>\n",
       "      <th>73</th>\n",
       "      <td>51</td>\n",
       "      <td>12</td>\n",
       "      <td>4</td>\n",
       "      <td>2017</td>\n",
       "      <td>0.21</td>\n",
       "    </tr>\n",
       "    <tr>\n",
       "      <th>74</th>\n",
       "      <td>52</td>\n",
       "      <td>1</td>\n",
       "      <td>1</td>\n",
       "      <td>2016</td>\n",
       "      <td>0.21</td>\n",
       "    </tr>\n",
       "    <tr>\n",
       "      <th>75</th>\n",
       "      <td>52</td>\n",
       "      <td>12</td>\n",
       "      <td>4</td>\n",
       "      <td>2017</td>\n",
       "      <td>0.20</td>\n",
       "    </tr>\n",
       "  </tbody>\n",
       "</table>\n",
       "<p>76 rows × 5 columns</p>\n",
       "</div>"
      ],
      "text/plain": [
       "    week  month  quarter  year  promo_perc\n",
       "0      1      1        1  2017        0.22\n",
       "1      1      1        1  2018        0.19\n",
       "2      2      1        1  2017        0.26\n",
       "3      2      1        1  2018        0.24\n",
       "4      3      1        1  2017        0.22\n",
       "..   ...    ...      ...   ...         ...\n",
       "71    49     12        4  2017        0.16\n",
       "72    50     12        4  2017        0.15\n",
       "73    51     12        4  2017        0.21\n",
       "74    52      1        1  2016        0.21\n",
       "75    52     12        4  2017        0.20\n",
       "\n",
       "[76 rows x 5 columns]"
      ]
     },
     "execution_count": 44,
     "metadata": {},
     "output_type": "execute_result"
    }
   ],
   "source": [
    "grouped = (\n",
    "    df1\n",
    "    .loc[df1['state'] == 'Completed']\n",
    "    .groupby(['week', 'month', 'quarter', 'year'])\n",
    "    ['promo_perc']\n",
    "    .mean()\n",
    "    .reset_index()\n",
    ")\n",
    "\n",
    "grouped"
   ]
  },
  {
   "cell_type": "code",
   "execution_count": 45,
   "id": "5f81290b-802a-4e3f-a6df-a0664a5a4a8d",
   "metadata": {
    "tags": []
   },
   "outputs": [
    {
     "data": {
      "image/png": "[encoded data removed]",
      "text/plain": [
       "<Figure size 1500x700 with 1 Axes>"
      ]
     },
     "metadata": {},
     "output_type": "display_data"
    }
   ],
   "source": [
    "import matplotlib.pyplot as plt\n",
    "\n",
    "# Creating 'week-year' for plotting\n",
    "grouped['week-year'] = grouped['week'].astype(str) + '-' + grouped['year'].astype(str)\n",
    "\n",
    "# Group by 'week-year' and calculate the mean of 'promo_perc'\n",
    "weekly_promo = grouped.groupby('week-year')['promo_perc'].mean()\n",
    "\n",
    "# Plot\n",
    "plt.figure(figsize=(15, 7))\n",
    "weekly_promo.plot(color='steelblue')\n",
    "plt.title('Average Promotional Percentage Over Weeks', fontsize=18)\n",
    "plt.xlabel('Week-Year', fontsize=15)\n",
    "plt.ylabel('Average Promotional Percentage', fontsize=15)\n",
    "plt.xticks(rotation=45)\n",
    "plt.tight_layout()\n",
    "plt.show()\n"
   ]
  },
  {
   "cell_type": "code",
   "execution_count": 46,
   "id": "8b4ee0b2-7624-4d1b-ad4d-6aa832e97789",
   "metadata": {
    "tags": []
   },
   "outputs": [
    {
     "name": "stdout",
     "output_type": "stream",
     "text": [
      "week  created_date  created_date  year\n",
      "1     1             1             2017   0.22\n",
      "                                  2018   0.19\n",
      "2     1             1             2017   0.26\n",
      "                                  2018   0.24\n",
      "3     1             1             2017   0.22\n",
      "                                         ... \n",
      "49    12            4             2017   0.16\n",
      "50    12            4             2017   0.15\n",
      "51    12            4             2017   0.21\n",
      "52    1             1             2016   0.21\n",
      "      12            4             2017   0.20\n",
      "Name: promo_perc, Length: 76, dtype: float64\n"
     ]
    }
   ],
   "source": [
    " grouped =(\n",
    "     df1\n",
    "     .loc[df1['state']=='Completed']\n",
    "     .groupby([df1['created_date'].dt.isocalendar().week, df1['created_date'].dt.month, df1['created_date'].dt.quarter, df1['created_date'].dt.isocalendar().year])\n",
    "     ['promo_perc']\n",
    "     .mean()\n",
    " )\n",
    "#grouped.columns = ['week', 'month', 'quarter', 'promo_perc']\n",
    "grouped.columns = ['week', 'month', 'quarter', 'promo_perc']\n",
    "print(grouped)"
   ]
  },
  {
   "cell_type": "markdown",
   "id": "a126cd67-6f4d-4c17-adb3-72762794d072",
   "metadata": {},
   "source": [
    "Make the Line Plot"
   ]
  },
  {
   "cell_type": "markdown",
   "id": "c0a7df19-f59a-416b-96af-435fedd918b5",
   "metadata": {},
   "source": [
    "look for weeks/months/days where promotion in percentage/ price high. Which one to use?"
   ]
  },
  {
   "cell_type": "markdown",
   "id": "de657e48-1d73-4cb2-b2f4-60bdd6e302d7",
   "metadata": {},
   "source": [
    "## 4. Feature Analysis"
   ]
  },
  {
   "cell_type": "markdown",
   "id": "5088ddaa-53a4-47ed-93d8-3b5c2e16327f",
   "metadata": {},
   "source": [
    "- Scatterplot\n",
    "- Heatmap Correlation\n",
    "- Pairplot\n",
    "- Groupby comparison"
   ]
  },
  {
   "cell_type": "markdown",
   "id": "a85b97e7-76a8-4609-897c-94fac91fa105",
   "metadata": {},
   "source": [
    "Make a column, boolean with completed = True and the rest False (state)"
   ]
  },
  {
   "cell_type": "code",
   "execution_count": null,
   "id": "73bc2f53-11af-4adb-9321-f7e5acf442ce",
   "metadata": {},
   "outputs": [],
   "source": []
  },
  {
   "cell_type": "code",
   "execution_count": 47,
   "id": "21b854bc-8d7a-43bc-861b-a05fbf98aba1",
   "metadata": {
    "tags": []
   },
   "outputs": [
    {
     "data": {
      "image/png": "[encoded data removed]",
      "text/plain": [
       "<Figure size 640x480 with 2 Axes>"
      ]
     },
     "metadata": {},
     "output_type": "display_data"
    }
   ],
   "source": [
    "df1.plot(kind='scatter', x='unit_price', y='price', c='state', title='Price vs Promotion Price');"
   ]
  },
  {
   "cell_type": "code",
   "execution_count": 48,
   "id": "aa788dfb-0a77-401e-8cf1-ad62e193518f",
   "metadata": {
    "tags": []
   },
   "outputs": [
    {
     "data": {
      "image/png": "[encoded data removed]",
      "text/plain": [
       "<Figure size 666.625x500 with 1 Axes>"
      ]
     },
     "metadata": {},
     "output_type": "display_data"
    }
   ],
   "source": [
    "sns.lmplot(x='unit_price', y='price', data=df1, hue='state', fit_reg=False);"
   ]
  },
  {
   "cell_type": "code",
   "execution_count": 49,
   "id": "aec27632-835a-4a56-b111-24d660e35fc7",
   "metadata": {
    "tags": []
   },
   "outputs": [
    {
     "data": {
      "text/html": [
       "<div>\n",
       "<style scoped>\n",
       "    .dataframe tbody tr th:only-of-type {\n",
       "        vertical-align: middle;\n",
       "    }\n",
       "\n",
       "    .dataframe tbody tr th {\n",
       "        vertical-align: top;\n",
       "    }\n",
       "\n",
       "    .dataframe thead th {\n",
       "        text-align: right;\n",
       "    }\n",
       "</style>\n",
       "<table border=\"1\" class=\"dataframe\">\n",
       "  <thead>\n",
       "    <tr style=\"text-align: right;\">\n",
       "      <th></th>\n",
       "      <th>order_id</th>\n",
       "      <th>created_date</th>\n",
       "      <th>total_paid</th>\n",
       "      <th>state</th>\n",
       "      <th>product_quantity</th>\n",
       "      <th>sku</th>\n",
       "      <th>unit_price</th>\n",
       "      <th>date</th>\n",
       "      <th>short</th>\n",
       "      <th>long</th>\n",
       "      <th>name</th>\n",
       "      <th>desc</th>\n",
       "      <th>price</th>\n",
       "      <th>in_stock</th>\n",
       "      <th>type</th>\n",
       "      <th>price_promotion</th>\n",
       "      <th>promo_price</th>\n",
       "      <th>unit_price_total</th>\n",
       "      <th>order_price</th>\n",
       "      <th>order_inc_promo</th>\n",
       "      <th>diff_paid_totalprice</th>\n",
       "      <th>promo_perc</th>\n",
       "      <th>year</th>\n",
       "      <th>week</th>\n",
       "      <th>day</th>\n",
       "      <th>month</th>\n",
       "      <th>quarter</th>\n",
       "      <th>price_category</th>\n",
       "      <th>created_month</th>\n",
       "    </tr>\n",
       "  </thead>\n",
       "  <tbody>\n",
       "    <tr>\n",
       "      <th>0</th>\n",
       "      <td>343034</td>\n",
       "      <td>2017-04-04 10:47:28</td>\n",
       "      <td>23.99</td>\n",
       "      <td>Shopping Basket</td>\n",
       "      <td>1.00</td>\n",
       "      <td>8MO0008</td>\n",
       "      <td>23.99</td>\n",
       "      <td>2017-04-04 10:47:28</td>\n",
       "      <td>8MO</td>\n",
       "      <td>8Mobility</td>\n",
       "      <td>8Mobility iSlice Micro SD Adapter Macbook Pro ...</td>\n",
       "      <td>Micro SD card adapter for MacBook Pro Retina 1...</td>\n",
       "      <td>35.00</td>\n",
       "      <td>False</td>\n",
       "      <td>12585395</td>\n",
       "      <td>True</td>\n",
       "      <td>23.99</td>\n",
       "      <td>23.99</td>\n",
       "      <td>23.99</td>\n",
       "      <td>True</td>\n",
       "      <td>NaN</td>\n",
       "      <td>0.31</td>\n",
       "      <td>2017</td>\n",
       "      <td>14</td>\n",
       "      <td>2</td>\n",
       "      <td>4</td>\n",
       "      <td>2</td>\n",
       "      <td>0-30</td>\n",
       "      <td>4</td>\n",
       "    </tr>\n",
       "    <tr>\n",
       "      <th>1</th>\n",
       "      <td>343261</td>\n",
       "      <td>2017-04-04 18:43:37</td>\n",
       "      <td>23.99</td>\n",
       "      <td>Shopping Basket</td>\n",
       "      <td>1.00</td>\n",
       "      <td>8MO0008</td>\n",
       "      <td>23.99</td>\n",
       "      <td>2017-04-04 18:43:37</td>\n",
       "      <td>8MO</td>\n",
       "      <td>8Mobility</td>\n",
       "      <td>8Mobility iSlice Micro SD Adapter Macbook Pro ...</td>\n",
       "      <td>Micro SD card adapter for MacBook Pro Retina 1...</td>\n",
       "      <td>35.00</td>\n",
       "      <td>False</td>\n",
       "      <td>12585395</td>\n",
       "      <td>True</td>\n",
       "      <td>23.99</td>\n",
       "      <td>23.99</td>\n",
       "      <td>23.99</td>\n",
       "      <td>True</td>\n",
       "      <td>NaN</td>\n",
       "      <td>0.31</td>\n",
       "      <td>2017</td>\n",
       "      <td>14</td>\n",
       "      <td>2</td>\n",
       "      <td>4</td>\n",
       "      <td>2</td>\n",
       "      <td>0-30</td>\n",
       "      <td>4</td>\n",
       "    </tr>\n",
       "    <tr>\n",
       "      <th>2</th>\n",
       "      <td>344410</td>\n",
       "      <td>2017-04-08 18:41:41</td>\n",
       "      <td>30.98</td>\n",
       "      <td>Pending</td>\n",
       "      <td>1.00</td>\n",
       "      <td>8MO0008</td>\n",
       "      <td>23.99</td>\n",
       "      <td>2017-04-08 00:59:00</td>\n",
       "      <td>8MO</td>\n",
       "      <td>8Mobility</td>\n",
       "      <td>8Mobility iSlice Micro SD Adapter Macbook Pro ...</td>\n",
       "      <td>Micro SD card adapter for MacBook Pro Retina 1...</td>\n",
       "      <td>35.00</td>\n",
       "      <td>False</td>\n",
       "      <td>12585395</td>\n",
       "      <td>True</td>\n",
       "      <td>23.99</td>\n",
       "      <td>23.99</td>\n",
       "      <td>23.99</td>\n",
       "      <td>True</td>\n",
       "      <td>NaN</td>\n",
       "      <td>0.31</td>\n",
       "      <td>2017</td>\n",
       "      <td>14</td>\n",
       "      <td>6</td>\n",
       "      <td>4</td>\n",
       "      <td>2</td>\n",
       "      <td>0-30</td>\n",
       "      <td>4</td>\n",
       "    </tr>\n",
       "    <tr>\n",
       "      <th>3</th>\n",
       "      <td>345623</td>\n",
       "      <td>2017-04-12 11:06:14</td>\n",
       "      <td>38.97</td>\n",
       "      <td>Pending</td>\n",
       "      <td>1.00</td>\n",
       "      <td>8MO0009</td>\n",
       "      <td>23.99</td>\n",
       "      <td>2017-04-12 10:38:38</td>\n",
       "      <td>8MO</td>\n",
       "      <td>8Mobility</td>\n",
       "      <td>8Mobility iSlice Micro SD Adapter for Macbook ...</td>\n",
       "      <td>Micro SD card adapter for MacBook Pro Retina 1...</td>\n",
       "      <td>35.00</td>\n",
       "      <td>True</td>\n",
       "      <td>12585395</td>\n",
       "      <td>True</td>\n",
       "      <td>23.99</td>\n",
       "      <td>23.99</td>\n",
       "      <td>34.98</td>\n",
       "      <td>True</td>\n",
       "      <td>NaN</td>\n",
       "      <td>0.31</td>\n",
       "      <td>2017</td>\n",
       "      <td>15</td>\n",
       "      <td>3</td>\n",
       "      <td>4</td>\n",
       "      <td>2</td>\n",
       "      <td>0-30</td>\n",
       "      <td>4</td>\n",
       "    </tr>\n",
       "    <tr>\n",
       "      <th>4</th>\n",
       "      <td>345623</td>\n",
       "      <td>2017-04-12 11:06:14</td>\n",
       "      <td>38.97</td>\n",
       "      <td>Pending</td>\n",
       "      <td>1.00</td>\n",
       "      <td>ZAG0022</td>\n",
       "      <td>10.99</td>\n",
       "      <td>2017-04-12 10:59:55</td>\n",
       "      <td>ZAG</td>\n",
       "      <td>ZaggKeys</td>\n",
       "      <td>Zagg invisibleSHIELD Screen Protector Apple Wa...</td>\n",
       "      <td>Screen Protector for Apple Watch.</td>\n",
       "      <td>16.99</td>\n",
       "      <td>True</td>\n",
       "      <td>2425</td>\n",
       "      <td>True</td>\n",
       "      <td>10.99</td>\n",
       "      <td>10.99</td>\n",
       "      <td>34.98</td>\n",
       "      <td>True</td>\n",
       "      <td>NaN</td>\n",
       "      <td>0.35</td>\n",
       "      <td>2017</td>\n",
       "      <td>15</td>\n",
       "      <td>3</td>\n",
       "      <td>4</td>\n",
       "      <td>2</td>\n",
       "      <td>0-30</td>\n",
       "      <td>4</td>\n",
       "    </tr>\n",
       "  </tbody>\n",
       "</table>\n",
       "</div>"
      ],
      "text/plain": [
       "  order_id        created_date  total_paid            state  product_quantity  \\\n",
       "0   343034 2017-04-04 10:47:28       23.99  Shopping Basket              1.00   \n",
       "1   343261 2017-04-04 18:43:37       23.99  Shopping Basket              1.00   \n",
       "2   344410 2017-04-08 18:41:41       30.98          Pending              1.00   \n",
       "3   345623 2017-04-12 11:06:14       38.97          Pending              1.00   \n",
       "4   345623 2017-04-12 11:06:14       38.97          Pending              1.00   \n",
       "\n",
       "       sku  unit_price                date short       long  \\\n",
       "0  8MO0008       23.99 2017-04-04 10:47:28   8MO  8Mobility   \n",
       "1  8MO0008       23.99 2017-04-04 18:43:37   8MO  8Mobility   \n",
       "2  8MO0008       23.99 2017-04-08 00:59:00   8MO  8Mobility   \n",
       "3  8MO0009       23.99 2017-04-12 10:38:38   8MO  8Mobility   \n",
       "4  ZAG0022       10.99 2017-04-12 10:59:55   ZAG   ZaggKeys   \n",
       "\n",
       "                                                name  \\\n",
       "0  8Mobility iSlice Micro SD Adapter Macbook Pro ...   \n",
       "1  8Mobility iSlice Micro SD Adapter Macbook Pro ...   \n",
       "2  8Mobility iSlice Micro SD Adapter Macbook Pro ...   \n",
       "3  8Mobility iSlice Micro SD Adapter for Macbook ...   \n",
       "4  Zagg invisibleSHIELD Screen Protector Apple Wa...   \n",
       "\n",
       "                                                desc  price  in_stock  \\\n",
       "0  Micro SD card adapter for MacBook Pro Retina 1...  35.00     False   \n",
       "1  Micro SD card adapter for MacBook Pro Retina 1...  35.00     False   \n",
       "2  Micro SD card adapter for MacBook Pro Retina 1...  35.00     False   \n",
       "3  Micro SD card adapter for MacBook Pro Retina 1...  35.00      True   \n",
       "4                  Screen Protector for Apple Watch.  16.99      True   \n",
       "\n",
       "       type  price_promotion  promo_price  unit_price_total  order_price  \\\n",
       "0  12585395             True        23.99             23.99        23.99   \n",
       "1  12585395             True        23.99             23.99        23.99   \n",
       "2  12585395             True        23.99             23.99        23.99   \n",
       "3  12585395             True        23.99             23.99        34.98   \n",
       "4      2425             True        10.99             10.99        34.98   \n",
       "\n",
       "   order_inc_promo  diff_paid_totalprice  promo_perc  year  week  day  month  \\\n",
       "0             True                   NaN        0.31  2017    14    2      4   \n",
       "1             True                   NaN        0.31  2017    14    2      4   \n",
       "2             True                   NaN        0.31  2017    14    6      4   \n",
       "3             True                   NaN        0.31  2017    15    3      4   \n",
       "4             True                   NaN        0.35  2017    15    3      4   \n",
       "\n",
       "   quarter price_category  created_month  \n",
       "0        2           0-30              4  \n",
       "1        2           0-30              4  \n",
       "2        2           0-30              4  \n",
       "3        2           0-30              4  \n",
       "4        2           0-30              4  "
      ]
     },
     "execution_count": 49,
     "metadata": {},
     "output_type": "execute_result"
    }
   ],
   "source": [
    "df1.head()"
   ]
  },
  {
   "cell_type": "code",
   "execution_count": 50,
   "id": "7157c7cc-565c-43dc-bfeb-1df7ac514e83",
   "metadata": {
    "tags": []
   },
   "outputs": [
    {
     "data": {
      "text/plain": [
       "9841.99"
      ]
     },
     "execution_count": 50,
     "metadata": {},
     "output_type": "execute_result"
    }
   ],
   "source": [
    "df1['unit_price'].max()"
   ]
  },
  {
   "cell_type": "markdown",
   "id": "236563fb-417c-4c8c-a38c-fbd532f5cd47",
   "metadata": {},
   "source": [
    "## My part of the analysis"
   ]
  },
  {
   "cell_type": "markdown",
   "id": "9002b193-5401-45e6-b1e0-a2412240b29e",
   "metadata": {},
   "source": [
    "1. Products bought together (were one/ more discounted) other orders with just one of those items\n",
    "2. Unit_price of items in basket – unit_price of those items bought (do customers wait for promotion?)"
   ]
  },
  {
   "cell_type": "markdown",
   "id": "1221c55b-526c-4133-9a9f-38720bf5b89b",
   "metadata": {},
   "source": [
    "#### Products Bought together"
   ]
  },
  {
   "cell_type": "markdown",
   "id": "2dd2645e-3741-4eb1-9783-efe391257ab6",
   "metadata": {},
   "source": [
    "Let's look at the top 10 orders of two products first"
   ]
  },
  {
   "cell_type": "code",
   "execution_count": 65,
   "id": "44bc5059-2b9e-4ba3-bba6-d0a2ee2a39ce",
   "metadata": {
    "tags": []
   },
   "outputs": [],
   "source": [
    "df['grouped'] = df.groupby('order_id')['name'].transform(lambda x: ','.join(x))"
   ]
  },
  {
   "cell_type": "code",
   "execution_count": 67,
   "id": "3301760e-4aff-40bd-94fa-db92bca3df98",
   "metadata": {
    "tags": []
   },
   "outputs": [],
   "source": [
    "df_compl = df.loc[df['state']=='Completed']\n",
    "df_in_bas =df.loc[df['state']=='Shopping Basket']"
   ]
  },
  {
   "cell_type": "code",
   "execution_count": 63,
   "id": "a422ad02-1390-4143-9fff-a38023a692fc",
   "metadata": {
    "tags": []
   },
   "outputs": [
    {
     "name": "stdout",
     "output_type": "stream",
     "text": [
      "('Apple Magic Trackpad 2', 'Office 365 Personal 1 license 1 M ± or') 21039\n",
      "('IMac AppleCare Protection Plan', 'Office 365 Personal 1 license 1 M ± or') 17664\n",
      "('IMac AppleCare Protection Plan', 'Apple Magic Trackpad 2') 14153\n",
      "('AppleCare Protection Plan MacBook / Air / Pro 13 \"', 'My MW Case MacBook Pro 13 \"(Late 2016) Black') 9462\n",
      "('My MW Case MacBook Pro 13 \"(Late 2016) Black', 'Satechi Hub Multiport USB-C 4K HDMI Space Gray') 4735\n"
     ]
    }
   ],
   "source": [
    "from itertools import combinations\n",
    "from collections import Counter\n",
    "\n",
    "count = Counter()\n",
    "\n",
    "for row in df['grouped']:\n",
    "    row_list = row.split(',')\n",
    "    count.update(Counter(combinations(row_list, 2)))\n",
    "    \n",
    "# Print only the first few, since dataframe is too large.\n",
    "for item, freq in count.most_common(5):\n",
    "    print(item, freq)"
   ]
  },
  {
   "cell_type": "code",
   "execution_count": 70,
   "id": "b71dab62-5366-47cf-920f-e554ddd5330f",
   "metadata": {
    "tags": []
   },
   "outputs": [
    {
     "name": "stdout",
     "output_type": "stream",
     "text": [
      "('AdaptaDrive NewerTech adapter 2.5 \"to 3.5\" SATA', 'OWC In-line Digital Temperature Sensor Kit iMac 2009 & 2010') 92\n",
      "('AdaptaDrive NewerTech adapter 2.5 \"to 3.5\" SATA', 'OWC In-line Digital Temperature Sensor Kit HDD iMac 2011') 72\n",
      "('Apple Lightning Cable Connector to USB 1m White (OEM)', 'OEM 5W USB Power Adapter iPhone iPod and compatible Apple iPod') 67\n",
      "('AdaptaDrive NewerTech adapter 2.5 \"to 3.5\" SATA', 'Samsung 850 EVO SSD Disk 500GB') 66\n",
      "('Apple Magic Mouse 2', 'Spanish Keyboard Keyboard Magic Apple Mac') 65\n",
      "\n",
      "('Apple Magic Trackpad 2', 'Office 365 Personal 1 license 1 M ± or') 21011\n",
      "('IMac AppleCare Protection Plan', 'Office 365 Personal 1 license 1 M ± or') 17612\n",
      "('IMac AppleCare Protection Plan', 'Apple Magic Trackpad 2') 14108\n",
      "('AppleCare Protection Plan MacBook / Air / Pro 13 \"', 'My MW Case MacBook Pro 13 \"(Late 2016) Black') 9379\n",
      "('AppleCare Protection Plan MacBook / Air / Pro 13 \"', 'Satechi Multiport USB Hub HDMI 4K-C Plata') 4713\n"
     ]
    }
   ],
   "source": [
    "count = Counter()\n",
    "\n",
    "for row in df_compl['grouped']:\n",
    "    row_list = row.split(',')\n",
    "    count.update(Counter(combinations(row_list, 2)))\n",
    "    \n",
    "# Print only the first few, since dataframe is too large.\n",
    "for item, freq in count.most_common(5):\n",
    "    print(item, freq)\n",
    "    \n",
    "print('')\n",
    "\n",
    "count = Counter()\n",
    "\n",
    "for row in df_in_bas['grouped']:\n",
    "    row_list = row.split(',')\n",
    "    count.update(Counter(combinations(row_list, 2)))\n",
    "    \n",
    "# Print only the first few, since dataframe is too large.\n",
    "for item, freq in count.most_common(5):\n",
    "    print(item, freq)"
   ]
  },
  {
   "cell_type": "markdown",
   "id": "7d427a52-169e-4b0b-846c-c6b705a0135a",
   "metadata": {},
   "source": [
    "Let's look at the top 10 orders of 3 products"
   ]
  },
  {
   "cell_type": "code",
   "execution_count": 62,
   "id": "b381e5f9-38cf-4393-8efe-5751aa0e891c",
   "metadata": {
    "tags": []
   },
   "outputs": [
    {
     "name": "stdout",
     "output_type": "stream",
     "text": [
      "('IMac AppleCare Protection Plan', 'Apple Magic Trackpad 2', 'Office 365 Personal 1 license 1 M ± or') 14061\n",
      "('AppleCare Protection Plan MacBook / Air / Pro 13 \"', 'My MW Case MacBook Pro 13 \"(Late 2016) Black', 'Satechi Multiport USB Hub HDMI 4K-C Plata') 4712\n",
      "('AppleCare Protection Plan MacBook / Air / Pro 13 \"', 'My MW Case MacBook Pro 13 \"(Late 2016) Black', 'Satechi Hub Multiport USB-C 4K HDMI Space Gray') 4694\n",
      "('Apple Magic Trackpad 2', 'IMac AppleCare Protection Plan', 'Office 365 Personal 1 license 1 M ± or') 3536\n",
      "('Apple Magic Mouse 2', 'AppleCare Protection Plan MacBook / Air / Pro 13 \"', 'Office 365 Personal 1 license 1 M ± or') 1836\n",
      "('Apple Magic Trackpad 2', 'AppleCare Mac Pro', 'Office 365 Personal 1 license 1 M ± or') 1376\n",
      "('AppleCare Protection MacBook Pro 15', 'Belkin Impulse Line Slim Backpack MacBook', 'Satechi Hub Multiport USB-C 4K HDMI Space Gray') 1129\n",
      "('AppleCare Protection Plan Mac mini', 'Apple Magic Trackpad 2', 'Office 365 Personal 1 license 1 M ± or') 941\n",
      "('AppleCare Protection MacBook Pro 15', 'Belkin Impulse Line Slim Backpack MacBook', 'Satechi Multiport USB Hub HDMI 4K-C Plata') 937\n",
      "('AppleCare Protection Plan MacBook / Air / Pro 13 \"', 'Apple Magic Mouse 2', 'Office 365 Personal 1 license 1 M ± or') 896\n"
     ]
    }
   ],
   "source": [
    "from itertools import combinations\n",
    "from collections import Counter\n",
    "\n",
    "count = Counter()\n",
    "\n",
    "for row in df['grouped']:\n",
    "    row_list = row.split(',')\n",
    "    count.update(Counter(combinations(row_list, 3)))\n",
    "    \n",
    "# Print only the first few, since dataframe is too large.\n",
    "for item, freq in count.most_common(10):\n",
    "    print(item, freq)"
   ]
  },
  {
   "cell_type": "markdown",
   "id": "0ec980b2-ad12-4bd2-839d-5dee0c2159c1",
   "metadata": {},
   "source": [
    "#### Items in basket"
   ]
  },
  {
   "cell_type": "code",
   "execution_count": 51,
   "id": "9d9ebb39-69ad-4180-8a64-0e597e26fe1f",
   "metadata": {
    "tags": []
   },
   "outputs": [
    {
     "name": "stdout",
     "output_type": "stream",
     "text": [
      "This worked well. Congratulations\n"
     ]
    }
   ],
   "source": [
    "print('This worked well. Congratulations')"
   ]
  }
 ],
 "metadata": {
  "kernelspec": {
   "display_name": "Python 3 (ipykernel)",
   "language": "python",
   "name": "python3"
  },
  "language_info": {
   "codemirror_mode": {
    "name": "ipython",
    "version": 3
   },
   "file_extension": ".py",
   "mimetype": "text/x-python",
   "name": "python",
   "nbconvert_exporter": "python",
   "pygments_lexer": "ipython3",
   "version": "3.11.4"
  }
 },
 "nbformat": 4,
 "nbformat_minor": 5
}
