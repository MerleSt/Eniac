{
 "cells": [
  {
   "cell_type": "markdown",
   "id": "e89b2bd3-a316-4d91-9776-bb889eab7c43",
   "metadata": {},
   "source": [
    "# Eniac"
   ]
  },
  {
   "cell_type": "markdown",
   "id": "c57afee8-7d59-438d-8bcd-52aa9a7205d3",
   "metadata": {},
   "source": [
    "## Importing Data"
   ]
  },
  {
   "cell_type": "markdown",
   "id": "0211823c-3bf9-4499-aa3a-45bf7b73ba49",
   "metadata": {},
   "source": [
    "Turning them into a dictionary of dataframes."
   ]
  },
  {
   "cell_type": "code",
   "execution_count": 1,
   "id": "777e1675-a39f-4d07-8a98-7b25c50ccfa0",
   "metadata": {
    "tags": []
   },
   "outputs": [],
   "source": [
    "import pandas as pd\n",
    "import numpy as np\n",
    "import matplotlib.pyplot as plt\n",
    "import matplotlib.dates as mdates\n",
    "\n",
    "orders_url = \"https://raw.githubusercontent.com/MerleSt/Eniac/main/Data-Eniac/Data_Cleaned/orders_clean.parquet\"\n",
    "orderlines_url = \"https://raw.githubusercontent.com/MerleSt/Eniac/main/Data-Eniac/Data_Cleaned/orderlines_clean.parquet\"\n",
    "products_url = \"https://raw.githubusercontent.com/MerleSt/Eniac/main/Data-Eniac/Data_Cleaned/products_clean.parquet\"\n",
    "brands_url = \"https://raw.githubusercontent.com/MerleSt/Eniac/main/Data-Eniac/Data_Cleaned/brands_clean.parquet\"\n",
    "\n",
    "# Loading dataframes directly from GitHub\n",
    "orders_df = pd.read_parquet(orders_url)\n",
    "orderlines_df = pd.read_parquet(orderlines_url)\n",
    "products_df = pd.read_parquet(products_url)\n",
    "brands_df = pd.read_parquet(brands_url)\n",
    "\n",
    "orders = orders_df.copy()\n",
    "orderlines = orderlines_df.copy()\n",
    "products = products_df.copy()\n",
    "brands = brands_df.copy()"
   ]
  },
  {
   "cell_type": "markdown",
   "id": "0496842a-df3b-42f2-b677-821936b7cf09",
   "metadata": {},
   "source": [
    "Set Display Formats of Pandas"
   ]
  },
  {
   "cell_type": "code",
   "execution_count": 2,
   "id": "f697b187-27dc-42aa-93dc-608246c25a80",
   "metadata": {},
   "outputs": [],
   "source": [
    "pd.set_option('display.float_format', lambda x: '%.2f' % x)\n",
    "pd.set_option('display.max_rows', 100)"
   ]
  },
  {
   "cell_type": "markdown",
   "id": "016dede1-8d5a-4c96-8662-f81dafd49c15",
   "metadata": {},
   "source": [
    "Keys of tables:\n",
    "\n",
    "order_id : orders, orderlines\n",
    "\n",
    "sku = products, orderlines, brands --> the first three letters of sku = short brand name\n",
    "\n",
    "Questions:\n",
    "\n",
    "What is id: and unit_price: in orderlines?\n",
    "\n",
    "What is total_paid in orders? What is created_date in orders?"
   ]
  },
  {
   "cell_type": "markdown",
   "id": "06a435fe-fa82-44b8-9cfb-aaa157a146b0",
   "metadata": {},
   "source": [
    "## Data Integration"
   ]
  },
  {
   "cell_type": "code",
   "execution_count": 3,
   "id": "60875c89-68ec-4cc8-a898-16e3bf1d89db",
   "metadata": {
    "tags": []
   },
   "outputs": [],
   "source": [
    "# Rename column to match with orders (better readability)\n",
    "orderlines.rename(columns={'id_order': 'order_id'}, inplace=True)"
   ]
  },
  {
   "cell_type": "code",
   "execution_count": 4,
   "id": "b16eb9c1-9b03-400f-9e41-abb1cc25de2f",
   "metadata": {
    "tags": []
   },
   "outputs": [],
   "source": [
    "orderlines['short_brand'] = orderlines['sku'].str[:3]"
   ]
  },
  {
   "cell_type": "code",
   "execution_count": 5,
   "id": "692c557a-1b78-4120-9a46-2d740b8d45a2",
   "metadata": {
    "tags": []
   },
   "outputs": [],
   "source": [
    "# Merge Orderlines on brands, since both tables are small anyway\n",
    "orderlines_brands = orderlines.merge(brands, left_on='short_brand' ,right_on='short', how='left')"
   ]
  },
  {
   "cell_type": "code",
   "execution_count": 6,
   "id": "637568a3-ba4d-4f14-9d32-300d436309af",
   "metadata": {
    "tags": []
   },
   "outputs": [],
   "source": [
    "oo = orders.merge(orderlines, on='order_id', how='left')\n",
    "boo = oo.merge(brands, left_on ='short_brand', right_on='short', how='left')\n",
    "df = boo.merge(products, on ='sku', how='left')"
   ]
  },
  {
   "cell_type": "markdown",
   "id": "60ccc89d-7025-408e-9b2d-17b88eb14d58",
   "metadata": {},
   "source": [
    "Delete oders where there is one or more products, which are not identified."
   ]
  },
  {
   "cell_type": "code",
   "execution_count": 7,
   "id": "1d7924dd-bf69-4d44-a065-bbc5e1d319b1",
   "metadata": {
    "tags": []
   },
   "outputs": [],
   "source": [
    "corrupted_orders = df.loc[df['sku'].isna()]\n",
    "corrupted_order_ids = corrupted_orders['order_id'].unique()\n",
    "df = df.loc[~df['order_id'].isin(corrupted_order_ids)]"
   ]
  },
  {
   "cell_type": "code",
   "execution_count": 8,
   "id": "90ef196c-ad4f-4897-ba08-9e8d53a12c30",
   "metadata": {
    "tags": []
   },
   "outputs": [
    {
     "data": {
      "text/plain": [
       "order_id               0\n",
       "created_date           0\n",
       "total_paid             0\n",
       "state                  0\n",
       "product_quantity       0\n",
       "sku                    0\n",
       "unit_price             0\n",
       "date                   0\n",
       "short_brand            0\n",
       "short                296\n",
       "long                 296\n",
       "name                8924\n",
       "desc                8924\n",
       "price               8924\n",
       "in_stock            8924\n",
       "type                8924\n",
       "dtype: int64"
      ]
     },
     "execution_count": 8,
     "metadata": {},
     "output_type": "execute_result"
    }
   ],
   "source": [
    "df.isna().sum()"
   ]
  },
  {
   "cell_type": "code",
   "execution_count": 9,
   "id": "fbe137a4-6e7b-4092-ad1f-d46c2bc428fb",
   "metadata": {
    "tags": []
   },
   "outputs": [],
   "source": [
    "# Let's say you want to drop the columns 'column_name1', 'column_name2', and 'column_name3'\n",
    "df.drop(columns=['short'], inplace=True)"
   ]
  },
  {
   "cell_type": "markdown",
   "id": "1fad362c-8742-4493-b3e1-0e1f2934d95f",
   "metadata": {},
   "source": [
    "- DataFrame **.describe()** gives basic numerical aggregations. It can be applied to a single column as well.\n",
    "- DataFrame **.isna().any()** highlights which columns contain missing data\n",
    "- DataFrame **.shape** gives the number of rows and columns\n",
    "- DataFrame **.columns** gives the column names. Note that a list with new names can be passed to this attribute to rename the columns.\n",
    "- DataFrame **.columnName.isna().sum()** is a quick way to check the number of missing values in a column\n",
    "- DataFrame **.columnName.value_counts()** is a great way to summarise a categorical column. You can use it to discover how many orders are completed, cancelled, pending…\n",
    "- DataFrame **.columnName.hist()** is an easy way to plot a histogram in a numerical column. Play with the bins argument to change the granularity of the graph."
   ]
  },
  {
   "cell_type": "markdown",
   "id": "bde8ab68-1534-42cd-b4b2-5775f4e4e11c",
   "metadata": {},
   "source": [
    "## Create a new column with the Promo Price"
   ]
  },
  {
   "cell_type": "code",
   "execution_count": 10,
   "id": "26fa702d-66ee-402d-896b-bc2d44f3214e",
   "metadata": {
    "tags": []
   },
   "outputs": [
    {
     "data": {
      "text/html": [
       "<div>\n",
       "<style scoped>\n",
       "    .dataframe tbody tr th:only-of-type {\n",
       "        vertical-align: middle;\n",
       "    }\n",
       "\n",
       "    .dataframe tbody tr th {\n",
       "        vertical-align: top;\n",
       "    }\n",
       "\n",
       "    .dataframe thead th {\n",
       "        text-align: right;\n",
       "    }\n",
       "</style>\n",
       "<table border=\"1\" class=\"dataframe\">\n",
       "  <thead>\n",
       "    <tr style=\"text-align: right;\">\n",
       "      <th></th>\n",
       "      <th>estimated_promo_price</th>\n",
       "      <th>promotion</th>\n",
       "      <th>price</th>\n",
       "    </tr>\n",
       "  </thead>\n",
       "  <tbody>\n",
       "    <tr>\n",
       "      <th>0</th>\n",
       "      <td>44.99</td>\n",
       "      <td>True</td>\n",
       "      <td>49.95</td>\n",
       "    </tr>\n",
       "    <tr>\n",
       "      <th>1</th>\n",
       "      <td>129.16</td>\n",
       "      <td>True</td>\n",
       "      <td>139.99</td>\n",
       "    </tr>\n",
       "    <tr>\n",
       "      <th>2</th>\n",
       "      <td>10.77</td>\n",
       "      <td>True</td>\n",
       "      <td>17.99</td>\n",
       "    </tr>\n",
       "    <tr>\n",
       "      <th>3</th>\n",
       "      <td>77.99</td>\n",
       "      <td>True</td>\n",
       "      <td>99.99</td>\n",
       "    </tr>\n",
       "    <tr>\n",
       "      <th>4</th>\n",
       "      <td>51.29</td>\n",
       "      <td>True</td>\n",
       "      <td>59.95</td>\n",
       "    </tr>\n",
       "    <tr>\n",
       "      <th>...</th>\n",
       "      <td>...</td>\n",
       "      <td>...</td>\n",
       "      <td>...</td>\n",
       "    </tr>\n",
       "    <tr>\n",
       "      <th>315951</th>\n",
       "      <td>42.99</td>\n",
       "      <td>True</td>\n",
       "      <td>49.95</td>\n",
       "    </tr>\n",
       "    <tr>\n",
       "      <th>315952</th>\n",
       "      <td>42.99</td>\n",
       "      <td>True</td>\n",
       "      <td>49.95</td>\n",
       "    </tr>\n",
       "    <tr>\n",
       "      <th>315953</th>\n",
       "      <td>141.58</td>\n",
       "      <td>True</td>\n",
       "      <td>215.98</td>\n",
       "    </tr>\n",
       "    <tr>\n",
       "      <th>315954</th>\n",
       "      <td>9.99</td>\n",
       "      <td>True</td>\n",
       "      <td>25.00</td>\n",
       "    </tr>\n",
       "    <tr>\n",
       "      <th>315955</th>\n",
       "      <td>13.99</td>\n",
       "      <td>True</td>\n",
       "      <td>35.00</td>\n",
       "    </tr>\n",
       "  </tbody>\n",
       "</table>\n",
       "<p>293743 rows × 3 columns</p>\n",
       "</div>"
      ],
      "text/plain": [
       "        estimated_promo_price  promotion  price\n",
       "0                       44.99       True  49.95\n",
       "1                      129.16       True 139.99\n",
       "2                       10.77       True  17.99\n",
       "3                       77.99       True  99.99\n",
       "4                       51.29       True  59.95\n",
       "...                       ...        ...    ...\n",
       "315951                  42.99       True  49.95\n",
       "315952                  42.99       True  49.95\n",
       "315953                 141.58       True 215.98\n",
       "315954                   9.99       True  25.00\n",
       "315955                  13.99       True  35.00\n",
       "\n",
       "[293743 rows x 3 columns]"
      ]
     },
     "execution_count": 10,
     "metadata": {},
     "output_type": "execute_result"
    }
   ],
   "source": [
    "df['promotion'] = df['unit_price'] < df['price']\n",
    "df['estimated_promo_price'] = df.apply(lambda row: row['unit_price'] if row['promotion'] else np.nan, axis=1)\n",
    "df[['estimated_promo_price','promotion', 'price']]"
   ]
  },
  {
   "cell_type": "markdown",
   "id": "46c5d98c-1e94-499f-8da6-53e874f1494e",
   "metadata": {},
   "source": [
    "## Drop Orders which are not completed"
   ]
  },
  {
   "cell_type": "code",
   "execution_count": 11,
   "id": "da83c51c-dfdc-444b-8377-4555e936dc20",
   "metadata": {
    "tags": []
   },
   "outputs": [
    {
     "data": {
      "text/html": [
       "<div>\n",
       "<style scoped>\n",
       "    .dataframe tbody tr th:only-of-type {\n",
       "        vertical-align: middle;\n",
       "    }\n",
       "\n",
       "    .dataframe tbody tr th {\n",
       "        vertical-align: top;\n",
       "    }\n",
       "\n",
       "    .dataframe thead th {\n",
       "        text-align: right;\n",
       "    }\n",
       "</style>\n",
       "<table border=\"1\" class=\"dataframe\">\n",
       "  <thead>\n",
       "    <tr style=\"text-align: right;\">\n",
       "      <th></th>\n",
       "      <th>order_id</th>\n",
       "      <th>created_date</th>\n",
       "      <th>total_paid</th>\n",
       "      <th>state</th>\n",
       "      <th>product_quantity</th>\n",
       "      <th>sku</th>\n",
       "      <th>unit_price</th>\n",
       "      <th>date</th>\n",
       "      <th>short_brand</th>\n",
       "      <th>long</th>\n",
       "      <th>name</th>\n",
       "      <th>desc</th>\n",
       "      <th>price</th>\n",
       "      <th>in_stock</th>\n",
       "      <th>type</th>\n",
       "      <th>promotion</th>\n",
       "      <th>estimated_promo_price</th>\n",
       "    </tr>\n",
       "  </thead>\n",
       "  <tbody>\n",
       "    <tr>\n",
       "      <th>0</th>\n",
       "      <td>241423</td>\n",
       "      <td>2017-11-06 13:10:02</td>\n",
       "      <td>136.15</td>\n",
       "      <td>Completed</td>\n",
       "      <td>1.00</td>\n",
       "      <td>LAC0212</td>\n",
       "      <td>129.16</td>\n",
       "      <td>2017-11-06 12:47:20</td>\n",
       "      <td>LAC</td>\n",
       "      <td>LaCie</td>\n",
       "      <td>LaCie Porsche Design Desktop Drive 4TB USB 3.0...</td>\n",
       "      <td>External Hard Drive 4TB 35-inch USB 3.0 for Ma...</td>\n",
       "      <td>139.99</td>\n",
       "      <td>True</td>\n",
       "      <td>11935397</td>\n",
       "      <td>True</td>\n",
       "      <td>129.16</td>\n",
       "    </tr>\n",
       "    <tr>\n",
       "      <th>1</th>\n",
       "      <td>242832</td>\n",
       "      <td>2017-12-31 17:40:03</td>\n",
       "      <td>15.76</td>\n",
       "      <td>Completed</td>\n",
       "      <td>1.00</td>\n",
       "      <td>PAR0074</td>\n",
       "      <td>10.77</td>\n",
       "      <td>2017-12-31 17:26:40</td>\n",
       "      <td>PAR</td>\n",
       "      <td>Parrot</td>\n",
       "      <td>Parrot 550mAh battery for MiniDrones</td>\n",
       "      <td>550mAh rechargeable battery for Parrot minidrones</td>\n",
       "      <td>17.99</td>\n",
       "      <td>False</td>\n",
       "      <td>11905404</td>\n",
       "      <td>True</td>\n",
       "      <td>10.77</td>\n",
       "    </tr>\n",
       "    <tr>\n",
       "      <th>2</th>\n",
       "      <td>243330</td>\n",
       "      <td>2017-02-16 10:59:38</td>\n",
       "      <td>84.98</td>\n",
       "      <td>Completed</td>\n",
       "      <td>1.00</td>\n",
       "      <td>OWC0074</td>\n",
       "      <td>77.99</td>\n",
       "      <td>2017-02-15 17:07:44</td>\n",
       "      <td>OWC</td>\n",
       "      <td>OWC</td>\n",
       "      <td>Mac OWC Memory 8GB 1066MHZ DDR3 SO-DIMM</td>\n",
       "      <td>8GB RAM Mac mini iMac MacBook and MacBook Pro ...</td>\n",
       "      <td>99.99</td>\n",
       "      <td>True</td>\n",
       "      <td>1364</td>\n",
       "      <td>True</td>\n",
       "      <td>77.99</td>\n",
       "    </tr>\n",
       "    <tr>\n",
       "      <th>3</th>\n",
       "      <td>245275</td>\n",
       "      <td>2017-06-28 11:35:37</td>\n",
       "      <td>149.00</td>\n",
       "      <td>Completed</td>\n",
       "      <td>1.00</td>\n",
       "      <td>TAD0007</td>\n",
       "      <td>149.00</td>\n",
       "      <td>2017-06-28 11:12:30</td>\n",
       "      <td>TAD</td>\n",
       "      <td>Tado</td>\n",
       "      <td>Tado Smart Climate Control Intelligent AC</td>\n",
       "      <td>intelligent control air conditioning works wit...</td>\n",
       "      <td>179.00</td>\n",
       "      <td>False</td>\n",
       "      <td>11905404</td>\n",
       "      <td>True</td>\n",
       "      <td>149.00</td>\n",
       "    </tr>\n",
       "    <tr>\n",
       "      <th>4</th>\n",
       "      <td>245595</td>\n",
       "      <td>2017-01-21 12:52:47</td>\n",
       "      <td>112.97</td>\n",
       "      <td>Completed</td>\n",
       "      <td>2.00</td>\n",
       "      <td>PAC1561</td>\n",
       "      <td>52.99</td>\n",
       "      <td>2017-01-21 12:49:00</td>\n",
       "      <td>PAC</td>\n",
       "      <td>Pack</td>\n",
       "      <td>Macally External Hard Drive 1TB 35 \"USB 3.0 SA...</td>\n",
       "      <td>Aluminum External Hard Drive 1TB capacity form...</td>\n",
       "      <td>103.95</td>\n",
       "      <td>True</td>\n",
       "      <td>11935397</td>\n",
       "      <td>True</td>\n",
       "      <td>52.99</td>\n",
       "    </tr>\n",
       "  </tbody>\n",
       "</table>\n",
       "</div>"
      ],
      "text/plain": [
       "  order_id        created_date  total_paid      state  product_quantity  \\\n",
       "0   241423 2017-11-06 13:10:02      136.15  Completed              1.00   \n",
       "1   242832 2017-12-31 17:40:03       15.76  Completed              1.00   \n",
       "2   243330 2017-02-16 10:59:38       84.98  Completed              1.00   \n",
       "3   245275 2017-06-28 11:35:37      149.00  Completed              1.00   \n",
       "4   245595 2017-01-21 12:52:47      112.97  Completed              2.00   \n",
       "\n",
       "       sku  unit_price                date short_brand    long  \\\n",
       "0  LAC0212      129.16 2017-11-06 12:47:20         LAC   LaCie   \n",
       "1  PAR0074       10.77 2017-12-31 17:26:40         PAR  Parrot   \n",
       "2  OWC0074       77.99 2017-02-15 17:07:44         OWC     OWC   \n",
       "3  TAD0007      149.00 2017-06-28 11:12:30         TAD    Tado   \n",
       "4  PAC1561       52.99 2017-01-21 12:49:00         PAC    Pack   \n",
       "\n",
       "                                                name  \\\n",
       "0  LaCie Porsche Design Desktop Drive 4TB USB 3.0...   \n",
       "1               Parrot 550mAh battery for MiniDrones   \n",
       "2            Mac OWC Memory 8GB 1066MHZ DDR3 SO-DIMM   \n",
       "3          Tado Smart Climate Control Intelligent AC   \n",
       "4  Macally External Hard Drive 1TB 35 \"USB 3.0 SA...   \n",
       "\n",
       "                                                desc  price in_stock  \\\n",
       "0  External Hard Drive 4TB 35-inch USB 3.0 for Ma... 139.99     True   \n",
       "1  550mAh rechargeable battery for Parrot minidrones  17.99    False   \n",
       "2  8GB RAM Mac mini iMac MacBook and MacBook Pro ...  99.99     True   \n",
       "3  intelligent control air conditioning works wit... 179.00    False   \n",
       "4  Aluminum External Hard Drive 1TB capacity form... 103.95     True   \n",
       "\n",
       "       type  promotion  estimated_promo_price  \n",
       "0  11935397       True                 129.16  \n",
       "1  11905404       True                  10.77  \n",
       "2      1364       True                  77.99  \n",
       "3  11905404       True                 149.00  \n",
       "4  11935397       True                  52.99  "
      ]
     },
     "execution_count": 11,
     "metadata": {},
     "output_type": "execute_result"
    }
   ],
   "source": [
    "df_com = df.loc[df['state']=='Completed'].reset_index(drop=True)\n",
    "df_com.head()"
   ]
  },
  {
   "cell_type": "markdown",
   "id": "d02e247b-fdf7-428f-a230-a859fdd3bd77",
   "metadata": {},
   "source": [
    "## Step 2: Analyzing Order Patterns in Relation to Discounts"
   ]
  },
  {
   "cell_type": "markdown",
   "id": "762e93d6-c840-4bc9-955b-ceab95f1cf94",
   "metadata": {},
   "source": [
    "Objective:\n",
    "To understand if the introduction or availability of discounts affects order patterns – both in terms of quantity and frequency."
   ]
  },
  {
   "cell_type": "markdown",
   "id": "8192e261-6cd0-4d97-a035-a6ee22086af6",
   "metadata": {},
   "source": [
    "### 1. Understand basic metrics"
   ]
  },
  {
   "cell_type": "code",
   "execution_count": 103,
   "id": "45f8588d-3302-4b4c-8f72-e8353dcb31b7",
   "metadata": {
    "tags": []
   },
   "outputs": [
    {
     "name": "stdout",
     "output_type": "stream",
     "text": [
      "The total orders are: 46560, the average order values is: 341.6464753006872, and the average items per order are: 1.333827319587629\n"
     ]
    }
   ],
   "source": [
    "total_orders = df_com['order_id'].nunique()\n",
    "avg_order_value = df_com.groupby('order_id')['total_paid'].first().mean()\n",
    "\n",
    "avg_items_per_order = df_com.groupby('order_id').size().mean()\n",
    "print(f'The total orders are: {total_orders}, the average order values is: {avg_order_value}, and the average items per order are: {avg_items_per_order}')\n"
   ]
  },
  {
   "cell_type": "markdown",
   "id": "67e0dec2-70ee-4e63-a163-8578861c48ce",
   "metadata": {},
   "source": [
    "Let me check if all total_paid values are the same within each order"
   ]
  },
  {
   "cell_type": "code",
   "execution_count": 42,
   "id": "0519f9c7-335d-412d-97d9-fd340818cd4a",
   "metadata": {
    "tags": []
   },
   "outputs": [
    {
     "name": "stdout",
     "output_type": "stream",
     "text": [
      "All orders have consistent 'total_paid' values.\n"
     ]
    }
   ],
   "source": [
    "unique_paid_counts = df_com.groupby('order_id')['total_paid'].nunique()\n",
    "inconsistent_orders = unique_paid_counts[unique_paid_counts > 1]\n",
    "if not inconsistent_orders.empty:\n",
    "    print(\"There are orders with inconsistent 'total_paid' values:\")\n",
    "    print(inconsistent_orders)\n",
    "else:\n",
    "    print(\"All orders have consistent 'total_paid' values.\")"
   ]
  },
  {
   "cell_type": "markdown",
   "id": "cfe6e85f-bae9-4149-ac75-3a58b27d3417",
   "metadata": {},
   "source": [
    "### Calculate the difference between the amount paid and total value of the order"
   ]
  },
  {
   "cell_type": "code",
   "execution_count": 140,
   "id": "df5f6997-1a85-4130-8ba3-a7c3bed718ea",
   "metadata": {
    "tags": []
   },
   "outputs": [
    {
     "data": {
      "text/plain": [
       "4.108193485016826"
      ]
     },
     "execution_count": 140,
     "metadata": {},
     "output_type": "execute_result"
    }
   ],
   "source": [
    "df_com['unit_price_total'] = df_com['product_quantity']*df_com['unit_price']\n",
    "order_total_price = df_com.groupby('order_id')['unit_price_total'].sum().reset_index()\n",
    "order_total_price.rename(columns={'unit_price_total': 'order_unit_price_total'}, inplace=True)\n",
    "df_merged = df_com.merge(order_total_price, on='order_id')\n",
    "df_merged['diff_total_paid_unit_price'] = df_merged['total_paid'] - df_merged['order_unit_price_total']\n",
    "avg_diff = df_merged['diff_total_paid_unit_price'].mean()\n",
    "avg_diff"
   ]
  },
  {
   "cell_type": "markdown",
   "id": "7dd70bf1-2f3a-4c11-b342-382c94ef0490",
   "metadata": {},
   "source": [
    "### 2. Segment Orders by Discounts:"
   ]
  },
  {
   "cell_type": "markdown",
   "id": "567201f4-e3e5-4eb9-84de-b4840a47ba0f",
   "metadata": {},
   "source": [
    "Orders with discount include at least one item that was discounted, while orders without discounts include no discounted item."
   ]
  },
  {
   "cell_type": "code",
   "execution_count": 135,
   "id": "1bdee0a9-06fe-4383-b857-8f0a4770f1b4",
   "metadata": {
    "tags": []
   },
   "outputs": [],
   "source": [
    "df_com['order_inc_promo'] = df_com.groupby('order_id')['promotion'].transform('any')\n",
    "df['order_inc_promo'] = df.groupby('order_id')['promotion'].transform('any')"
   ]
  },
  {
   "cell_type": "code",
   "execution_count": 128,
   "id": "f4590d16-e901-4cb2-b9bf-1e4af83b15e2",
   "metadata": {
    "tags": []
   },
   "outputs": [
    {
     "data": {
      "text/plain": [
       "True     58389\n",
       "False     3714\n",
       "Name: order_inc_promo, dtype: int64"
      ]
     },
     "execution_count": 128,
     "metadata": {},
     "output_type": "execute_result"
    }
   ],
   "source": [
    "df_com['order_inc_promo'].value_counts()"
   ]
  },
  {
   "cell_type": "markdown",
   "id": "3d0e723d-9780-4ab7-9706-3ad26098d17d",
   "metadata": {},
   "source": [
    "### 3. Compare Metrics"
   ]
  },
  {
   "cell_type": "code",
   "execution_count": 134,
   "id": "5ba215e5-95a9-4ab0-8e29-fb7b03a11304",
   "metadata": {
    "tags": []
   },
   "outputs": [],
   "source": [
    "avg_order_value_discounted =(\n",
    "    df_com[df_com['order_inc_promo'] == True]\n",
    "    .groupby('order_id')['total_paid']\n",
    "    .sum()\n",
    "    .mean()\n",
    "    .round(2)\n",
    ")\n",
    "avg_order_value_discounted =(\n",
    "    df_com[df_com['order_inc_promo'] == False]\n",
    "    .groupby('order_id')['total_paid']\n",
    "    .sum()\n",
    "    .mean()\n",
    "    .round(2)\n",
    ")"
   ]
  },
  {
   "cell_type": "code",
   "execution_count": 133,
   "id": "715125db-0084-412d-896a-f1dcd14561f6",
   "metadata": {
    "tags": []
   },
   "outputs": [
    {
     "name": "stdout",
     "output_type": "stream",
     "text": [
      "The average order value of discounted orders is: 305.35, compared to the average value of non discounted orders: 401.01. Moreover, the average number of items in an order with prmotion is: 1.3, while it is : 1.08 for non discounted orders.\n"
     ]
    }
   ],
   "source": [
    "print(f'The average order value of discounted orders is: {avg_order_value_discounted}, compared to the average value of non discounted orders: {avg_order_value_non_discounted}\\\n",
    ". Moreover, the average number of items in an order with prmotion is: {avg_items_discounted}, while it is : {avg_items_non_discounted} for non discounted orders.')"
   ]
  },
  {
   "cell_type": "markdown",
   "id": "49d4e614-59c1-4e6a-b066-fd35e4904b02",
   "metadata": {},
   "source": [
    "### 4. Temporal Analysis"
   ]
  },
  {
   "cell_type": "markdown",
   "id": "f56f5fb7-7844-4f25-ac0d-1ad25b71daa7",
   "metadata": {},
   "source": [
    "For now only use completed orders, since otherwise we cannot infer about the promotion."
   ]
  },
  {
   "cell_type": "code",
   "execution_count": 137,
   "id": "3557c87c-1e6b-4f9a-9b48-3c5caab85f1c",
   "metadata": {
    "tags": []
   },
   "outputs": [
    {
     "data": {
      "text/plain": [
       "order_id                         object\n",
       "created_date             datetime64[ns]\n",
       "total_paid                      float64\n",
       "state                          category\n",
       "product_quantity                float64\n",
       "sku                              object\n",
       "unit_price                      float64\n",
       "date                     datetime64[ns]\n",
       "short_brand                      object\n",
       "long                             object\n",
       "name                             object\n",
       "desc                             object\n",
       "price                           float64\n",
       "in_stock                         object\n",
       "type                           category\n",
       "promotion                          bool\n",
       "estimated_promo_price           float64\n",
       "order_inc_promo                    bool\n",
       "dtype: object"
      ]
     },
     "execution_count": 137,
     "metadata": {},
     "output_type": "execute_result"
    }
   ],
   "source": [
    "df.dtypes"
   ]
  },
  {
   "cell_type": "code",
   "execution_count": 17,
   "id": "10360a70-baa0-4e23-901c-830cd17db9e9",
   "metadata": {
    "tags": []
   },
   "outputs": [
    {
     "data": {
      "text/plain": [
       "created_month\n",
       "1     12278\n",
       "2      6538\n",
       "3      1948\n",
       "4      1921\n",
       "5      2141\n",
       "6      1832\n",
       "7      4310\n",
       "8      2790\n",
       "9      2600\n",
       "10     3803\n",
       "11     9521\n",
       "12     6515\n",
       "dtype: int64"
      ]
     },
     "execution_count": 17,
     "metadata": {},
     "output_type": "execute_result"
    }
   ],
   "source": [
    "df_com['created_month'] = df_com['created_date'].dt.month\n",
    "monthly_discounted_orders = df_com[df_com['promotion']].groupby('created_month').size()\n",
    "monthly_discounted_orders"
   ]
  },
  {
   "cell_type": "markdown",
   "id": "fb505492-de45-4389-b467-f534969e1445",
   "metadata": {},
   "source": [
    "### 5. Visual Analysis"
   ]
  },
  {
   "cell_type": "code",
   "execution_count": 18,
   "id": "adc44c71-095c-4be8-8273-5f225d16058e",
   "metadata": {
    "tags": []
   },
   "outputs": [
    {
     "data": {
      "image/png": "[encoded data removed]",
      "text/plain": [
       "<Figure size 640x480 with 1 Axes>"
      ]
     },
     "metadata": {},
     "output_type": "display_data"
    },
    {
     "data": {
      "image/png": "[encoded data removed]",
      "text/plain": [
       "<Figure size 640x480 with 1 Axes>"
      ]
     },
     "metadata": {},
     "output_type": "display_data"
    }
   ],
   "source": [
    "import matplotlib.pyplot as plt\n",
    "\n",
    "# Average order values comparison\n",
    "plt.bar(['Discounted', 'Non-Discounted'], [avg_order_value_discounted, avg_order_value_non_discounted])\n",
    "plt.title('Average Order Values')\n",
    "plt.ylabel('Value')\n",
    "plt.show()\n",
    "\n",
    "# Monthly trends of discounted orders\n",
    "monthly_discounted_orders.plot(kind='bar')\n",
    "plt.title('Monthly Trend of Discounted Orders')\n",
    "plt.ylabel('Number of Orders')\n",
    "plt.xlabel('Month')\n",
    "plt.show()\n"
   ]
  },
  {
   "cell_type": "markdown",
   "id": "5f1d8787-55b3-4d1f-9732-6e8d32d21700",
   "metadata": {},
   "source": [
    "Possible Conclusions:\n",
    "\n",
    "- If orders with discounts have a significantly higher average value or quantity, it suggests discounts might be driving larger orders.\n",
    "- If there's a temporal trend showing increased discount orders during specific times, it might suggest seasonal trends or the effects of periodic discount campaigns."
   ]
  },
  {
   "cell_type": "markdown",
   "id": "0a864ecc-df69-447e-bcd4-7d6536426624",
   "metadata": {},
   "source": [
    "## Step 3: Analyzing Customer Behavior and Retention with Respect to Discounts:"
   ]
  },
  {
   "cell_type": "markdown",
   "id": "944cddb8-4e21-4e93-840b-4d8f4b33e2a5",
   "metadata": {},
   "source": [
    "### 1. Retention Rate with Respect to Discounts:"
   ]
  },
  {
   "cell_type": "markdown",
   "id": "ae4f03bb-7f3a-4bae-b63f-3ef451f27e13",
   "metadata": {},
   "source": [
    "To understand if customers acquired during promotional periods are more likely to come back."
   ]
  },
  {
   "cell_type": "code",
   "execution_count": 19,
   "id": "43cba571-278a-4feb-a625-e1008d3c6784",
   "metadata": {
    "tags": []
   },
   "outputs": [
    {
     "data": {
      "text/plain": [
       "order_id\n",
       "241423   1.00\n",
       "242832   1.00\n",
       "243330   1.00\n",
       "245275   1.00\n",
       "245595   2.00\n",
       "         ... \n",
       "527042   1.00\n",
       "527070   2.00\n",
       "527074   2.00\n",
       "527096   3.00\n",
       "527112   1.00\n",
       "Name: product_quantity, Length: 46560, dtype: float64"
      ]
     },
     "execution_count": 19,
     "metadata": {},
     "output_type": "execute_result"
    }
   ],
   "source": [
    "df_com.groupby('order_id')['product_quantity'].sum()"
   ]
  },
  {
   "cell_type": "code",
   "execution_count": 20,
   "id": "0d48d4a2-d4b8-4309-98c4-82d55f3a722f",
   "metadata": {
    "tags": []
   },
   "outputs": [
    {
     "name": "stdout",
     "output_type": "stream",
     "text": [
      "There are 25996 duplicated order_ids in the dataset.\n"
     ]
    }
   ],
   "source": [
    "duplicate_order_ids = df_com[df_com['order_id'].duplicated(keep=False)]\n",
    "\n",
    "if not duplicate_order_ids.empty:\n",
    "    print(f\"There are {len(duplicate_order_ids)} duplicated order_ids in the dataset.\")\n",
    "else:\n",
    "    print(\"All order_ids are unique.\")\n"
   ]
  },
  {
   "cell_type": "code",
   "execution_count": 21,
   "id": "7b2e661f-c58e-4401-ada3-019f35f12ec3",
   "metadata": {
    "tags": []
   },
   "outputs": [
    {
     "name": "stdout",
     "output_type": "stream",
     "text": [
      "<class 'pandas.core.frame.DataFrame'>\n",
      "RangeIndex: 62103 entries, 0 to 62102\n",
      "Data columns (total 18 columns):\n",
      " #   Column                 Non-Null Count  Dtype         \n",
      "---  ------                 --------------  -----         \n",
      " 0   order_id               62103 non-null  object        \n",
      " 1   created_date           62103 non-null  datetime64[ns]\n",
      " 2   total_paid             62103 non-null  float64       \n",
      " 3   state                  62103 non-null  category      \n",
      " 4   product_quantity       62103 non-null  float64       \n",
      " 5   sku                    62103 non-null  object        \n",
      " 6   unit_price             62103 non-null  float64       \n",
      " 7   date                   62103 non-null  datetime64[ns]\n",
      " 8   short_brand            62103 non-null  object        \n",
      " 9   long                   62065 non-null  object        \n",
      " 10  name                   60362 non-null  object        \n",
      " 11  desc                   60362 non-null  object        \n",
      " 12  price                  60362 non-null  float64       \n",
      " 13  in_stock               60362 non-null  object        \n",
      " 14  type                   60362 non-null  category      \n",
      " 15  promotion              62103 non-null  bool          \n",
      " 16  estimated_promo_price  56197 non-null  float64       \n",
      " 17  created_month          62103 non-null  int64         \n",
      "dtypes: bool(1), category(2), datetime64[ns](2), float64(5), int64(1), object(7)\n",
      "memory usage: 7.3+ MB\n"
     ]
    }
   ],
   "source": [
    "df_com.info()"
   ]
  },
  {
   "cell_type": "markdown",
   "id": "d3acad3b-d56d-4de1-88f6-ae336ab6289d",
   "metadata": {},
   "source": [
    "Calculate the percentage of promotion for every product in every order: (1-(price/unit_price))"
   ]
  },
  {
   "cell_type": "code",
   "execution_count": 22,
   "id": "397c6420-2276-4ed6-ad0c-72566fe18ded",
   "metadata": {
    "tags": []
   },
   "outputs": [],
   "source": [
    "df_com['promo_perc'] = (1-(df_com['unit_price']/df_com['price']))"
   ]
  },
  {
   "cell_type": "markdown",
   "id": "68c47442-f139-4d47-b64e-040b7056671d",
   "metadata": {},
   "source": [
    "Average promotion perc per week/ month"
   ]
  },
  {
   "cell_type": "code",
   "execution_count": 23,
   "id": "ffcca202-65f6-4737-b3a1-d69239528ad3",
   "metadata": {
    "tags": []
   },
   "outputs": [],
   "source": [
    "df_com[['year', 'week', 'day']]= df_com['created_date'].dt.isocalendar()\n",
    "# Extract month and quarter\n",
    "df_com['month'] = df_com['created_date'].dt.month\n",
    "df_com['quarter'] = df_com['created_date'].dt.quarter"
   ]
  },
  {
   "cell_type": "code",
   "execution_count": 24,
   "id": "92d671a7-f729-4626-a142-a006bd79d70b",
   "metadata": {
    "tags": []
   },
   "outputs": [
    {
     "data": {
      "text/html": [
       "<div>\n",
       "<style scoped>\n",
       "    .dataframe tbody tr th:only-of-type {\n",
       "        vertical-align: middle;\n",
       "    }\n",
       "\n",
       "    .dataframe tbody tr th {\n",
       "        vertical-align: top;\n",
       "    }\n",
       "\n",
       "    .dataframe thead th {\n",
       "        text-align: right;\n",
       "    }\n",
       "</style>\n",
       "<table border=\"1\" class=\"dataframe\">\n",
       "  <thead>\n",
       "    <tr style=\"text-align: right;\">\n",
       "      <th></th>\n",
       "      <th>week</th>\n",
       "      <th>month</th>\n",
       "      <th>quarter</th>\n",
       "      <th>year</th>\n",
       "      <th>promo_perc</th>\n",
       "    </tr>\n",
       "  </thead>\n",
       "  <tbody>\n",
       "    <tr>\n",
       "      <th>0</th>\n",
       "      <td>1</td>\n",
       "      <td>1</td>\n",
       "      <td>1</td>\n",
       "      <td>2017</td>\n",
       "      <td>0.22</td>\n",
       "    </tr>\n",
       "    <tr>\n",
       "      <th>1</th>\n",
       "      <td>1</td>\n",
       "      <td>1</td>\n",
       "      <td>1</td>\n",
       "      <td>2018</td>\n",
       "      <td>0.19</td>\n",
       "    </tr>\n",
       "    <tr>\n",
       "      <th>2</th>\n",
       "      <td>2</td>\n",
       "      <td>1</td>\n",
       "      <td>1</td>\n",
       "      <td>2017</td>\n",
       "      <td>0.26</td>\n",
       "    </tr>\n",
       "    <tr>\n",
       "      <th>3</th>\n",
       "      <td>2</td>\n",
       "      <td>1</td>\n",
       "      <td>1</td>\n",
       "      <td>2018</td>\n",
       "      <td>0.23</td>\n",
       "    </tr>\n",
       "    <tr>\n",
       "      <th>4</th>\n",
       "      <td>3</td>\n",
       "      <td>1</td>\n",
       "      <td>1</td>\n",
       "      <td>2017</td>\n",
       "      <td>0.23</td>\n",
       "    </tr>\n",
       "    <tr>\n",
       "      <th>5</th>\n",
       "      <td>3</td>\n",
       "      <td>1</td>\n",
       "      <td>1</td>\n",
       "      <td>2018</td>\n",
       "      <td>0.22</td>\n",
       "    </tr>\n",
       "    <tr>\n",
       "      <th>6</th>\n",
       "      <td>4</td>\n",
       "      <td>1</td>\n",
       "      <td>1</td>\n",
       "      <td>2017</td>\n",
       "      <td>0.27</td>\n",
       "    </tr>\n",
       "    <tr>\n",
       "      <th>7</th>\n",
       "      <td>4</td>\n",
       "      <td>1</td>\n",
       "      <td>1</td>\n",
       "      <td>2018</td>\n",
       "      <td>0.22</td>\n",
       "    </tr>\n",
       "    <tr>\n",
       "      <th>8</th>\n",
       "      <td>5</td>\n",
       "      <td>1</td>\n",
       "      <td>1</td>\n",
       "      <td>2017</td>\n",
       "      <td>0.24</td>\n",
       "    </tr>\n",
       "    <tr>\n",
       "      <th>9</th>\n",
       "      <td>5</td>\n",
       "      <td>1</td>\n",
       "      <td>1</td>\n",
       "      <td>2018</td>\n",
       "      <td>0.20</td>\n",
       "    </tr>\n",
       "    <tr>\n",
       "      <th>10</th>\n",
       "      <td>5</td>\n",
       "      <td>2</td>\n",
       "      <td>1</td>\n",
       "      <td>2017</td>\n",
       "      <td>0.20</td>\n",
       "    </tr>\n",
       "    <tr>\n",
       "      <th>11</th>\n",
       "      <td>5</td>\n",
       "      <td>2</td>\n",
       "      <td>1</td>\n",
       "      <td>2018</td>\n",
       "      <td>0.19</td>\n",
       "    </tr>\n",
       "    <tr>\n",
       "      <th>12</th>\n",
       "      <td>6</td>\n",
       "      <td>2</td>\n",
       "      <td>1</td>\n",
       "      <td>2017</td>\n",
       "      <td>0.18</td>\n",
       "    </tr>\n",
       "    <tr>\n",
       "      <th>13</th>\n",
       "      <td>6</td>\n",
       "      <td>2</td>\n",
       "      <td>1</td>\n",
       "      <td>2018</td>\n",
       "      <td>0.18</td>\n",
       "    </tr>\n",
       "    <tr>\n",
       "      <th>14</th>\n",
       "      <td>7</td>\n",
       "      <td>2</td>\n",
       "      <td>1</td>\n",
       "      <td>2017</td>\n",
       "      <td>0.20</td>\n",
       "    </tr>\n",
       "    <tr>\n",
       "      <th>15</th>\n",
       "      <td>7</td>\n",
       "      <td>2</td>\n",
       "      <td>1</td>\n",
       "      <td>2018</td>\n",
       "      <td>0.30</td>\n",
       "    </tr>\n",
       "    <tr>\n",
       "      <th>16</th>\n",
       "      <td>8</td>\n",
       "      <td>2</td>\n",
       "      <td>1</td>\n",
       "      <td>2017</td>\n",
       "      <td>0.18</td>\n",
       "    </tr>\n",
       "    <tr>\n",
       "      <th>17</th>\n",
       "      <td>8</td>\n",
       "      <td>2</td>\n",
       "      <td>1</td>\n",
       "      <td>2018</td>\n",
       "      <td>0.18</td>\n",
       "    </tr>\n",
       "    <tr>\n",
       "      <th>18</th>\n",
       "      <td>9</td>\n",
       "      <td>2</td>\n",
       "      <td>1</td>\n",
       "      <td>2017</td>\n",
       "      <td>0.18</td>\n",
       "    </tr>\n",
       "    <tr>\n",
       "      <th>19</th>\n",
       "      <td>9</td>\n",
       "      <td>2</td>\n",
       "      <td>1</td>\n",
       "      <td>2018</td>\n",
       "      <td>0.19</td>\n",
       "    </tr>\n",
       "    <tr>\n",
       "      <th>20</th>\n",
       "      <td>9</td>\n",
       "      <td>3</td>\n",
       "      <td>1</td>\n",
       "      <td>2017</td>\n",
       "      <td>0.24</td>\n",
       "    </tr>\n",
       "    <tr>\n",
       "      <th>21</th>\n",
       "      <td>9</td>\n",
       "      <td>3</td>\n",
       "      <td>1</td>\n",
       "      <td>2018</td>\n",
       "      <td>0.21</td>\n",
       "    </tr>\n",
       "    <tr>\n",
       "      <th>22</th>\n",
       "      <td>10</td>\n",
       "      <td>3</td>\n",
       "      <td>1</td>\n",
       "      <td>2017</td>\n",
       "      <td>0.17</td>\n",
       "    </tr>\n",
       "    <tr>\n",
       "      <th>23</th>\n",
       "      <td>10</td>\n",
       "      <td>3</td>\n",
       "      <td>1</td>\n",
       "      <td>2018</td>\n",
       "      <td>0.20</td>\n",
       "    </tr>\n",
       "    <tr>\n",
       "      <th>24</th>\n",
       "      <td>11</td>\n",
       "      <td>3</td>\n",
       "      <td>1</td>\n",
       "      <td>2017</td>\n",
       "      <td>0.18</td>\n",
       "    </tr>\n",
       "    <tr>\n",
       "      <th>25</th>\n",
       "      <td>11</td>\n",
       "      <td>3</td>\n",
       "      <td>1</td>\n",
       "      <td>2018</td>\n",
       "      <td>0.23</td>\n",
       "    </tr>\n",
       "    <tr>\n",
       "      <th>26</th>\n",
       "      <td>12</td>\n",
       "      <td>3</td>\n",
       "      <td>1</td>\n",
       "      <td>2017</td>\n",
       "      <td>0.18</td>\n",
       "    </tr>\n",
       "    <tr>\n",
       "      <th>27</th>\n",
       "      <td>13</td>\n",
       "      <td>3</td>\n",
       "      <td>1</td>\n",
       "      <td>2017</td>\n",
       "      <td>0.15</td>\n",
       "    </tr>\n",
       "    <tr>\n",
       "      <th>28</th>\n",
       "      <td>13</td>\n",
       "      <td>4</td>\n",
       "      <td>2</td>\n",
       "      <td>2017</td>\n",
       "      <td>0.14</td>\n",
       "    </tr>\n",
       "    <tr>\n",
       "      <th>29</th>\n",
       "      <td>14</td>\n",
       "      <td>4</td>\n",
       "      <td>2</td>\n",
       "      <td>2017</td>\n",
       "      <td>0.16</td>\n",
       "    </tr>\n",
       "    <tr>\n",
       "      <th>30</th>\n",
       "      <td>15</td>\n",
       "      <td>4</td>\n",
       "      <td>2</td>\n",
       "      <td>2017</td>\n",
       "      <td>0.20</td>\n",
       "    </tr>\n",
       "    <tr>\n",
       "      <th>31</th>\n",
       "      <td>16</td>\n",
       "      <td>4</td>\n",
       "      <td>2</td>\n",
       "      <td>2017</td>\n",
       "      <td>0.19</td>\n",
       "    </tr>\n",
       "    <tr>\n",
       "      <th>32</th>\n",
       "      <td>17</td>\n",
       "      <td>4</td>\n",
       "      <td>2</td>\n",
       "      <td>2017</td>\n",
       "      <td>0.14</td>\n",
       "    </tr>\n",
       "    <tr>\n",
       "      <th>33</th>\n",
       "      <td>18</td>\n",
       "      <td>5</td>\n",
       "      <td>2</td>\n",
       "      <td>2017</td>\n",
       "      <td>0.15</td>\n",
       "    </tr>\n",
       "    <tr>\n",
       "      <th>34</th>\n",
       "      <td>19</td>\n",
       "      <td>5</td>\n",
       "      <td>2</td>\n",
       "      <td>2017</td>\n",
       "      <td>0.16</td>\n",
       "    </tr>\n",
       "    <tr>\n",
       "      <th>35</th>\n",
       "      <td>20</td>\n",
       "      <td>5</td>\n",
       "      <td>2</td>\n",
       "      <td>2017</td>\n",
       "      <td>0.16</td>\n",
       "    </tr>\n",
       "    <tr>\n",
       "      <th>36</th>\n",
       "      <td>21</td>\n",
       "      <td>5</td>\n",
       "      <td>2</td>\n",
       "      <td>2017</td>\n",
       "      <td>0.13</td>\n",
       "    </tr>\n",
       "    <tr>\n",
       "      <th>37</th>\n",
       "      <td>22</td>\n",
       "      <td>5</td>\n",
       "      <td>2</td>\n",
       "      <td>2017</td>\n",
       "      <td>0.17</td>\n",
       "    </tr>\n",
       "    <tr>\n",
       "      <th>38</th>\n",
       "      <td>22</td>\n",
       "      <td>6</td>\n",
       "      <td>2</td>\n",
       "      <td>2017</td>\n",
       "      <td>0.15</td>\n",
       "    </tr>\n",
       "    <tr>\n",
       "      <th>39</th>\n",
       "      <td>23</td>\n",
       "      <td>6</td>\n",
       "      <td>2</td>\n",
       "      <td>2017</td>\n",
       "      <td>0.16</td>\n",
       "    </tr>\n",
       "    <tr>\n",
       "      <th>40</th>\n",
       "      <td>24</td>\n",
       "      <td>6</td>\n",
       "      <td>2</td>\n",
       "      <td>2017</td>\n",
       "      <td>0.17</td>\n",
       "    </tr>\n",
       "    <tr>\n",
       "      <th>41</th>\n",
       "      <td>25</td>\n",
       "      <td>6</td>\n",
       "      <td>2</td>\n",
       "      <td>2017</td>\n",
       "      <td>0.15</td>\n",
       "    </tr>\n",
       "    <tr>\n",
       "      <th>42</th>\n",
       "      <td>26</td>\n",
       "      <td>6</td>\n",
       "      <td>2</td>\n",
       "      <td>2017</td>\n",
       "      <td>0.18</td>\n",
       "    </tr>\n",
       "    <tr>\n",
       "      <th>43</th>\n",
       "      <td>26</td>\n",
       "      <td>7</td>\n",
       "      <td>3</td>\n",
       "      <td>2017</td>\n",
       "      <td>0.23</td>\n",
       "    </tr>\n",
       "    <tr>\n",
       "      <th>44</th>\n",
       "      <td>27</td>\n",
       "      <td>7</td>\n",
       "      <td>3</td>\n",
       "      <td>2017</td>\n",
       "      <td>0.30</td>\n",
       "    </tr>\n",
       "    <tr>\n",
       "      <th>45</th>\n",
       "      <td>28</td>\n",
       "      <td>7</td>\n",
       "      <td>3</td>\n",
       "      <td>2017</td>\n",
       "      <td>0.22</td>\n",
       "    </tr>\n",
       "    <tr>\n",
       "      <th>46</th>\n",
       "      <td>29</td>\n",
       "      <td>7</td>\n",
       "      <td>3</td>\n",
       "      <td>2017</td>\n",
       "      <td>0.22</td>\n",
       "    </tr>\n",
       "    <tr>\n",
       "      <th>47</th>\n",
       "      <td>30</td>\n",
       "      <td>7</td>\n",
       "      <td>3</td>\n",
       "      <td>2017</td>\n",
       "      <td>0.22</td>\n",
       "    </tr>\n",
       "    <tr>\n",
       "      <th>48</th>\n",
       "      <td>31</td>\n",
       "      <td>7</td>\n",
       "      <td>3</td>\n",
       "      <td>2017</td>\n",
       "      <td>0.27</td>\n",
       "    </tr>\n",
       "    <tr>\n",
       "      <th>49</th>\n",
       "      <td>31</td>\n",
       "      <td>8</td>\n",
       "      <td>3</td>\n",
       "      <td>2017</td>\n",
       "      <td>0.19</td>\n",
       "    </tr>\n",
       "    <tr>\n",
       "      <th>50</th>\n",
       "      <td>32</td>\n",
       "      <td>8</td>\n",
       "      <td>3</td>\n",
       "      <td>2017</td>\n",
       "      <td>0.21</td>\n",
       "    </tr>\n",
       "    <tr>\n",
       "      <th>51</th>\n",
       "      <td>33</td>\n",
       "      <td>8</td>\n",
       "      <td>3</td>\n",
       "      <td>2017</td>\n",
       "      <td>0.21</td>\n",
       "    </tr>\n",
       "    <tr>\n",
       "      <th>52</th>\n",
       "      <td>34</td>\n",
       "      <td>8</td>\n",
       "      <td>3</td>\n",
       "      <td>2017</td>\n",
       "      <td>0.19</td>\n",
       "    </tr>\n",
       "    <tr>\n",
       "      <th>53</th>\n",
       "      <td>35</td>\n",
       "      <td>8</td>\n",
       "      <td>3</td>\n",
       "      <td>2017</td>\n",
       "      <td>0.20</td>\n",
       "    </tr>\n",
       "    <tr>\n",
       "      <th>54</th>\n",
       "      <td>35</td>\n",
       "      <td>9</td>\n",
       "      <td>3</td>\n",
       "      <td>2017</td>\n",
       "      <td>0.21</td>\n",
       "    </tr>\n",
       "    <tr>\n",
       "      <th>55</th>\n",
       "      <td>36</td>\n",
       "      <td>9</td>\n",
       "      <td>3</td>\n",
       "      <td>2017</td>\n",
       "      <td>0.20</td>\n",
       "    </tr>\n",
       "    <tr>\n",
       "      <th>56</th>\n",
       "      <td>37</td>\n",
       "      <td>9</td>\n",
       "      <td>3</td>\n",
       "      <td>2017</td>\n",
       "      <td>0.19</td>\n",
       "    </tr>\n",
       "    <tr>\n",
       "      <th>57</th>\n",
       "      <td>38</td>\n",
       "      <td>9</td>\n",
       "      <td>3</td>\n",
       "      <td>2017</td>\n",
       "      <td>0.20</td>\n",
       "    </tr>\n",
       "    <tr>\n",
       "      <th>58</th>\n",
       "      <td>39</td>\n",
       "      <td>9</td>\n",
       "      <td>3</td>\n",
       "      <td>2017</td>\n",
       "      <td>0.19</td>\n",
       "    </tr>\n",
       "    <tr>\n",
       "      <th>59</th>\n",
       "      <td>39</td>\n",
       "      <td>10</td>\n",
       "      <td>4</td>\n",
       "      <td>2017</td>\n",
       "      <td>0.19</td>\n",
       "    </tr>\n",
       "    <tr>\n",
       "      <th>60</th>\n",
       "      <td>40</td>\n",
       "      <td>10</td>\n",
       "      <td>4</td>\n",
       "      <td>2017</td>\n",
       "      <td>0.20</td>\n",
       "    </tr>\n",
       "    <tr>\n",
       "      <th>61</th>\n",
       "      <td>41</td>\n",
       "      <td>10</td>\n",
       "      <td>4</td>\n",
       "      <td>2017</td>\n",
       "      <td>0.20</td>\n",
       "    </tr>\n",
       "    <tr>\n",
       "      <th>62</th>\n",
       "      <td>42</td>\n",
       "      <td>10</td>\n",
       "      <td>4</td>\n",
       "      <td>2017</td>\n",
       "      <td>0.27</td>\n",
       "    </tr>\n",
       "    <tr>\n",
       "      <th>63</th>\n",
       "      <td>43</td>\n",
       "      <td>10</td>\n",
       "      <td>4</td>\n",
       "      <td>2017</td>\n",
       "      <td>0.19</td>\n",
       "    </tr>\n",
       "    <tr>\n",
       "      <th>64</th>\n",
       "      <td>44</td>\n",
       "      <td>10</td>\n",
       "      <td>4</td>\n",
       "      <td>2017</td>\n",
       "      <td>0.20</td>\n",
       "    </tr>\n",
       "    <tr>\n",
       "      <th>65</th>\n",
       "      <td>44</td>\n",
       "      <td>11</td>\n",
       "      <td>4</td>\n",
       "      <td>2017</td>\n",
       "      <td>0.19</td>\n",
       "    </tr>\n",
       "    <tr>\n",
       "      <th>66</th>\n",
       "      <td>45</td>\n",
       "      <td>11</td>\n",
       "      <td>4</td>\n",
       "      <td>2017</td>\n",
       "      <td>0.19</td>\n",
       "    </tr>\n",
       "    <tr>\n",
       "      <th>67</th>\n",
       "      <td>46</td>\n",
       "      <td>11</td>\n",
       "      <td>4</td>\n",
       "      <td>2017</td>\n",
       "      <td>0.16</td>\n",
       "    </tr>\n",
       "    <tr>\n",
       "      <th>68</th>\n",
       "      <td>47</td>\n",
       "      <td>11</td>\n",
       "      <td>4</td>\n",
       "      <td>2017</td>\n",
       "      <td>0.23</td>\n",
       "    </tr>\n",
       "    <tr>\n",
       "      <th>69</th>\n",
       "      <td>48</td>\n",
       "      <td>11</td>\n",
       "      <td>4</td>\n",
       "      <td>2017</td>\n",
       "      <td>0.22</td>\n",
       "    </tr>\n",
       "    <tr>\n",
       "      <th>70</th>\n",
       "      <td>48</td>\n",
       "      <td>12</td>\n",
       "      <td>4</td>\n",
       "      <td>2017</td>\n",
       "      <td>0.18</td>\n",
       "    </tr>\n",
       "    <tr>\n",
       "      <th>71</th>\n",
       "      <td>49</td>\n",
       "      <td>12</td>\n",
       "      <td>4</td>\n",
       "      <td>2017</td>\n",
       "      <td>0.16</td>\n",
       "    </tr>\n",
       "    <tr>\n",
       "      <th>72</th>\n",
       "      <td>50</td>\n",
       "      <td>12</td>\n",
       "      <td>4</td>\n",
       "      <td>2017</td>\n",
       "      <td>0.15</td>\n",
       "    </tr>\n",
       "    <tr>\n",
       "      <th>73</th>\n",
       "      <td>51</td>\n",
       "      <td>12</td>\n",
       "      <td>4</td>\n",
       "      <td>2017</td>\n",
       "      <td>0.21</td>\n",
       "    </tr>\n",
       "    <tr>\n",
       "      <th>74</th>\n",
       "      <td>52</td>\n",
       "      <td>1</td>\n",
       "      <td>1</td>\n",
       "      <td>2016</td>\n",
       "      <td>0.20</td>\n",
       "    </tr>\n",
       "    <tr>\n",
       "      <th>75</th>\n",
       "      <td>52</td>\n",
       "      <td>12</td>\n",
       "      <td>4</td>\n",
       "      <td>2017</td>\n",
       "      <td>0.21</td>\n",
       "    </tr>\n",
       "  </tbody>\n",
       "</table>\n",
       "</div>"
      ],
      "text/plain": [
       "    week  month  quarter  year  promo_perc\n",
       "0      1      1        1  2017        0.22\n",
       "1      1      1        1  2018        0.19\n",
       "2      2      1        1  2017        0.26\n",
       "3      2      1        1  2018        0.23\n",
       "4      3      1        1  2017        0.23\n",
       "5      3      1        1  2018        0.22\n",
       "6      4      1        1  2017        0.27\n",
       "7      4      1        1  2018        0.22\n",
       "8      5      1        1  2017        0.24\n",
       "9      5      1        1  2018        0.20\n",
       "10     5      2        1  2017        0.20\n",
       "11     5      2        1  2018        0.19\n",
       "12     6      2        1  2017        0.18\n",
       "13     6      2        1  2018        0.18\n",
       "14     7      2        1  2017        0.20\n",
       "15     7      2        1  2018        0.30\n",
       "16     8      2        1  2017        0.18\n",
       "17     8      2        1  2018        0.18\n",
       "18     9      2        1  2017        0.18\n",
       "19     9      2        1  2018        0.19\n",
       "20     9      3        1  2017        0.24\n",
       "21     9      3        1  2018        0.21\n",
       "22    10      3        1  2017        0.17\n",
       "23    10      3        1  2018        0.20\n",
       "24    11      3        1  2017        0.18\n",
       "25    11      3        1  2018        0.23\n",
       "26    12      3        1  2017        0.18\n",
       "27    13      3        1  2017        0.15\n",
       "28    13      4        2  2017        0.14\n",
       "29    14      4        2  2017        0.16\n",
       "30    15      4        2  2017        0.20\n",
       "31    16      4        2  2017        0.19\n",
       "32    17      4        2  2017        0.14\n",
       "33    18      5        2  2017        0.15\n",
       "34    19      5        2  2017        0.16\n",
       "35    20      5        2  2017        0.16\n",
       "36    21      5        2  2017        0.13\n",
       "37    22      5        2  2017        0.17\n",
       "38    22      6        2  2017        0.15\n",
       "39    23      6        2  2017        0.16\n",
       "40    24      6        2  2017        0.17\n",
       "41    25      6        2  2017        0.15\n",
       "42    26      6        2  2017        0.18\n",
       "43    26      7        3  2017        0.23\n",
       "44    27      7        3  2017        0.30\n",
       "45    28      7        3  2017        0.22\n",
       "46    29      7        3  2017        0.22\n",
       "47    30      7        3  2017        0.22\n",
       "48    31      7        3  2017        0.27\n",
       "49    31      8        3  2017        0.19\n",
       "50    32      8        3  2017        0.21\n",
       "51    33      8        3  2017        0.21\n",
       "52    34      8        3  2017        0.19\n",
       "53    35      8        3  2017        0.20\n",
       "54    35      9        3  2017        0.21\n",
       "55    36      9        3  2017        0.20\n",
       "56    37      9        3  2017        0.19\n",
       "57    38      9        3  2017        0.20\n",
       "58    39      9        3  2017        0.19\n",
       "59    39     10        4  2017        0.19\n",
       "60    40     10        4  2017        0.20\n",
       "61    41     10        4  2017        0.20\n",
       "62    42     10        4  2017        0.27\n",
       "63    43     10        4  2017        0.19\n",
       "64    44     10        4  2017        0.20\n",
       "65    44     11        4  2017        0.19\n",
       "66    45     11        4  2017        0.19\n",
       "67    46     11        4  2017        0.16\n",
       "68    47     11        4  2017        0.23\n",
       "69    48     11        4  2017        0.22\n",
       "70    48     12        4  2017        0.18\n",
       "71    49     12        4  2017        0.16\n",
       "72    50     12        4  2017        0.15\n",
       "73    51     12        4  2017        0.21\n",
       "74    52      1        1  2016        0.20\n",
       "75    52     12        4  2017        0.21"
      ]
     },
     "execution_count": 24,
     "metadata": {},
     "output_type": "execute_result"
    }
   ],
   "source": [
    "grouped = (\n",
    "    df_com\n",
    "    .loc[df_com['state'] == 'Completed']\n",
    "    .groupby(['week', 'month', 'quarter', 'year'])\n",
    "    ['promo_perc']\n",
    "    .mean()\n",
    "    .reset_index()\n",
    ")\n",
    "\n",
    "grouped"
   ]
  },
  {
   "cell_type": "code",
   "execution_count": 25,
   "id": "5f81290b-802a-4e3f-a6df-a0664a5a4a8d",
   "metadata": {
    "tags": []
   },
   "outputs": [
    {
     "data": {
      "image/png": "[encoded data removed]",
      "text/plain": [
       "<Figure size 1500x700 with 1 Axes>"
      ]
     },
     "metadata": {},
     "output_type": "display_data"
    }
   ],
   "source": [
    "import matplotlib.pyplot as plt\n",
    "\n",
    "# Creating 'week-year' for plotting\n",
    "grouped['week-year'] = grouped['week'].astype(str) + '-' + grouped['year'].astype(str)\n",
    "\n",
    "# Group by 'week-year' and calculate the mean of 'promo_perc'\n",
    "weekly_promo = grouped.groupby('week-year')['promo_perc'].mean()\n",
    "\n",
    "# Plot\n",
    "plt.figure(figsize=(15, 7))\n",
    "weekly_promo.plot(color='steelblue')\n",
    "plt.title('Average Promotional Percentage Over Weeks', fontsize=18)\n",
    "plt.xlabel('Week-Year', fontsize=15)\n",
    "plt.ylabel('Average Promotional Percentage', fontsize=15)\n",
    "plt.xticks(rotation=45)\n",
    "plt.tight_layout()\n",
    "plt.show()\n"
   ]
  },
  {
   "cell_type": "code",
   "execution_count": 26,
   "id": "8b4ee0b2-7624-4d1b-ad4d-6aa832e97789",
   "metadata": {
    "tags": []
   },
   "outputs": [
    {
     "name": "stdout",
     "output_type": "stream",
     "text": [
      "week  created_date  created_date  year\n",
      "1     1             1             2017   0.22\n",
      "                                  2018   0.19\n",
      "2     1             1             2017   0.26\n",
      "                                  2018   0.23\n",
      "3     1             1             2017   0.23\n",
      "                                  2018   0.22\n",
      "4     1             1             2017   0.27\n",
      "                                  2018   0.22\n",
      "5     1             1             2017   0.24\n",
      "                                  2018   0.20\n",
      "      2             1             2017   0.20\n",
      "                                  2018   0.19\n",
      "6     2             1             2017   0.18\n",
      "                                  2018   0.18\n",
      "7     2             1             2017   0.20\n",
      "                                  2018   0.30\n",
      "8     2             1             2017   0.18\n",
      "                                  2018   0.18\n",
      "9     2             1             2017   0.18\n",
      "                                  2018   0.19\n",
      "      3             1             2017   0.24\n",
      "                                  2018   0.21\n",
      "10    3             1             2017   0.17\n",
      "                                  2018   0.20\n",
      "11    3             1             2017   0.18\n",
      "                                  2018   0.23\n",
      "12    3             1             2017   0.18\n",
      "13    3             1             2017   0.15\n",
      "      4             2             2017   0.14\n",
      "14    4             2             2017   0.16\n",
      "15    4             2             2017   0.20\n",
      "16    4             2             2017   0.19\n",
      "17    4             2             2017   0.14\n",
      "18    5             2             2017   0.15\n",
      "19    5             2             2017   0.16\n",
      "20    5             2             2017   0.16\n",
      "21    5             2             2017   0.13\n",
      "22    5             2             2017   0.17\n",
      "      6             2             2017   0.15\n",
      "23    6             2             2017   0.16\n",
      "24    6             2             2017   0.17\n",
      "25    6             2             2017   0.15\n",
      "26    6             2             2017   0.18\n",
      "      7             3             2017   0.23\n",
      "27    7             3             2017   0.30\n",
      "28    7             3             2017   0.22\n",
      "29    7             3             2017   0.22\n",
      "30    7             3             2017   0.22\n",
      "31    7             3             2017   0.27\n",
      "      8             3             2017   0.19\n",
      "32    8             3             2017   0.21\n",
      "33    8             3             2017   0.21\n",
      "34    8             3             2017   0.19\n",
      "35    8             3             2017   0.20\n",
      "      9             3             2017   0.21\n",
      "36    9             3             2017   0.20\n",
      "37    9             3             2017   0.19\n",
      "38    9             3             2017   0.20\n",
      "39    9             3             2017   0.19\n",
      "      10            4             2017   0.19\n",
      "40    10            4             2017   0.20\n",
      "41    10            4             2017   0.20\n",
      "42    10            4             2017   0.27\n",
      "43    10            4             2017   0.19\n",
      "44    10            4             2017   0.20\n",
      "      11            4             2017   0.19\n",
      "45    11            4             2017   0.19\n",
      "46    11            4             2017   0.16\n",
      "47    11            4             2017   0.23\n",
      "48    11            4             2017   0.22\n",
      "      12            4             2017   0.18\n",
      "49    12            4             2017   0.16\n",
      "50    12            4             2017   0.15\n",
      "51    12            4             2017   0.21\n",
      "52    1             1             2016   0.20\n",
      "      12            4             2017   0.21\n",
      "Name: promo_perc, dtype: float64\n"
     ]
    }
   ],
   "source": [
    " grouped =(\n",
    "     df_com\n",
    "     .loc[df_com['state']=='Completed']\n",
    "     .groupby([df_com['created_date'].dt.isocalendar().week, df_com['created_date'].dt.month, df_com['created_date'].dt.quarter, df_com['created_date'].dt.isocalendar().year])\n",
    "     ['promo_perc']\n",
    "     .mean()\n",
    " )\n",
    "#grouped.columns = ['week', 'month', 'quarter', 'promo_perc']\n",
    "grouped.columns = ['week', 'month', 'quarter', 'promo_perc']\n",
    "print(grouped)"
   ]
  },
  {
   "cell_type": "markdown",
   "id": "a126cd67-6f4d-4c17-adb3-72762794d072",
   "metadata": {},
   "source": [
    "Make the Line Plot"
   ]
  },
  {
   "cell_type": "markdown",
   "id": "c0a7df19-f59a-416b-96af-435fedd918b5",
   "metadata": {},
   "source": [
    "look for weeks/months/days where promotion in percentage/ price high. Which one to use?"
   ]
  },
  {
   "cell_type": "code",
   "execution_count": null,
   "id": "1b40a2f3-d339-4058-b58e-cb4bf406a36a",
   "metadata": {},
   "outputs": [],
   "source": []
  },
  {
   "cell_type": "code",
   "execution_count": null,
   "id": "b1da7cf9-6afe-4736-9534-a919549f43f0",
   "metadata": {},
   "outputs": [],
   "source": []
  },
  {
   "cell_type": "code",
   "execution_count": null,
   "id": "9d9ebb39-69ad-4180-8a64-0e597e26fe1f",
   "metadata": {},
   "outputs": [],
   "source": []
  }
 ],
 "metadata": {
  "kernelspec": {
   "display_name": "Python 3 (ipykernel)",
   "language": "python",
   "name": "python3"
  },
  "language_info": {
   "codemirror_mode": {
    "name": "ipython",
    "version": 3
   },
   "file_extension": ".py",
   "mimetype": "text/x-python",
   "name": "python",
   "nbconvert_exporter": "python",
   "pygments_lexer": "ipython3",
   "version": "3.11.4"
  }
 },
 "nbformat": 4,
 "nbformat_minor": 5
}
