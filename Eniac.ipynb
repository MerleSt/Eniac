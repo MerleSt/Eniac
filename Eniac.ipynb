{
 "cells": [
  {
   "cell_type": "markdown",
   "id": "e89b2bd3-a316-4d91-9776-bb889eab7c43",
   "metadata": {},
   "source": [
    "# Eniac"
   ]
  },
  {
   "cell_type": "markdown",
   "id": "c57afee8-7d59-438d-8bcd-52aa9a7205d3",
   "metadata": {},
   "source": [
    "## Importing Data"
   ]
  },
  {
   "cell_type": "markdown",
   "id": "0211823c-3bf9-4499-aa3a-45bf7b73ba49",
   "metadata": {},
   "source": [
    "Turning them into a dictionary of dataframes."
   ]
  },
  {
   "cell_type": "code",
   "execution_count": 1,
   "id": "777e1675-a39f-4d07-8a98-7b25c50ccfa0",
   "metadata": {
    "tags": []
   },
   "outputs": [],
   "source": [
    "import pandas as pd\n",
    "import numpy as np\n",
    "\n",
    "orders_url = \"https://raw.githubusercontent.com/MerleSt/Eniac/main/Data-Eniac/Data_Cleaned/orders_clean.parquet\"\n",
    "orderlines_url = \"https://raw.githubusercontent.com/MerleSt/Eniac/main/Data-Eniac/Data_Cleaned/orderlines_clean.parquet\"\n",
    "products_url = \"https://raw.githubusercontent.com/MerleSt/Eniac/main/Data-Eniac/Data_Cleaned/products_clean.parquet\"\n",
    "brands_url = \"https://raw.githubusercontent.com/MerleSt/Eniac/main/Data-Eniac/Data_Cleaned/brands_clean.parquet\"\n",
    "\n",
    "# Loading dataframes directly from GitHub\n",
    "orders_df = pd.read_parquet(orders_url)\n",
    "orderlines_df = pd.read_parquet(orderlines_url)\n",
    "products_df = pd.read_parquet(products_url)\n",
    "brands_df = pd.read_parquet(brands_url)\n",
    "\n",
    "orders = orders_df.copy()\n",
    "orderlines = orderlines_df.copy()\n",
    "products = products_df.copy()\n",
    "brands = brands_df.copy()\n"
   ]
  },
  {
   "cell_type": "markdown",
   "id": "016dede1-8d5a-4c96-8662-f81dafd49c15",
   "metadata": {},
   "source": [
    "Keys of tables:\n",
    "\n",
    "order_id : orders, orderlines\n",
    "\n",
    "sku = products, orderlines, brands --> the first three letters of sku = short brand name\n",
    "\n",
    "Questions:\n",
    "\n",
    "What is id: and unit_price: in orderlines?\n",
    "\n",
    "What is total_paid in orders? What is created_date in orders?"
   ]
  },
  {
   "cell_type": "markdown",
   "id": "06a435fe-fa82-44b8-9cfb-aaa157a146b0",
   "metadata": {},
   "source": [
    "## Data Integration"
   ]
  },
  {
   "cell_type": "code",
   "execution_count": 2,
   "id": "60875c89-68ec-4cc8-a898-16e3bf1d89db",
   "metadata": {
    "tags": []
   },
   "outputs": [],
   "source": [
    "# Rename column to match with orders (better readability)\n",
    "orderlines.rename(columns={'id_order': 'order_id'}, inplace=True)"
   ]
  },
  {
   "cell_type": "code",
   "execution_count": 3,
   "id": "b16eb9c1-9b03-400f-9e41-abb1cc25de2f",
   "metadata": {
    "tags": []
   },
   "outputs": [],
   "source": [
    "orderlines['short_brand'] = orderlines['sku'].str[:3]"
   ]
  },
  {
   "cell_type": "code",
   "execution_count": 4,
   "id": "692c557a-1b78-4120-9a46-2d740b8d45a2",
   "metadata": {
    "tags": []
   },
   "outputs": [],
   "source": [
    "# Merge Orderlines on brands, since both tables are small anyway\n",
    "orderlines_brands = orderlines.merge(brands, left_on='short_brand' ,right_on='short', how='left')"
   ]
  },
  {
   "cell_type": "code",
   "execution_count": 5,
   "id": "637568a3-ba4d-4f14-9d32-300d436309af",
   "metadata": {
    "tags": []
   },
   "outputs": [],
   "source": [
    "oo = orders.merge(orderlines, on='order_id', how='left')\n",
    "boo = oo.merge(brands, left_on ='short_brand', right_on='short', how='left')\n",
    "boop = boo.merge(products, on ='sku', how='left')"
   ]
  },
  {
   "cell_type": "code",
   "execution_count": 6,
   "id": "fbe137a4-6e7b-4092-ad1f-d46c2bc428fb",
   "metadata": {
    "tags": []
   },
   "outputs": [],
   "source": [
    "# Let's say you want to drop the columns 'column_name1', 'column_name2', and 'column_name3'\n",
    "boop.drop(columns=['short'], inplace=True)"
   ]
  },
  {
   "cell_type": "markdown",
   "id": "1fad362c-8742-4493-b3e1-0e1f2934d95f",
   "metadata": {},
   "source": [
    "- DataFrame **.describe()** gives basic numerical aggregations. It can be applied to a single column as well.\n",
    "- DataFrame **.isna().any()** highlights which columns contain missing data\n",
    "- DataFrame **.shape** gives the number of rows and columns\n",
    "- DataFrame **.columns** gives the column names. Note that a list with new names can be passed to this attribute to rename the columns.\n",
    "- DataFrame **.columnName.isna().sum()** is a quick way to check the number of missing values in a column\n",
    "- DataFrame **.columnName.value_counts()** is a great way to summarise a categorical column. You can use it to discover how many orders are completed, cancelled, pending…\n",
    "- DataFrame **.columnName.hist()** is an easy way to plot a histogram in a numerical column. Play with the bins argument to change the granularity of the graph."
   ]
  },
  {
   "cell_type": "markdown",
   "id": "bde8ab68-1534-42cd-b4b2-5775f4e4e11c",
   "metadata": {},
   "source": [
    "## Create a new column with the Promo Price"
   ]
  },
  {
   "cell_type": "code",
   "execution_count": 7,
   "id": "26fa702d-66ee-402d-896b-bc2d44f3214e",
   "metadata": {
    "tags": []
   },
   "outputs": [
    {
     "data": {
      "text/html": [
       "<div>\n",
       "<style scoped>\n",
       "    .dataframe tbody tr th:only-of-type {\n",
       "        vertical-align: middle;\n",
       "    }\n",
       "\n",
       "    .dataframe tbody tr th {\n",
       "        vertical-align: top;\n",
       "    }\n",
       "\n",
       "    .dataframe thead th {\n",
       "        text-align: right;\n",
       "    }\n",
       "</style>\n",
       "<table border=\"1\" class=\"dataframe\">\n",
       "  <thead>\n",
       "    <tr style=\"text-align: right;\">\n",
       "      <th></th>\n",
       "      <th>estimated_promo_price</th>\n",
       "      <th>is_promo</th>\n",
       "      <th>promo_price</th>\n",
       "      <th>price</th>\n",
       "    </tr>\n",
       "  </thead>\n",
       "  <tbody>\n",
       "    <tr>\n",
       "      <th>0</th>\n",
       "      <td>44.99</td>\n",
       "      <td>True</td>\n",
       "      <td>42.99</td>\n",
       "      <td>49.95</td>\n",
       "    </tr>\n",
       "    <tr>\n",
       "      <th>1</th>\n",
       "      <td>129.16</td>\n",
       "      <td>True</td>\n",
       "      <td>114.99</td>\n",
       "      <td>139.99</td>\n",
       "    </tr>\n",
       "    <tr>\n",
       "      <th>2</th>\n",
       "      <td>10.77</td>\n",
       "      <td>True</td>\n",
       "      <td>10.99</td>\n",
       "      <td>17.99</td>\n",
       "    </tr>\n",
       "    <tr>\n",
       "      <th>3</th>\n",
       "      <td>77.99</td>\n",
       "      <td>True</td>\n",
       "      <td>99.99</td>\n",
       "      <td>99.99</td>\n",
       "    </tr>\n",
       "    <tr>\n",
       "      <th>4</th>\n",
       "      <td>51.29</td>\n",
       "      <td>True</td>\n",
       "      <td>58.99</td>\n",
       "      <td>59.95</td>\n",
       "    </tr>\n",
       "    <tr>\n",
       "      <th>...</th>\n",
       "      <td>...</td>\n",
       "      <td>...</td>\n",
       "      <td>...</td>\n",
       "      <td>...</td>\n",
       "    </tr>\n",
       "    <tr>\n",
       "      <th>315951</th>\n",
       "      <td>42.99</td>\n",
       "      <td>True</td>\n",
       "      <td>42.99</td>\n",
       "      <td>49.95</td>\n",
       "    </tr>\n",
       "    <tr>\n",
       "      <th>315952</th>\n",
       "      <td>42.99</td>\n",
       "      <td>True</td>\n",
       "      <td>42.99</td>\n",
       "      <td>49.95</td>\n",
       "    </tr>\n",
       "    <tr>\n",
       "      <th>315953</th>\n",
       "      <td>141.58</td>\n",
       "      <td>True</td>\n",
       "      <td>141.58</td>\n",
       "      <td>215.98</td>\n",
       "    </tr>\n",
       "    <tr>\n",
       "      <th>315954</th>\n",
       "      <td>9.99</td>\n",
       "      <td>True</td>\n",
       "      <td>9.99</td>\n",
       "      <td>25.00</td>\n",
       "    </tr>\n",
       "    <tr>\n",
       "      <th>315955</th>\n",
       "      <td>13.99</td>\n",
       "      <td>True</td>\n",
       "      <td>13.99</td>\n",
       "      <td>35.00</td>\n",
       "    </tr>\n",
       "  </tbody>\n",
       "</table>\n",
       "<p>315956 rows × 4 columns</p>\n",
       "</div>"
      ],
      "text/plain": [
       "        estimated_promo_price  is_promo  promo_price   price\n",
       "0                       44.99      True        42.99   49.95\n",
       "1                      129.16      True       114.99  139.99\n",
       "2                       10.77      True        10.99   17.99\n",
       "3                       77.99      True        99.99   99.99\n",
       "4                       51.29      True        58.99   59.95\n",
       "...                       ...       ...          ...     ...\n",
       "315951                  42.99      True        42.99   49.95\n",
       "315952                  42.99      True        42.99   49.95\n",
       "315953                 141.58      True       141.58  215.98\n",
       "315954                   9.99      True         9.99   25.00\n",
       "315955                  13.99      True        13.99   35.00\n",
       "\n",
       "[315956 rows x 4 columns]"
      ]
     },
     "execution_count": 7,
     "metadata": {},
     "output_type": "execute_result"
    }
   ],
   "source": [
    "boop['is_promo'] = boop['unit_price'] < boop['price']\n",
    "boop['estimated_promo_price'] = boop.apply(lambda row: row['unit_price'] if row['is_promo'] else np.nan, axis=1)\n",
    "boop[['estimated_promo_price','is_promo', 'promo_price', 'price']]"
   ]
  },
  {
   "cell_type": "markdown",
   "id": "d02e247b-fdf7-428f-a230-a859fdd3bd77",
   "metadata": {},
   "source": [
    "## Step 2: Analyzing Order Patterns in Relation to Discounts"
   ]
  },
  {
   "cell_type": "markdown",
   "id": "762e93d6-c840-4bc9-955b-ceab95f1cf94",
   "metadata": {},
   "source": [
    "Objective:\n",
    "To understand if the introduction or availability of discounts affects order patterns – both in terms of quantity and frequency."
   ]
  },
  {
   "cell_type": "markdown",
   "id": "8192e261-6cd0-4d97-a035-a6ee22086af6",
   "metadata": {},
   "source": [
    "### 1. Understand basic metrics"
   ]
  },
  {
   "cell_type": "code",
   "execution_count": 8,
   "id": "45f8588d-3302-4b4c-8f72-e8353dcb31b7",
   "metadata": {
    "tags": []
   },
   "outputs": [],
   "source": [
    "total_orders = boop['order_id'].nunique()\n",
    "avg_order_value = boop.groupby('order_id')['total_paid'].first().mean()\n",
    "avg_items_per_order = boop.groupby('order_id').size().mean()"
   ]
  },
  {
   "cell_type": "code",
   "execution_count": 9,
   "id": "fcd27120-c8be-46a7-be86-79578363595d",
   "metadata": {
    "tags": []
   },
   "outputs": [
    {
     "name": "stdout",
     "output_type": "stream",
     "text": [
      "226904\n",
      "569.2258182755703\n",
      "1.3924655360857454\n"
     ]
    }
   ],
   "source": [
    "print(total_orders)\n",
    "print(avg_order_value)\n",
    "print(avg_items_per_order)"
   ]
  },
  {
   "cell_type": "markdown",
   "id": "7dd70bf1-2f3a-4c11-b342-382c94ef0490",
   "metadata": {},
   "source": [
    "### 2. Segment Orders by Discounts:"
   ]
  },
  {
   "cell_type": "code",
   "execution_count": 10,
   "id": "1bdee0a9-06fe-4383-b857-8f0a4770f1b4",
   "metadata": {
    "tags": []
   },
   "outputs": [
    {
     "data": {
      "text/plain": [
       "order_id\n",
       "241319    True\n",
       "241423    True\n",
       "242832    True\n",
       "243330    True\n",
       "243784    True\n",
       "          ... \n",
       "527397    True\n",
       "527398    True\n",
       "527399    True\n",
       "527400    True\n",
       "527401    True\n",
       "Name: is_promo, Length: 226904, dtype: bool"
      ]
     },
     "execution_count": 10,
     "metadata": {},
     "output_type": "execute_result"
    }
   ],
   "source": [
    "orders_with_discount = boop.groupby('order_id')['is_promo'].any()\n",
    "orders_with_discount"
   ]
  },
  {
   "cell_type": "markdown",
   "id": "3d0e723d-9780-4ab7-9706-3ad26098d17d",
   "metadata": {},
   "source": [
    "### 3. Compare Metrics"
   ]
  },
  {
   "cell_type": "code",
   "execution_count": 11,
   "id": "f372771a-d6ee-4ac0-969d-3693cef3ab62",
   "metadata": {
    "tags": []
   },
   "outputs": [
    {
     "name": "stdout",
     "output_type": "stream",
     "text": [
      "656.86\n",
      "497.58\n",
      "1.4\n",
      "1.05\n"
     ]
    }
   ],
   "source": [
    "avg_order_value_discounted = boop[boop['is_promo']].groupby('order_id')['total_paid'].first().mean().round(2)\n",
    "avg_order_value_non_discounted = boop[~boop['is_promo']].groupby('order_id')['total_paid'].first().mean().round(2)\n",
    "\n",
    "avg_items_discounted = boop[boop['is_promo']].groupby('order_id').size().mean().round(2)\n",
    "avg_items_non_discounted = boop[~boop['is_promo']].groupby('order_id').size().mean().round(2)\n",
    "print(avg_order_value_discounted)\n",
    "print(avg_order_value_non_discounted)\n",
    "print(avg_items_discounted)\n",
    "print(avg_items_non_discounted)"
   ]
  },
  {
   "cell_type": "markdown",
   "id": "49d4e614-59c1-4e6a-b066-fd35e4904b02",
   "metadata": {},
   "source": [
    "### 4. Temporal Analysis"
   ]
  },
  {
   "cell_type": "code",
   "execution_count": 12,
   "id": "3557c87c-1e6b-4f9a-9b48-3c5caab85f1c",
   "metadata": {
    "tags": []
   },
   "outputs": [
    {
     "data": {
      "text/plain": [
       "order_id                         object\n",
       "created_date             datetime64[ns]\n",
       "total_paid                      float64\n",
       "state                          category\n",
       "product_quantity                float64\n",
       "sku                              object\n",
       "unit_price                      float64\n",
       "date                     datetime64[ns]\n",
       "short_brand                      object\n",
       "long                             object\n",
       "name                             object\n",
       "desc                             object\n",
       "price                           float64\n",
       "promo_price                     float64\n",
       "in_stock                         object\n",
       "type                           category\n",
       "promo_percentage                float64\n",
       "is_promo                           bool\n",
       "estimated_promo_price           float64\n",
       "dtype: object"
      ]
     },
     "execution_count": 12,
     "metadata": {},
     "output_type": "execute_result"
    }
   ],
   "source": [
    "boop.dtypes"
   ]
  },
  {
   "cell_type": "code",
   "execution_count": 13,
   "id": "10360a70-baa0-4e23-901c-830cd17db9e9",
   "metadata": {
    "tags": []
   },
   "outputs": [
    {
     "data": {
      "text/plain": [
       "created_month\n",
       "1     54390\n",
       "2     32723\n",
       "3     21435\n",
       "4      9713\n",
       "5      9342\n",
       "6      9487\n",
       "7     14036\n",
       "8     10068\n",
       "9     11630\n",
       "10    13969\n",
       "11    40066\n",
       "12    32027\n",
       "dtype: int64"
      ]
     },
     "execution_count": 13,
     "metadata": {},
     "output_type": "execute_result"
    }
   ],
   "source": [
    "boop['created_month'] = boop['created_date'].dt.month\n",
    "monthly_discounted_orders = boop[boop['is_promo']].groupby('created_month').size()\n",
    "monthly_discounted_orders"
   ]
  },
  {
   "cell_type": "markdown",
   "id": "fb505492-de45-4389-b467-f534969e1445",
   "metadata": {},
   "source": [
    "### 5. Visiual Analysis"
   ]
  },
  {
   "cell_type": "code",
   "execution_count": 14,
   "id": "adc44c71-095c-4be8-8273-5f225d16058e",
   "metadata": {
    "tags": []
   },
   "outputs": [
    {
     "data": {
      "image/png": "[encoded data removed]",
      "text/plain": [
       "<Figure size 640x480 with 1 Axes>"
      ]
     },
     "metadata": {},
     "output_type": "display_data"
    },
    {
     "data": {
      "image/png": "[encoded data removed]",
      "text/plain": [
       "<Figure size 640x480 with 1 Axes>"
      ]
     },
     "metadata": {},
     "output_type": "display_data"
    }
   ],
   "source": [
    "import matplotlib.pyplot as plt\n",
    "\n",
    "# Average order values comparison\n",
    "plt.bar(['Discounted', 'Non-Discounted'], [avg_order_value_discounted, avg_order_value_non_discounted])\n",
    "plt.title('Average Order Values')\n",
    "plt.ylabel('Value')\n",
    "plt.show()\n",
    "\n",
    "# Monthly trends of discounted orders\n",
    "monthly_discounted_orders.plot(kind='bar')\n",
    "plt.title('Monthly Trend of Discounted Orders')\n",
    "plt.ylabel('Number of Orders')\n",
    "plt.xlabel('Month')\n",
    "plt.show()\n"
   ]
  },
  {
   "cell_type": "markdown",
   "id": "5f1d8787-55b3-4d1f-9732-6e8d32d21700",
   "metadata": {},
   "source": [
    "Possible Conclusions:\n",
    "\n",
    "- If orders with discounts have a significantly higher average value or quantity, it suggests discounts might be driving larger orders.\n",
    "- If there's a temporal trend showing increased discount orders during specific times, it might suggest seasonal trends or the effects of periodic discount campaigns."
   ]
  },
  {
   "cell_type": "markdown",
   "id": "0a864ecc-df69-447e-bcd4-7d6536426624",
   "metadata": {},
   "source": [
    "## Step 3: Analyzing Customer Behavior and Retention with Respect to Discounts:"
   ]
  },
  {
   "cell_type": "markdown",
   "id": "944cddb8-4e21-4e93-840b-4d8f4b33e2a5",
   "metadata": {},
   "source": [
    "### 1. Retention Rate with Respect to Discounts:"
   ]
  },
  {
   "cell_type": "code",
   "execution_count": 15,
   "id": "43cba571-278a-4feb-a625-e1008d3c6784",
   "metadata": {
    "tags": []
   },
   "outputs": [
    {
     "data": {
      "text/html": [
       "<div>\n",
       "<style scoped>\n",
       "    .dataframe tbody tr th:only-of-type {\n",
       "        vertical-align: middle;\n",
       "    }\n",
       "\n",
       "    .dataframe tbody tr th {\n",
       "        vertical-align: top;\n",
       "    }\n",
       "\n",
       "    .dataframe thead th {\n",
       "        text-align: right;\n",
       "    }\n",
       "</style>\n",
       "<table border=\"1\" class=\"dataframe\">\n",
       "  <thead>\n",
       "    <tr style=\"text-align: right;\">\n",
       "      <th></th>\n",
       "      <th>order_id</th>\n",
       "      <th>created_date</th>\n",
       "      <th>total_paid</th>\n",
       "      <th>state</th>\n",
       "      <th>product_quantity</th>\n",
       "      <th>sku</th>\n",
       "      <th>unit_price</th>\n",
       "      <th>date</th>\n",
       "      <th>short_brand</th>\n",
       "      <th>long</th>\n",
       "      <th>name</th>\n",
       "      <th>desc</th>\n",
       "      <th>price</th>\n",
       "      <th>promo_price</th>\n",
       "      <th>in_stock</th>\n",
       "      <th>type</th>\n",
       "      <th>promo_percentage</th>\n",
       "      <th>is_promo</th>\n",
       "      <th>estimated_promo_price</th>\n",
       "      <th>created_month</th>\n",
       "    </tr>\n",
       "  </thead>\n",
       "  <tbody>\n",
       "    <tr>\n",
       "      <th>0</th>\n",
       "      <td>241319</td>\n",
       "      <td>2017-01-02 13:35:40</td>\n",
       "      <td>44.99</td>\n",
       "      <td>Cancelled</td>\n",
       "      <td>1.0</td>\n",
       "      <td>JBL0123</td>\n",
       "      <td>44.99</td>\n",
       "      <td>2017-01-02 12:26:59</td>\n",
       "      <td>JBL</td>\n",
       "      <td>JBL</td>\n",
       "      <td>JBL T450 Bluetooth BT Headset White</td>\n",
       "      <td>Wireless headphones with folding design with 1...</td>\n",
       "      <td>49.95</td>\n",
       "      <td>42.99</td>\n",
       "      <td>True</td>\n",
       "      <td>5384</td>\n",
       "      <td>0.1393</td>\n",
       "      <td>True</td>\n",
       "      <td>44.99</td>\n",
       "      <td>1</td>\n",
       "    </tr>\n",
       "    <tr>\n",
       "      <th>1</th>\n",
       "      <td>241423</td>\n",
       "      <td>2017-11-06 13:10:02</td>\n",
       "      <td>136.15</td>\n",
       "      <td>Completed</td>\n",
       "      <td>1.0</td>\n",
       "      <td>LAC0212</td>\n",
       "      <td>129.16</td>\n",
       "      <td>2017-11-06 12:47:20</td>\n",
       "      <td>LAC</td>\n",
       "      <td>LaCie</td>\n",
       "      <td>LaCie Porsche Design Desktop Drive 4TB USB 3.0...</td>\n",
       "      <td>External Hard Drive 4TB 35-inch USB 3.0 for Ma...</td>\n",
       "      <td>139.99</td>\n",
       "      <td>114.99</td>\n",
       "      <td>True</td>\n",
       "      <td>11935397</td>\n",
       "      <td>0.1786</td>\n",
       "      <td>True</td>\n",
       "      <td>129.16</td>\n",
       "      <td>11</td>\n",
       "    </tr>\n",
       "    <tr>\n",
       "      <th>2</th>\n",
       "      <td>242832</td>\n",
       "      <td>2017-12-31 17:40:03</td>\n",
       "      <td>15.76</td>\n",
       "      <td>Completed</td>\n",
       "      <td>1.0</td>\n",
       "      <td>PAR0074</td>\n",
       "      <td>10.77</td>\n",
       "      <td>2017-12-31 17:26:40</td>\n",
       "      <td>PAR</td>\n",
       "      <td>Parrot</td>\n",
       "      <td>Parrot 550mAh battery for MiniDrones</td>\n",
       "      <td>550mAh rechargeable battery for Parrot minidrones</td>\n",
       "      <td>17.99</td>\n",
       "      <td>10.99</td>\n",
       "      <td>False</td>\n",
       "      <td>11905404</td>\n",
       "      <td>0.3891</td>\n",
       "      <td>True</td>\n",
       "      <td>10.77</td>\n",
       "      <td>12</td>\n",
       "    </tr>\n",
       "    <tr>\n",
       "      <th>3</th>\n",
       "      <td>243330</td>\n",
       "      <td>2017-02-16 10:59:38</td>\n",
       "      <td>84.98</td>\n",
       "      <td>Completed</td>\n",
       "      <td>1.0</td>\n",
       "      <td>OWC0074</td>\n",
       "      <td>77.99</td>\n",
       "      <td>2017-02-15 17:07:44</td>\n",
       "      <td>OWC</td>\n",
       "      <td>OWC</td>\n",
       "      <td>Mac OWC Memory 8GB 1066MHZ DDR3 SO-DIMM</td>\n",
       "      <td>8GB RAM Mac mini iMac MacBook and MacBook Pro ...</td>\n",
       "      <td>99.99</td>\n",
       "      <td>99.99</td>\n",
       "      <td>True</td>\n",
       "      <td>1364</td>\n",
       "      <td>0.0000</td>\n",
       "      <td>True</td>\n",
       "      <td>77.99</td>\n",
       "      <td>2</td>\n",
       "    </tr>\n",
       "    <tr>\n",
       "      <th>4</th>\n",
       "      <td>243784</td>\n",
       "      <td>2017-11-24 13:35:19</td>\n",
       "      <td>157.86</td>\n",
       "      <td>Cancelled</td>\n",
       "      <td>3.0</td>\n",
       "      <td>PHI0080</td>\n",
       "      <td>51.29</td>\n",
       "      <td>2017-11-24 13:27:41</td>\n",
       "      <td>PHI</td>\n",
       "      <td>Philips</td>\n",
       "      <td>Philips HUE White Ambience Pack 2 GU10 bulbs</td>\n",
       "      <td>Pack of two bulbs with different shades of whi...</td>\n",
       "      <td>59.95</td>\n",
       "      <td>58.99</td>\n",
       "      <td>True</td>\n",
       "      <td>11905404</td>\n",
       "      <td>0.0160</td>\n",
       "      <td>True</td>\n",
       "      <td>51.29</td>\n",
       "      <td>11</td>\n",
       "    </tr>\n",
       "    <tr>\n",
       "      <th>...</th>\n",
       "      <td>...</td>\n",
       "      <td>...</td>\n",
       "      <td>...</td>\n",
       "      <td>...</td>\n",
       "      <td>...</td>\n",
       "      <td>...</td>\n",
       "      <td>...</td>\n",
       "      <td>...</td>\n",
       "      <td>...</td>\n",
       "      <td>...</td>\n",
       "      <td>...</td>\n",
       "      <td>...</td>\n",
       "      <td>...</td>\n",
       "      <td>...</td>\n",
       "      <td>...</td>\n",
       "      <td>...</td>\n",
       "      <td>...</td>\n",
       "      <td>...</td>\n",
       "      <td>...</td>\n",
       "      <td>...</td>\n",
       "    </tr>\n",
       "    <tr>\n",
       "      <th>315951</th>\n",
       "      <td>527397</td>\n",
       "      <td>2018-03-14 13:56:38</td>\n",
       "      <td>42.99</td>\n",
       "      <td>Place Order</td>\n",
       "      <td>1.0</td>\n",
       "      <td>JBL0122</td>\n",
       "      <td>42.99</td>\n",
       "      <td>2018-03-14 13:56:38</td>\n",
       "      <td>JBL</td>\n",
       "      <td>JBL</td>\n",
       "      <td>JBL T450 BT Bluetooth Headset Black</td>\n",
       "      <td>Wireless headphones with folding design with 1...</td>\n",
       "      <td>49.95</td>\n",
       "      <td>42.99</td>\n",
       "      <td>True</td>\n",
       "      <td>5384</td>\n",
       "      <td>0.1393</td>\n",
       "      <td>True</td>\n",
       "      <td>42.99</td>\n",
       "      <td>3</td>\n",
       "    </tr>\n",
       "    <tr>\n",
       "      <th>315952</th>\n",
       "      <td>527398</td>\n",
       "      <td>2018-03-14 13:57:25</td>\n",
       "      <td>42.99</td>\n",
       "      <td>Shopping Basket</td>\n",
       "      <td>1.0</td>\n",
       "      <td>JBL0122</td>\n",
       "      <td>42.99</td>\n",
       "      <td>2018-03-14 13:57:25</td>\n",
       "      <td>JBL</td>\n",
       "      <td>JBL</td>\n",
       "      <td>JBL T450 BT Bluetooth Headset Black</td>\n",
       "      <td>Wireless headphones with folding design with 1...</td>\n",
       "      <td>49.95</td>\n",
       "      <td>42.99</td>\n",
       "      <td>True</td>\n",
       "      <td>5384</td>\n",
       "      <td>0.1393</td>\n",
       "      <td>True</td>\n",
       "      <td>42.99</td>\n",
       "      <td>3</td>\n",
       "    </tr>\n",
       "    <tr>\n",
       "      <th>315953</th>\n",
       "      <td>527399</td>\n",
       "      <td>2018-03-14 13:57:34</td>\n",
       "      <td>141.58</td>\n",
       "      <td>Shopping Basket</td>\n",
       "      <td>1.0</td>\n",
       "      <td>PAC0653</td>\n",
       "      <td>141.58</td>\n",
       "      <td>2018-03-14 13:57:34</td>\n",
       "      <td>PAC</td>\n",
       "      <td>Pack</td>\n",
       "      <td>Samsung SSD 850 expansion kit EVO 250GB + Data...</td>\n",
       "      <td>SSD upgrade kit 2008-2010 250 GB MacBook and M...</td>\n",
       "      <td>215.98</td>\n",
       "      <td>141.58</td>\n",
       "      <td>True</td>\n",
       "      <td>1433</td>\n",
       "      <td>0.3445</td>\n",
       "      <td>True</td>\n",
       "      <td>141.58</td>\n",
       "      <td>3</td>\n",
       "    </tr>\n",
       "    <tr>\n",
       "      <th>315954</th>\n",
       "      <td>527400</td>\n",
       "      <td>2018-03-14 13:57:41</td>\n",
       "      <td>19.98</td>\n",
       "      <td>Shopping Basket</td>\n",
       "      <td>2.0</td>\n",
       "      <td>APP0698</td>\n",
       "      <td>9.99</td>\n",
       "      <td>2018-03-14 13:57:41</td>\n",
       "      <td>APP</td>\n",
       "      <td>Apple</td>\n",
       "      <td>Apple Lightning Cable Connector to USB 1m Whit...</td>\n",
       "      <td>Apple Lightning USB Cable 1 meter to charge an...</td>\n",
       "      <td>25.00</td>\n",
       "      <td>9.99</td>\n",
       "      <td>True</td>\n",
       "      <td>1230</td>\n",
       "      <td>0.6004</td>\n",
       "      <td>True</td>\n",
       "      <td>9.99</td>\n",
       "      <td>3</td>\n",
       "    </tr>\n",
       "    <tr>\n",
       "      <th>315955</th>\n",
       "      <td>527401</td>\n",
       "      <td>2018-03-14 13:58:36</td>\n",
       "      <td>18.98</td>\n",
       "      <td>Place Order</td>\n",
       "      <td>1.0</td>\n",
       "      <td>APP0927</td>\n",
       "      <td>13.99</td>\n",
       "      <td>2018-03-14 13:58:36</td>\n",
       "      <td>APP</td>\n",
       "      <td>Apple</td>\n",
       "      <td>EarPods Apple Headphones with Remote and Mic (...</td>\n",
       "      <td>EarPods headphones Apple iPhone iPad and iPod ...</td>\n",
       "      <td>35.00</td>\n",
       "      <td>13.99</td>\n",
       "      <td>True</td>\n",
       "      <td>5384</td>\n",
       "      <td>0.6003</td>\n",
       "      <td>True</td>\n",
       "      <td>13.99</td>\n",
       "      <td>3</td>\n",
       "    </tr>\n",
       "  </tbody>\n",
       "</table>\n",
       "<p>315956 rows × 20 columns</p>\n",
       "</div>"
      ],
      "text/plain": [
       "       order_id        created_date  total_paid            state  \\\n",
       "0        241319 2017-01-02 13:35:40       44.99        Cancelled   \n",
       "1        241423 2017-11-06 13:10:02      136.15        Completed   \n",
       "2        242832 2017-12-31 17:40:03       15.76        Completed   \n",
       "3        243330 2017-02-16 10:59:38       84.98        Completed   \n",
       "4        243784 2017-11-24 13:35:19      157.86        Cancelled   \n",
       "...         ...                 ...         ...              ...   \n",
       "315951   527397 2018-03-14 13:56:38       42.99      Place Order   \n",
       "315952   527398 2018-03-14 13:57:25       42.99  Shopping Basket   \n",
       "315953   527399 2018-03-14 13:57:34      141.58  Shopping Basket   \n",
       "315954   527400 2018-03-14 13:57:41       19.98  Shopping Basket   \n",
       "315955   527401 2018-03-14 13:58:36       18.98      Place Order   \n",
       "\n",
       "        product_quantity      sku  unit_price                date short_brand  \\\n",
       "0                    1.0  JBL0123       44.99 2017-01-02 12:26:59         JBL   \n",
       "1                    1.0  LAC0212      129.16 2017-11-06 12:47:20         LAC   \n",
       "2                    1.0  PAR0074       10.77 2017-12-31 17:26:40         PAR   \n",
       "3                    1.0  OWC0074       77.99 2017-02-15 17:07:44         OWC   \n",
       "4                    3.0  PHI0080       51.29 2017-11-24 13:27:41         PHI   \n",
       "...                  ...      ...         ...                 ...         ...   \n",
       "315951               1.0  JBL0122       42.99 2018-03-14 13:56:38         JBL   \n",
       "315952               1.0  JBL0122       42.99 2018-03-14 13:57:25         JBL   \n",
       "315953               1.0  PAC0653      141.58 2018-03-14 13:57:34         PAC   \n",
       "315954               2.0  APP0698        9.99 2018-03-14 13:57:41         APP   \n",
       "315955               1.0  APP0927       13.99 2018-03-14 13:58:36         APP   \n",
       "\n",
       "           long                                               name  \\\n",
       "0           JBL                JBL T450 Bluetooth BT Headset White   \n",
       "1         LaCie  LaCie Porsche Design Desktop Drive 4TB USB 3.0...   \n",
       "2        Parrot               Parrot 550mAh battery for MiniDrones   \n",
       "3           OWC            Mac OWC Memory 8GB 1066MHZ DDR3 SO-DIMM   \n",
       "4       Philips       Philips HUE White Ambience Pack 2 GU10 bulbs   \n",
       "...         ...                                                ...   \n",
       "315951      JBL                JBL T450 BT Bluetooth Headset Black   \n",
       "315952      JBL                JBL T450 BT Bluetooth Headset Black   \n",
       "315953     Pack  Samsung SSD 850 expansion kit EVO 250GB + Data...   \n",
       "315954    Apple  Apple Lightning Cable Connector to USB 1m Whit...   \n",
       "315955    Apple  EarPods Apple Headphones with Remote and Mic (...   \n",
       "\n",
       "                                                     desc   price  \\\n",
       "0       Wireless headphones with folding design with 1...   49.95   \n",
       "1       External Hard Drive 4TB 35-inch USB 3.0 for Ma...  139.99   \n",
       "2       550mAh rechargeable battery for Parrot minidrones   17.99   \n",
       "3       8GB RAM Mac mini iMac MacBook and MacBook Pro ...   99.99   \n",
       "4       Pack of two bulbs with different shades of whi...   59.95   \n",
       "...                                                   ...     ...   \n",
       "315951  Wireless headphones with folding design with 1...   49.95   \n",
       "315952  Wireless headphones with folding design with 1...   49.95   \n",
       "315953  SSD upgrade kit 2008-2010 250 GB MacBook and M...  215.98   \n",
       "315954  Apple Lightning USB Cable 1 meter to charge an...   25.00   \n",
       "315955  EarPods headphones Apple iPhone iPad and iPod ...   35.00   \n",
       "\n",
       "        promo_price in_stock      type  promo_percentage  is_promo  \\\n",
       "0             42.99     True      5384            0.1393      True   \n",
       "1            114.99     True  11935397            0.1786      True   \n",
       "2             10.99    False  11905404            0.3891      True   \n",
       "3             99.99     True      1364            0.0000      True   \n",
       "4             58.99     True  11905404            0.0160      True   \n",
       "...             ...      ...       ...               ...       ...   \n",
       "315951        42.99     True      5384            0.1393      True   \n",
       "315952        42.99     True      5384            0.1393      True   \n",
       "315953       141.58     True      1433            0.3445      True   \n",
       "315954         9.99     True      1230            0.6004      True   \n",
       "315955        13.99     True      5384            0.6003      True   \n",
       "\n",
       "        estimated_promo_price  created_month  \n",
       "0                       44.99              1  \n",
       "1                      129.16             11  \n",
       "2                       10.77             12  \n",
       "3                       77.99              2  \n",
       "4                       51.29             11  \n",
       "...                       ...            ...  \n",
       "315951                  42.99              3  \n",
       "315952                  42.99              3  \n",
       "315953                 141.58              3  \n",
       "315954                   9.99              3  \n",
       "315955                  13.99              3  \n",
       "\n",
       "[315956 rows x 20 columns]"
      ]
     },
     "execution_count": 15,
     "metadata": {},
     "output_type": "execute_result"
    }
   ],
   "source": [
    "boop"
   ]
  }
 ],
 "metadata": {
  "kernelspec": {
   "display_name": "Python 3 (ipykernel)",
   "language": "python",
   "name": "python3"
  },
  "language_info": {
   "codemirror_mode": {
    "name": "ipython",
    "version": 3
   },
   "file_extension": ".py",
   "mimetype": "text/x-python",
   "name": "python",
   "nbconvert_exporter": "python",
   "pygments_lexer": "ipython3",
   "version": "3.11.4"
  }
 },
 "nbformat": 4,
 "nbformat_minor": 5
}
