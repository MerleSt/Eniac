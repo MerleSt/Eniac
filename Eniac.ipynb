{
 "cells": [
  {
   "cell_type": "markdown",
   "id": "e89b2bd3-a316-4d91-9776-bb889eab7c43",
   "metadata": {},
   "source": [
    "# Eniac"
   ]
  },
  {
   "cell_type": "markdown",
   "id": "c57afee8-7d59-438d-8bcd-52aa9a7205d3",
   "metadata": {},
   "source": [
    "## Importing Data"
   ]
  },
  {
   "cell_type": "markdown",
   "id": "0211823c-3bf9-4499-aa3a-45bf7b73ba49",
   "metadata": {},
   "source": [
    "Turning them into a dictionary of dataframes."
   ]
  },
  {
   "cell_type": "code",
   "execution_count": 1,
   "id": "777e1675-a39f-4d07-8a98-7b25c50ccfa0",
   "metadata": {
    "tags": []
   },
   "outputs": [],
   "source": [
    "import pandas as pd\n",
    "import numpy as np\n",
    "import matplotlib.pyplot as plt\n",
    "import matplotlib.dates as mdates\n",
    "\n",
    "orders_url = \"https://raw.githubusercontent.com/MerleSt/Eniac/main/Data-Eniac/Data_Cleaned/orders_clean.parquet\"\n",
    "orderlines_url = \"https://raw.githubusercontent.com/MerleSt/Eniac/main/Data-Eniac/Data_Cleaned/orderlines_clean.parquet\"\n",
    "products_url = \"https://raw.githubusercontent.com/MerleSt/Eniac/main/Data-Eniac/Data_Cleaned/products_clean.parquet\"\n",
    "brands_url = \"https://raw.githubusercontent.com/MerleSt/Eniac/main/Data-Eniac/Data_Cleaned/brands_clean.parquet\"\n",
    "\n",
    "# Loading dataframes directly from GitHub\n",
    "orders_df = pd.read_parquet(orders_url)\n",
    "orderlines_df = pd.read_parquet(orderlines_url)\n",
    "products_df = pd.read_parquet(products_url)\n",
    "brands_df = pd.read_parquet(brands_url)\n",
    "\n",
    "orders = orders_df.copy()\n",
    "orderlines = orderlines_df.copy()\n",
    "products = products_df.copy()\n",
    "brands = brands_df.copy()"
   ]
  },
  {
   "cell_type": "markdown",
   "id": "0496842a-df3b-42f2-b677-821936b7cf09",
   "metadata": {},
   "source": [
    "Set Display Formats of Pandas"
   ]
  },
  {
   "cell_type": "code",
   "execution_count": 2,
   "id": "f697b187-27dc-42aa-93dc-608246c25a80",
   "metadata": {},
   "outputs": [],
   "source": [
    "pd.set_option('display.float_format', lambda x: '%.2f' % x)\n",
    "pd.set_option('display.max_rows', 100)"
   ]
  },
  {
   "cell_type": "markdown",
   "id": "016dede1-8d5a-4c96-8662-f81dafd49c15",
   "metadata": {},
   "source": [
    "Keys of tables:\n",
    "\n",
    "order_id : orders, orderlines\n",
    "\n",
    "sku = products, orderlines, brands --> the first three letters of sku = short brand name\n",
    "\n",
    "Questions:\n",
    "\n",
    "What is id: and unit_price: in orderlines?\n",
    "\n",
    "What is total_paid in orders? What is created_date in orders?"
   ]
  },
  {
   "cell_type": "markdown",
   "id": "06a435fe-fa82-44b8-9cfb-aaa157a146b0",
   "metadata": {},
   "source": [
    "## Data Integration"
   ]
  },
  {
   "cell_type": "code",
   "execution_count": 3,
   "id": "60875c89-68ec-4cc8-a898-16e3bf1d89db",
   "metadata": {
    "tags": []
   },
   "outputs": [],
   "source": [
    "# Rename column to match with orders (better readability)\n",
    "orderlines.rename(columns={'id_order': 'order_id'}, inplace=True)"
   ]
  },
  {
   "cell_type": "code",
   "execution_count": 4,
   "id": "b16eb9c1-9b03-400f-9e41-abb1cc25de2f",
   "metadata": {
    "tags": []
   },
   "outputs": [],
   "source": [
    "orderlines['short_brand'] = orderlines['sku'].str[:3]"
   ]
  },
  {
   "cell_type": "code",
   "execution_count": 5,
   "id": "692c557a-1b78-4120-9a46-2d740b8d45a2",
   "metadata": {
    "tags": []
   },
   "outputs": [],
   "source": [
    "# Merge Orderlines on brands, since both tables are small anyway\n",
    "orderlines_brands = orderlines.merge(brands, left_on='short_brand' ,right_on='short', how='left')"
   ]
  },
  {
   "cell_type": "code",
   "execution_count": 6,
   "id": "637568a3-ba4d-4f14-9d32-300d436309af",
   "metadata": {
    "tags": []
   },
   "outputs": [],
   "source": [
    "oo = orders.merge(orderlines, on='order_id', how='left')\n",
    "boo = oo.merge(brands, left_on ='short_brand', right_on='short', how='left')\n",
    "bopo = boo.merge(products, on ='sku', how='left')"
   ]
  },
  {
   "cell_type": "markdown",
   "id": "60ccc89d-7025-408e-9b2d-17b88eb14d58",
   "metadata": {},
   "source": [
    "Delete oders where there is one or more products, which are not identified."
   ]
  },
  {
   "cell_type": "code",
   "execution_count": 7,
   "id": "1d7924dd-bf69-4d44-a065-bbc5e1d319b1",
   "metadata": {
    "tags": []
   },
   "outputs": [],
   "source": [
    "corrupted_orders = bopo.loc[bopo['sku'].isna()]\n",
    "corrupted_order_ids = corrupted_orders['order_id'].unique()\n",
    "bopo = bopo.loc[~bopo['order_id'].isin(corrupted_order_ids)]"
   ]
  },
  {
   "cell_type": "code",
   "execution_count": 8,
   "id": "90ef196c-ad4f-4897-ba08-9e8d53a12c30",
   "metadata": {
    "tags": []
   },
   "outputs": [
    {
     "data": {
      "text/plain": [
       "order_id               0\n",
       "created_date           0\n",
       "total_paid             0\n",
       "state                  0\n",
       "product_quantity       0\n",
       "sku                    0\n",
       "unit_price             0\n",
       "date                   0\n",
       "short_brand            0\n",
       "short                296\n",
       "long                 296\n",
       "name                8924\n",
       "desc                8924\n",
       "price               8924\n",
       "in_stock            8924\n",
       "type                8924\n",
       "dtype: int64"
      ]
     },
     "execution_count": 8,
     "metadata": {},
     "output_type": "execute_result"
    }
   ],
   "source": [
    "bopo.isna().sum()"
   ]
  },
  {
   "cell_type": "code",
   "execution_count": 9,
   "id": "fbe137a4-6e7b-4092-ad1f-d46c2bc428fb",
   "metadata": {
    "tags": []
   },
   "outputs": [],
   "source": [
    "# Let's say you want to drop the columns 'column_name1', 'column_name2', and 'column_name3'\n",
    "bopo.drop(columns=['short'], inplace=True)"
   ]
  },
  {
   "cell_type": "markdown",
   "id": "1fad362c-8742-4493-b3e1-0e1f2934d95f",
   "metadata": {},
   "source": [
    "- DataFrame **.describe()** gives basic numerical aggregations. It can be applied to a single column as well.\n",
    "- DataFrame **.isna().any()** highlights which columns contain missing data\n",
    "- DataFrame **.shape** gives the number of rows and columns\n",
    "- DataFrame **.columns** gives the column names. Note that a list with new names can be passed to this attribute to rename the columns.\n",
    "- DataFrame **.columnName.isna().sum()** is a quick way to check the number of missing values in a column\n",
    "- DataFrame **.columnName.value_counts()** is a great way to summarise a categorical column. You can use it to discover how many orders are completed, cancelled, pending…\n",
    "- DataFrame **.columnName.hist()** is an easy way to plot a histogram in a numerical column. Play with the bins argument to change the granularity of the graph."
   ]
  },
  {
   "cell_type": "markdown",
   "id": "bde8ab68-1534-42cd-b4b2-5775f4e4e11c",
   "metadata": {},
   "source": [
    "## Create a new column with the Promo Price"
   ]
  },
  {
   "cell_type": "code",
   "execution_count": 10,
   "id": "26fa702d-66ee-402d-896b-bc2d44f3214e",
   "metadata": {
    "tags": []
   },
   "outputs": [
    {
     "data": {
      "text/html": [
       "<div>\n",
       "<style scoped>\n",
       "    .dataframe tbody tr th:only-of-type {\n",
       "        vertical-align: middle;\n",
       "    }\n",
       "\n",
       "    .dataframe tbody tr th {\n",
       "        vertical-align: top;\n",
       "    }\n",
       "\n",
       "    .dataframe thead th {\n",
       "        text-align: right;\n",
       "    }\n",
       "</style>\n",
       "<table border=\"1\" class=\"dataframe\">\n",
       "  <thead>\n",
       "    <tr style=\"text-align: right;\">\n",
       "      <th></th>\n",
       "      <th>estimated_promo_price</th>\n",
       "      <th>promotion</th>\n",
       "      <th>price</th>\n",
       "    </tr>\n",
       "  </thead>\n",
       "  <tbody>\n",
       "    <tr>\n",
       "      <th>0</th>\n",
       "      <td>44.99</td>\n",
       "      <td>True</td>\n",
       "      <td>49.95</td>\n",
       "    </tr>\n",
       "    <tr>\n",
       "      <th>1</th>\n",
       "      <td>129.16</td>\n",
       "      <td>True</td>\n",
       "      <td>139.99</td>\n",
       "    </tr>\n",
       "    <tr>\n",
       "      <th>2</th>\n",
       "      <td>10.77</td>\n",
       "      <td>True</td>\n",
       "      <td>17.99</td>\n",
       "    </tr>\n",
       "    <tr>\n",
       "      <th>3</th>\n",
       "      <td>77.99</td>\n",
       "      <td>True</td>\n",
       "      <td>99.99</td>\n",
       "    </tr>\n",
       "    <tr>\n",
       "      <th>4</th>\n",
       "      <td>51.29</td>\n",
       "      <td>True</td>\n",
       "      <td>59.95</td>\n",
       "    </tr>\n",
       "    <tr>\n",
       "      <th>...</th>\n",
       "      <td>...</td>\n",
       "      <td>...</td>\n",
       "      <td>...</td>\n",
       "    </tr>\n",
       "    <tr>\n",
       "      <th>315951</th>\n",
       "      <td>42.99</td>\n",
       "      <td>True</td>\n",
       "      <td>49.95</td>\n",
       "    </tr>\n",
       "    <tr>\n",
       "      <th>315952</th>\n",
       "      <td>42.99</td>\n",
       "      <td>True</td>\n",
       "      <td>49.95</td>\n",
       "    </tr>\n",
       "    <tr>\n",
       "      <th>315953</th>\n",
       "      <td>141.58</td>\n",
       "      <td>True</td>\n",
       "      <td>215.98</td>\n",
       "    </tr>\n",
       "    <tr>\n",
       "      <th>315954</th>\n",
       "      <td>9.99</td>\n",
       "      <td>True</td>\n",
       "      <td>25.00</td>\n",
       "    </tr>\n",
       "    <tr>\n",
       "      <th>315955</th>\n",
       "      <td>13.99</td>\n",
       "      <td>True</td>\n",
       "      <td>35.00</td>\n",
       "    </tr>\n",
       "  </tbody>\n",
       "</table>\n",
       "<p>293743 rows × 3 columns</p>\n",
       "</div>"
      ],
      "text/plain": [
       "        estimated_promo_price  promotion  price\n",
       "0                       44.99       True  49.95\n",
       "1                      129.16       True 139.99\n",
       "2                       10.77       True  17.99\n",
       "3                       77.99       True  99.99\n",
       "4                       51.29       True  59.95\n",
       "...                       ...        ...    ...\n",
       "315951                  42.99       True  49.95\n",
       "315952                  42.99       True  49.95\n",
       "315953                 141.58       True 215.98\n",
       "315954                   9.99       True  25.00\n",
       "315955                  13.99       True  35.00\n",
       "\n",
       "[293743 rows x 3 columns]"
      ]
     },
     "execution_count": 10,
     "metadata": {},
     "output_type": "execute_result"
    }
   ],
   "source": [
    "bopo['promotion'] = bopo['unit_price'] < bopo['price']\n",
    "bopo['estimated_promo_price'] = bopo.apply(lambda row: row['unit_price'] if row['promotion'] else np.nan, axis=1)\n",
    "bopo[['estimated_promo_price','promotion', 'price']]"
   ]
  },
  {
   "cell_type": "markdown",
   "id": "d02e247b-fdf7-428f-a230-a859fdd3bd77",
   "metadata": {},
   "source": [
    "## Step 2: Analyzing Order Patterns in Relation to Discounts"
   ]
  },
  {
   "cell_type": "markdown",
   "id": "762e93d6-c840-4bc9-955b-ceab95f1cf94",
   "metadata": {},
   "source": [
    "Objective:\n",
    "To understand if the introduction or availability of discounts affects order patterns – both in terms of quantity and frequency."
   ]
  },
  {
   "cell_type": "markdown",
   "id": "8192e261-6cd0-4d97-a035-a6ee22086af6",
   "metadata": {},
   "source": [
    "### 1. Understand basic metrics"
   ]
  },
  {
   "cell_type": "code",
   "execution_count": 11,
   "id": "45f8588d-3302-4b4c-8f72-e8353dcb31b7",
   "metadata": {
    "tags": []
   },
   "outputs": [],
   "source": [
    "total_orders = bopo['order_id'].nunique()\n",
    "avg_order_value = bopo.groupby('order_id')['total_paid'].first().mean()\n",
    "avg_items_per_order = bopo.groupby('order_id').size().mean()"
   ]
  },
  {
   "cell_type": "code",
   "execution_count": 12,
   "id": "fcd27120-c8be-46a7-be86-79578363595d",
   "metadata": {
    "tags": []
   },
   "outputs": [
    {
     "name": "stdout",
     "output_type": "stream",
     "text": [
      "204691\n",
      "630.8576204132082\n",
      "1.4350557669853585\n"
     ]
    }
   ],
   "source": [
    "print(total_orders)\n",
    "print(avg_order_value)\n",
    "print(avg_items_per_order)"
   ]
  },
  {
   "cell_type": "markdown",
   "id": "7dd70bf1-2f3a-4c11-b342-382c94ef0490",
   "metadata": {},
   "source": [
    "### 2. Segment Orders by Discounts:"
   ]
  },
  {
   "cell_type": "code",
   "execution_count": 13,
   "id": "1bdee0a9-06fe-4383-b857-8f0a4770f1b4",
   "metadata": {
    "tags": []
   },
   "outputs": [
    {
     "data": {
      "text/plain": [
       "order_id\n",
       "241319    True\n",
       "241423    True\n",
       "242832    True\n",
       "243330    True\n",
       "243784    True\n",
       "          ... \n",
       "527397    True\n",
       "527398    True\n",
       "527399    True\n",
       "527400    True\n",
       "527401    True\n",
       "Name: promotion, Length: 204691, dtype: bool"
      ]
     },
     "execution_count": 13,
     "metadata": {},
     "output_type": "execute_result"
    }
   ],
   "source": [
    "orders_with_discount = bopo.groupby('order_id')['promotion'].any()\n",
    "orders_with_discount"
   ]
  },
  {
   "cell_type": "markdown",
   "id": "3d0e723d-9780-4ab7-9706-3ad26098d17d",
   "metadata": {},
   "source": [
    "### 3. Compare Metrics"
   ]
  },
  {
   "cell_type": "code",
   "execution_count": 14,
   "id": "f372771a-d6ee-4ac0-969d-3693cef3ab62",
   "metadata": {
    "tags": []
   },
   "outputs": [
    {
     "name": "stdout",
     "output_type": "stream",
     "text": [
      "656.86\n",
      "841.42\n",
      "1.4\n",
      "1.09\n"
     ]
    }
   ],
   "source": [
    "avg_order_value_discounted = bopo[bopo['promotion']].groupby('order_id')['total_paid'].first().mean().round(2)\n",
    "avg_order_value_non_discounted = bopo[~bopo['promotion']].groupby('order_id')['total_paid'].first().mean().round(2)\n",
    "\n",
    "avg_items_discounted = bopo[bopo['promotion']].groupby('order_id').size().mean().round(2)\n",
    "avg_items_non_discounted = bopo[~bopo['promotion']].groupby('order_id').size().mean().round(2)\n",
    "print(avg_order_value_discounted)\n",
    "print(avg_order_value_non_discounted)\n",
    "print(avg_items_discounted)\n",
    "print(avg_items_non_discounted)"
   ]
  },
  {
   "cell_type": "markdown",
   "id": "49d4e614-59c1-4e6a-b066-fd35e4904b02",
   "metadata": {},
   "source": [
    "### 4. Temporal Analysis"
   ]
  },
  {
   "cell_type": "code",
   "execution_count": 15,
   "id": "3557c87c-1e6b-4f9a-9b48-3c5caab85f1c",
   "metadata": {
    "tags": []
   },
   "outputs": [
    {
     "data": {
      "text/plain": [
       "order_id                         object\n",
       "created_date             datetime64[ns]\n",
       "total_paid                      float64\n",
       "state                          category\n",
       "product_quantity                float64\n",
       "sku                              object\n",
       "unit_price                      float64\n",
       "date                     datetime64[ns]\n",
       "short_brand                      object\n",
       "long                             object\n",
       "name                             object\n",
       "desc                             object\n",
       "price                           float64\n",
       "in_stock                         object\n",
       "type                           category\n",
       "promotion                          bool\n",
       "estimated_promo_price           float64\n",
       "dtype: object"
      ]
     },
     "execution_count": 15,
     "metadata": {},
     "output_type": "execute_result"
    }
   ],
   "source": [
    "bopo.dtypes"
   ]
  },
  {
   "cell_type": "code",
   "execution_count": 16,
   "id": "10360a70-baa0-4e23-901c-830cd17db9e9",
   "metadata": {
    "tags": []
   },
   "outputs": [
    {
     "data": {
      "text/plain": [
       "created_month\n",
       "1     54390\n",
       "2     32723\n",
       "3     21435\n",
       "4      9713\n",
       "5      9342\n",
       "6      9487\n",
       "7     14036\n",
       "8     10068\n",
       "9     11630\n",
       "10    13969\n",
       "11    40066\n",
       "12    32027\n",
       "dtype: int64"
      ]
     },
     "execution_count": 16,
     "metadata": {},
     "output_type": "execute_result"
    }
   ],
   "source": [
    "bopo['created_month'] = bopo['created_date'].dt.month\n",
    "monthly_discounted_orders = bopo[bopo['promotion']].groupby('created_month').size()\n",
    "monthly_discounted_orders"
   ]
  },
  {
   "cell_type": "markdown",
   "id": "fb505492-de45-4389-b467-f534969e1445",
   "metadata": {},
   "source": [
    "### 5. Visiual Analysis"
   ]
  },
  {
   "cell_type": "code",
   "execution_count": 17,
   "id": "adc44c71-095c-4be8-8273-5f225d16058e",
   "metadata": {
    "tags": []
   },
   "outputs": [
    {
     "data": {
      "image/png": "[encoded data removed]",
      "text/plain": [
       "<Figure size 640x480 with 1 Axes>"
      ]
     },
     "metadata": {},
     "output_type": "display_data"
    },
    {
     "data": {
      "image/png": "[encoded data removed]",
      "text/plain": [
       "<Figure size 640x480 with 1 Axes>"
      ]
     },
     "metadata": {},
     "output_type": "display_data"
    }
   ],
   "source": [
    "import matplotlib.pyplot as plt\n",
    "\n",
    "# Average order values comparison\n",
    "plt.bar(['Discounted', 'Non-Discounted'], [avg_order_value_discounted, avg_order_value_non_discounted])\n",
    "plt.title('Average Order Values')\n",
    "plt.ylabel('Value')\n",
    "plt.show()\n",
    "\n",
    "# Monthly trends of discounted orders\n",
    "monthly_discounted_orders.plot(kind='bar')\n",
    "plt.title('Monthly Trend of Discounted Orders')\n",
    "plt.ylabel('Number of Orders')\n",
    "plt.xlabel('Month')\n",
    "plt.show()\n"
   ]
  },
  {
   "cell_type": "markdown",
   "id": "5f1d8787-55b3-4d1f-9732-6e8d32d21700",
   "metadata": {},
   "source": [
    "Possible Conclusions:\n",
    "\n",
    "- If orders with discounts have a significantly higher average value or quantity, it suggests discounts might be driving larger orders.\n",
    "- If there's a temporal trend showing increased discount orders during specific times, it might suggest seasonal trends or the effects of periodic discount campaigns."
   ]
  },
  {
   "cell_type": "markdown",
   "id": "0a864ecc-df69-447e-bcd4-7d6536426624",
   "metadata": {},
   "source": [
    "## Step 3: Analyzing Customer Behavior and Retention with Respect to Discounts:"
   ]
  },
  {
   "cell_type": "markdown",
   "id": "944cddb8-4e21-4e93-840b-4d8f4b33e2a5",
   "metadata": {},
   "source": [
    "### 1. Retention Rate with Respect to Discounts:"
   ]
  },
  {
   "cell_type": "markdown",
   "id": "ae4f03bb-7f3a-4bae-b63f-3ef451f27e13",
   "metadata": {},
   "source": [
    "To understand if customers acquired during promotional periods are more likely to come back."
   ]
  },
  {
   "cell_type": "code",
   "execution_count": 18,
   "id": "43cba571-278a-4feb-a625-e1008d3c6784",
   "metadata": {
    "tags": []
   },
   "outputs": [
    {
     "data": {
      "text/plain": [
       "order_id\n",
       "241319   1.00\n",
       "241423   1.00\n",
       "242832   1.00\n",
       "243330   1.00\n",
       "243784   3.00\n",
       "         ... \n",
       "527397   1.00\n",
       "527398   1.00\n",
       "527399   1.00\n",
       "527400   2.00\n",
       "527401   1.00\n",
       "Name: product_quantity, Length: 204691, dtype: float64"
      ]
     },
     "execution_count": 18,
     "metadata": {},
     "output_type": "execute_result"
    }
   ],
   "source": [
    "bopo.groupby('order_id')['product_quantity'].sum()"
   ]
  },
  {
   "cell_type": "code",
   "execution_count": 19,
   "id": "0d48d4a2-d4b8-4309-98c4-82d55f3a722f",
   "metadata": {
    "tags": []
   },
   "outputs": [
    {
     "name": "stdout",
     "output_type": "stream",
     "text": [
      "There are 137719 duplicated order_ids in the dataset.\n"
     ]
    }
   ],
   "source": [
    "duplicate_order_ids = bopo[bopo['order_id'].duplicated(keep=False)]\n",
    "\n",
    "if not duplicate_order_ids.empty:\n",
    "    print(f\"There are {len(duplicate_order_ids)} duplicated order_ids in the dataset.\")\n",
    "else:\n",
    "    print(\"All order_ids are unique.\")\n"
   ]
  },
  {
   "cell_type": "code",
   "execution_count": 20,
   "id": "7b2e661f-c58e-4401-ada3-019f35f12ec3",
   "metadata": {
    "tags": []
   },
   "outputs": [
    {
     "name": "stdout",
     "output_type": "stream",
     "text": [
      "<class 'pandas.core.frame.DataFrame'>\n",
      "Int64Index: 293743 entries, 0 to 315955\n",
      "Data columns (total 18 columns):\n",
      " #   Column                 Non-Null Count   Dtype         \n",
      "---  ------                 --------------   -----         \n",
      " 0   order_id               293743 non-null  object        \n",
      " 1   created_date           293743 non-null  datetime64[ns]\n",
      " 2   total_paid             293743 non-null  float64       \n",
      " 3   state                  293743 non-null  category      \n",
      " 4   product_quantity       293743 non-null  float64       \n",
      " 5   sku                    293743 non-null  object        \n",
      " 6   unit_price             293743 non-null  float64       \n",
      " 7   date                   293743 non-null  datetime64[ns]\n",
      " 8   short_brand            293743 non-null  object        \n",
      " 9   long                   293447 non-null  object        \n",
      " 10  name                   284819 non-null  object        \n",
      " 11  desc                   284819 non-null  object        \n",
      " 12  price                  284819 non-null  float64       \n",
      " 13  in_stock               284819 non-null  object        \n",
      " 14  type                   284819 non-null  category      \n",
      " 15  promotion              293743 non-null  bool          \n",
      " 16  estimated_promo_price  258886 non-null  float64       \n",
      " 17  created_month          293743 non-null  int64         \n",
      "dtypes: bool(1), category(2), datetime64[ns](2), float64(5), int64(1), object(7)\n",
      "memory usage: 36.7+ MB\n"
     ]
    }
   ],
   "source": [
    "bopo.info()"
   ]
  },
  {
   "cell_type": "markdown",
   "id": "d3acad3b-d56d-4de1-88f6-ae336ab6289d",
   "metadata": {},
   "source": [
    "Calculate the percentage of promotion for every product in every order: (1-(price/unit_price))"
   ]
  },
  {
   "cell_type": "code",
   "execution_count": 21,
   "id": "397c6420-2276-4ed6-ad0c-72566fe18ded",
   "metadata": {
    "tags": []
   },
   "outputs": [],
   "source": [
    "bopo['promo_perc'] = (1-(bopo['unit_price']/bopo['price']))"
   ]
  },
  {
   "cell_type": "markdown",
   "id": "68c47442-f139-4d47-b64e-040b7056671d",
   "metadata": {},
   "source": [
    "Average promotion perc per week/ month"
   ]
  },
  {
   "cell_type": "code",
   "execution_count": 22,
   "id": "ffcca202-65f6-4737-b3a1-d69239528ad3",
   "metadata": {
    "tags": []
   },
   "outputs": [],
   "source": [
    "bopo[['year', 'week', 'day']]= bopo['created_date'].dt.isocalendar()\n",
    "# Extract month and quarter\n",
    "bopo['month'] = bopo['created_date'].dt.month\n",
    "bopo['quarter'] = bopo['created_date'].dt.quarter"
   ]
  },
  {
   "cell_type": "code",
   "execution_count": 23,
   "id": "92d671a7-f729-4626-a142-a006bd79d70b",
   "metadata": {
    "tags": []
   },
   "outputs": [
    {
     "data": {
      "text/html": [
       "<div>\n",
       "<style scoped>\n",
       "    .dataframe tbody tr th:only-of-type {\n",
       "        vertical-align: middle;\n",
       "    }\n",
       "\n",
       "    .dataframe tbody tr th {\n",
       "        vertical-align: top;\n",
       "    }\n",
       "\n",
       "    .dataframe thead th {\n",
       "        text-align: right;\n",
       "    }\n",
       "</style>\n",
       "<table border=\"1\" class=\"dataframe\">\n",
       "  <thead>\n",
       "    <tr style=\"text-align: right;\">\n",
       "      <th></th>\n",
       "      <th>week</th>\n",
       "      <th>month</th>\n",
       "      <th>quarter</th>\n",
       "      <th>year</th>\n",
       "      <th>promo_perc</th>\n",
       "    </tr>\n",
       "  </thead>\n",
       "  <tbody>\n",
       "    <tr>\n",
       "      <th>0</th>\n",
       "      <td>1</td>\n",
       "      <td>1</td>\n",
       "      <td>1</td>\n",
       "      <td>2017</td>\n",
       "      <td>0.22</td>\n",
       "    </tr>\n",
       "    <tr>\n",
       "      <th>1</th>\n",
       "      <td>1</td>\n",
       "      <td>1</td>\n",
       "      <td>1</td>\n",
       "      <td>2018</td>\n",
       "      <td>0.19</td>\n",
       "    </tr>\n",
       "    <tr>\n",
       "      <th>2</th>\n",
       "      <td>2</td>\n",
       "      <td>1</td>\n",
       "      <td>1</td>\n",
       "      <td>2017</td>\n",
       "      <td>0.26</td>\n",
       "    </tr>\n",
       "    <tr>\n",
       "      <th>3</th>\n",
       "      <td>2</td>\n",
       "      <td>1</td>\n",
       "      <td>1</td>\n",
       "      <td>2018</td>\n",
       "      <td>0.23</td>\n",
       "    </tr>\n",
       "    <tr>\n",
       "      <th>4</th>\n",
       "      <td>3</td>\n",
       "      <td>1</td>\n",
       "      <td>1</td>\n",
       "      <td>2017</td>\n",
       "      <td>0.23</td>\n",
       "    </tr>\n",
       "    <tr>\n",
       "      <th>5</th>\n",
       "      <td>3</td>\n",
       "      <td>1</td>\n",
       "      <td>1</td>\n",
       "      <td>2018</td>\n",
       "      <td>0.22</td>\n",
       "    </tr>\n",
       "    <tr>\n",
       "      <th>6</th>\n",
       "      <td>4</td>\n",
       "      <td>1</td>\n",
       "      <td>1</td>\n",
       "      <td>2017</td>\n",
       "      <td>0.27</td>\n",
       "    </tr>\n",
       "    <tr>\n",
       "      <th>7</th>\n",
       "      <td>4</td>\n",
       "      <td>1</td>\n",
       "      <td>1</td>\n",
       "      <td>2018</td>\n",
       "      <td>0.22</td>\n",
       "    </tr>\n",
       "    <tr>\n",
       "      <th>8</th>\n",
       "      <td>5</td>\n",
       "      <td>1</td>\n",
       "      <td>1</td>\n",
       "      <td>2017</td>\n",
       "      <td>0.24</td>\n",
       "    </tr>\n",
       "    <tr>\n",
       "      <th>9</th>\n",
       "      <td>5</td>\n",
       "      <td>1</td>\n",
       "      <td>1</td>\n",
       "      <td>2018</td>\n",
       "      <td>0.20</td>\n",
       "    </tr>\n",
       "    <tr>\n",
       "      <th>10</th>\n",
       "      <td>5</td>\n",
       "      <td>2</td>\n",
       "      <td>1</td>\n",
       "      <td>2017</td>\n",
       "      <td>0.20</td>\n",
       "    </tr>\n",
       "    <tr>\n",
       "      <th>11</th>\n",
       "      <td>5</td>\n",
       "      <td>2</td>\n",
       "      <td>1</td>\n",
       "      <td>2018</td>\n",
       "      <td>0.19</td>\n",
       "    </tr>\n",
       "    <tr>\n",
       "      <th>12</th>\n",
       "      <td>6</td>\n",
       "      <td>2</td>\n",
       "      <td>1</td>\n",
       "      <td>2017</td>\n",
       "      <td>0.18</td>\n",
       "    </tr>\n",
       "    <tr>\n",
       "      <th>13</th>\n",
       "      <td>6</td>\n",
       "      <td>2</td>\n",
       "      <td>1</td>\n",
       "      <td>2018</td>\n",
       "      <td>0.18</td>\n",
       "    </tr>\n",
       "    <tr>\n",
       "      <th>14</th>\n",
       "      <td>7</td>\n",
       "      <td>2</td>\n",
       "      <td>1</td>\n",
       "      <td>2017</td>\n",
       "      <td>0.20</td>\n",
       "    </tr>\n",
       "    <tr>\n",
       "      <th>15</th>\n",
       "      <td>7</td>\n",
       "      <td>2</td>\n",
       "      <td>1</td>\n",
       "      <td>2018</td>\n",
       "      <td>0.30</td>\n",
       "    </tr>\n",
       "    <tr>\n",
       "      <th>16</th>\n",
       "      <td>8</td>\n",
       "      <td>2</td>\n",
       "      <td>1</td>\n",
       "      <td>2017</td>\n",
       "      <td>0.18</td>\n",
       "    </tr>\n",
       "    <tr>\n",
       "      <th>17</th>\n",
       "      <td>8</td>\n",
       "      <td>2</td>\n",
       "      <td>1</td>\n",
       "      <td>2018</td>\n",
       "      <td>0.18</td>\n",
       "    </tr>\n",
       "    <tr>\n",
       "      <th>18</th>\n",
       "      <td>9</td>\n",
       "      <td>2</td>\n",
       "      <td>1</td>\n",
       "      <td>2017</td>\n",
       "      <td>0.18</td>\n",
       "    </tr>\n",
       "    <tr>\n",
       "      <th>19</th>\n",
       "      <td>9</td>\n",
       "      <td>2</td>\n",
       "      <td>1</td>\n",
       "      <td>2018</td>\n",
       "      <td>0.19</td>\n",
       "    </tr>\n",
       "    <tr>\n",
       "      <th>20</th>\n",
       "      <td>9</td>\n",
       "      <td>3</td>\n",
       "      <td>1</td>\n",
       "      <td>2017</td>\n",
       "      <td>0.24</td>\n",
       "    </tr>\n",
       "    <tr>\n",
       "      <th>21</th>\n",
       "      <td>9</td>\n",
       "      <td>3</td>\n",
       "      <td>1</td>\n",
       "      <td>2018</td>\n",
       "      <td>0.21</td>\n",
       "    </tr>\n",
       "    <tr>\n",
       "      <th>22</th>\n",
       "      <td>10</td>\n",
       "      <td>3</td>\n",
       "      <td>1</td>\n",
       "      <td>2017</td>\n",
       "      <td>0.17</td>\n",
       "    </tr>\n",
       "    <tr>\n",
       "      <th>23</th>\n",
       "      <td>10</td>\n",
       "      <td>3</td>\n",
       "      <td>1</td>\n",
       "      <td>2018</td>\n",
       "      <td>0.20</td>\n",
       "    </tr>\n",
       "    <tr>\n",
       "      <th>24</th>\n",
       "      <td>11</td>\n",
       "      <td>3</td>\n",
       "      <td>1</td>\n",
       "      <td>2017</td>\n",
       "      <td>0.18</td>\n",
       "    </tr>\n",
       "    <tr>\n",
       "      <th>25</th>\n",
       "      <td>11</td>\n",
       "      <td>3</td>\n",
       "      <td>1</td>\n",
       "      <td>2018</td>\n",
       "      <td>0.23</td>\n",
       "    </tr>\n",
       "    <tr>\n",
       "      <th>26</th>\n",
       "      <td>12</td>\n",
       "      <td>3</td>\n",
       "      <td>1</td>\n",
       "      <td>2017</td>\n",
       "      <td>0.18</td>\n",
       "    </tr>\n",
       "    <tr>\n",
       "      <th>27</th>\n",
       "      <td>13</td>\n",
       "      <td>3</td>\n",
       "      <td>1</td>\n",
       "      <td>2017</td>\n",
       "      <td>0.15</td>\n",
       "    </tr>\n",
       "    <tr>\n",
       "      <th>28</th>\n",
       "      <td>13</td>\n",
       "      <td>4</td>\n",
       "      <td>2</td>\n",
       "      <td>2017</td>\n",
       "      <td>0.14</td>\n",
       "    </tr>\n",
       "    <tr>\n",
       "      <th>29</th>\n",
       "      <td>14</td>\n",
       "      <td>4</td>\n",
       "      <td>2</td>\n",
       "      <td>2017</td>\n",
       "      <td>0.16</td>\n",
       "    </tr>\n",
       "    <tr>\n",
       "      <th>30</th>\n",
       "      <td>15</td>\n",
       "      <td>4</td>\n",
       "      <td>2</td>\n",
       "      <td>2017</td>\n",
       "      <td>0.20</td>\n",
       "    </tr>\n",
       "    <tr>\n",
       "      <th>31</th>\n",
       "      <td>16</td>\n",
       "      <td>4</td>\n",
       "      <td>2</td>\n",
       "      <td>2017</td>\n",
       "      <td>0.19</td>\n",
       "    </tr>\n",
       "    <tr>\n",
       "      <th>32</th>\n",
       "      <td>17</td>\n",
       "      <td>4</td>\n",
       "      <td>2</td>\n",
       "      <td>2017</td>\n",
       "      <td>0.14</td>\n",
       "    </tr>\n",
       "    <tr>\n",
       "      <th>33</th>\n",
       "      <td>18</td>\n",
       "      <td>5</td>\n",
       "      <td>2</td>\n",
       "      <td>2017</td>\n",
       "      <td>0.15</td>\n",
       "    </tr>\n",
       "    <tr>\n",
       "      <th>34</th>\n",
       "      <td>19</td>\n",
       "      <td>5</td>\n",
       "      <td>2</td>\n",
       "      <td>2017</td>\n",
       "      <td>0.16</td>\n",
       "    </tr>\n",
       "    <tr>\n",
       "      <th>35</th>\n",
       "      <td>20</td>\n",
       "      <td>5</td>\n",
       "      <td>2</td>\n",
       "      <td>2017</td>\n",
       "      <td>0.16</td>\n",
       "    </tr>\n",
       "    <tr>\n",
       "      <th>36</th>\n",
       "      <td>21</td>\n",
       "      <td>5</td>\n",
       "      <td>2</td>\n",
       "      <td>2017</td>\n",
       "      <td>0.13</td>\n",
       "    </tr>\n",
       "    <tr>\n",
       "      <th>37</th>\n",
       "      <td>22</td>\n",
       "      <td>5</td>\n",
       "      <td>2</td>\n",
       "      <td>2017</td>\n",
       "      <td>0.17</td>\n",
       "    </tr>\n",
       "    <tr>\n",
       "      <th>38</th>\n",
       "      <td>22</td>\n",
       "      <td>6</td>\n",
       "      <td>2</td>\n",
       "      <td>2017</td>\n",
       "      <td>0.15</td>\n",
       "    </tr>\n",
       "    <tr>\n",
       "      <th>39</th>\n",
       "      <td>23</td>\n",
       "      <td>6</td>\n",
       "      <td>2</td>\n",
       "      <td>2017</td>\n",
       "      <td>0.16</td>\n",
       "    </tr>\n",
       "    <tr>\n",
       "      <th>40</th>\n",
       "      <td>24</td>\n",
       "      <td>6</td>\n",
       "      <td>2</td>\n",
       "      <td>2017</td>\n",
       "      <td>0.17</td>\n",
       "    </tr>\n",
       "    <tr>\n",
       "      <th>41</th>\n",
       "      <td>25</td>\n",
       "      <td>6</td>\n",
       "      <td>2</td>\n",
       "      <td>2017</td>\n",
       "      <td>0.15</td>\n",
       "    </tr>\n",
       "    <tr>\n",
       "      <th>42</th>\n",
       "      <td>26</td>\n",
       "      <td>6</td>\n",
       "      <td>2</td>\n",
       "      <td>2017</td>\n",
       "      <td>0.18</td>\n",
       "    </tr>\n",
       "    <tr>\n",
       "      <th>43</th>\n",
       "      <td>26</td>\n",
       "      <td>7</td>\n",
       "      <td>3</td>\n",
       "      <td>2017</td>\n",
       "      <td>0.23</td>\n",
       "    </tr>\n",
       "    <tr>\n",
       "      <th>44</th>\n",
       "      <td>27</td>\n",
       "      <td>7</td>\n",
       "      <td>3</td>\n",
       "      <td>2017</td>\n",
       "      <td>0.30</td>\n",
       "    </tr>\n",
       "    <tr>\n",
       "      <th>45</th>\n",
       "      <td>28</td>\n",
       "      <td>7</td>\n",
       "      <td>3</td>\n",
       "      <td>2017</td>\n",
       "      <td>0.22</td>\n",
       "    </tr>\n",
       "    <tr>\n",
       "      <th>46</th>\n",
       "      <td>29</td>\n",
       "      <td>7</td>\n",
       "      <td>3</td>\n",
       "      <td>2017</td>\n",
       "      <td>0.22</td>\n",
       "    </tr>\n",
       "    <tr>\n",
       "      <th>47</th>\n",
       "      <td>30</td>\n",
       "      <td>7</td>\n",
       "      <td>3</td>\n",
       "      <td>2017</td>\n",
       "      <td>0.22</td>\n",
       "    </tr>\n",
       "    <tr>\n",
       "      <th>48</th>\n",
       "      <td>31</td>\n",
       "      <td>7</td>\n",
       "      <td>3</td>\n",
       "      <td>2017</td>\n",
       "      <td>0.27</td>\n",
       "    </tr>\n",
       "    <tr>\n",
       "      <th>49</th>\n",
       "      <td>31</td>\n",
       "      <td>8</td>\n",
       "      <td>3</td>\n",
       "      <td>2017</td>\n",
       "      <td>0.19</td>\n",
       "    </tr>\n",
       "    <tr>\n",
       "      <th>50</th>\n",
       "      <td>32</td>\n",
       "      <td>8</td>\n",
       "      <td>3</td>\n",
       "      <td>2017</td>\n",
       "      <td>0.21</td>\n",
       "    </tr>\n",
       "    <tr>\n",
       "      <th>51</th>\n",
       "      <td>33</td>\n",
       "      <td>8</td>\n",
       "      <td>3</td>\n",
       "      <td>2017</td>\n",
       "      <td>0.21</td>\n",
       "    </tr>\n",
       "    <tr>\n",
       "      <th>52</th>\n",
       "      <td>34</td>\n",
       "      <td>8</td>\n",
       "      <td>3</td>\n",
       "      <td>2017</td>\n",
       "      <td>0.19</td>\n",
       "    </tr>\n",
       "    <tr>\n",
       "      <th>53</th>\n",
       "      <td>35</td>\n",
       "      <td>8</td>\n",
       "      <td>3</td>\n",
       "      <td>2017</td>\n",
       "      <td>0.20</td>\n",
       "    </tr>\n",
       "    <tr>\n",
       "      <th>54</th>\n",
       "      <td>35</td>\n",
       "      <td>9</td>\n",
       "      <td>3</td>\n",
       "      <td>2017</td>\n",
       "      <td>0.21</td>\n",
       "    </tr>\n",
       "    <tr>\n",
       "      <th>55</th>\n",
       "      <td>36</td>\n",
       "      <td>9</td>\n",
       "      <td>3</td>\n",
       "      <td>2017</td>\n",
       "      <td>0.20</td>\n",
       "    </tr>\n",
       "    <tr>\n",
       "      <th>56</th>\n",
       "      <td>37</td>\n",
       "      <td>9</td>\n",
       "      <td>3</td>\n",
       "      <td>2017</td>\n",
       "      <td>0.19</td>\n",
       "    </tr>\n",
       "    <tr>\n",
       "      <th>57</th>\n",
       "      <td>38</td>\n",
       "      <td>9</td>\n",
       "      <td>3</td>\n",
       "      <td>2017</td>\n",
       "      <td>0.20</td>\n",
       "    </tr>\n",
       "    <tr>\n",
       "      <th>58</th>\n",
       "      <td>39</td>\n",
       "      <td>9</td>\n",
       "      <td>3</td>\n",
       "      <td>2017</td>\n",
       "      <td>0.19</td>\n",
       "    </tr>\n",
       "    <tr>\n",
       "      <th>59</th>\n",
       "      <td>39</td>\n",
       "      <td>10</td>\n",
       "      <td>4</td>\n",
       "      <td>2017</td>\n",
       "      <td>0.19</td>\n",
       "    </tr>\n",
       "    <tr>\n",
       "      <th>60</th>\n",
       "      <td>40</td>\n",
       "      <td>10</td>\n",
       "      <td>4</td>\n",
       "      <td>2017</td>\n",
       "      <td>0.20</td>\n",
       "    </tr>\n",
       "    <tr>\n",
       "      <th>61</th>\n",
       "      <td>41</td>\n",
       "      <td>10</td>\n",
       "      <td>4</td>\n",
       "      <td>2017</td>\n",
       "      <td>0.20</td>\n",
       "    </tr>\n",
       "    <tr>\n",
       "      <th>62</th>\n",
       "      <td>42</td>\n",
       "      <td>10</td>\n",
       "      <td>4</td>\n",
       "      <td>2017</td>\n",
       "      <td>0.27</td>\n",
       "    </tr>\n",
       "    <tr>\n",
       "      <th>63</th>\n",
       "      <td>43</td>\n",
       "      <td>10</td>\n",
       "      <td>4</td>\n",
       "      <td>2017</td>\n",
       "      <td>0.19</td>\n",
       "    </tr>\n",
       "    <tr>\n",
       "      <th>64</th>\n",
       "      <td>44</td>\n",
       "      <td>10</td>\n",
       "      <td>4</td>\n",
       "      <td>2017</td>\n",
       "      <td>0.20</td>\n",
       "    </tr>\n",
       "    <tr>\n",
       "      <th>65</th>\n",
       "      <td>44</td>\n",
       "      <td>11</td>\n",
       "      <td>4</td>\n",
       "      <td>2017</td>\n",
       "      <td>0.19</td>\n",
       "    </tr>\n",
       "    <tr>\n",
       "      <th>66</th>\n",
       "      <td>45</td>\n",
       "      <td>11</td>\n",
       "      <td>4</td>\n",
       "      <td>2017</td>\n",
       "      <td>0.19</td>\n",
       "    </tr>\n",
       "    <tr>\n",
       "      <th>67</th>\n",
       "      <td>46</td>\n",
       "      <td>11</td>\n",
       "      <td>4</td>\n",
       "      <td>2017</td>\n",
       "      <td>0.16</td>\n",
       "    </tr>\n",
       "    <tr>\n",
       "      <th>68</th>\n",
       "      <td>47</td>\n",
       "      <td>11</td>\n",
       "      <td>4</td>\n",
       "      <td>2017</td>\n",
       "      <td>0.23</td>\n",
       "    </tr>\n",
       "    <tr>\n",
       "      <th>69</th>\n",
       "      <td>48</td>\n",
       "      <td>11</td>\n",
       "      <td>4</td>\n",
       "      <td>2017</td>\n",
       "      <td>0.22</td>\n",
       "    </tr>\n",
       "    <tr>\n",
       "      <th>70</th>\n",
       "      <td>48</td>\n",
       "      <td>12</td>\n",
       "      <td>4</td>\n",
       "      <td>2017</td>\n",
       "      <td>0.18</td>\n",
       "    </tr>\n",
       "    <tr>\n",
       "      <th>71</th>\n",
       "      <td>49</td>\n",
       "      <td>12</td>\n",
       "      <td>4</td>\n",
       "      <td>2017</td>\n",
       "      <td>0.16</td>\n",
       "    </tr>\n",
       "    <tr>\n",
       "      <th>72</th>\n",
       "      <td>50</td>\n",
       "      <td>12</td>\n",
       "      <td>4</td>\n",
       "      <td>2017</td>\n",
       "      <td>0.15</td>\n",
       "    </tr>\n",
       "    <tr>\n",
       "      <th>73</th>\n",
       "      <td>51</td>\n",
       "      <td>12</td>\n",
       "      <td>4</td>\n",
       "      <td>2017</td>\n",
       "      <td>0.21</td>\n",
       "    </tr>\n",
       "    <tr>\n",
       "      <th>74</th>\n",
       "      <td>52</td>\n",
       "      <td>1</td>\n",
       "      <td>1</td>\n",
       "      <td>2016</td>\n",
       "      <td>0.20</td>\n",
       "    </tr>\n",
       "    <tr>\n",
       "      <th>75</th>\n",
       "      <td>52</td>\n",
       "      <td>12</td>\n",
       "      <td>4</td>\n",
       "      <td>2017</td>\n",
       "      <td>0.21</td>\n",
       "    </tr>\n",
       "  </tbody>\n",
       "</table>\n",
       "</div>"
      ],
      "text/plain": [
       "    week  month  quarter  year  promo_perc\n",
       "0      1      1        1  2017        0.22\n",
       "1      1      1        1  2018        0.19\n",
       "2      2      1        1  2017        0.26\n",
       "3      2      1        1  2018        0.23\n",
       "4      3      1        1  2017        0.23\n",
       "5      3      1        1  2018        0.22\n",
       "6      4      1        1  2017        0.27\n",
       "7      4      1        1  2018        0.22\n",
       "8      5      1        1  2017        0.24\n",
       "9      5      1        1  2018        0.20\n",
       "10     5      2        1  2017        0.20\n",
       "11     5      2        1  2018        0.19\n",
       "12     6      2        1  2017        0.18\n",
       "13     6      2        1  2018        0.18\n",
       "14     7      2        1  2017        0.20\n",
       "15     7      2        1  2018        0.30\n",
       "16     8      2        1  2017        0.18\n",
       "17     8      2        1  2018        0.18\n",
       "18     9      2        1  2017        0.18\n",
       "19     9      2        1  2018        0.19\n",
       "20     9      3        1  2017        0.24\n",
       "21     9      3        1  2018        0.21\n",
       "22    10      3        1  2017        0.17\n",
       "23    10      3        1  2018        0.20\n",
       "24    11      3        1  2017        0.18\n",
       "25    11      3        1  2018        0.23\n",
       "26    12      3        1  2017        0.18\n",
       "27    13      3        1  2017        0.15\n",
       "28    13      4        2  2017        0.14\n",
       "29    14      4        2  2017        0.16\n",
       "30    15      4        2  2017        0.20\n",
       "31    16      4        2  2017        0.19\n",
       "32    17      4        2  2017        0.14\n",
       "33    18      5        2  2017        0.15\n",
       "34    19      5        2  2017        0.16\n",
       "35    20      5        2  2017        0.16\n",
       "36    21      5        2  2017        0.13\n",
       "37    22      5        2  2017        0.17\n",
       "38    22      6        2  2017        0.15\n",
       "39    23      6        2  2017        0.16\n",
       "40    24      6        2  2017        0.17\n",
       "41    25      6        2  2017        0.15\n",
       "42    26      6        2  2017        0.18\n",
       "43    26      7        3  2017        0.23\n",
       "44    27      7        3  2017        0.30\n",
       "45    28      7        3  2017        0.22\n",
       "46    29      7        3  2017        0.22\n",
       "47    30      7        3  2017        0.22\n",
       "48    31      7        3  2017        0.27\n",
       "49    31      8        3  2017        0.19\n",
       "50    32      8        3  2017        0.21\n",
       "51    33      8        3  2017        0.21\n",
       "52    34      8        3  2017        0.19\n",
       "53    35      8        3  2017        0.20\n",
       "54    35      9        3  2017        0.21\n",
       "55    36      9        3  2017        0.20\n",
       "56    37      9        3  2017        0.19\n",
       "57    38      9        3  2017        0.20\n",
       "58    39      9        3  2017        0.19\n",
       "59    39     10        4  2017        0.19\n",
       "60    40     10        4  2017        0.20\n",
       "61    41     10        4  2017        0.20\n",
       "62    42     10        4  2017        0.27\n",
       "63    43     10        4  2017        0.19\n",
       "64    44     10        4  2017        0.20\n",
       "65    44     11        4  2017        0.19\n",
       "66    45     11        4  2017        0.19\n",
       "67    46     11        4  2017        0.16\n",
       "68    47     11        4  2017        0.23\n",
       "69    48     11        4  2017        0.22\n",
       "70    48     12        4  2017        0.18\n",
       "71    49     12        4  2017        0.16\n",
       "72    50     12        4  2017        0.15\n",
       "73    51     12        4  2017        0.21\n",
       "74    52      1        1  2016        0.20\n",
       "75    52     12        4  2017        0.21"
      ]
     },
     "execution_count": 23,
     "metadata": {},
     "output_type": "execute_result"
    }
   ],
   "source": [
    "grouped = (\n",
    "    bopo\n",
    "    .loc[bopo['state'] == 'Completed']\n",
    "    .groupby(['week', 'month', 'quarter', 'year'])\n",
    "    ['promo_perc']\n",
    "    .mean()\n",
    "    .reset_index()\n",
    ")\n",
    "\n",
    "grouped"
   ]
  },
  {
   "cell_type": "code",
   "execution_count": 24,
   "id": "5f81290b-802a-4e3f-a6df-a0664a5a4a8d",
   "metadata": {
    "tags": []
   },
   "outputs": [
    {
     "data": {
      "image/png": "[encoded data removed]",
      "text/plain": [
       "<Figure size 1500x700 with 1 Axes>"
      ]
     },
     "metadata": {},
     "output_type": "display_data"
    }
   ],
   "source": [
    "import matplotlib.pyplot as plt\n",
    "\n",
    "# Creating 'week-year' for plotting\n",
    "grouped['week-year'] = grouped['week'].astype(str) + '-' + grouped['year'].astype(str)\n",
    "\n",
    "# Group by 'week-year' and calculate the mean of 'promo_perc'\n",
    "weekly_promo = grouped.groupby('week-year')['promo_perc'].mean()\n",
    "\n",
    "# Plot\n",
    "plt.figure(figsize=(15, 7))\n",
    "weekly_promo.plot(color='steelblue')\n",
    "plt.title('Average Promotional Percentage Over Weeks', fontsize=18)\n",
    "plt.xlabel('Week-Year', fontsize=15)\n",
    "plt.ylabel('Average Promotional Percentage', fontsize=15)\n",
    "plt.xticks(rotation=45)\n",
    "plt.tight_layout()\n",
    "plt.show()\n"
   ]
  },
  {
   "cell_type": "code",
   "execution_count": 25,
   "id": "8b4ee0b2-7624-4d1b-ad4d-6aa832e97789",
   "metadata": {
    "tags": []
   },
   "outputs": [
    {
     "name": "stdout",
     "output_type": "stream",
     "text": [
      "week  created_date  created_date  year\n",
      "1     1             1             2017   0.22\n",
      "                                  2018   0.19\n",
      "2     1             1             2017   0.26\n",
      "                                  2018   0.23\n",
      "3     1             1             2017   0.23\n",
      "                                  2018   0.22\n",
      "4     1             1             2017   0.27\n",
      "                                  2018   0.22\n",
      "5     1             1             2017   0.24\n",
      "                                  2018   0.20\n",
      "      2             1             2017   0.20\n",
      "                                  2018   0.19\n",
      "6     2             1             2017   0.18\n",
      "                                  2018   0.18\n",
      "7     2             1             2017   0.20\n",
      "                                  2018   0.30\n",
      "8     2             1             2017   0.18\n",
      "                                  2018   0.18\n",
      "9     2             1             2017   0.18\n",
      "                                  2018   0.19\n",
      "      3             1             2017   0.24\n",
      "                                  2018   0.21\n",
      "10    3             1             2017   0.17\n",
      "                                  2018   0.20\n",
      "11    3             1             2017   0.18\n",
      "                                  2018   0.23\n",
      "12    3             1             2017   0.18\n",
      "13    3             1             2017   0.15\n",
      "      4             2             2017   0.14\n",
      "14    4             2             2017   0.16\n",
      "15    4             2             2017   0.20\n",
      "16    4             2             2017   0.19\n",
      "17    4             2             2017   0.14\n",
      "18    5             2             2017   0.15\n",
      "19    5             2             2017   0.16\n",
      "20    5             2             2017   0.16\n",
      "21    5             2             2017   0.13\n",
      "22    5             2             2017   0.17\n",
      "      6             2             2017   0.15\n",
      "23    6             2             2017   0.16\n",
      "24    6             2             2017   0.17\n",
      "25    6             2             2017   0.15\n",
      "26    6             2             2017   0.18\n",
      "      7             3             2017   0.23\n",
      "27    7             3             2017   0.30\n",
      "28    7             3             2017   0.22\n",
      "29    7             3             2017   0.22\n",
      "30    7             3             2017   0.22\n",
      "31    7             3             2017   0.27\n",
      "      8             3             2017   0.19\n",
      "32    8             3             2017   0.21\n",
      "33    8             3             2017   0.21\n",
      "34    8             3             2017   0.19\n",
      "35    8             3             2017   0.20\n",
      "      9             3             2017   0.21\n",
      "36    9             3             2017   0.20\n",
      "37    9             3             2017   0.19\n",
      "38    9             3             2017   0.20\n",
      "39    9             3             2017   0.19\n",
      "      10            4             2017   0.19\n",
      "40    10            4             2017   0.20\n",
      "41    10            4             2017   0.20\n",
      "42    10            4             2017   0.27\n",
      "43    10            4             2017   0.19\n",
      "44    10            4             2017   0.20\n",
      "      11            4             2017   0.19\n",
      "45    11            4             2017   0.19\n",
      "46    11            4             2017   0.16\n",
      "47    11            4             2017   0.23\n",
      "48    11            4             2017   0.22\n",
      "      12            4             2017   0.18\n",
      "49    12            4             2017   0.16\n",
      "50    12            4             2017   0.15\n",
      "51    12            4             2017   0.21\n",
      "52    1             1             2016   0.20\n",
      "      12            4             2017   0.21\n",
      "Name: promo_perc, dtype: float64\n"
     ]
    }
   ],
   "source": [
    " grouped =(\n",
    "     bopo\n",
    "     .loc[bopo['state']=='Completed']\n",
    "     .groupby([bopo['created_date'].dt.isocalendar().week, bopo['created_date'].dt.month, bopo['created_date'].dt.quarter, bopo['created_date'].dt.isocalendar().year])\n",
    "     ['promo_perc']\n",
    "     .mean()\n",
    " )\n",
    "#grouped.columns = ['week', 'month', 'quarter', 'promo_perc']\n",
    "grouped.columns = ['week', 'month', 'quarter', 'promo_perc']\n",
    "print(grouped)"
   ]
  },
  {
   "cell_type": "markdown",
   "id": "a126cd67-6f4d-4c17-adb3-72762794d072",
   "metadata": {},
   "source": [
    "Make the Line Plot"
   ]
  },
  {
   "cell_type": "markdown",
   "id": "c0a7df19-f59a-416b-96af-435fedd918b5",
   "metadata": {},
   "source": [
    "look for weeks/months/days where promotion in percentage/ price high. Which one to use?"
   ]
  }
 ],
 "metadata": {
  "kernelspec": {
   "display_name": "Python 3 (ipykernel)",
   "language": "python",
   "name": "python3"
  },
  "language_info": {
   "codemirror_mode": {
    "name": "ipython",
    "version": 3
   },
   "file_extension": ".py",
   "mimetype": "text/x-python",
   "name": "python",
   "nbconvert_exporter": "python",
   "pygments_lexer": "ipython3",
   "version": "3.11.4"
  }
 },
 "nbformat": 4,
 "nbformat_minor": 5
}
