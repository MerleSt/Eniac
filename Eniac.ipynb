{
 "cells": [
  {
   "cell_type": "markdown",
   "id": "e89b2bd3-a316-4d91-9776-bb889eab7c43",
   "metadata": {},
   "source": [
    "# Eniac"
   ]
  },
  {
   "cell_type": "markdown",
   "id": "c57afee8-7d59-438d-8bcd-52aa9a7205d3",
   "metadata": {},
   "source": [
    "## 1.Importing Data"
   ]
  },
  {
   "cell_type": "markdown",
   "id": "0211823c-3bf9-4499-aa3a-45bf7b73ba49",
   "metadata": {},
   "source": [
    "Turning them into a dictionary of dataframes."
   ]
  },
  {
   "cell_type": "code",
   "execution_count": 33,
   "id": "777e1675-a39f-4d07-8a98-7b25c50ccfa0",
   "metadata": {
    "tags": []
   },
   "outputs": [],
   "source": [
    "import pandas as pd\n",
    "import numpy as np\n",
    "import seaborn as sns\n",
    "import matplotlib.pyplot as plt\n",
    "import matplotlib.dates as mdates\n",
    "\n",
    "orders_url = \"https://raw.githubusercontent.com/MerleSt/Eniac/main/Data-Eniac/Data_Cleaned/orders_clean.parquet\"\n",
    "orderlines_url = \"https://raw.githubusercontent.com/MerleSt/Eniac/main/Data-Eniac/Data_Cleaned/orderlines_clean.parquet\"\n",
    "products_url = \"https://raw.githubusercontent.com/MerleSt/Eniac/main/Data-Eniac/Data_Cleaned/products_clean.parquet\"\n",
    "brands_url = \"https://raw.githubusercontent.com/MerleSt/Eniac/main/Data-Eniac/Data_Cleaned/brands_clean.parquet\"\n",
    "\n",
    "# Loading dataframes directly from GitHub\n",
    "orders_df = pd.read_parquet(orders_url)\n",
    "orderlines_df = pd.read_parquet(orderlines_url)\n",
    "products_df = pd.read_parquet(products_url)\n",
    "brands_df = pd.read_parquet(brands_url)\n",
    "\n",
    "orders = orders_df.copy()\n",
    "orderlines = orderlines_df.copy()\n",
    "products = products_df.copy()\n",
    "brands = brands_df.copy()"
   ]
  },
  {
   "cell_type": "markdown",
   "id": "0496842a-df3b-42f2-b677-821936b7cf09",
   "metadata": {},
   "source": [
    "Set Display Formats of Pandas"
   ]
  },
  {
   "cell_type": "code",
   "execution_count": 34,
   "id": "f697b187-27dc-42aa-93dc-608246c25a80",
   "metadata": {},
   "outputs": [],
   "source": [
    "pd.set_option('display.float_format', lambda x: '%.2f' % x)\n",
    "pd.set_option('display.max_rows', 100)"
   ]
  },
  {
   "cell_type": "markdown",
   "id": "06a435fe-fa82-44b8-9cfb-aaa157a146b0",
   "metadata": {},
   "source": [
    "## 2. Data Integration"
   ]
  },
  {
   "cell_type": "markdown",
   "id": "46910e7b-b5b0-4c43-bd68-70e11d37ccc7",
   "metadata": {},
   "source": [
    "### 2.1 Mergers and logical combinations"
   ]
  },
  {
   "cell_type": "code",
   "execution_count": 35,
   "id": "60875c89-68ec-4cc8-a898-16e3bf1d89db",
   "metadata": {
    "tags": []
   },
   "outputs": [],
   "source": [
    "# Rename column to match with orders (better readability)\n",
    "orderlines.rename(columns={'id_order': 'order_id'}, inplace=True)\n",
    "orderlines['short'] = orderlines['sku'].str[:3]"
   ]
  },
  {
   "cell_type": "code",
   "execution_count": 36,
   "id": "637568a3-ba4d-4f14-9d32-300d436309af",
   "metadata": {
    "tags": []
   },
   "outputs": [],
   "source": [
    "oo = orders.merge(orderlines, on='order_id', how='left')\n",
    "boo = oo.merge(brands, on='short', how='right')"
   ]
  },
  {
   "cell_type": "markdown",
   "id": "60ccc89d-7025-408e-9b2d-17b88eb14d58",
   "metadata": {},
   "source": [
    "Delete oders where there is one or more products, which are not identified. \n",
    "1.make a list of all known products (products table). Go into the orders, orderlines, brands table and exclude orders whose id is not in that list. Lastly merge the products table onto the boo table."
   ]
  },
  {
   "cell_type": "code",
   "execution_count": 37,
   "id": "b6f1e47e-2bf4-4630-9279-1b09351f0716",
   "metadata": {
    "tags": []
   },
   "outputs": [],
   "source": [
    "known_products = products['sku']\n",
    "orders_with_unknown_products = boo.loc[~boo.sku.isin(known_products), \"order_id\"]\n",
    "boo = boo.loc[~boo[\"order_id\"].isin(orders_with_unknown_products), :]\n",
    "df = boo.merge(products, on ='sku', how='left')"
   ]
  },
  {
   "cell_type": "markdown",
   "id": "bde8ab68-1534-42cd-b4b2-5775f4e4e11c",
   "metadata": {},
   "source": [
    "### 2.2 Create new columns"
   ]
  },
  {
   "cell_type": "markdown",
   "id": "f99089d0-a8ad-4faa-8cd7-12535241c7b1",
   "metadata": {},
   "source": [
    "#### 2.2.1 Boolean Promotion and Promo_price"
   ]
  },
  {
   "cell_type": "markdown",
   "id": "219003e4-e26f-47ea-ab7a-932be6dcd632",
   "metadata": {},
   "source": [
    "Create a boolean condition which is true when a promotion was applied on the price."
   ]
  },
  {
   "cell_type": "code",
   "execution_count": 38,
   "id": "26fa702d-66ee-402d-896b-bc2d44f3214e",
   "metadata": {
    "tags": []
   },
   "outputs": [
    {
     "data": {
      "text/html": [
       "<div>\n",
       "<style scoped>\n",
       "    .dataframe tbody tr th:only-of-type {\n",
       "        vertical-align: middle;\n",
       "    }\n",
       "\n",
       "    .dataframe tbody tr th {\n",
       "        vertical-align: top;\n",
       "    }\n",
       "\n",
       "    .dataframe thead th {\n",
       "        text-align: right;\n",
       "    }\n",
       "</style>\n",
       "<table border=\"1\" class=\"dataframe\">\n",
       "  <thead>\n",
       "    <tr style=\"text-align: right;\">\n",
       "      <th></th>\n",
       "      <th>promo_price</th>\n",
       "      <th>price_promotion</th>\n",
       "      <th>price</th>\n",
       "    </tr>\n",
       "  </thead>\n",
       "  <tbody>\n",
       "    <tr>\n",
       "      <th>0</th>\n",
       "      <td>23.99</td>\n",
       "      <td>True</td>\n",
       "      <td>35.00</td>\n",
       "    </tr>\n",
       "    <tr>\n",
       "      <th>1</th>\n",
       "      <td>23.99</td>\n",
       "      <td>True</td>\n",
       "      <td>35.00</td>\n",
       "    </tr>\n",
       "    <tr>\n",
       "      <th>2</th>\n",
       "      <td>23.99</td>\n",
       "      <td>True</td>\n",
       "      <td>35.00</td>\n",
       "    </tr>\n",
       "    <tr>\n",
       "      <th>3</th>\n",
       "      <td>23.99</td>\n",
       "      <td>True</td>\n",
       "      <td>35.00</td>\n",
       "    </tr>\n",
       "    <tr>\n",
       "      <th>4</th>\n",
       "      <td>23.99</td>\n",
       "      <td>True</td>\n",
       "      <td>35.00</td>\n",
       "    </tr>\n",
       "  </tbody>\n",
       "</table>\n",
       "</div>"
      ],
      "text/plain": [
       "   promo_price  price_promotion  price\n",
       "0        23.99             True  35.00\n",
       "1        23.99             True  35.00\n",
       "2        23.99             True  35.00\n",
       "3        23.99             True  35.00\n",
       "4        23.99             True  35.00"
      ]
     },
     "execution_count": 38,
     "metadata": {},
     "output_type": "execute_result"
    }
   ],
   "source": [
    "df['price_promotion'] = df['unit_price'] < df['price']\n",
    "df['promo_price'] = df.apply(lambda row: row['unit_price'] if row['price_promotion'] else np.nan, axis=1)\n",
    "df[['promo_price','price_promotion', 'price']].head()"
   ]
  },
  {
   "cell_type": "markdown",
   "id": "ac4f8e31-1c3a-48a5-ac3b-9407fa75c67a",
   "metadata": {},
   "source": [
    "#### 2.2.2 order_price"
   ]
  },
  {
   "cell_type": "markdown",
   "id": "6b42d62e-d4d6-46e6-a66c-d1ddf848b967",
   "metadata": {},
   "source": [
    "Use this price to compare to the total paid, to infer knowledge about shipping costs etc."
   ]
  },
  {
   "cell_type": "code",
   "execution_count": 39,
   "id": "ae131d2f-e73c-4434-b9cf-674aa4afaf07",
   "metadata": {
    "tags": []
   },
   "outputs": [],
   "source": [
    "df['unit_price_total'] = df['product_quantity'] * df['unit_price']\n",
    "order_total_price = df.groupby('order_id')['unit_price_total'].sum().reset_index()\n",
    "order_total_price.rename(columns={'unit_price_total': 'order_price'}, inplace=True)\n",
    "df = df.merge(order_total_price, on='order_id')"
   ]
  },
  {
   "cell_type": "markdown",
   "id": "51e472c7-145a-4c58-8455-43b48f4f7fc9",
   "metadata": {},
   "source": [
    "#### 2.2.3 Orders with at least one promotional item"
   ]
  },
  {
   "cell_type": "code",
   "execution_count": 40,
   "id": "fa7b25cd-2b85-49df-bca7-a05f3946ea23",
   "metadata": {
    "tags": []
   },
   "outputs": [
    {
     "data": {
      "text/plain": [
       "True     262211\n",
       "False     15415\n",
       "Name: order_inc_promo, dtype: int64"
      ]
     },
     "execution_count": 40,
     "metadata": {},
     "output_type": "execute_result"
    }
   ],
   "source": [
    "df['order_inc_promo'] = df.groupby('order_id')['price_promotion'].transform('any')\n",
    "df['order_inc_promo'].value_counts()"
   ]
  },
  {
   "cell_type": "markdown",
   "id": "bac3ba6e-4fe2-47d8-838f-1c7d9a2faf7d",
   "metadata": {},
   "source": [
    "#### 2.2.4 Difference between total_paid and order_price"
   ]
  },
  {
   "cell_type": "markdown",
   "id": "89e08613-f0cb-42e3-95c9-3cc9d372c35b",
   "metadata": {},
   "source": [
    "Look at the difference between what was paid and what the products inside the order combined cost. Do this only for completed orders. This might give us insight about promotions on the entire order (10% on your entire oder) or shipping costs. We can also exclude outliers from this, since there might be some corrupted data."
   ]
  },
  {
   "cell_type": "code",
   "execution_count": 41,
   "id": "4da7f901-2af1-46d6-8387-abd8431a028a",
   "metadata": {
    "tags": []
   },
   "outputs": [],
   "source": [
    "df['diff_paid_totalprice'] = np.where(df['state'] == 'Completed', \n",
    "                                     df['total_paid'] - df['order_price'], \n",
    "                                     np.nan)"
   ]
  },
  {
   "cell_type": "markdown",
   "id": "341e19d4-070c-4efe-97ce-5287be5a221f",
   "metadata": {},
   "source": [
    "### 2.3 Outliers"
   ]
  },
  {
   "cell_type": "markdown",
   "id": "cb30f211-343e-4339-857a-ee880ca68c40",
   "metadata": {},
   "source": [
    "When checking the unit_price, price and total_paid there might be statistically some outliers, but some products are extremely expensive and therefore, should still be utilised. Howeever, there can be some outliers in the difference between what was paid and the value of that order. These should be excluded, since they can show corrupted data. Let's do this here."
   ]
  },
  {
   "cell_type": "code",
   "execution_count": 42,
   "id": "77cf8754-d7f7-4c5c-b950-0050aa7d245c",
   "metadata": {
    "tags": []
   },
   "outputs": [
    {
     "data": {
      "image/png": "[encoded data removed]",
      "text/plain": [
       "<Figure size 500x300 with 1 Axes>"
      ]
     },
     "metadata": {},
     "output_type": "display_data"
    }
   ],
   "source": [
    "plt.figure(figsize=(5,3))\n",
    "sns.boxplot(x=df['diff_paid_totalprice'])\n",
    "plt.title('Boxplot of diff_paid_price')\n",
    "plt.xlabel('Difference between Paid and Price')\n",
    "plt.show()"
   ]
  },
  {
   "cell_type": "code",
   "execution_count": 50,
   "id": "e56992f2-fbd5-4437-a614-92433ae2894d",
   "metadata": {
    "tags": []
   },
   "outputs": [
    {
     "data": {
      "text/plain": [
       "0"
      ]
     },
     "execution_count": 50,
     "metadata": {},
     "output_type": "execute_result"
    }
   ],
   "source": [
    "Q1 = df['diff_paid_totalprice'].quantile(0.25)\n",
    "Q3 = df['diff_paid_totalprice'].quantile(0.75)\n",
    "IQR = Q3 - Q1\n",
    "\n",
    "# Define bounds\n",
    "lower_bound = Q1 - 1.5 * IQR\n",
    "upper_bound = Q3 + 1.5 * IQR\n",
    "\n",
    "# Filter outliers\n",
    "outliers = df[(df['diff_paid_totalprice'] < lower_bound) | (df['diff_paid_totalprice'] > upper_bound)]\n",
    "outliers['diff_paid_totalprice'].count()"
   ]
  },
  {
   "cell_type": "markdown",
   "id": "698a7b29-1c3a-459a-bb25-ad279c068b4a",
   "metadata": {},
   "source": [
    "Let us drop the outliers here."
   ]
  },
  {
   "cell_type": "code",
   "execution_count": 47,
   "id": "6917456e-a7e4-428e-87d6-67658b4658a7",
   "metadata": {
    "tags": []
   },
   "outputs": [],
   "source": [
    "df = df.loc[~df['diff_paid_totalprice'].isin(outliers['diff_paid_totalprice'])]"
   ]
  },
  {
   "cell_type": "markdown",
   "id": "186e1c1d-ff3a-4181-8ad8-5868e8b0a847",
   "metadata": {},
   "source": [
    "Let's see a distributional grpah of the price paid"
   ]
  },
  {
   "cell_type": "code",
   "execution_count": 53,
   "id": "cfe335ad-ef4a-4b52-89ca-65910d290667",
   "metadata": {
    "tags": []
   },
   "outputs": [
    {
     "data": {
      "image/png": "[encoded data removed]",
      "text/plain": [
       "<Figure size 1000x600 with 1 Axes>"
      ]
     },
     "metadata": {},
     "output_type": "display_data"
    }
   ],
   "source": [
    "plt.figure(figsize=(10,6))\n",
    "sns.histplot(df['diff_paid_totalprice'], bins=50, kde=True)\n",
    "plt.title('Distribution of diff price paid')\n",
    "plt.xlabel('Difference between Paid and Price of Order')\n",
    "plt.ylabel('Nr. Orders')\n",
    "plt.show()"
   ]
  },
  {
   "cell_type": "markdown",
   "id": "46c5d98c-1e94-499f-8da6-53e874f1494e",
   "metadata": {},
   "source": [
    "### 2.4 Second Dataframe, with completed orders"
   ]
  },
  {
   "cell_type": "markdown",
   "id": "55a6586b-f7c0-48c5-b5c8-0439ef11102a",
   "metadata": {},
   "source": [
    "Do this as a laast step so all columns and the cleaning/ merging are the same in both dataframes"
   ]
  },
  {
   "cell_type": "code",
   "execution_count": null,
   "id": "da83c51c-dfdc-444b-8377-4555e936dc20",
   "metadata": {
    "tags": []
   },
   "outputs": [],
   "source": [
    "df_com = df.loc[df['state']=='Completed'].reset_index(drop=True)\n",
    "df_com.head()"
   ]
  },
  {
   "cell_type": "markdown",
   "id": "84160a7f-ac84-4fa9-b655-c06a58c3ac29",
   "metadata": {},
   "source": [
    "## 3. Analysis"
   ]
  },
  {
   "cell_type": "markdown",
   "id": "d02e247b-fdf7-428f-a230-a859fdd3bd77",
   "metadata": {},
   "source": [
    "###3. Analyzing Order Patterns in Relation to Discounts"
   ]
  },
  {
   "cell_type": "markdown",
   "id": "762e93d6-c840-4bc9-955b-ceab95f1cf94",
   "metadata": {},
   "source": [
    "Objective:\n",
    "To understand if the introduction or availability of discounts affects order patterns – both in terms of quantity and frequency."
   ]
  },
  {
   "cell_type": "markdown",
   "id": "8192e261-6cd0-4d97-a035-a6ee22086af6",
   "metadata": {},
   "source": [
    "### 1. Understand basic metrics"
   ]
  },
  {
   "cell_type": "code",
   "execution_count": null,
   "id": "45f8588d-3302-4b4c-8f72-e8353dcb31b7",
   "metadata": {
    "tags": []
   },
   "outputs": [],
   "source": [
    "total_orders = df_com['order_id'].nunique()\n",
    "avg_order_value = df_com.groupby('order_id')['total_paid'].first().mean()\n",
    "\n",
    "avg_items_per_order = df_com.groupby('order_id').size().mean()\n",
    "print(f'The total orders are: {total_orders}, the average order values is: {avg_order_value}, and the average items per order are: {avg_items_per_order}')\n"
   ]
  },
  {
   "cell_type": "markdown",
   "id": "67e0dec2-70ee-4e63-a163-8578861c48ce",
   "metadata": {},
   "source": [
    "Let me check if all total_paid values are the same within each order"
   ]
  },
  {
   "cell_type": "code",
   "execution_count": null,
   "id": "0519f9c7-335d-412d-97d9-fd340818cd4a",
   "metadata": {
    "tags": []
   },
   "outputs": [],
   "source": [
    "unique_paid_counts = df_com.groupby('order_id')['total_paid'].nunique()\n",
    "inconsistent_orders = unique_paid_counts[unique_paid_counts > 1]\n",
    "if not inconsistent_orders.empty:\n",
    "    print(\"There are orders with inconsistent 'total_paid' values:\")\n",
    "    print(inconsistent_orders)\n",
    "else:\n",
    "    print(\"All orders have consistent 'total_paid' values. Therefore I can use the .first() method.\")"
   ]
  },
  {
   "cell_type": "markdown",
   "id": "3d0e723d-9780-4ab7-9706-3ad26098d17d",
   "metadata": {},
   "source": [
    "### 3. Compare Metrics"
   ]
  },
  {
   "cell_type": "code",
   "execution_count": null,
   "id": "5ba215e5-95a9-4ab0-8e29-fb7b03a11304",
   "metadata": {
    "tags": []
   },
   "outputs": [],
   "source": [
    "avg_order_value_discounted =(\n",
    "    df[df['order_inc_promo'] == True]\n",
    "    .groupby('order_id')['total_paid']\n",
    "    .sum()\n",
    "    .mean()\n",
    "    .round(2)\n",
    ")\n",
    "avg_order_value_non_discounted =(\n",
    "    df[df['order_inc_promo'] == False]\n",
    "    .groupby('order_id')['total_paid']\n",
    "    .sum()\n",
    "    .mean()\n",
    "    .round(2)\n",
    ")"
   ]
  },
  {
   "cell_type": "code",
   "execution_count": null,
   "id": "38d69fae-6751-4cb8-b779-bcdac08ddb2e",
   "metadata": {
    "tags": []
   },
   "outputs": [],
   "source": [
    "avg_items_discounted =(\n",
    "    df[df['order_inc_promo'] == True]\n",
    "    .groupby('order_id')['product_quantity']\n",
    "    .sum()\n",
    "    .mean()\n",
    "    .round(2)\n",
    ")\n",
    "avg_items_non_discounted =(\n",
    "    df[df['order_inc_promo'] == False]\n",
    "    .groupby('order_id')['product_quantity']\n",
    "    .sum()\n",
    "    .mean()\n",
    "    .round(2)\n",
    ")"
   ]
  },
  {
   "cell_type": "code",
   "execution_count": null,
   "id": "715125db-0084-412d-896a-f1dcd14561f6",
   "metadata": {
    "tags": []
   },
   "outputs": [],
   "source": [
    "print(f'The average order value of discounted orders is: {avg_order_value_discounted}, compared to the average value of non discounted orders: {avg_order_value_non_discounted}\\\n",
    ". Moreover, the average number of items in an order with prmotion is: {avg_items_discounted}, while it is : {avg_items_non_discounted} for non discounted orders.')"
   ]
  },
  {
   "cell_type": "markdown",
   "id": "49d4e614-59c1-4e6a-b066-fd35e4904b02",
   "metadata": {},
   "source": [
    "### 4. Temporal Analysis"
   ]
  },
  {
   "cell_type": "markdown",
   "id": "f56f5fb7-7844-4f25-ac0d-1ad25b71daa7",
   "metadata": {},
   "source": [
    "For now only use completed orders, since otherwise we cannot infer about the promotion."
   ]
  },
  {
   "cell_type": "code",
   "execution_count": null,
   "id": "3557c87c-1e6b-4f9a-9b48-3c5caab85f1c",
   "metadata": {
    "tags": []
   },
   "outputs": [],
   "source": [
    "df.dtypes"
   ]
  },
  {
   "cell_type": "code",
   "execution_count": null,
   "id": "10360a70-baa0-4e23-901c-830cd17db9e9",
   "metadata": {
    "tags": []
   },
   "outputs": [],
   "source": [
    "df_com['created_month'] = df_com['created_date'].dt.month\n",
    "monthly_discounted_orders = df_com[df_com['promotion']].groupby('created_month').size()\n",
    "monthly_discounted_orders"
   ]
  },
  {
   "cell_type": "markdown",
   "id": "fb505492-de45-4389-b467-f534969e1445",
   "metadata": {},
   "source": [
    "### 5. Visual Analysis"
   ]
  },
  {
   "cell_type": "code",
   "execution_count": null,
   "id": "adc44c71-095c-4be8-8273-5f225d16058e",
   "metadata": {
    "tags": []
   },
   "outputs": [],
   "source": [
    "import matplotlib.pyplot as plt\n",
    "\n",
    "# Average order values comparison\n",
    "plt.bar(['Discounted', 'Non-Discounted'], [avg_order_value_discounted, avg_order_value_non_discounted])\n",
    "plt.title('Average Order Values')\n",
    "plt.ylabel('Value')\n",
    "plt.show()\n",
    "\n",
    "# Monthly trends of discounted orders\n",
    "monthly_discounted_orders.plot(kind='bar')\n",
    "plt.title('Monthly Trend of Discounted Orders')\n",
    "plt.ylabel('Number of Orders')\n",
    "plt.xlabel('Month')\n",
    "plt.show()\n"
   ]
  },
  {
   "cell_type": "markdown",
   "id": "5f1d8787-55b3-4d1f-9732-6e8d32d21700",
   "metadata": {},
   "source": [
    "Possible Conclusions:\n",
    "\n",
    "- If orders with discounts have a significantly higher average value or quantity, it suggests discounts might be driving larger orders.\n",
    "- If there's a temporal trend showing increased discount orders during specific times, it might suggest seasonal trends or the effects of periodic discount campaigns."
   ]
  },
  {
   "cell_type": "markdown",
   "id": "9dc3c169-6125-4600-85a1-459f5c0753e6",
   "metadata": {},
   "source": [
    "### Which Items are bought together"
   ]
  },
  {
   "cell_type": "code",
   "execution_count": null,
   "id": "160b84c3-49e7-4b14-89c5-acdbea1f93cb",
   "metadata": {
    "tags": []
   },
   "outputs": [],
   "source": [
    "df['grouped'] = df.groupby('order_id')['name'].transform(lambda x: ','.join(x))"
   ]
  },
  {
   "cell_type": "code",
   "execution_count": null,
   "id": "e7fd82c0-547f-4152-bc12-27b754f854e4",
   "metadata": {
    "tags": []
   },
   "outputs": [],
   "source": [
    "from itertools import combinations\n",
    "from collections import Counter\n",
    "\n",
    "count = Counter()\n",
    "\n",
    "for row in df['grouped']:\n",
    "    row_list = row.split(',')\n",
    "    count.update(Counter(combinations(row_list, 2)))\n",
    "    \n",
    "# Print only the first few, since dataframe is too large.\n",
    "for item, freq in count.most_common(10):\n",
    "    print(item, freq)"
   ]
  },
  {
   "cell_type": "markdown",
   "id": "0a864ecc-df69-447e-bcd4-7d6536426624",
   "metadata": {},
   "source": [
    "## Step 3: Analyzing Customer Behavior and Retention with Respect to Discounts:"
   ]
  },
  {
   "cell_type": "markdown",
   "id": "944cddb8-4e21-4e93-840b-4d8f4b33e2a5",
   "metadata": {},
   "source": [
    "### 1. Retention Rate with Respect to Discounts:"
   ]
  },
  {
   "cell_type": "markdown",
   "id": "ae4f03bb-7f3a-4bae-b63f-3ef451f27e13",
   "metadata": {},
   "source": [
    "To understand if customers acquired during promotional periods are more likely to come back."
   ]
  },
  {
   "cell_type": "code",
   "execution_count": null,
   "id": "43cba571-278a-4feb-a625-e1008d3c6784",
   "metadata": {
    "tags": []
   },
   "outputs": [],
   "source": [
    "df_com.groupby('order_id')['product_quantity'].sum()"
   ]
  },
  {
   "cell_type": "code",
   "execution_count": null,
   "id": "0d48d4a2-d4b8-4309-98c4-82d55f3a722f",
   "metadata": {
    "tags": []
   },
   "outputs": [],
   "source": [
    "duplicate_order_ids = df_com[df_com['order_id'].duplicated(keep=False)]\n",
    "\n",
    "if not duplicate_order_ids.empty:\n",
    "    print(f\"There are {len(duplicate_order_ids)} duplicated order_ids in the dataset.\")\n",
    "else:\n",
    "    print(\"All order_ids are unique.\")\n"
   ]
  },
  {
   "cell_type": "code",
   "execution_count": null,
   "id": "7b2e661f-c58e-4401-ada3-019f35f12ec3",
   "metadata": {
    "tags": []
   },
   "outputs": [],
   "source": [
    "df_com.info()"
   ]
  },
  {
   "cell_type": "markdown",
   "id": "d3acad3b-d56d-4de1-88f6-ae336ab6289d",
   "metadata": {},
   "source": [
    "Calculate the percentage of promotion for every product in every order: (1-(price/unit_price))"
   ]
  },
  {
   "cell_type": "code",
   "execution_count": null,
   "id": "397c6420-2276-4ed6-ad0c-72566fe18ded",
   "metadata": {
    "tags": []
   },
   "outputs": [],
   "source": [
    "df_com['promo_perc'] = (1-(df_com['unit_price']/df_com['price']))"
   ]
  },
  {
   "cell_type": "markdown",
   "id": "68c47442-f139-4d47-b64e-040b7056671d",
   "metadata": {},
   "source": [
    "Average promotion perc per week/ month"
   ]
  },
  {
   "cell_type": "code",
   "execution_count": null,
   "id": "ffcca202-65f6-4737-b3a1-d69239528ad3",
   "metadata": {
    "tags": []
   },
   "outputs": [],
   "source": [
    "df_com[['year', 'week', 'day']]= df_com['created_date'].dt.isocalendar()\n",
    "# Extract month and quarter\n",
    "df_com['month'] = df_com['created_date'].dt.month\n",
    "df_com['quarter'] = df_com['created_date'].dt.quarter"
   ]
  },
  {
   "cell_type": "code",
   "execution_count": null,
   "id": "92d671a7-f729-4626-a142-a006bd79d70b",
   "metadata": {
    "tags": []
   },
   "outputs": [],
   "source": [
    "grouped = (\n",
    "    df_com\n",
    "    .loc[df_com['state'] == 'Completed']\n",
    "    .groupby(['week', 'month', 'quarter', 'year'])\n",
    "    ['promo_perc']\n",
    "    .mean()\n",
    "    .reset_index()\n",
    ")\n",
    "\n",
    "grouped"
   ]
  },
  {
   "cell_type": "code",
   "execution_count": null,
   "id": "5f81290b-802a-4e3f-a6df-a0664a5a4a8d",
   "metadata": {
    "tags": []
   },
   "outputs": [],
   "source": [
    "import matplotlib.pyplot as plt\n",
    "\n",
    "# Creating 'week-year' for plotting\n",
    "grouped['week-year'] = grouped['week'].astype(str) + '-' + grouped['year'].astype(str)\n",
    "\n",
    "# Group by 'week-year' and calculate the mean of 'promo_perc'\n",
    "weekly_promo = grouped.groupby('week-year')['promo_perc'].mean()\n",
    "\n",
    "# Plot\n",
    "plt.figure(figsize=(15, 7))\n",
    "weekly_promo.plot(color='steelblue')\n",
    "plt.title('Average Promotional Percentage Over Weeks', fontsize=18)\n",
    "plt.xlabel('Week-Year', fontsize=15)\n",
    "plt.ylabel('Average Promotional Percentage', fontsize=15)\n",
    "plt.xticks(rotation=45)\n",
    "plt.tight_layout()\n",
    "plt.show()\n"
   ]
  },
  {
   "cell_type": "code",
   "execution_count": null,
   "id": "8b4ee0b2-7624-4d1b-ad4d-6aa832e97789",
   "metadata": {
    "tags": []
   },
   "outputs": [],
   "source": [
    " grouped =(\n",
    "     df_com\n",
    "     .loc[df_com['state']=='Completed']\n",
    "     .groupby([df_com['created_date'].dt.isocalendar().week, df_com['created_date'].dt.month, df_com['created_date'].dt.quarter, df_com['created_date'].dt.isocalendar().year])\n",
    "     ['promo_perc']\n",
    "     .mean()\n",
    " )\n",
    "#grouped.columns = ['week', 'month', 'quarter', 'promo_perc']\n",
    "grouped.columns = ['week', 'month', 'quarter', 'promo_perc']\n",
    "print(grouped)"
   ]
  },
  {
   "cell_type": "markdown",
   "id": "a126cd67-6f4d-4c17-adb3-72762794d072",
   "metadata": {},
   "source": [
    "Make the Line Plot"
   ]
  },
  {
   "cell_type": "markdown",
   "id": "c0a7df19-f59a-416b-96af-435fedd918b5",
   "metadata": {},
   "source": [
    "look for weeks/months/days where promotion in percentage/ price high. Which one to use?"
   ]
  },
  {
   "cell_type": "code",
   "execution_count": null,
   "id": "1b40a2f3-d339-4058-b58e-cb4bf406a36a",
   "metadata": {},
   "outputs": [],
   "source": []
  },
  {
   "cell_type": "code",
   "execution_count": null,
   "id": "b1da7cf9-6afe-4736-9534-a919549f43f0",
   "metadata": {},
   "outputs": [],
   "source": []
  },
  {
   "cell_type": "code",
   "execution_count": null,
   "id": "9d9ebb39-69ad-4180-8a64-0e597e26fe1f",
   "metadata": {},
   "outputs": [],
   "source": []
  }
 ],
 "metadata": {
  "kernelspec": {
   "display_name": "Python 3 (ipykernel)",
   "language": "python",
   "name": "python3"
  },
  "language_info": {
   "codemirror_mode": {
    "name": "ipython",
    "version": 3
   },
   "file_extension": ".py",
   "mimetype": "text/x-python",
   "name": "python",
   "nbconvert_exporter": "python",
   "pygments_lexer": "ipython3",
   "version": "3.11.4"
  }
 },
 "nbformat": 4,
 "nbformat_minor": 5
}
