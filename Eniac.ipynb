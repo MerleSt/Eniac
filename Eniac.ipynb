{
 "cells": [
  {
   "cell_type": "markdown",
   "id": "e89b2bd3-a316-4d91-9776-bb889eab7c43",
   "metadata": {},
   "source": [
    "# Eniac"
   ]
  },
  {
   "cell_type": "markdown",
   "id": "c57afee8-7d59-438d-8bcd-52aa9a7205d3",
   "metadata": {},
   "source": [
    "## Importing Data"
   ]
  },
  {
   "cell_type": "markdown",
   "id": "0211823c-3bf9-4499-aa3a-45bf7b73ba49",
   "metadata": {},
   "source": [
    "Turning them into a dictionary of dataframes."
   ]
  },
  {
   "cell_type": "code",
   "execution_count": 1,
   "id": "777e1675-a39f-4d07-8a98-7b25c50ccfa0",
   "metadata": {
    "tags": []
   },
   "outputs": [],
   "source": [
    "import pandas as pd\n",
    "\n",
    "# URLs for raw content of the CSV files on GitHub\n",
    "orders_url = \"https://raw.githubusercontent.com/MerleSt/Eniac/main/Data-Eniac/Data_Cleaned/orders_clean.csv\"\n",
    "orderlines_url = \"https://raw.githubusercontent.com/MerleSt/Eniac/main/Data-Eniac/Data_Cleaned/orderlines_clean.csv\"\n",
    "products_url = \"https://raw.githubusercontent.com/MerleSt/Eniac/main/Data-Eniac/Data_Cleaned/products_clean.csv\"\n",
    "brands_url = \"https://raw.githubusercontent.com/MerleSt/Eniac/main/Data-Eniac/Data_Cleaned/brands_clean.csv\"\n",
    "\n",
    "\n",
    "# Loading dataframes directly from GitHub\n",
    "orders = pd.read_csv(orders_url)\n",
    "orderlines = pd.read_csv(orderlines_url)\n",
    "products = pd.read_csv(products_url)\n",
    "brands = pd.read_csv(brands_url)"
   ]
  },
  {
   "cell_type": "markdown",
   "id": "016dede1-8d5a-4c96-8662-f81dafd49c15",
   "metadata": {},
   "source": [
    "Keys of tables:\n",
    "\n",
    "order_id : orders, orderlines\n",
    "\n",
    "sku = products, orderlines, brands --> the first three letters of sku = short brand name\n",
    "\n",
    "Questions:\n",
    "\n",
    "What is id: and unit_price: in orderlines?\n",
    "\n",
    "What is total_paid in orders? What is created_date in orders?"
   ]
  },
  {
   "cell_type": "code",
   "execution_count": null,
   "id": "60875c89-68ec-4cc8-a898-16e3bf1d89db",
   "metadata": {
    "tags": []
   },
   "outputs": [],
   "source": [
    "# Rename column to match with orders (better readability)\n",
    "orderlines.rename(columns={'id_order': 'order_id'}, inplace=True)\n",
    "orderlines"
   ]
  },
  {
   "cell_type": "code",
   "execution_count": null,
   "id": "b16eb9c1-9b03-400f-9e41-abb1cc25de2f",
   "metadata": {
    "tags": []
   },
   "outputs": [],
   "source": [
    "orderlines['short_brand'] = orderlines['sku'].str[:3]\n",
    "orderlines"
   ]
  },
  {
   "cell_type": "code",
   "execution_count": null,
   "id": "692c557a-1b78-4120-9a46-2d740b8d45a2",
   "metadata": {
    "tags": []
   },
   "outputs": [],
   "source": [
    "# Merge Orderlines on brands, since both tables are small anyway\n",
    "orderlines_brands = orderlines.merge(brands, left_on='short_brand' ,right_on='short', how='left')\n",
    "orderlines_brands"
   ]
  },
  {
   "cell_type": "markdown",
   "id": "1fad362c-8742-4493-b3e1-0e1f2934d95f",
   "metadata": {},
   "source": [
    "- DataFrame **.describe()** gives basic numerical aggregations. It can be applied to a single column as well.\n",
    "- DataFrame **.isna().any()** highlights which columns contain missing data\n",
    "- DataFrame **.shape** gives the number of rows and columns\n",
    "- DataFrame **.columns** gives the column names. Note that a list with new names can be passed to this attribute to rename the columns.\n",
    "- DataFrame **.columnName.isna().sum()** is a quick way to check the number of missing values in a column\n",
    "- DataFrame **.columnName.value_counts()** is a great way to summarise a categorical column. You can use it to discover how many orders are completed, cancelled, pending…\n",
    "- DataFrame **.columnName.hist()** is an easy way to plot a histogram in a numerical column. Play with the bins argument to change the granularity of the graph."
   ]
  },
  {
   "cell_type": "code",
   "execution_count": 8,
   "id": "223832f2-6541-4eed-a3ba-cccdd012134f",
   "metadata": {
    "tags": []
   },
   "outputs": [
    {
     "data": {
      "text/html": [
       "<div>\n",
       "<style scoped>\n",
       "    .dataframe tbody tr th:only-of-type {\n",
       "        vertical-align: middle;\n",
       "    }\n",
       "\n",
       "    .dataframe tbody tr th {\n",
       "        vertical-align: top;\n",
       "    }\n",
       "\n",
       "    .dataframe thead th {\n",
       "        text-align: right;\n",
       "    }\n",
       "</style>\n",
       "<table border=\"1\" class=\"dataframe\">\n",
       "  <thead>\n",
       "    <tr style=\"text-align: right;\">\n",
       "      <th></th>\n",
       "      <th>sku</th>\n",
       "      <th>price</th>\n",
       "      <th>unit_price</th>\n",
       "      <th>promo_price</th>\n",
       "    </tr>\n",
       "  </thead>\n",
       "  <tbody>\n",
       "    <tr>\n",
       "      <th>0</th>\n",
       "      <td>OTT0133</td>\n",
       "      <td>34.99</td>\n",
       "      <td>18.99</td>\n",
       "      <td>19.99</td>\n",
       "    </tr>\n",
       "    <tr>\n",
       "      <th>1</th>\n",
       "      <td>LGE0043</td>\n",
       "      <td>429.00</td>\n",
       "      <td>399.00</td>\n",
       "      <td>399.00</td>\n",
       "    </tr>\n",
       "    <tr>\n",
       "      <th>2</th>\n",
       "      <td>PAR0071</td>\n",
       "      <td>699.00</td>\n",
       "      <td>474.05</td>\n",
       "      <td>569.00</td>\n",
       "    </tr>\n",
       "    <tr>\n",
       "      <th>3</th>\n",
       "      <td>WDT0315</td>\n",
       "      <td>79.00</td>\n",
       "      <td>68.39</td>\n",
       "      <td>63.99</td>\n",
       "    </tr>\n",
       "    <tr>\n",
       "      <th>4</th>\n",
       "      <td>JBL0104</td>\n",
       "      <td>29.90</td>\n",
       "      <td>23.74</td>\n",
       "      <td>27.99</td>\n",
       "    </tr>\n",
       "    <tr>\n",
       "      <th>...</th>\n",
       "      <td>...</td>\n",
       "      <td>...</td>\n",
       "      <td>...</td>\n",
       "      <td>...</td>\n",
       "    </tr>\n",
       "    <tr>\n",
       "      <th>293978</th>\n",
       "      <td>JBL0122</td>\n",
       "      <td>49.95</td>\n",
       "      <td>42.99</td>\n",
       "      <td>42.99</td>\n",
       "    </tr>\n",
       "    <tr>\n",
       "      <th>293979</th>\n",
       "      <td>PAC0653</td>\n",
       "      <td>215.98</td>\n",
       "      <td>141.58</td>\n",
       "      <td>141.58</td>\n",
       "    </tr>\n",
       "    <tr>\n",
       "      <th>293980</th>\n",
       "      <td>APP0698</td>\n",
       "      <td>25.00</td>\n",
       "      <td>9.99</td>\n",
       "      <td>9.99</td>\n",
       "    </tr>\n",
       "    <tr>\n",
       "      <th>293981</th>\n",
       "      <td>BEZ0204</td>\n",
       "      <td>29.99</td>\n",
       "      <td>19.99</td>\n",
       "      <td>19.99</td>\n",
       "    </tr>\n",
       "    <tr>\n",
       "      <th>293982</th>\n",
       "      <td>APP0927</td>\n",
       "      <td>35.00</td>\n",
       "      <td>13.99</td>\n",
       "      <td>13.99</td>\n",
       "    </tr>\n",
       "  </tbody>\n",
       "</table>\n",
       "<p>293983 rows × 4 columns</p>\n",
       "</div>"
      ],
      "text/plain": [
       "            sku   price  unit_price  promo_price\n",
       "0       OTT0133   34.99       18.99        19.99\n",
       "1       LGE0043  429.00      399.00       399.00\n",
       "2       PAR0071  699.00      474.05       569.00\n",
       "3       WDT0315   79.00       68.39        63.99\n",
       "4       JBL0104   29.90       23.74        27.99\n",
       "...         ...     ...         ...          ...\n",
       "293978  JBL0122   49.95       42.99        42.99\n",
       "293979  PAC0653  215.98      141.58       141.58\n",
       "293980  APP0698   25.00        9.99         9.99\n",
       "293981  BEZ0204   29.99       19.99        19.99\n",
       "293982  APP0927   35.00       13.99        13.99\n",
       "\n",
       "[293983 rows x 4 columns]"
      ]
     },
     "execution_count": 8,
     "metadata": {},
     "output_type": "execute_result"
    }
   ],
   "source": [
    "# Try to calculate the promo_price/ promo percentage\n",
    "# Let me see the uni_price of orderlines and the price of products\n",
    "products_orderlines = products.merge(orderlines, on='sku', how='right')\n",
    "products_orderlines[['sku', 'price', 'unit_price', 'promo_price']]"
   ]
  },
  {
   "cell_type": "code",
   "execution_count": 12,
   "id": "9e2944a5-e4a2-42a2-8abc-af5159aef9fd",
   "metadata": {
    "tags": []
   },
   "outputs": [
    {
     "data": {
      "text/html": [
       "<div>\n",
       "<style scoped>\n",
       "    .dataframe tbody tr th:only-of-type {\n",
       "        vertical-align: middle;\n",
       "    }\n",
       "\n",
       "    .dataframe tbody tr th {\n",
       "        vertical-align: top;\n",
       "    }\n",
       "\n",
       "    .dataframe thead th {\n",
       "        text-align: right;\n",
       "    }\n",
       "</style>\n",
       "<table border=\"1\" class=\"dataframe\">\n",
       "  <thead>\n",
       "    <tr style=\"text-align: right;\">\n",
       "      <th></th>\n",
       "      <th>price</th>\n",
       "      <th>unit_price</th>\n",
       "    </tr>\n",
       "    <tr>\n",
       "      <th>sku</th>\n",
       "      <th></th>\n",
       "      <th></th>\n",
       "    </tr>\n",
       "  </thead>\n",
       "  <tbody>\n",
       "    <tr>\n",
       "      <th>8MO0001-A</th>\n",
       "      <td>35.00</td>\n",
       "      <td>12.96</td>\n",
       "    </tr>\n",
       "    <tr>\n",
       "      <th>8MO0003-A</th>\n",
       "      <td>35.00</td>\n",
       "      <td>12.85</td>\n",
       "    </tr>\n",
       "    <tr>\n",
       "      <th>8MO0007</th>\n",
       "      <td>35.00</td>\n",
       "      <td>21.37</td>\n",
       "    </tr>\n",
       "    <tr>\n",
       "      <th>8MO0008</th>\n",
       "      <td>35.00</td>\n",
       "      <td>21.72</td>\n",
       "    </tr>\n",
       "    <tr>\n",
       "      <th>8MO0009</th>\n",
       "      <td>35.00</td>\n",
       "      <td>17.84</td>\n",
       "    </tr>\n",
       "    <tr>\n",
       "      <th>...</th>\n",
       "      <td>...</td>\n",
       "      <td>...</td>\n",
       "    </tr>\n",
       "    <tr>\n",
       "      <th>ZAG0041</th>\n",
       "      <td>29.99</td>\n",
       "      <td>19.99</td>\n",
       "    </tr>\n",
       "    <tr>\n",
       "      <th>ZAG0042</th>\n",
       "      <td>29.99</td>\n",
       "      <td>19.99</td>\n",
       "    </tr>\n",
       "    <tr>\n",
       "      <th>ZEP0007</th>\n",
       "      <td>149.99</td>\n",
       "      <td>137.12</td>\n",
       "    </tr>\n",
       "    <tr>\n",
       "      <th>ZEP0008</th>\n",
       "      <td>149.99</td>\n",
       "      <td>104.12</td>\n",
       "    </tr>\n",
       "    <tr>\n",
       "      <th>par0072</th>\n",
       "      <td>349.00</td>\n",
       "      <td>224.16</td>\n",
       "    </tr>\n",
       "  </tbody>\n",
       "</table>\n",
       "<p>7951 rows × 2 columns</p>\n",
       "</div>"
      ],
      "text/plain": [
       "            price  unit_price\n",
       "sku                          \n",
       "8MO0001-A   35.00       12.96\n",
       "8MO0003-A   35.00       12.85\n",
       "8MO0007     35.00       21.37\n",
       "8MO0008     35.00       21.72\n",
       "8MO0009     35.00       17.84\n",
       "...           ...         ...\n",
       "ZAG0041     29.99       19.99\n",
       "ZAG0042     29.99       19.99\n",
       "ZEP0007    149.99      137.12\n",
       "ZEP0008    149.99      104.12\n",
       "par0072    349.00      224.16\n",
       "\n",
       "[7951 rows x 2 columns]"
      ]
     },
     "execution_count": 12,
     "metadata": {},
     "output_type": "execute_result"
    }
   ],
   "source": [
    "products_orderlines.groupby('sku').agg({'price':'mean', 'unit_price':'mean'}).round(2)"
   ]
  }
 ],
 "metadata": {
  "kernelspec": {
   "display_name": "Python 3 (ipykernel)",
   "language": "python",
   "name": "python3"
  },
  "language_info": {
   "codemirror_mode": {
    "name": "ipython",
    "version": 3
   },
   "file_extension": ".py",
   "mimetype": "text/x-python",
   "name": "python",
   "nbconvert_exporter": "python",
   "pygments_lexer": "ipython3",
   "version": "3.11.4"
  }
 },
 "nbformat": 4,
 "nbformat_minor": 5
}
