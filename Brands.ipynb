{
 "cells": [
  {
   "cell_type": "markdown",
   "id": "ce081c01-fa78-4945-b0bb-5f1b2e438276",
   "metadata": {},
   "source": [
    "# Brands"
   ]
  },
  {
   "cell_type": "markdown",
   "id": "5c34216a-1831-4cdc-9da6-69817331e9fb",
   "metadata": {},
   "source": [
    "## Import"
   ]
  },
  {
   "cell_type": "code",
   "execution_count": 5,
   "id": "f9b7c742-cf37-4118-bc5d-84dbe3a872a9",
   "metadata": {
    "tags": []
   },
   "outputs": [
    {
     "data": {
      "text/html": [
       "<div>\n",
       "<style scoped>\n",
       "    .dataframe tbody tr th:only-of-type {\n",
       "        vertical-align: middle;\n",
       "    }\n",
       "\n",
       "    .dataframe tbody tr th {\n",
       "        vertical-align: top;\n",
       "    }\n",
       "\n",
       "    .dataframe thead th {\n",
       "        text-align: right;\n",
       "    }\n",
       "</style>\n",
       "<table border=\"1\" class=\"dataframe\">\n",
       "  <thead>\n",
       "    <tr style=\"text-align: right;\">\n",
       "      <th></th>\n",
       "      <th>short</th>\n",
       "      <th>long</th>\n",
       "    </tr>\n",
       "  </thead>\n",
       "  <tbody>\n",
       "    <tr>\n",
       "      <th>0</th>\n",
       "      <td>8MO</td>\n",
       "      <td>8Mobility</td>\n",
       "    </tr>\n",
       "    <tr>\n",
       "      <th>1</th>\n",
       "      <td>ACM</td>\n",
       "      <td>Acme</td>\n",
       "    </tr>\n",
       "    <tr>\n",
       "      <th>2</th>\n",
       "      <td>ADN</td>\n",
       "      <td>Adonit</td>\n",
       "    </tr>\n",
       "    <tr>\n",
       "      <th>3</th>\n",
       "      <td>AII</td>\n",
       "      <td>Aiino</td>\n",
       "    </tr>\n",
       "    <tr>\n",
       "      <th>4</th>\n",
       "      <td>AKI</td>\n",
       "      <td>Akitio</td>\n",
       "    </tr>\n",
       "    <tr>\n",
       "      <th>...</th>\n",
       "      <td>...</td>\n",
       "      <td>...</td>\n",
       "    </tr>\n",
       "    <tr>\n",
       "      <th>182</th>\n",
       "      <td>XOO</td>\n",
       "      <td>Xoopar</td>\n",
       "    </tr>\n",
       "    <tr>\n",
       "      <th>183</th>\n",
       "      <td>XRI</td>\n",
       "      <td>X-Rite</td>\n",
       "    </tr>\n",
       "    <tr>\n",
       "      <th>184</th>\n",
       "      <td>XTO</td>\n",
       "      <td>Xtorm</td>\n",
       "    </tr>\n",
       "    <tr>\n",
       "      <th>185</th>\n",
       "      <td>ZAG</td>\n",
       "      <td>ZaggKeys</td>\n",
       "    </tr>\n",
       "    <tr>\n",
       "      <th>186</th>\n",
       "      <td>ZEP</td>\n",
       "      <td>Zepp</td>\n",
       "    </tr>\n",
       "  </tbody>\n",
       "</table>\n",
       "<p>187 rows × 2 columns</p>\n",
       "</div>"
      ],
      "text/plain": [
       "    short       long\n",
       "0     8MO  8Mobility\n",
       "1     ACM       Acme\n",
       "2     ADN     Adonit\n",
       "3     AII      Aiino\n",
       "4     AKI     Akitio\n",
       "..    ...        ...\n",
       "182   XOO     Xoopar\n",
       "183   XRI     X-Rite\n",
       "184   XTO      Xtorm\n",
       "185   ZAG   ZaggKeys\n",
       "186   ZEP       Zepp\n",
       "\n",
       "[187 rows x 2 columns]"
      ]
     },
     "execution_count": 5,
     "metadata": {},
     "output_type": "execute_result"
    }
   ],
   "source": [
    "import pandas as pd\n",
    "brands_url = \"https://raw.githubusercontent.com/MerleSt/Eniac/main/Data-Eniac/brands.csv\"\n",
    "brands = pd.read_csv(brands_url)\n",
    "brands"
   ]
  },
  {
   "cell_type": "markdown",
   "id": "57353cd8-88ea-480c-829e-a0e42cdafbed",
   "metadata": {},
   "source": [
    "## Drop Duplicates"
   ]
  },
  {
   "cell_type": "code",
   "execution_count": 6,
   "id": "b3c92b18-c5f9-452d-bf6d-7de0b258673b",
   "metadata": {
    "tags": []
   },
   "outputs": [
    {
     "data": {
      "text/plain": [
       "0"
      ]
     },
     "execution_count": 6,
     "metadata": {},
     "output_type": "execute_result"
    }
   ],
   "source": [
    "brands.duplicated().sum()"
   ]
  },
  {
   "cell_type": "markdown",
   "id": "a3c460c4-5ada-4e4c-976f-de57ac54a28b",
   "metadata": {},
   "source": [
    "## Missing Values"
   ]
  },
  {
   "cell_type": "code",
   "execution_count": 7,
   "id": "e53ac75b-5873-4315-aa05-6b5a7239b1ad",
   "metadata": {
    "tags": []
   },
   "outputs": [
    {
     "data": {
      "text/plain": [
       "short    0\n",
       "long     0\n",
       "dtype: int64"
      ]
     },
     "execution_count": 7,
     "metadata": {},
     "output_type": "execute_result"
    }
   ],
   "source": [
    "brands.isna().sum()"
   ]
  },
  {
   "cell_type": "markdown",
   "id": "a0edc030-3b29-4cd0-9bfd-8e0dfda3fe80",
   "metadata": {},
   "source": [
    "## Datatypes & Format"
   ]
  },
  {
   "cell_type": "code",
   "execution_count": 8,
   "id": "e6ba572a-4054-408b-93ac-871e26fcc34d",
   "metadata": {
    "tags": []
   },
   "outputs": [
    {
     "data": {
      "text/plain": [
       "short    object\n",
       "long     object\n",
       "dtype: object"
      ]
     },
     "execution_count": 8,
     "metadata": {},
     "output_type": "execute_result"
    }
   ],
   "source": [
    "brands.dtypes"
   ]
  },
  {
   "cell_type": "markdown",
   "id": "330a95a2-5804-43b8-bee9-bb26c353556e",
   "metadata": {},
   "source": [
    "## Export"
   ]
  },
  {
   "cell_type": "code",
   "execution_count": 13,
   "id": "531fa720-561d-40fd-9723-5e6472daf19d",
   "metadata": {
    "tags": []
   },
   "outputs": [],
   "source": [
    "# Save the dataframes to local CSV files\n",
    "brands.to_csv('/Users/merlesteffen/Documents/GitHub/Eniac/Data-Eniac/Data_Cleaned/brands_clean.csv', index=False)"
   ]
  },
  {
   "cell_type": "code",
   "execution_count": null,
   "id": "599876ac-3ef4-41d8-bd62-89de1023bfe8",
   "metadata": {},
   "outputs": [],
   "source": []
  }
 ],
 "metadata": {
  "kernelspec": {
   "display_name": "Python 3 (ipykernel)",
   "language": "python",
   "name": "python3"
  },
  "language_info": {
   "codemirror_mode": {
    "name": "ipython",
    "version": 3
   },
   "file_extension": ".py",
   "mimetype": "text/x-python",
   "name": "python",
   "nbconvert_exporter": "python",
   "pygments_lexer": "ipython3",
   "version": "3.11.4"
  }
 },
 "nbformat": 4,
 "nbformat_minor": 5
}
