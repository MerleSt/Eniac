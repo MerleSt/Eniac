{
 "cells": [
  {
   "cell_type": "markdown",
   "id": "e89b2bd3-a316-4d91-9776-bb889eab7c43",
   "metadata": {},
   "source": [
    "# Eniac"
   ]
  },
  {
   "cell_type": "markdown",
   "id": "c57afee8-7d59-438d-8bcd-52aa9a7205d3",
   "metadata": {},
   "source": [
    "## Importing Data"
   ]
  },
  {
   "cell_type": "markdown",
   "id": "0211823c-3bf9-4499-aa3a-45bf7b73ba49",
   "metadata": {},
   "source": [
    "Turning them into a dictionary of dataframes."
   ]
  },
  {
   "cell_type": "code",
   "execution_count": 2,
   "id": "777e1675-a39f-4d07-8a98-7b25c50ccfa0",
   "metadata": {
    "tags": []
   },
   "outputs": [],
   "source": [
    "import pandas as pd\n",
    "\n",
    "# URLs for raw content of the CSV files on GitHub\n",
    "orders_url = \"https://raw.githubusercontent.com/MerleSt/Eniac/main/Data-Eniac/orders.csv\"\n",
    "orderlines_url = \"https://raw.githubusercontent.com/MerleSt/Eniac/main/Data-Eniac/orderlines.csv\"\n",
    "products_url = \"https://raw.githubusercontent.com/MerleSt/Eniac/main/Data-Eniac/products.csv\"\n",
    "brands_url = \"https://raw.githubusercontent.com/MerleSt/Eniac/main/Data-Eniac/brands.csv\"\n",
    "\n",
    "\n",
    "# Loading dataframes directly from GitHub\n",
    "orders = pd.read_csv(orders_url)\n",
    "orderlines = pd.read_csv(orderlines_url)\n",
    "products = pd.read_csv(products_url)\n",
    "brands = pd.read_csv(brands_url)\n",
    "\n"
   ]
  },
  {
   "cell_type": "markdown",
   "id": "1fad362c-8742-4493-b3e1-0e1f2934d95f",
   "metadata": {},
   "source": [
    "- DataFrame **.describe()** gives basic numerical aggregations. It can be applied to a single column as well.\n",
    "- DataFrame **.isna().any()** highlights which columns contain missing data\n",
    "- DataFrame **.shape** gives the number of rows and columns\n",
    "- DataFrame **.columns** gives the column names. Note that a list with new names can be passed to this attribute to rename the columns.\n",
    "- DataFrame **.columnName.isna().sum()** is a quick way to check the number of missing values in a column\n",
    "- DataFrame **.columnName.value_counts()** is a great way to summarise a categorical column. You can use it to discover how many orders are completed, cancelled, pending…\n",
    "- DataFrame **.columnName.hist()** is an easy way to plot a histogram in a numerical column. Play with the bins argument to change the granularity of the graph."
   ]
  },
  {
   "cell_type": "code",
   "execution_count": 3,
   "id": "579d5a07-b3d4-4844-b8ea-3671ca198436",
   "metadata": {
    "tags": []
   },
   "outputs": [
    {
     "data": {
      "text/html": [
       "<div>\n",
       "<style scoped>\n",
       "    .dataframe tbody tr th:only-of-type {\n",
       "        vertical-align: middle;\n",
       "    }\n",
       "\n",
       "    .dataframe tbody tr th {\n",
       "        vertical-align: top;\n",
       "    }\n",
       "\n",
       "    .dataframe thead th {\n",
       "        text-align: right;\n",
       "    }\n",
       "</style>\n",
       "<table border=\"1\" class=\"dataframe\">\n",
       "  <thead>\n",
       "    <tr style=\"text-align: right;\">\n",
       "      <th></th>\n",
       "      <th>order_id</th>\n",
       "      <th>created_date</th>\n",
       "      <th>total_paid</th>\n",
       "      <th>state</th>\n",
       "    </tr>\n",
       "  </thead>\n",
       "  <tbody>\n",
       "    <tr>\n",
       "      <th>0</th>\n",
       "      <td>241319</td>\n",
       "      <td>2017-01-02 13:35:40</td>\n",
       "      <td>44.99</td>\n",
       "      <td>Cancelled</td>\n",
       "    </tr>\n",
       "    <tr>\n",
       "      <th>1</th>\n",
       "      <td>241423</td>\n",
       "      <td>2017-11-06 13:10:02</td>\n",
       "      <td>136.15</td>\n",
       "      <td>Completed</td>\n",
       "    </tr>\n",
       "    <tr>\n",
       "      <th>2</th>\n",
       "      <td>242832</td>\n",
       "      <td>2017-12-31 17:40:03</td>\n",
       "      <td>15.76</td>\n",
       "      <td>Completed</td>\n",
       "    </tr>\n",
       "    <tr>\n",
       "      <th>3</th>\n",
       "      <td>243330</td>\n",
       "      <td>2017-02-16 10:59:38</td>\n",
       "      <td>84.98</td>\n",
       "      <td>Completed</td>\n",
       "    </tr>\n",
       "    <tr>\n",
       "      <th>4</th>\n",
       "      <td>243784</td>\n",
       "      <td>2017-11-24 13:35:19</td>\n",
       "      <td>157.86</td>\n",
       "      <td>Cancelled</td>\n",
       "    </tr>\n",
       "    <tr>\n",
       "      <th>...</th>\n",
       "      <td>...</td>\n",
       "      <td>...</td>\n",
       "      <td>...</td>\n",
       "      <td>...</td>\n",
       "    </tr>\n",
       "    <tr>\n",
       "      <th>95</th>\n",
       "      <td>281497</td>\n",
       "      <td>2017-01-05 12:16:45</td>\n",
       "      <td>697.72</td>\n",
       "      <td>Completed</td>\n",
       "    </tr>\n",
       "    <tr>\n",
       "      <th>96</th>\n",
       "      <td>282180</td>\n",
       "      <td>2018-01-06 16:28:49</td>\n",
       "      <td>59.99</td>\n",
       "      <td>Completed</td>\n",
       "    </tr>\n",
       "    <tr>\n",
       "      <th>97</th>\n",
       "      <td>282487</td>\n",
       "      <td>2017-01-25 18:13:49</td>\n",
       "      <td>130.44</td>\n",
       "      <td>Completed</td>\n",
       "    </tr>\n",
       "    <tr>\n",
       "      <th>98</th>\n",
       "      <td>282624</td>\n",
       "      <td>2017-05-23 12:07:42</td>\n",
       "      <td>1598.00</td>\n",
       "      <td>Cancelled</td>\n",
       "    </tr>\n",
       "    <tr>\n",
       "      <th>99</th>\n",
       "      <td>282776</td>\n",
       "      <td>2017-08-09 11:02:48</td>\n",
       "      <td>42.99</td>\n",
       "      <td>Completed</td>\n",
       "    </tr>\n",
       "  </tbody>\n",
       "</table>\n",
       "<p>100 rows × 4 columns</p>\n",
       "</div>"
      ],
      "text/plain": [
       "    order_id         created_date  total_paid      state\n",
       "0     241319  2017-01-02 13:35:40       44.99  Cancelled\n",
       "1     241423  2017-11-06 13:10:02      136.15  Completed\n",
       "2     242832  2017-12-31 17:40:03       15.76  Completed\n",
       "3     243330  2017-02-16 10:59:38       84.98  Completed\n",
       "4     243784  2017-11-24 13:35:19      157.86  Cancelled\n",
       "..       ...                  ...         ...        ...\n",
       "95    281497  2017-01-05 12:16:45      697.72  Completed\n",
       "96    282180  2018-01-06 16:28:49       59.99  Completed\n",
       "97    282487  2017-01-25 18:13:49      130.44  Completed\n",
       "98    282624  2017-05-23 12:07:42     1598.00  Cancelled\n",
       "99    282776  2017-08-09 11:02:48       42.99  Completed\n",
       "\n",
       "[100 rows x 4 columns]"
      ]
     },
     "execution_count": 3,
     "metadata": {},
     "output_type": "execute_result"
    }
   ],
   "source": [
    "orders.head(100)"
   ]
  }
 ],
 "metadata": {
  "kernelspec": {
   "display_name": "Python 3 (ipykernel)",
   "language": "python",
   "name": "python3"
  },
  "language_info": {
   "codemirror_mode": {
    "name": "ipython",
    "version": 3
   },
   "file_extension": ".py",
   "mimetype": "text/x-python",
   "name": "python",
   "nbconvert_exporter": "python",
   "pygments_lexer": "ipython3",
   "version": "3.11.4"
  }
 },
 "nbformat": 4,
 "nbformat_minor": 5
}
